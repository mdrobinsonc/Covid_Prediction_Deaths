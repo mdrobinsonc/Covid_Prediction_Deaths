{
 "cells": [
  {
   "cell_type": "markdown",
   "metadata": {},
   "source": [
    "# **Exploratory Data Analysis (EDA)"
   ]
  },
  {
   "cell_type": "markdown",
   "metadata": {},
   "source": [
    "This exploratory data analysis investigates patterns, relationships, and insights within the COVID-19 macrotable dataset. Using the dataset derived from the ETL process, this analysis leverages advanced visualizations and calculated metrics to identify trends, disparities, and correlations that help explain key dynamics of the pandemic. \n",
    "\n",
    "The primary goal of this EDA is to uncover meaningful insights while understanding the underlying data sets that we have available. Specifically, the analysis focuses on:\n",
    "\n",
    "- **Descriptive Analysis**: Understanding the distribution of cases, deaths, and population metrics across countries and demographic groups.\n",
    "- **Derived Metrics**: Introducing calculated ratios and indexes (e.g., vulnerability index, mortality rate) to add depth to the analysis.\n",
    "- **Visualization Complexity**: Employing diverse chart types such as scatter plots, heatmaps, grouped bar charts, and line-area comparisons to present findings clearly and interactively.\n",
    "- **Focus on Death Prediction**: Exploring factors like age groups, gender distribution, and country-level trends and attempting with a basic regression model to predict death cases effectively.\n",
    "\n",
    "Each visualization and section is accompanied by short explanations, ensuring a logical flow throughout the notebook. This EDA serves as a foundational step towards better understanding the dataset and deriving actionable insights.\n"
   ]
  },
  {
   "cell_type": "code",
   "execution_count": 4,
   "metadata": {},
   "outputs": [
    {
     "name": "stdout",
     "output_type": "stream",
     "text": [
      "c:\\Users\\marob\\Documents\\IE\\Python for Data Analysis I\\Group Assignment\n"
     ]
    }
   ],
   "source": [
    "import os\n",
    "print(os.getcwd())\n",
    "\n"
   ]
  },
  {
   "cell_type": "code",
   "execution_count": 5,
   "metadata": {},
   "outputs": [],
   "source": [
    "# Import all libraries\n",
    "import pandas as pd\n",
    "import plotly.express as px\n",
    "import plotly.graph_objects as go\n",
    "import numpy as np\n",
    "\n",
    "# Read csv file with pandas \n",
    "df = pd.read_csv(\"macrotable.csv\")"
   ]
  },
  {
   "cell_type": "markdown",
   "metadata": {},
   "source": [
    "Importing the most important libraries (some additional might be imported afterwards) and loading plus converting the CSV macrotable into a pandas dataframe to first explore and then further analyze the output of our ETL process (more on that in our README file)."
   ]
  },
  {
   "cell_type": "markdown",
   "metadata": {},
   "source": [
    "## **(1) Initial understanding of data and first transformation**"
   ]
  },
  {
   "cell_type": "code",
   "execution_count": 6,
   "metadata": {},
   "outputs": [
    {
     "name": "stdout",
     "output_type": "stream",
     "text": [
      "Columns:\n",
      " Index(['week', 'country_name', 'new_confirmed', 'new_deceased',\n",
      "       'cumulative_confirmed', 'cumulative_deceased', 'population',\n",
      "       'population_male', 'population_female', 'population_age_00_09',\n",
      "       'population_age_10_19', 'population_age_20_29', 'population_age_30_39',\n",
      "       'population_age_70_79', 'population_age_60_69', 'population_age_50_59',\n",
      "       'population_age_40_49', 'population_age_80_and_older'],\n",
      "      dtype='object')\n"
     ]
    }
   ],
   "source": [
    "# List of columns in the table\n",
    "print(\"Columns:\\n\",df.columns)"
   ]
  },
  {
   "cell_type": "code",
   "execution_count": 7,
   "metadata": {},
   "outputs": [
    {
     "name": "stdout",
     "output_type": "stream",
     "text": [
      "# of rows, # of columns: (506, 18)\n",
      "Data types by column:\n",
      " week                            object\n",
      "country_name                    object\n",
      "new_confirmed                  float64\n",
      "new_deceased                   float64\n",
      "cumulative_confirmed           float64\n",
      "cumulative_deceased            float64\n",
      "population                     float64\n",
      "population_male                float64\n",
      "population_female              float64\n",
      "population_age_00_09           float64\n",
      "population_age_10_19           float64\n",
      "population_age_20_29           float64\n",
      "population_age_30_39           float64\n",
      "population_age_70_79           float64\n",
      "population_age_60_69           float64\n",
      "population_age_50_59           float64\n",
      "population_age_40_49           float64\n",
      "population_age_80_and_older    float64\n",
      "dtype: object\n"
     ]
    }
   ],
   "source": [
    "# Check number of rows and data types\n",
    "print(\"# of rows, # of columns:\", df.shape)\n",
    "print(\"Data types by column:\\n\", df.dtypes)"
   ]
  },
  {
   "cell_type": "markdown",
   "metadata": {},
   "source": [
    "### **Understanding the Available Columns for Analysis**\n",
    "\n",
    "Based on the preprocessing and ETL logic, the dataset provides the following key columns, enabling various analyses:\n",
    "\n",
    "1. **Temporal Variables**:\n",
    "   - `week`: Represents the weekly timeframe for COVID-19 data aggregation.\n",
    "\n",
    "2. **Geographical Information**:\n",
    "   - `country_name`: Identifies the country for each data point, enabling country-wise comparisons.\n",
    "\n",
    "3. **COVID-19 Metrics**:\n",
    "   - `new_confirmed`: Weekly count of newly confirmed COVID-19 cases.\n",
    "   - `new_deceased`: Weekly count of newly reported deaths due to COVID-19.\n",
    "   - `cumulative_confirmed`: Total confirmed cases up to the current week.\n",
    "   - `cumulative_deceased`: Total reported deaths up to the current week.\n",
    "\n",
    "4. **Population Demographics**:\n",
    "   - `population`: Total population of each country.\n",
    "   - `population_male` and `population_female`: Gender-specific population data for each country.\n",
    "   - `population_age_XX_YY`: Age group-specific population data (e.g., 0-9, 10-19, etc.).\n",
    "   - `population_age_80_and_older`: Population aged 80+.\n",
    "\n",
    "### **Analytical Opportunities**:\n",
    "With these variables, we can explore the following:\n",
    "- **Temporal Trends**: Analyze weekly trends in confirmed cases and deaths.\n",
    "- **Country Comparisons**: Examine differences in COVID-19 impact and population structure across countries.\n",
    "- **Demographic Insights**: Investigate the role of age and gender in confirmed cases and deaths.\n",
    "- **Derived Ratios and Metrics**: Calculate and visualize meaningful ratios (e.g., mortality rate, gender proportions, age group contributions) to understand vulnerabilities and impacts.\n"
   ]
  },
  {
   "cell_type": "code",
   "execution_count": 8,
   "metadata": {},
   "outputs": [
    {
     "data": {
      "text/html": [
       "<div>\n",
       "<style scoped>\n",
       "    .dataframe tbody tr th:only-of-type {\n",
       "        vertical-align: middle;\n",
       "    }\n",
       "\n",
       "    .dataframe tbody tr th {\n",
       "        vertical-align: top;\n",
       "    }\n",
       "\n",
       "    .dataframe thead th {\n",
       "        text-align: right;\n",
       "    }\n",
       "</style>\n",
       "<table border=\"1\" class=\"dataframe\">\n",
       "  <thead>\n",
       "    <tr style=\"text-align: right;\">\n",
       "      <th></th>\n",
       "      <th>week</th>\n",
       "      <th>country_name</th>\n",
       "      <th>new_confirmed</th>\n",
       "      <th>new_deceased</th>\n",
       "      <th>cumulative_confirmed</th>\n",
       "      <th>cumulative_deceased</th>\n",
       "      <th>population</th>\n",
       "      <th>population_male</th>\n",
       "      <th>population_female</th>\n",
       "      <th>population_age_00_09</th>\n",
       "      <th>population_age_10_19</th>\n",
       "      <th>population_age_20_29</th>\n",
       "      <th>population_age_30_39</th>\n",
       "      <th>population_age_70_79</th>\n",
       "      <th>population_age_60_69</th>\n",
       "      <th>population_age_50_59</th>\n",
       "      <th>population_age_40_49</th>\n",
       "      <th>population_age_80_and_older</th>\n",
       "    </tr>\n",
       "  </thead>\n",
       "  <tbody>\n",
       "    <tr>\n",
       "      <th>0</th>\n",
       "      <td>2020-01-02/2020-01-08</td>\n",
       "      <td>Germany</td>\n",
       "      <td>1.0</td>\n",
       "      <td>0.0</td>\n",
       "      <td>1.0</td>\n",
       "      <td>0.0</td>\n",
       "      <td>82786787.0</td>\n",
       "      <td>39130978.0</td>\n",
       "      <td>40156503.0</td>\n",
       "      <td>7220827.0</td>\n",
       "      <td>7398601.0</td>\n",
       "      <td>9303309.0</td>\n",
       "      <td>10024505.0</td>\n",
       "      <td>7360047.0</td>\n",
       "      <td>9907511.0</td>\n",
       "      <td>12932635.0</td>\n",
       "      <td>9955575.0</td>\n",
       "      <td>5184471.0</td>\n",
       "    </tr>\n",
       "    <tr>\n",
       "      <th>1</th>\n",
       "      <td>2020-01-09/2020-01-15</td>\n",
       "      <td>Germany</td>\n",
       "      <td>1.0</td>\n",
       "      <td>0.0</td>\n",
       "      <td>2.0</td>\n",
       "      <td>0.0</td>\n",
       "      <td>82786787.0</td>\n",
       "      <td>39130978.0</td>\n",
       "      <td>40156503.0</td>\n",
       "      <td>7220827.0</td>\n",
       "      <td>7398601.0</td>\n",
       "      <td>9303309.0</td>\n",
       "      <td>10024505.0</td>\n",
       "      <td>7360047.0</td>\n",
       "      <td>9907511.0</td>\n",
       "      <td>12932635.0</td>\n",
       "      <td>9955575.0</td>\n",
       "      <td>5184471.0</td>\n",
       "    </tr>\n",
       "    <tr>\n",
       "      <th>2</th>\n",
       "      <td>2020-01-16/2020-01-22</td>\n",
       "      <td>Germany</td>\n",
       "      <td>1.0</td>\n",
       "      <td>0.0</td>\n",
       "      <td>3.0</td>\n",
       "      <td>0.0</td>\n",
       "      <td>82786787.0</td>\n",
       "      <td>39130978.0</td>\n",
       "      <td>40156503.0</td>\n",
       "      <td>7220827.0</td>\n",
       "      <td>7398601.0</td>\n",
       "      <td>9303309.0</td>\n",
       "      <td>10024505.0</td>\n",
       "      <td>7360047.0</td>\n",
       "      <td>9907511.0</td>\n",
       "      <td>12932635.0</td>\n",
       "      <td>9955575.0</td>\n",
       "      <td>5184471.0</td>\n",
       "    </tr>\n",
       "    <tr>\n",
       "      <th>3</th>\n",
       "      <td>2020-01-16/2020-01-22</td>\n",
       "      <td>United States of America</td>\n",
       "      <td>0.0</td>\n",
       "      <td>0.0</td>\n",
       "      <td>0.0</td>\n",
       "      <td>0.0</td>\n",
       "      <td>341338766.0</td>\n",
       "      <td>166328382.0</td>\n",
       "      <td>171752013.0</td>\n",
       "      <td>41786394.0</td>\n",
       "      <td>43337205.0</td>\n",
       "      <td>47418023.0</td>\n",
       "      <td>45171048.0</td>\n",
       "      <td>22292522.0</td>\n",
       "      <td>38040772.0</td>\n",
       "      <td>44944501.0</td>\n",
       "      <td>42199147.0</td>\n",
       "      <td>12890784.0</td>\n",
       "    </tr>\n",
       "    <tr>\n",
       "      <th>4</th>\n",
       "      <td>2020-01-23/2020-01-29</td>\n",
       "      <td>Germany</td>\n",
       "      <td>5.0</td>\n",
       "      <td>0.0</td>\n",
       "      <td>8.0</td>\n",
       "      <td>0.0</td>\n",
       "      <td>82786787.0</td>\n",
       "      <td>39130978.0</td>\n",
       "      <td>40156503.0</td>\n",
       "      <td>7220827.0</td>\n",
       "      <td>7398601.0</td>\n",
       "      <td>9303309.0</td>\n",
       "      <td>10024505.0</td>\n",
       "      <td>7360047.0</td>\n",
       "      <td>9907511.0</td>\n",
       "      <td>12932635.0</td>\n",
       "      <td>9955575.0</td>\n",
       "      <td>5184471.0</td>\n",
       "    </tr>\n",
       "    <tr>\n",
       "      <th>5</th>\n",
       "      <td>2020-01-23/2020-01-29</td>\n",
       "      <td>United States of America</td>\n",
       "      <td>0.0</td>\n",
       "      <td>0.0</td>\n",
       "      <td>0.0</td>\n",
       "      <td>0.0</td>\n",
       "      <td>341338766.0</td>\n",
       "      <td>166328382.0</td>\n",
       "      <td>171752013.0</td>\n",
       "      <td>41786394.0</td>\n",
       "      <td>43337205.0</td>\n",
       "      <td>47418023.0</td>\n",
       "      <td>45171048.0</td>\n",
       "      <td>22292522.0</td>\n",
       "      <td>38040772.0</td>\n",
       "      <td>44944501.0</td>\n",
       "      <td>42199147.0</td>\n",
       "      <td>12890784.0</td>\n",
       "    </tr>\n",
       "    <tr>\n",
       "      <th>6</th>\n",
       "      <td>2020-01-30/2020-02-05</td>\n",
       "      <td>Germany</td>\n",
       "      <td>13.0</td>\n",
       "      <td>0.0</td>\n",
       "      <td>21.0</td>\n",
       "      <td>0.0</td>\n",
       "      <td>82786787.0</td>\n",
       "      <td>39130978.0</td>\n",
       "      <td>40156503.0</td>\n",
       "      <td>7220827.0</td>\n",
       "      <td>7398601.0</td>\n",
       "      <td>9303309.0</td>\n",
       "      <td>10024505.0</td>\n",
       "      <td>7360047.0</td>\n",
       "      <td>9907511.0</td>\n",
       "      <td>12932635.0</td>\n",
       "      <td>9955575.0</td>\n",
       "      <td>5184471.0</td>\n",
       "    </tr>\n",
       "    <tr>\n",
       "      <th>7</th>\n",
       "      <td>2020-01-30/2020-02-05</td>\n",
       "      <td>Spain</td>\n",
       "      <td>2.0</td>\n",
       "      <td>0.0</td>\n",
       "      <td>2.0</td>\n",
       "      <td>0.0</td>\n",
       "      <td>21098455.0</td>\n",
       "      <td>2245629.0</td>\n",
       "      <td>2292197.0</td>\n",
       "      <td>397668.0</td>\n",
       "      <td>470511.0</td>\n",
       "      <td>485346.0</td>\n",
       "      <td>610936.0</td>\n",
       "      <td>356452.0</td>\n",
       "      <td>501783.0</td>\n",
       "      <td>695698.0</td>\n",
       "      <td>780231.0</td>\n",
       "      <td>239207.0</td>\n",
       "    </tr>\n",
       "    <tr>\n",
       "      <th>8</th>\n",
       "      <td>2020-01-30/2020-02-05</td>\n",
       "      <td>United States of America</td>\n",
       "      <td>7.0</td>\n",
       "      <td>0.0</td>\n",
       "      <td>7.0</td>\n",
       "      <td>0.0</td>\n",
       "      <td>341338766.0</td>\n",
       "      <td>166328382.0</td>\n",
       "      <td>171752013.0</td>\n",
       "      <td>41786394.0</td>\n",
       "      <td>43337205.0</td>\n",
       "      <td>47418023.0</td>\n",
       "      <td>45171048.0</td>\n",
       "      <td>22292522.0</td>\n",
       "      <td>38040772.0</td>\n",
       "      <td>44944501.0</td>\n",
       "      <td>42199147.0</td>\n",
       "      <td>12890784.0</td>\n",
       "    </tr>\n",
       "    <tr>\n",
       "      <th>9</th>\n",
       "      <td>2020-02-06/2020-02-12</td>\n",
       "      <td>Germany</td>\n",
       "      <td>6.0</td>\n",
       "      <td>0.0</td>\n",
       "      <td>27.0</td>\n",
       "      <td>0.0</td>\n",
       "      <td>82786787.0</td>\n",
       "      <td>39130978.0</td>\n",
       "      <td>40156503.0</td>\n",
       "      <td>7220827.0</td>\n",
       "      <td>7398601.0</td>\n",
       "      <td>9303309.0</td>\n",
       "      <td>10024505.0</td>\n",
       "      <td>7360047.0</td>\n",
       "      <td>9907511.0</td>\n",
       "      <td>12932635.0</td>\n",
       "      <td>9955575.0</td>\n",
       "      <td>5184471.0</td>\n",
       "    </tr>\n",
       "  </tbody>\n",
       "</table>\n",
       "</div>"
      ],
      "text/plain": [
       "                    week              country_name  new_confirmed  \\\n",
       "0  2020-01-02/2020-01-08                   Germany            1.0   \n",
       "1  2020-01-09/2020-01-15                   Germany            1.0   \n",
       "2  2020-01-16/2020-01-22                   Germany            1.0   \n",
       "3  2020-01-16/2020-01-22  United States of America            0.0   \n",
       "4  2020-01-23/2020-01-29                   Germany            5.0   \n",
       "5  2020-01-23/2020-01-29  United States of America            0.0   \n",
       "6  2020-01-30/2020-02-05                   Germany           13.0   \n",
       "7  2020-01-30/2020-02-05                     Spain            2.0   \n",
       "8  2020-01-30/2020-02-05  United States of America            7.0   \n",
       "9  2020-02-06/2020-02-12                   Germany            6.0   \n",
       "\n",
       "   new_deceased  cumulative_confirmed  cumulative_deceased   population  \\\n",
       "0           0.0                   1.0                  0.0   82786787.0   \n",
       "1           0.0                   2.0                  0.0   82786787.0   \n",
       "2           0.0                   3.0                  0.0   82786787.0   \n",
       "3           0.0                   0.0                  0.0  341338766.0   \n",
       "4           0.0                   8.0                  0.0   82786787.0   \n",
       "5           0.0                   0.0                  0.0  341338766.0   \n",
       "6           0.0                  21.0                  0.0   82786787.0   \n",
       "7           0.0                   2.0                  0.0   21098455.0   \n",
       "8           0.0                   7.0                  0.0  341338766.0   \n",
       "9           0.0                  27.0                  0.0   82786787.0   \n",
       "\n",
       "   population_male  population_female  population_age_00_09  \\\n",
       "0       39130978.0         40156503.0             7220827.0   \n",
       "1       39130978.0         40156503.0             7220827.0   \n",
       "2       39130978.0         40156503.0             7220827.0   \n",
       "3      166328382.0        171752013.0            41786394.0   \n",
       "4       39130978.0         40156503.0             7220827.0   \n",
       "5      166328382.0        171752013.0            41786394.0   \n",
       "6       39130978.0         40156503.0             7220827.0   \n",
       "7        2245629.0          2292197.0              397668.0   \n",
       "8      166328382.0        171752013.0            41786394.0   \n",
       "9       39130978.0         40156503.0             7220827.0   \n",
       "\n",
       "   population_age_10_19  population_age_20_29  population_age_30_39  \\\n",
       "0             7398601.0             9303309.0            10024505.0   \n",
       "1             7398601.0             9303309.0            10024505.0   \n",
       "2             7398601.0             9303309.0            10024505.0   \n",
       "3            43337205.0            47418023.0            45171048.0   \n",
       "4             7398601.0             9303309.0            10024505.0   \n",
       "5            43337205.0            47418023.0            45171048.0   \n",
       "6             7398601.0             9303309.0            10024505.0   \n",
       "7              470511.0              485346.0              610936.0   \n",
       "8            43337205.0            47418023.0            45171048.0   \n",
       "9             7398601.0             9303309.0            10024505.0   \n",
       "\n",
       "   population_age_70_79  population_age_60_69  population_age_50_59  \\\n",
       "0             7360047.0             9907511.0            12932635.0   \n",
       "1             7360047.0             9907511.0            12932635.0   \n",
       "2             7360047.0             9907511.0            12932635.0   \n",
       "3            22292522.0            38040772.0            44944501.0   \n",
       "4             7360047.0             9907511.0            12932635.0   \n",
       "5            22292522.0            38040772.0            44944501.0   \n",
       "6             7360047.0             9907511.0            12932635.0   \n",
       "7              356452.0              501783.0              695698.0   \n",
       "8            22292522.0            38040772.0            44944501.0   \n",
       "9             7360047.0             9907511.0            12932635.0   \n",
       "\n",
       "   population_age_40_49  population_age_80_and_older  \n",
       "0             9955575.0                    5184471.0  \n",
       "1             9955575.0                    5184471.0  \n",
       "2             9955575.0                    5184471.0  \n",
       "3            42199147.0                   12890784.0  \n",
       "4             9955575.0                    5184471.0  \n",
       "5            42199147.0                   12890784.0  \n",
       "6             9955575.0                    5184471.0  \n",
       "7              780231.0                     239207.0  \n",
       "8            42199147.0                   12890784.0  \n",
       "9             9955575.0                    5184471.0  "
      ]
     },
     "execution_count": 8,
     "metadata": {},
     "output_type": "execute_result"
    }
   ],
   "source": [
    "# Check the exemplary data with additional rows and see how the data is presented\n",
    "df.head(10)"
   ]
  },
  {
   "cell_type": "code",
   "execution_count": 9,
   "metadata": {},
   "outputs": [
    {
     "data": {
      "text/html": [
       "<div>\n",
       "<style scoped>\n",
       "    .dataframe tbody tr th:only-of-type {\n",
       "        vertical-align: middle;\n",
       "    }\n",
       "\n",
       "    .dataframe tbody tr th {\n",
       "        vertical-align: top;\n",
       "    }\n",
       "\n",
       "    .dataframe thead th {\n",
       "        text-align: right;\n",
       "    }\n",
       "</style>\n",
       "<table border=\"1\" class=\"dataframe\">\n",
       "  <thead>\n",
       "    <tr style=\"text-align: right;\">\n",
       "      <th></th>\n",
       "      <th>new_confirmed</th>\n",
       "      <th>new_deceased</th>\n",
       "      <th>cumulative_confirmed</th>\n",
       "      <th>cumulative_deceased</th>\n",
       "      <th>population</th>\n",
       "      <th>population_male</th>\n",
       "      <th>population_female</th>\n",
       "      <th>population_age_00_09</th>\n",
       "      <th>population_age_10_19</th>\n",
       "      <th>population_age_20_29</th>\n",
       "      <th>population_age_30_39</th>\n",
       "      <th>population_age_70_79</th>\n",
       "      <th>population_age_60_69</th>\n",
       "      <th>population_age_50_59</th>\n",
       "      <th>population_age_40_49</th>\n",
       "      <th>population_age_80_and_older</th>\n",
       "    </tr>\n",
       "  </thead>\n",
       "  <tbody>\n",
       "    <tr>\n",
       "      <th>count</th>\n",
       "      <td>5.060000e+02</td>\n",
       "      <td>506.000000</td>\n",
       "      <td>5.060000e+02</td>\n",
       "      <td>5.060000e+02</td>\n",
       "      <td>5.060000e+02</td>\n",
       "      <td>5.060000e+02</td>\n",
       "      <td>5.060000e+02</td>\n",
       "      <td>5.060000e+02</td>\n",
       "      <td>5.060000e+02</td>\n",
       "      <td>5.060000e+02</td>\n",
       "      <td>5.060000e+02</td>\n",
       "      <td>5.060000e+02</td>\n",
       "      <td>5.060000e+02</td>\n",
       "      <td>5.060000e+02</td>\n",
       "      <td>5.060000e+02</td>\n",
       "      <td>5.060000e+02</td>\n",
       "    </tr>\n",
       "    <tr>\n",
       "      <th>mean</th>\n",
       "      <td>2.455534e+05</td>\n",
       "      <td>2321.567194</td>\n",
       "      <td>1.227706e+07</td>\n",
       "      <td>1.616884e+05</td>\n",
       "      <td>1.295950e+08</td>\n",
       "      <td>6.084366e+07</td>\n",
       "      <td>6.291866e+07</td>\n",
       "      <td>1.411534e+07</td>\n",
       "      <td>1.474440e+07</td>\n",
       "      <td>1.636425e+07</td>\n",
       "      <td>1.616979e+07</td>\n",
       "      <td>9.128994e+06</td>\n",
       "      <td>1.427601e+07</td>\n",
       "      <td>1.732216e+07</td>\n",
       "      <td>1.592595e+07</td>\n",
       "      <td>5.715436e+06</td>\n",
       "    </tr>\n",
       "    <tr>\n",
       "      <th>std</th>\n",
       "      <td>5.397060e+05</td>\n",
       "      <td>4668.318633</td>\n",
       "      <td>2.179449e+07</td>\n",
       "      <td>3.035697e+05</td>\n",
       "      <td>1.302539e+08</td>\n",
       "      <td>6.532914e+07</td>\n",
       "      <td>6.740514e+07</td>\n",
       "      <td>1.696085e+07</td>\n",
       "      <td>1.752566e+07</td>\n",
       "      <td>1.909179e+07</td>\n",
       "      <td>1.790436e+07</td>\n",
       "      <td>8.379279e+06</td>\n",
       "      <td>1.479918e+07</td>\n",
       "      <td>1.730517e+07</td>\n",
       "      <td>1.631413e+07</td>\n",
       "      <td>4.715246e+06</td>\n",
       "    </tr>\n",
       "    <tr>\n",
       "      <th>min</th>\n",
       "      <td>0.000000e+00</td>\n",
       "      <td>0.000000</td>\n",
       "      <td>0.000000e+00</td>\n",
       "      <td>0.000000e+00</td>\n",
       "      <td>2.109846e+07</td>\n",
       "      <td>2.245629e+06</td>\n",
       "      <td>2.292197e+06</td>\n",
       "      <td>3.976680e+05</td>\n",
       "      <td>4.705110e+05</td>\n",
       "      <td>4.853460e+05</td>\n",
       "      <td>6.109360e+05</td>\n",
       "      <td>3.564520e+05</td>\n",
       "      <td>5.017830e+05</td>\n",
       "      <td>6.956980e+05</td>\n",
       "      <td>7.802310e+05</td>\n",
       "      <td>2.392070e+05</td>\n",
       "    </tr>\n",
       "    <tr>\n",
       "      <th>25%</th>\n",
       "      <td>1.566700e+04</td>\n",
       "      <td>0.000000</td>\n",
       "      <td>6.148190e+05</td>\n",
       "      <td>0.000000e+00</td>\n",
       "      <td>2.109846e+07</td>\n",
       "      <td>2.245629e+06</td>\n",
       "      <td>2.292197e+06</td>\n",
       "      <td>3.976680e+05</td>\n",
       "      <td>4.705110e+05</td>\n",
       "      <td>4.853460e+05</td>\n",
       "      <td>6.109360e+05</td>\n",
       "      <td>3.564520e+05</td>\n",
       "      <td>5.017830e+05</td>\n",
       "      <td>6.956980e+05</td>\n",
       "      <td>7.802310e+05</td>\n",
       "      <td>2.392070e+05</td>\n",
       "    </tr>\n",
       "    <tr>\n",
       "      <th>50%</th>\n",
       "      <td>6.563550e+04</td>\n",
       "      <td>30.000000</td>\n",
       "      <td>3.440518e+06</td>\n",
       "      <td>2.468000e+03</td>\n",
       "      <td>5.544310e+07</td>\n",
       "      <td>2.698665e+07</td>\n",
       "      <td>2.845645e+07</td>\n",
       "      <td>4.633566e+06</td>\n",
       "      <td>5.231560e+06</td>\n",
       "      <td>5.623413e+06</td>\n",
       "      <td>6.471216e+06</td>\n",
       "      <td>5.533564e+06</td>\n",
       "      <td>6.764526e+06</td>\n",
       "      <td>8.610615e+06</td>\n",
       "      <td>8.507701e+06</td>\n",
       "      <td>4.066940e+06</td>\n",
       "    </tr>\n",
       "    <tr>\n",
       "      <th>75%</th>\n",
       "      <td>2.632660e+05</td>\n",
       "      <td>1963.750000</td>\n",
       "      <td>1.003256e+07</td>\n",
       "      <td>1.153080e+05</td>\n",
       "      <td>3.413388e+08</td>\n",
       "      <td>1.663284e+08</td>\n",
       "      <td>1.717520e+08</td>\n",
       "      <td>4.178639e+07</td>\n",
       "      <td>4.333720e+07</td>\n",
       "      <td>4.741802e+07</td>\n",
       "      <td>4.517105e+07</td>\n",
       "      <td>2.229252e+07</td>\n",
       "      <td>3.804077e+07</td>\n",
       "      <td>4.494450e+07</td>\n",
       "      <td>4.219915e+07</td>\n",
       "      <td>1.289078e+07</td>\n",
       "    </tr>\n",
       "    <tr>\n",
       "      <th>max</th>\n",
       "      <td>5.462177e+06</td>\n",
       "      <td>23683.000000</td>\n",
       "      <td>8.644707e+07</td>\n",
       "      <td>1.052027e+06</td>\n",
       "      <td>3.413388e+08</td>\n",
       "      <td>1.663284e+08</td>\n",
       "      <td>1.717520e+08</td>\n",
       "      <td>4.178639e+07</td>\n",
       "      <td>4.333720e+07</td>\n",
       "      <td>4.741802e+07</td>\n",
       "      <td>4.517105e+07</td>\n",
       "      <td>2.229252e+07</td>\n",
       "      <td>3.804077e+07</td>\n",
       "      <td>4.494450e+07</td>\n",
       "      <td>4.219915e+07</td>\n",
       "      <td>1.289078e+07</td>\n",
       "    </tr>\n",
       "  </tbody>\n",
       "</table>\n",
       "</div>"
      ],
      "text/plain": [
       "       new_confirmed  new_deceased  cumulative_confirmed  cumulative_deceased  \\\n",
       "count   5.060000e+02    506.000000          5.060000e+02         5.060000e+02   \n",
       "mean    2.455534e+05   2321.567194          1.227706e+07         1.616884e+05   \n",
       "std     5.397060e+05   4668.318633          2.179449e+07         3.035697e+05   \n",
       "min     0.000000e+00      0.000000          0.000000e+00         0.000000e+00   \n",
       "25%     1.566700e+04      0.000000          6.148190e+05         0.000000e+00   \n",
       "50%     6.563550e+04     30.000000          3.440518e+06         2.468000e+03   \n",
       "75%     2.632660e+05   1963.750000          1.003256e+07         1.153080e+05   \n",
       "max     5.462177e+06  23683.000000          8.644707e+07         1.052027e+06   \n",
       "\n",
       "         population  population_male  population_female  population_age_00_09  \\\n",
       "count  5.060000e+02     5.060000e+02       5.060000e+02          5.060000e+02   \n",
       "mean   1.295950e+08     6.084366e+07       6.291866e+07          1.411534e+07   \n",
       "std    1.302539e+08     6.532914e+07       6.740514e+07          1.696085e+07   \n",
       "min    2.109846e+07     2.245629e+06       2.292197e+06          3.976680e+05   \n",
       "25%    2.109846e+07     2.245629e+06       2.292197e+06          3.976680e+05   \n",
       "50%    5.544310e+07     2.698665e+07       2.845645e+07          4.633566e+06   \n",
       "75%    3.413388e+08     1.663284e+08       1.717520e+08          4.178639e+07   \n",
       "max    3.413388e+08     1.663284e+08       1.717520e+08          4.178639e+07   \n",
       "\n",
       "       population_age_10_19  population_age_20_29  population_age_30_39  \\\n",
       "count          5.060000e+02          5.060000e+02          5.060000e+02   \n",
       "mean           1.474440e+07          1.636425e+07          1.616979e+07   \n",
       "std            1.752566e+07          1.909179e+07          1.790436e+07   \n",
       "min            4.705110e+05          4.853460e+05          6.109360e+05   \n",
       "25%            4.705110e+05          4.853460e+05          6.109360e+05   \n",
       "50%            5.231560e+06          5.623413e+06          6.471216e+06   \n",
       "75%            4.333720e+07          4.741802e+07          4.517105e+07   \n",
       "max            4.333720e+07          4.741802e+07          4.517105e+07   \n",
       "\n",
       "       population_age_70_79  population_age_60_69  population_age_50_59  \\\n",
       "count          5.060000e+02          5.060000e+02          5.060000e+02   \n",
       "mean           9.128994e+06          1.427601e+07          1.732216e+07   \n",
       "std            8.379279e+06          1.479918e+07          1.730517e+07   \n",
       "min            3.564520e+05          5.017830e+05          6.956980e+05   \n",
       "25%            3.564520e+05          5.017830e+05          6.956980e+05   \n",
       "50%            5.533564e+06          6.764526e+06          8.610615e+06   \n",
       "75%            2.229252e+07          3.804077e+07          4.494450e+07   \n",
       "max            2.229252e+07          3.804077e+07          4.494450e+07   \n",
       "\n",
       "       population_age_40_49  population_age_80_and_older  \n",
       "count          5.060000e+02                 5.060000e+02  \n",
       "mean           1.592595e+07                 5.715436e+06  \n",
       "std            1.631413e+07                 4.715246e+06  \n",
       "min            7.802310e+05                 2.392070e+05  \n",
       "25%            7.802310e+05                 2.392070e+05  \n",
       "50%            8.507701e+06                 4.066940e+06  \n",
       "75%            4.219915e+07                 1.289078e+07  \n",
       "max            4.219915e+07                 1.289078e+07  "
      ]
     },
     "execution_count": 9,
     "metadata": {},
     "output_type": "execute_result"
    }
   ],
   "source": [
    "# Check the columns with descriptive stats\n",
    "df.describe()"
   ]
  },
  {
   "cell_type": "code",
   "execution_count": 10,
   "metadata": {},
   "outputs": [
    {
     "name": "stdout",
     "output_type": "stream",
     "text": [
      "\n",
      "Missing values:\n",
      " week                           0\n",
      "country_name                   0\n",
      "new_confirmed                  0\n",
      "new_deceased                   0\n",
      "cumulative_confirmed           0\n",
      "cumulative_deceased            0\n",
      "population                     0\n",
      "population_male                0\n",
      "population_female              0\n",
      "population_age_00_09           0\n",
      "population_age_10_19           0\n",
      "population_age_20_29           0\n",
      "population_age_30_39           0\n",
      "population_age_70_79           0\n",
      "population_age_60_69           0\n",
      "population_age_50_59           0\n",
      "population_age_40_49           0\n",
      "population_age_80_and_older    0\n",
      "dtype: int64\n"
     ]
    }
   ],
   "source": [
    "# Double check for missing values (covered in ETL, ensuring it worked)\n",
    "missing_values = df.isnull().sum()\n",
    "print(\"\\nMissing values:\\n\", missing_values)\n"
   ]
  },
  {
   "cell_type": "code",
   "execution_count": 11,
   "metadata": {},
   "outputs": [
    {
     "name": "stdout",
     "output_type": "stream",
     "text": [
      "\n",
      "Updated dataset info:\n",
      "<class 'pandas.core.frame.DataFrame'>\n",
      "RangeIndex: 506 entries, 0 to 505\n",
      "Data columns (total 20 columns):\n",
      " #   Column                       Non-Null Count  Dtype         \n",
      "---  ------                       --------------  -----         \n",
      " 0   week                         506 non-null    object        \n",
      " 1   country_name                 506 non-null    object        \n",
      " 2   new_confirmed                506 non-null    float64       \n",
      " 3   new_deceased                 506 non-null    float64       \n",
      " 4   cumulative_confirmed         506 non-null    float64       \n",
      " 5   cumulative_deceased          506 non-null    float64       \n",
      " 6   population                   506 non-null    float64       \n",
      " 7   population_male              506 non-null    float64       \n",
      " 8   population_female            506 non-null    float64       \n",
      " 9   population_age_00_09         506 non-null    float64       \n",
      " 10  population_age_10_19         506 non-null    float64       \n",
      " 11  population_age_20_29         506 non-null    float64       \n",
      " 12  population_age_30_39         506 non-null    float64       \n",
      " 13  population_age_70_79         506 non-null    float64       \n",
      " 14  population_age_60_69         506 non-null    float64       \n",
      " 15  population_age_50_59         506 non-null    float64       \n",
      " 16  population_age_40_49         506 non-null    float64       \n",
      " 17  population_age_80_and_older  506 non-null    float64       \n",
      " 18  week_start                   506 non-null    datetime64[ns]\n",
      " 19  mortality_rate               506 non-null    float64       \n",
      "dtypes: datetime64[ns](1), float64(17), object(2)\n",
      "memory usage: 79.2+ KB\n",
      "None\n"
     ]
    },
    {
     "name": "stderr",
     "output_type": "stream",
     "text": [
      "C:\\Users\\marob\\AppData\\Local\\Temp\\ipykernel_15920\\106667585.py:8: FutureWarning: A value is trying to be set on a copy of a DataFrame or Series through chained assignment using an inplace method.\n",
      "The behavior will change in pandas 3.0. This inplace method will never work because the intermediate object on which we are setting values always behaves as a copy.\n",
      "\n",
      "For example, when doing 'df[col].method(value, inplace=True)', try using 'df.method({col: value}, inplace=True)' or df[col] = df[col].method(value) instead, to perform the operation inplace on the original object.\n",
      "\n",
      "\n",
      "  df['mortality_rate'].replace([np.inf, -np.inf], 0, inplace=True)\n",
      "C:\\Users\\marob\\AppData\\Local\\Temp\\ipykernel_15920\\106667585.py:9: FutureWarning: A value is trying to be set on a copy of a DataFrame or Series through chained assignment using an inplace method.\n",
      "The behavior will change in pandas 3.0. This inplace method will never work because the intermediate object on which we are setting values always behaves as a copy.\n",
      "\n",
      "For example, when doing 'df[col].method(value, inplace=True)', try using 'df.method({col: value}, inplace=True)' or df[col] = df[col].method(value) instead, to perform the operation inplace on the original object.\n",
      "\n",
      "\n",
      "  df['mortality_rate'].fillna(0, inplace=True)\n"
     ]
    }
   ],
   "source": [
    "# Convert 'week' column to datetime using the start of the week\n",
    "df['week_start'] = pd.to_datetime(df['week'].str.split('/').str[0])\n",
    "\n",
    "# Calculate derived variable: Mortality Rate\n",
    "df['mortality_rate'] = (df['new_deceased'] / df['new_confirmed']) * 100\n",
    "\n",
    "# Replace infinite or missing values in 'mortality_rate' with 0\n",
    "df['mortality_rate'].replace([np.inf, -np.inf], 0, inplace=True)\n",
    "df['mortality_rate'].fillna(0, inplace=True)\n",
    "\n",
    "# Sort the data by 'country_name' and 'week_start'\n",
    "df = df.sort_values(by=['country_name', 'week_start']).reset_index(drop=True)\n",
    "\n",
    "# Display updated data information\n",
    "print(\"\\nUpdated dataset info:\")\n",
    "print(df.info())\n"
   ]
  },
  {
   "cell_type": "code",
   "execution_count": 12,
   "metadata": {},
   "outputs": [
    {
     "name": "stdout",
     "output_type": "stream",
     "text": [
      "Data Availability (Zero Values) by Country:\n",
      "                           new_confirmed  new_deceased  cumulative_confirmed  \\\n",
      "country_name                                                                  \n",
      "Germany                               0             7                     0   \n",
      "Italy                                 0           131                     0   \n",
      "Spain                                 0            40                     0   \n",
      "United States of America              2             6                     2   \n",
      "\n",
      "                          cumulative_deceased  population  population_male  \\\n",
      "country_name                                                                 \n",
      "Germany                                     7           0                0   \n",
      "Italy                                     131           0                0   \n",
      "Spain                                       4           0                0   \n",
      "United States of America                    6           0                0   \n",
      "\n",
      "                          population_female  population_age_00_09  \\\n",
      "country_name                                                        \n",
      "Germany                                   0                     0   \n",
      "Italy                                     0                     0   \n",
      "Spain                                     0                     0   \n",
      "United States of America                  0                     0   \n",
      "\n",
      "                          population_age_10_19  population_age_20_29  \\\n",
      "country_name                                                           \n",
      "Germany                                      0                     0   \n",
      "Italy                                        0                     0   \n",
      "Spain                                        0                     0   \n",
      "United States of America                     0                     0   \n",
      "\n",
      "                          population_age_30_39  population_age_70_79  \\\n",
      "country_name                                                           \n",
      "Germany                                      0                     0   \n",
      "Italy                                        0                     0   \n",
      "Spain                                        0                     0   \n",
      "United States of America                     0                     0   \n",
      "\n",
      "                          population_age_60_69  population_age_50_59  \\\n",
      "country_name                                                           \n",
      "Germany                                      0                     0   \n",
      "Italy                                        0                     0   \n",
      "Spain                                        0                     0   \n",
      "United States of America                     0                     0   \n",
      "\n",
      "                          population_age_40_49  population_age_80_and_older  \\\n",
      "country_name                                                                  \n",
      "Germany                                      0                            0   \n",
      "Italy                                        0                            0   \n",
      "Spain                                        0                            0   \n",
      "United States of America                     0                            0   \n",
      "\n",
      "                          week_start  mortality_rate  total_zeros  \n",
      "country_name                                                       \n",
      "Germany                            0               7           21  \n",
      "Italy                              0             131          393  \n",
      "Spain                              0              40           84  \n",
      "United States of America           0               6           22  \n"
     ]
    },
    {
     "name": "stderr",
     "output_type": "stream",
     "text": [
      "C:\\Users\\marob\\AppData\\Local\\Temp\\ipykernel_15920\\3381178339.py:3: DeprecationWarning: DataFrameGroupBy.apply operated on the grouping columns. This behavior is deprecated, and in a future version of pandas the grouping columns will be excluded from the operation. Either pass `include_groups=False` to exclude the groupings or explicitly select the grouping columns after groupby to silence this warning.\n",
      "  zero_values_check = df.groupby('country_name').apply(\n"
     ]
    }
   ],
   "source": [
    "# Data availability check: Identify rows with zero values for each country\n",
    "# Group data by country and count zero values for each column\n",
    "zero_values_check = df.groupby('country_name').apply(\n",
    "    lambda group: (group == 0).sum()\n",
    ").drop(columns=['week', 'country_name'])  # Exclude non-numeric columns from the check\n",
    "\n",
    "# Add a column for total zero values per country\n",
    "zero_values_check['total_zeros'] = zero_values_check.sum(axis=1)\n",
    "\n",
    "# Display the results\n",
    "print(\"Data Availability (Zero Values) by Country:\\n\", zero_values_check) # Open as scrollable to ensure the view is not truncated and all is displayed\n"
   ]
  },
  {
   "cell_type": "code",
   "execution_count": 13,
   "metadata": {},
   "outputs": [],
   "source": [
    "# Prepare data for age group visualization\n",
    "age_groups = [\n",
    "    \"population_age_00_09\", \"population_age_10_19\", \"population_age_20_29\",\n",
    "    \"population_age_30_39\", \"population_age_40_49\", \"population_age_50_59\",\n",
    "    \"population_age_60_69\", \"population_age_70_79\", \"population_age_80_and_older\"\n",
    "]\n",
    "age_data = df[['country_name'] + age_groups].groupby('country_name').sum().reset_index()\n",
    "\n",
    "# Melt data for plotting\n",
    "age_data_melted = age_data.melt(id_vars='country_name', var_name='Age Group', value_name='Population')\n",
    "\n",
    "# Prepare data for gender distribution visualization\n",
    "gender_data = df.groupby('country_name')[['population_male', 'population_female']].sum().reset_index()\n",
    "\n",
    "# Melt data for plotting\n",
    "gender_data_melted = gender_data.melt(id_vars='country_name', var_name='Gender', value_name='Population')\n",
    "\n"
   ]
  },
  {
   "cell_type": "markdown",
   "metadata": {},
   "source": [
    "### Data Overview and Initial Transformations\n",
    "\n",
    "To ensure the dataset is correctly formatted and ready for analysis, we begin by examining the data structure and summary statistics using `df.describe()` and `df.head()`. This provides an understanding of the distributions, ranges, and potential irregularities within the data. We understand here three main takeaways:\n",
    "- We only have data for Germany, Spain, Italy and the United States \n",
    "- Mortality data is not properly available for Italy and Spain\n",
    "- Italy overall has the worst data availabilty of our dataset, so focus should be on other countries\n",
    "\n",
    "#### Key Transformations\n",
    "1. **Week Transformation**: \n",
    "   - We extract and transform the `week` column to ensure it is a proper datetime object. This enables us to perform time-series analysis efficiently.\n",
    "   \n",
    "2. **Mortality Rate Calculation**:\n",
    "   - A new variable, `mortality_rate`, is introduced. It is calculated as the ratio of `new_deceased` to `new_confirmed`, scaled as a percentage. This serves as an initial exploration of severity by country and week. \n",
    "   - While logical, the introduction of this variable may require refinement during deeper analysis.\n",
    "\n",
    "3. **Demographic Data Preparation**:\n",
    "   - To analyze the demographic distributions by country, the dataset is reshaped using a melt operation. This combines the gender-specific (`population_male`, `population_female`) and age-group-specific columns (`population_age_00_09`, `population_age_10_19`, etc.) into a long format for effective visualization.\n",
    "\n",
    "As part of the exploratory data analysis, we anticipate defining additional variables derived from existing columns. These will help uncover deeper insights into the relationships within the data. However, care will be taken to ensure these transformations remain meaningful and grounded in logical interpretation.\n"
   ]
  },
  {
   "cell_type": "markdown",
   "metadata": {},
   "source": [
    "## **(2) First visualizations of demographics**"
   ]
  },
  {
   "cell_type": "code",
   "execution_count": 14,
   "metadata": {},
   "outputs": [
    {
     "data": {
      "application/vnd.plotly.v1+json": {
       "config": {
        "plotlyServerURL": "https://plot.ly"
       },
       "data": [
        {
         "alignmentgroup": "True",
         "hovertemplate": "Age Group=0-9<br>Average Population=%{x}<br>country_name=%{y}<extra></extra>",
         "legendgroup": "0-9",
         "marker": {
          "color": "#636efa",
          "pattern": {
           "shape": ""
          }
         },
         "name": "0-9",
         "offsetgroup": "0-9",
         "orientation": "h",
         "showlegend": true,
         "textposition": "auto",
         "type": "bar",
         "x": [
          7220827,
          4633566,
          397668,
          41786394
         ],
         "xaxis": "x",
         "y": [
          "Germany",
          "Italy",
          "Spain",
          "United States of America"
         ],
         "yaxis": "y"
        },
        {
         "alignmentgroup": "True",
         "hovertemplate": "Age Group=10-19<br>Average Population=%{x}<br>country_name=%{y}<extra></extra>",
         "legendgroup": "10-19",
         "marker": {
          "color": "#EF553B",
          "pattern": {
           "shape": ""
          }
         },
         "name": "10-19",
         "offsetgroup": "10-19",
         "orientation": "h",
         "showlegend": true,
         "textposition": "auto",
         "type": "bar",
         "x": [
          7398601,
          5231560,
          470511,
          43337205
         ],
         "xaxis": "x",
         "y": [
          "Germany",
          "Italy",
          "Spain",
          "United States of America"
         ],
         "yaxis": "y"
        },
        {
         "alignmentgroup": "True",
         "hovertemplate": "Age Group=20-29<br>Average Population=%{x}<br>country_name=%{y}<extra></extra>",
         "legendgroup": "20-29",
         "marker": {
          "color": "#00cc96",
          "pattern": {
           "shape": ""
          }
         },
         "name": "20-29",
         "offsetgroup": "20-29",
         "orientation": "h",
         "showlegend": true,
         "textposition": "auto",
         "type": "bar",
         "x": [
          9303309,
          5623413,
          485346,
          47418023
         ],
         "xaxis": "x",
         "y": [
          "Germany",
          "Italy",
          "Spain",
          "United States of America"
         ],
         "yaxis": "y"
        },
        {
         "alignmentgroup": "True",
         "hovertemplate": "Age Group=30-39<br>Average Population=%{x}<br>country_name=%{y}<extra></extra>",
         "legendgroup": "30-39",
         "marker": {
          "color": "#ab63fa",
          "pattern": {
           "shape": ""
          }
         },
         "name": "30-39",
         "offsetgroup": "30-39",
         "orientation": "h",
         "showlegend": true,
         "textposition": "auto",
         "type": "bar",
         "x": [
          10024505,
          6471216,
          610936,
          45171048
         ],
         "xaxis": "x",
         "y": [
          "Germany",
          "Italy",
          "Spain",
          "United States of America"
         ],
         "yaxis": "y"
        },
        {
         "alignmentgroup": "True",
         "hovertemplate": "Age Group=40-49<br>Average Population=%{x}<br>country_name=%{y}<extra></extra>",
         "legendgroup": "40-49",
         "marker": {
          "color": "#FFA15A",
          "pattern": {
           "shape": ""
          }
         },
         "name": "40-49",
         "offsetgroup": "40-49",
         "orientation": "h",
         "showlegend": true,
         "textposition": "auto",
         "type": "bar",
         "x": [
          9955575,
          8507701,
          780231,
          42199147
         ],
         "xaxis": "x",
         "y": [
          "Germany",
          "Italy",
          "Spain",
          "United States of America"
         ],
         "yaxis": "y"
        },
        {
         "alignmentgroup": "True",
         "hovertemplate": "Age Group=50-59<br>Average Population=%{x}<br>country_name=%{y}<extra></extra>",
         "legendgroup": "50-59",
         "marker": {
          "color": "#19d3f3",
          "pattern": {
           "shape": ""
          }
         },
         "name": "50-59",
         "offsetgroup": "50-59",
         "orientation": "h",
         "showlegend": true,
         "textposition": "auto",
         "type": "bar",
         "x": [
          12932635,
          8610615,
          695698,
          44944501
         ],
         "xaxis": "x",
         "y": [
          "Germany",
          "Italy",
          "Spain",
          "United States of America"
         ],
         "yaxis": "y"
        },
        {
         "alignmentgroup": "True",
         "hovertemplate": "Age Group=60-69<br>Average Population=%{x}<br>country_name=%{y}<extra></extra>",
         "legendgroup": "60-69",
         "marker": {
          "color": "#FF6692",
          "pattern": {
           "shape": ""
          }
         },
         "name": "60-69",
         "offsetgroup": "60-69",
         "orientation": "h",
         "showlegend": true,
         "textposition": "auto",
         "type": "bar",
         "x": [
          9907511,
          6764526,
          501783,
          38040772
         ],
         "xaxis": "x",
         "y": [
          "Germany",
          "Italy",
          "Spain",
          "United States of America"
         ],
         "yaxis": "y"
        },
        {
         "alignmentgroup": "True",
         "hovertemplate": "Age Group=70-79<br>Average Population=%{x}<br>country_name=%{y}<extra></extra>",
         "legendgroup": "70-79",
         "marker": {
          "color": "#B6E880",
          "pattern": {
           "shape": ""
          }
         },
         "name": "70-79",
         "offsetgroup": "70-79",
         "orientation": "h",
         "showlegend": true,
         "textposition": "auto",
         "type": "bar",
         "x": [
          7360047,
          5533564,
          356452,
          22292522
         ],
         "xaxis": "x",
         "y": [
          "Germany",
          "Italy",
          "Spain",
          "United States of America"
         ],
         "yaxis": "y"
        },
        {
         "alignmentgroup": "True",
         "hovertemplate": "Age Group=80+<br>Average Population=%{x}<br>country_name=%{y}<extra></extra>",
         "legendgroup": "80+",
         "marker": {
          "color": "#FF97FF",
          "pattern": {
           "shape": ""
          }
         },
         "name": "80+",
         "offsetgroup": "80+",
         "orientation": "h",
         "showlegend": true,
         "textposition": "auto",
         "type": "bar",
         "x": [
          5184471,
          4066940,
          239207,
          12890784
         ],
         "xaxis": "x",
         "y": [
          "Germany",
          "Italy",
          "Spain",
          "United States of America"
         ],
         "yaxis": "y"
        }
       ],
       "layout": {
        "barmode": "stack",
        "legend": {
         "title": {
          "text": "Age Group"
         },
         "tracegroupgap": 0
        },
        "template": {
         "data": {
          "bar": [
           {
            "error_x": {
             "color": "#2a3f5f"
            },
            "error_y": {
             "color": "#2a3f5f"
            },
            "marker": {
             "line": {
              "color": "#E5ECF6",
              "width": 0.5
             },
             "pattern": {
              "fillmode": "overlay",
              "size": 10,
              "solidity": 0.2
             }
            },
            "type": "bar"
           }
          ],
          "barpolar": [
           {
            "marker": {
             "line": {
              "color": "#E5ECF6",
              "width": 0.5
             },
             "pattern": {
              "fillmode": "overlay",
              "size": 10,
              "solidity": 0.2
             }
            },
            "type": "barpolar"
           }
          ],
          "carpet": [
           {
            "aaxis": {
             "endlinecolor": "#2a3f5f",
             "gridcolor": "white",
             "linecolor": "white",
             "minorgridcolor": "white",
             "startlinecolor": "#2a3f5f"
            },
            "baxis": {
             "endlinecolor": "#2a3f5f",
             "gridcolor": "white",
             "linecolor": "white",
             "minorgridcolor": "white",
             "startlinecolor": "#2a3f5f"
            },
            "type": "carpet"
           }
          ],
          "choropleth": [
           {
            "colorbar": {
             "outlinewidth": 0,
             "ticks": ""
            },
            "type": "choropleth"
           }
          ],
          "contour": [
           {
            "colorbar": {
             "outlinewidth": 0,
             "ticks": ""
            },
            "colorscale": [
             [
              0,
              "#0d0887"
             ],
             [
              0.1111111111111111,
              "#46039f"
             ],
             [
              0.2222222222222222,
              "#7201a8"
             ],
             [
              0.3333333333333333,
              "#9c179e"
             ],
             [
              0.4444444444444444,
              "#bd3786"
             ],
             [
              0.5555555555555556,
              "#d8576b"
             ],
             [
              0.6666666666666666,
              "#ed7953"
             ],
             [
              0.7777777777777778,
              "#fb9f3a"
             ],
             [
              0.8888888888888888,
              "#fdca26"
             ],
             [
              1,
              "#f0f921"
             ]
            ],
            "type": "contour"
           }
          ],
          "contourcarpet": [
           {
            "colorbar": {
             "outlinewidth": 0,
             "ticks": ""
            },
            "type": "contourcarpet"
           }
          ],
          "heatmap": [
           {
            "colorbar": {
             "outlinewidth": 0,
             "ticks": ""
            },
            "colorscale": [
             [
              0,
              "#0d0887"
             ],
             [
              0.1111111111111111,
              "#46039f"
             ],
             [
              0.2222222222222222,
              "#7201a8"
             ],
             [
              0.3333333333333333,
              "#9c179e"
             ],
             [
              0.4444444444444444,
              "#bd3786"
             ],
             [
              0.5555555555555556,
              "#d8576b"
             ],
             [
              0.6666666666666666,
              "#ed7953"
             ],
             [
              0.7777777777777778,
              "#fb9f3a"
             ],
             [
              0.8888888888888888,
              "#fdca26"
             ],
             [
              1,
              "#f0f921"
             ]
            ],
            "type": "heatmap"
           }
          ],
          "heatmapgl": [
           {
            "colorbar": {
             "outlinewidth": 0,
             "ticks": ""
            },
            "colorscale": [
             [
              0,
              "#0d0887"
             ],
             [
              0.1111111111111111,
              "#46039f"
             ],
             [
              0.2222222222222222,
              "#7201a8"
             ],
             [
              0.3333333333333333,
              "#9c179e"
             ],
             [
              0.4444444444444444,
              "#bd3786"
             ],
             [
              0.5555555555555556,
              "#d8576b"
             ],
             [
              0.6666666666666666,
              "#ed7953"
             ],
             [
              0.7777777777777778,
              "#fb9f3a"
             ],
             [
              0.8888888888888888,
              "#fdca26"
             ],
             [
              1,
              "#f0f921"
             ]
            ],
            "type": "heatmapgl"
           }
          ],
          "histogram": [
           {
            "marker": {
             "pattern": {
              "fillmode": "overlay",
              "size": 10,
              "solidity": 0.2
             }
            },
            "type": "histogram"
           }
          ],
          "histogram2d": [
           {
            "colorbar": {
             "outlinewidth": 0,
             "ticks": ""
            },
            "colorscale": [
             [
              0,
              "#0d0887"
             ],
             [
              0.1111111111111111,
              "#46039f"
             ],
             [
              0.2222222222222222,
              "#7201a8"
             ],
             [
              0.3333333333333333,
              "#9c179e"
             ],
             [
              0.4444444444444444,
              "#bd3786"
             ],
             [
              0.5555555555555556,
              "#d8576b"
             ],
             [
              0.6666666666666666,
              "#ed7953"
             ],
             [
              0.7777777777777778,
              "#fb9f3a"
             ],
             [
              0.8888888888888888,
              "#fdca26"
             ],
             [
              1,
              "#f0f921"
             ]
            ],
            "type": "histogram2d"
           }
          ],
          "histogram2dcontour": [
           {
            "colorbar": {
             "outlinewidth": 0,
             "ticks": ""
            },
            "colorscale": [
             [
              0,
              "#0d0887"
             ],
             [
              0.1111111111111111,
              "#46039f"
             ],
             [
              0.2222222222222222,
              "#7201a8"
             ],
             [
              0.3333333333333333,
              "#9c179e"
             ],
             [
              0.4444444444444444,
              "#bd3786"
             ],
             [
              0.5555555555555556,
              "#d8576b"
             ],
             [
              0.6666666666666666,
              "#ed7953"
             ],
             [
              0.7777777777777778,
              "#fb9f3a"
             ],
             [
              0.8888888888888888,
              "#fdca26"
             ],
             [
              1,
              "#f0f921"
             ]
            ],
            "type": "histogram2dcontour"
           }
          ],
          "mesh3d": [
           {
            "colorbar": {
             "outlinewidth": 0,
             "ticks": ""
            },
            "type": "mesh3d"
           }
          ],
          "parcoords": [
           {
            "line": {
             "colorbar": {
              "outlinewidth": 0,
              "ticks": ""
             }
            },
            "type": "parcoords"
           }
          ],
          "pie": [
           {
            "automargin": true,
            "type": "pie"
           }
          ],
          "scatter": [
           {
            "fillpattern": {
             "fillmode": "overlay",
             "size": 10,
             "solidity": 0.2
            },
            "type": "scatter"
           }
          ],
          "scatter3d": [
           {
            "line": {
             "colorbar": {
              "outlinewidth": 0,
              "ticks": ""
             }
            },
            "marker": {
             "colorbar": {
              "outlinewidth": 0,
              "ticks": ""
             }
            },
            "type": "scatter3d"
           }
          ],
          "scattercarpet": [
           {
            "marker": {
             "colorbar": {
              "outlinewidth": 0,
              "ticks": ""
             }
            },
            "type": "scattercarpet"
           }
          ],
          "scattergeo": [
           {
            "marker": {
             "colorbar": {
              "outlinewidth": 0,
              "ticks": ""
             }
            },
            "type": "scattergeo"
           }
          ],
          "scattergl": [
           {
            "marker": {
             "colorbar": {
              "outlinewidth": 0,
              "ticks": ""
             }
            },
            "type": "scattergl"
           }
          ],
          "scattermapbox": [
           {
            "marker": {
             "colorbar": {
              "outlinewidth": 0,
              "ticks": ""
             }
            },
            "type": "scattermapbox"
           }
          ],
          "scatterpolar": [
           {
            "marker": {
             "colorbar": {
              "outlinewidth": 0,
              "ticks": ""
             }
            },
            "type": "scatterpolar"
           }
          ],
          "scatterpolargl": [
           {
            "marker": {
             "colorbar": {
              "outlinewidth": 0,
              "ticks": ""
             }
            },
            "type": "scatterpolargl"
           }
          ],
          "scatterternary": [
           {
            "marker": {
             "colorbar": {
              "outlinewidth": 0,
              "ticks": ""
             }
            },
            "type": "scatterternary"
           }
          ],
          "surface": [
           {
            "colorbar": {
             "outlinewidth": 0,
             "ticks": ""
            },
            "colorscale": [
             [
              0,
              "#0d0887"
             ],
             [
              0.1111111111111111,
              "#46039f"
             ],
             [
              0.2222222222222222,
              "#7201a8"
             ],
             [
              0.3333333333333333,
              "#9c179e"
             ],
             [
              0.4444444444444444,
              "#bd3786"
             ],
             [
              0.5555555555555556,
              "#d8576b"
             ],
             [
              0.6666666666666666,
              "#ed7953"
             ],
             [
              0.7777777777777778,
              "#fb9f3a"
             ],
             [
              0.8888888888888888,
              "#fdca26"
             ],
             [
              1,
              "#f0f921"
             ]
            ],
            "type": "surface"
           }
          ],
          "table": [
           {
            "cells": {
             "fill": {
              "color": "#EBF0F8"
             },
             "line": {
              "color": "white"
             }
            },
            "header": {
             "fill": {
              "color": "#C8D4E3"
             },
             "line": {
              "color": "white"
             }
            },
            "type": "table"
           }
          ]
         },
         "layout": {
          "annotationdefaults": {
           "arrowcolor": "#2a3f5f",
           "arrowhead": 0,
           "arrowwidth": 1
          },
          "autotypenumbers": "strict",
          "coloraxis": {
           "colorbar": {
            "outlinewidth": 0,
            "ticks": ""
           }
          },
          "colorscale": {
           "diverging": [
            [
             0,
             "#8e0152"
            ],
            [
             0.1,
             "#c51b7d"
            ],
            [
             0.2,
             "#de77ae"
            ],
            [
             0.3,
             "#f1b6da"
            ],
            [
             0.4,
             "#fde0ef"
            ],
            [
             0.5,
             "#f7f7f7"
            ],
            [
             0.6,
             "#e6f5d0"
            ],
            [
             0.7,
             "#b8e186"
            ],
            [
             0.8,
             "#7fbc41"
            ],
            [
             0.9,
             "#4d9221"
            ],
            [
             1,
             "#276419"
            ]
           ],
           "sequential": [
            [
             0,
             "#0d0887"
            ],
            [
             0.1111111111111111,
             "#46039f"
            ],
            [
             0.2222222222222222,
             "#7201a8"
            ],
            [
             0.3333333333333333,
             "#9c179e"
            ],
            [
             0.4444444444444444,
             "#bd3786"
            ],
            [
             0.5555555555555556,
             "#d8576b"
            ],
            [
             0.6666666666666666,
             "#ed7953"
            ],
            [
             0.7777777777777778,
             "#fb9f3a"
            ],
            [
             0.8888888888888888,
             "#fdca26"
            ],
            [
             1,
             "#f0f921"
            ]
           ],
           "sequentialminus": [
            [
             0,
             "#0d0887"
            ],
            [
             0.1111111111111111,
             "#46039f"
            ],
            [
             0.2222222222222222,
             "#7201a8"
            ],
            [
             0.3333333333333333,
             "#9c179e"
            ],
            [
             0.4444444444444444,
             "#bd3786"
            ],
            [
             0.5555555555555556,
             "#d8576b"
            ],
            [
             0.6666666666666666,
             "#ed7953"
            ],
            [
             0.7777777777777778,
             "#fb9f3a"
            ],
            [
             0.8888888888888888,
             "#fdca26"
            ],
            [
             1,
             "#f0f921"
            ]
           ]
          },
          "colorway": [
           "#636efa",
           "#EF553B",
           "#00cc96",
           "#ab63fa",
           "#FFA15A",
           "#19d3f3",
           "#FF6692",
           "#B6E880",
           "#FF97FF",
           "#FECB52"
          ],
          "font": {
           "color": "#2a3f5f"
          },
          "geo": {
           "bgcolor": "white",
           "lakecolor": "white",
           "landcolor": "#E5ECF6",
           "showlakes": true,
           "showland": true,
           "subunitcolor": "white"
          },
          "hoverlabel": {
           "align": "left"
          },
          "hovermode": "closest",
          "mapbox": {
           "style": "light"
          },
          "paper_bgcolor": "white",
          "plot_bgcolor": "#E5ECF6",
          "polar": {
           "angularaxis": {
            "gridcolor": "white",
            "linecolor": "white",
            "ticks": ""
           },
           "bgcolor": "#E5ECF6",
           "radialaxis": {
            "gridcolor": "white",
            "linecolor": "white",
            "ticks": ""
           }
          },
          "scene": {
           "xaxis": {
            "backgroundcolor": "#E5ECF6",
            "gridcolor": "white",
            "gridwidth": 2,
            "linecolor": "white",
            "showbackground": true,
            "ticks": "",
            "zerolinecolor": "white"
           },
           "yaxis": {
            "backgroundcolor": "#E5ECF6",
            "gridcolor": "white",
            "gridwidth": 2,
            "linecolor": "white",
            "showbackground": true,
            "ticks": "",
            "zerolinecolor": "white"
           },
           "zaxis": {
            "backgroundcolor": "#E5ECF6",
            "gridcolor": "white",
            "gridwidth": 2,
            "linecolor": "white",
            "showbackground": true,
            "ticks": "",
            "zerolinecolor": "white"
           }
          },
          "shapedefaults": {
           "line": {
            "color": "#2a3f5f"
           }
          },
          "ternary": {
           "aaxis": {
            "gridcolor": "white",
            "linecolor": "white",
            "ticks": ""
           },
           "baxis": {
            "gridcolor": "white",
            "linecolor": "white",
            "ticks": ""
           },
           "bgcolor": "#E5ECF6",
           "caxis": {
            "gridcolor": "white",
            "linecolor": "white",
            "ticks": ""
           }
          },
          "title": {
           "x": 0.05
          },
          "xaxis": {
           "automargin": true,
           "gridcolor": "white",
           "linecolor": "white",
           "ticks": "",
           "title": {
            "standoff": 15
           },
           "zerolinecolor": "white",
           "zerolinewidth": 2
          },
          "yaxis": {
           "automargin": true,
           "gridcolor": "white",
           "linecolor": "white",
           "ticks": "",
           "title": {
            "standoff": 15
           },
           "zerolinecolor": "white",
           "zerolinewidth": 2
          }
         }
        },
        "title": {
         "text": "Age Group Distribution by Country (Average Weekly Population)"
        },
        "xaxis": {
         "anchor": "y",
         "domain": [
          0,
          1
         ],
         "title": {
          "text": "Average Population"
         }
        },
        "yaxis": {
         "anchor": "x",
         "domain": [
          0,
          1
         ],
         "title": {
          "text": "Country"
         }
        }
       }
      }
     },
     "metadata": {},
     "output_type": "display_data"
    }
   ],
   "source": [
    "# Bar chart for age group distribution\n",
    "# Group by country and compute the mean for each age group column\n",
    "country_age_means = df.groupby(\"country_name\")[[\n",
    "    \"population_age_00_09\",\n",
    "    \"population_age_10_19\",\n",
    "    \"population_age_20_29\",\n",
    "    \"population_age_30_39\",\n",
    "    \"population_age_40_49\",\n",
    "    \"population_age_50_59\",\n",
    "    \"population_age_60_69\",\n",
    "    \"population_age_70_79\",\n",
    "    \"population_age_80_and_older\"\n",
    "]].mean().reset_index()\n",
    "\n",
    "# Melt the dataframe to have age groups as a categorical column\n",
    "df_melted = country_age_means.melt(\n",
    "    id_vars=[\"country_name\"], \n",
    "    var_name=\"Age Group\", \n",
    "    value_name=\"Average Population\"\n",
    ")\n",
    "\n",
    "# Rename age group labels\n",
    "df_melted[\"Age Group\"] = df_melted[\"Age Group\"].replace({\n",
    "    \"population_age_00_09\": \"0-9\",\n",
    "    \"population_age_10_19\": \"10-19\",\n",
    "    \"population_age_20_29\": \"20-29\",\n",
    "    \"population_age_30_39\": \"30-39\",\n",
    "    \"population_age_40_49\": \"40-49\",\n",
    "    \"population_age_50_59\": \"50-59\",\n",
    "    \"population_age_60_69\": \"60-69\",\n",
    "    \"population_age_70_79\": \"70-79\",\n",
    "    \"population_age_80_and_older\": \"80+\",\n",
    "})\n",
    "\n",
    "# Plot the stacked horizontal bar chart\n",
    "fig = px.bar(\n",
    "    df_melted,\n",
    "    x=\"Average Population\",\n",
    "    y=\"country_name\",\n",
    "    color=\"Age Group\",\n",
    "    title=\"Age Group Distribution by Country (Average Weekly Population)\",\n",
    "    orientation=\"h\",\n",
    "    barmode=\"stack\"\n",
    ")\n",
    "fig.update_layout(xaxis_title=\"Average Population\", yaxis_title=\"Country\")\n",
    "fig.show()\n"
   ]
  },
  {
   "cell_type": "code",
   "execution_count": 15,
   "metadata": {},
   "outputs": [
    {
     "data": {
      "application/vnd.plotly.v1+json": {
       "config": {
        "plotlyServerURL": "https://plot.ly"
       },
       "data": [
        {
         "domain": {
          "x": [
           0,
           0.235
          ],
          "y": [
           0,
           1
          ]
         },
         "hovertemplate": "country_name=Germany<br>Gender=%{label}<br>Population=%{value}<extra></extra>",
         "labels": [
          "population_male",
          "population_female"
         ],
         "legendgroup": "",
         "name": "",
         "showlegend": true,
         "textinfo": "percent+label",
         "type": "pie",
         "values": [
          4343538558,
          4457371833
         ]
        },
        {
         "domain": {
          "x": [
           0.255,
           0.49
          ],
          "y": [
           0,
           1
          ]
         },
         "hovertemplate": "country_name=Italy<br>Gender=%{label}<br>Population=%{value}<extra></extra>",
         "labels": [
          "population_male",
          "population_female"
         ],
         "legendgroup": "",
         "name": "",
         "showlegend": true,
         "textinfo": "percent+label",
         "type": "pie",
         "values": [
          3535251412,
          3727794819
         ]
        },
        {
         "domain": {
          "x": [
           0.51,
           0.745
          ],
          "y": [
           0,
           1
          ]
         },
         "hovertemplate": "country_name=Spain<br>Gender=%{label}<br>Population=%{value}<extra></extra>",
         "labels": [
          "population_male",
          "population_female"
         ],
         "legendgroup": "",
         "name": "",
         "showlegend": true,
         "textinfo": "percent+label",
         "type": "pie",
         "values": [
          287440512,
          293401216
         ]
        },
        {
         "domain": {
          "x": [
           0.7649999999999999,
           0.9999999999999999
          ],
          "y": [
           0,
           1
          ]
         },
         "hovertemplate": "country_name=United States of America<br>Gender=%{label}<br>Population=%{value}<extra></extra>",
         "labels": [
          "population_male",
          "population_female"
         ],
         "legendgroup": "",
         "name": "",
         "showlegend": true,
         "textinfo": "percent+label",
         "type": "pie",
         "values": [
          22620659952,
          23358273768
         ]
        }
       ],
       "layout": {
        "annotations": [
         {
          "font": {},
          "showarrow": false,
          "text": "country_name=Germany",
          "x": 0.1175,
          "xanchor": "center",
          "xref": "paper",
          "y": 1,
          "yanchor": "bottom",
          "yref": "paper"
         },
         {
          "font": {},
          "showarrow": false,
          "text": "country_name=Italy",
          "x": 0.3725,
          "xanchor": "center",
          "xref": "paper",
          "y": 1,
          "yanchor": "bottom",
          "yref": "paper"
         },
         {
          "font": {},
          "showarrow": false,
          "text": "country_name=Spain",
          "x": 0.6275,
          "xanchor": "center",
          "xref": "paper",
          "y": 1,
          "yanchor": "bottom",
          "yref": "paper"
         },
         {
          "font": {},
          "showarrow": false,
          "text": "country_name=United States of America",
          "x": 0.8824999999999998,
          "xanchor": "center",
          "xref": "paper",
          "y": 1,
          "yanchor": "bottom",
          "yref": "paper"
         }
        ],
        "legend": {
         "tracegroupgap": 0
        },
        "template": {
         "data": {
          "bar": [
           {
            "error_x": {
             "color": "#2a3f5f"
            },
            "error_y": {
             "color": "#2a3f5f"
            },
            "marker": {
             "line": {
              "color": "#E5ECF6",
              "width": 0.5
             },
             "pattern": {
              "fillmode": "overlay",
              "size": 10,
              "solidity": 0.2
             }
            },
            "type": "bar"
           }
          ],
          "barpolar": [
           {
            "marker": {
             "line": {
              "color": "#E5ECF6",
              "width": 0.5
             },
             "pattern": {
              "fillmode": "overlay",
              "size": 10,
              "solidity": 0.2
             }
            },
            "type": "barpolar"
           }
          ],
          "carpet": [
           {
            "aaxis": {
             "endlinecolor": "#2a3f5f",
             "gridcolor": "white",
             "linecolor": "white",
             "minorgridcolor": "white",
             "startlinecolor": "#2a3f5f"
            },
            "baxis": {
             "endlinecolor": "#2a3f5f",
             "gridcolor": "white",
             "linecolor": "white",
             "minorgridcolor": "white",
             "startlinecolor": "#2a3f5f"
            },
            "type": "carpet"
           }
          ],
          "choropleth": [
           {
            "colorbar": {
             "outlinewidth": 0,
             "ticks": ""
            },
            "type": "choropleth"
           }
          ],
          "contour": [
           {
            "colorbar": {
             "outlinewidth": 0,
             "ticks": ""
            },
            "colorscale": [
             [
              0,
              "#0d0887"
             ],
             [
              0.1111111111111111,
              "#46039f"
             ],
             [
              0.2222222222222222,
              "#7201a8"
             ],
             [
              0.3333333333333333,
              "#9c179e"
             ],
             [
              0.4444444444444444,
              "#bd3786"
             ],
             [
              0.5555555555555556,
              "#d8576b"
             ],
             [
              0.6666666666666666,
              "#ed7953"
             ],
             [
              0.7777777777777778,
              "#fb9f3a"
             ],
             [
              0.8888888888888888,
              "#fdca26"
             ],
             [
              1,
              "#f0f921"
             ]
            ],
            "type": "contour"
           }
          ],
          "contourcarpet": [
           {
            "colorbar": {
             "outlinewidth": 0,
             "ticks": ""
            },
            "type": "contourcarpet"
           }
          ],
          "heatmap": [
           {
            "colorbar": {
             "outlinewidth": 0,
             "ticks": ""
            },
            "colorscale": [
             [
              0,
              "#0d0887"
             ],
             [
              0.1111111111111111,
              "#46039f"
             ],
             [
              0.2222222222222222,
              "#7201a8"
             ],
             [
              0.3333333333333333,
              "#9c179e"
             ],
             [
              0.4444444444444444,
              "#bd3786"
             ],
             [
              0.5555555555555556,
              "#d8576b"
             ],
             [
              0.6666666666666666,
              "#ed7953"
             ],
             [
              0.7777777777777778,
              "#fb9f3a"
             ],
             [
              0.8888888888888888,
              "#fdca26"
             ],
             [
              1,
              "#f0f921"
             ]
            ],
            "type": "heatmap"
           }
          ],
          "heatmapgl": [
           {
            "colorbar": {
             "outlinewidth": 0,
             "ticks": ""
            },
            "colorscale": [
             [
              0,
              "#0d0887"
             ],
             [
              0.1111111111111111,
              "#46039f"
             ],
             [
              0.2222222222222222,
              "#7201a8"
             ],
             [
              0.3333333333333333,
              "#9c179e"
             ],
             [
              0.4444444444444444,
              "#bd3786"
             ],
             [
              0.5555555555555556,
              "#d8576b"
             ],
             [
              0.6666666666666666,
              "#ed7953"
             ],
             [
              0.7777777777777778,
              "#fb9f3a"
             ],
             [
              0.8888888888888888,
              "#fdca26"
             ],
             [
              1,
              "#f0f921"
             ]
            ],
            "type": "heatmapgl"
           }
          ],
          "histogram": [
           {
            "marker": {
             "pattern": {
              "fillmode": "overlay",
              "size": 10,
              "solidity": 0.2
             }
            },
            "type": "histogram"
           }
          ],
          "histogram2d": [
           {
            "colorbar": {
             "outlinewidth": 0,
             "ticks": ""
            },
            "colorscale": [
             [
              0,
              "#0d0887"
             ],
             [
              0.1111111111111111,
              "#46039f"
             ],
             [
              0.2222222222222222,
              "#7201a8"
             ],
             [
              0.3333333333333333,
              "#9c179e"
             ],
             [
              0.4444444444444444,
              "#bd3786"
             ],
             [
              0.5555555555555556,
              "#d8576b"
             ],
             [
              0.6666666666666666,
              "#ed7953"
             ],
             [
              0.7777777777777778,
              "#fb9f3a"
             ],
             [
              0.8888888888888888,
              "#fdca26"
             ],
             [
              1,
              "#f0f921"
             ]
            ],
            "type": "histogram2d"
           }
          ],
          "histogram2dcontour": [
           {
            "colorbar": {
             "outlinewidth": 0,
             "ticks": ""
            },
            "colorscale": [
             [
              0,
              "#0d0887"
             ],
             [
              0.1111111111111111,
              "#46039f"
             ],
             [
              0.2222222222222222,
              "#7201a8"
             ],
             [
              0.3333333333333333,
              "#9c179e"
             ],
             [
              0.4444444444444444,
              "#bd3786"
             ],
             [
              0.5555555555555556,
              "#d8576b"
             ],
             [
              0.6666666666666666,
              "#ed7953"
             ],
             [
              0.7777777777777778,
              "#fb9f3a"
             ],
             [
              0.8888888888888888,
              "#fdca26"
             ],
             [
              1,
              "#f0f921"
             ]
            ],
            "type": "histogram2dcontour"
           }
          ],
          "mesh3d": [
           {
            "colorbar": {
             "outlinewidth": 0,
             "ticks": ""
            },
            "type": "mesh3d"
           }
          ],
          "parcoords": [
           {
            "line": {
             "colorbar": {
              "outlinewidth": 0,
              "ticks": ""
             }
            },
            "type": "parcoords"
           }
          ],
          "pie": [
           {
            "automargin": true,
            "type": "pie"
           }
          ],
          "scatter": [
           {
            "fillpattern": {
             "fillmode": "overlay",
             "size": 10,
             "solidity": 0.2
            },
            "type": "scatter"
           }
          ],
          "scatter3d": [
           {
            "line": {
             "colorbar": {
              "outlinewidth": 0,
              "ticks": ""
             }
            },
            "marker": {
             "colorbar": {
              "outlinewidth": 0,
              "ticks": ""
             }
            },
            "type": "scatter3d"
           }
          ],
          "scattercarpet": [
           {
            "marker": {
             "colorbar": {
              "outlinewidth": 0,
              "ticks": ""
             }
            },
            "type": "scattercarpet"
           }
          ],
          "scattergeo": [
           {
            "marker": {
             "colorbar": {
              "outlinewidth": 0,
              "ticks": ""
             }
            },
            "type": "scattergeo"
           }
          ],
          "scattergl": [
           {
            "marker": {
             "colorbar": {
              "outlinewidth": 0,
              "ticks": ""
             }
            },
            "type": "scattergl"
           }
          ],
          "scattermapbox": [
           {
            "marker": {
             "colorbar": {
              "outlinewidth": 0,
              "ticks": ""
             }
            },
            "type": "scattermapbox"
           }
          ],
          "scatterpolar": [
           {
            "marker": {
             "colorbar": {
              "outlinewidth": 0,
              "ticks": ""
             }
            },
            "type": "scatterpolar"
           }
          ],
          "scatterpolargl": [
           {
            "marker": {
             "colorbar": {
              "outlinewidth": 0,
              "ticks": ""
             }
            },
            "type": "scatterpolargl"
           }
          ],
          "scatterternary": [
           {
            "marker": {
             "colorbar": {
              "outlinewidth": 0,
              "ticks": ""
             }
            },
            "type": "scatterternary"
           }
          ],
          "surface": [
           {
            "colorbar": {
             "outlinewidth": 0,
             "ticks": ""
            },
            "colorscale": [
             [
              0,
              "#0d0887"
             ],
             [
              0.1111111111111111,
              "#46039f"
             ],
             [
              0.2222222222222222,
              "#7201a8"
             ],
             [
              0.3333333333333333,
              "#9c179e"
             ],
             [
              0.4444444444444444,
              "#bd3786"
             ],
             [
              0.5555555555555556,
              "#d8576b"
             ],
             [
              0.6666666666666666,
              "#ed7953"
             ],
             [
              0.7777777777777778,
              "#fb9f3a"
             ],
             [
              0.8888888888888888,
              "#fdca26"
             ],
             [
              1,
              "#f0f921"
             ]
            ],
            "type": "surface"
           }
          ],
          "table": [
           {
            "cells": {
             "fill": {
              "color": "#EBF0F8"
             },
             "line": {
              "color": "white"
             }
            },
            "header": {
             "fill": {
              "color": "#C8D4E3"
             },
             "line": {
              "color": "white"
             }
            },
            "type": "table"
           }
          ]
         },
         "layout": {
          "annotationdefaults": {
           "arrowcolor": "#2a3f5f",
           "arrowhead": 0,
           "arrowwidth": 1
          },
          "autotypenumbers": "strict",
          "coloraxis": {
           "colorbar": {
            "outlinewidth": 0,
            "ticks": ""
           }
          },
          "colorscale": {
           "diverging": [
            [
             0,
             "#8e0152"
            ],
            [
             0.1,
             "#c51b7d"
            ],
            [
             0.2,
             "#de77ae"
            ],
            [
             0.3,
             "#f1b6da"
            ],
            [
             0.4,
             "#fde0ef"
            ],
            [
             0.5,
             "#f7f7f7"
            ],
            [
             0.6,
             "#e6f5d0"
            ],
            [
             0.7,
             "#b8e186"
            ],
            [
             0.8,
             "#7fbc41"
            ],
            [
             0.9,
             "#4d9221"
            ],
            [
             1,
             "#276419"
            ]
           ],
           "sequential": [
            [
             0,
             "#0d0887"
            ],
            [
             0.1111111111111111,
             "#46039f"
            ],
            [
             0.2222222222222222,
             "#7201a8"
            ],
            [
             0.3333333333333333,
             "#9c179e"
            ],
            [
             0.4444444444444444,
             "#bd3786"
            ],
            [
             0.5555555555555556,
             "#d8576b"
            ],
            [
             0.6666666666666666,
             "#ed7953"
            ],
            [
             0.7777777777777778,
             "#fb9f3a"
            ],
            [
             0.8888888888888888,
             "#fdca26"
            ],
            [
             1,
             "#f0f921"
            ]
           ],
           "sequentialminus": [
            [
             0,
             "#0d0887"
            ],
            [
             0.1111111111111111,
             "#46039f"
            ],
            [
             0.2222222222222222,
             "#7201a8"
            ],
            [
             0.3333333333333333,
             "#9c179e"
            ],
            [
             0.4444444444444444,
             "#bd3786"
            ],
            [
             0.5555555555555556,
             "#d8576b"
            ],
            [
             0.6666666666666666,
             "#ed7953"
            ],
            [
             0.7777777777777778,
             "#fb9f3a"
            ],
            [
             0.8888888888888888,
             "#fdca26"
            ],
            [
             1,
             "#f0f921"
            ]
           ]
          },
          "colorway": [
           "#636efa",
           "#EF553B",
           "#00cc96",
           "#ab63fa",
           "#FFA15A",
           "#19d3f3",
           "#FF6692",
           "#B6E880",
           "#FF97FF",
           "#FECB52"
          ],
          "font": {
           "color": "#2a3f5f"
          },
          "geo": {
           "bgcolor": "white",
           "lakecolor": "white",
           "landcolor": "#E5ECF6",
           "showlakes": true,
           "showland": true,
           "subunitcolor": "white"
          },
          "hoverlabel": {
           "align": "left"
          },
          "hovermode": "closest",
          "mapbox": {
           "style": "light"
          },
          "paper_bgcolor": "white",
          "plot_bgcolor": "#E5ECF6",
          "polar": {
           "angularaxis": {
            "gridcolor": "white",
            "linecolor": "white",
            "ticks": ""
           },
           "bgcolor": "#E5ECF6",
           "radialaxis": {
            "gridcolor": "white",
            "linecolor": "white",
            "ticks": ""
           }
          },
          "scene": {
           "xaxis": {
            "backgroundcolor": "#E5ECF6",
            "gridcolor": "white",
            "gridwidth": 2,
            "linecolor": "white",
            "showbackground": true,
            "ticks": "",
            "zerolinecolor": "white"
           },
           "yaxis": {
            "backgroundcolor": "#E5ECF6",
            "gridcolor": "white",
            "gridwidth": 2,
            "linecolor": "white",
            "showbackground": true,
            "ticks": "",
            "zerolinecolor": "white"
           },
           "zaxis": {
            "backgroundcolor": "#E5ECF6",
            "gridcolor": "white",
            "gridwidth": 2,
            "linecolor": "white",
            "showbackground": true,
            "ticks": "",
            "zerolinecolor": "white"
           }
          },
          "shapedefaults": {
           "line": {
            "color": "#2a3f5f"
           }
          },
          "ternary": {
           "aaxis": {
            "gridcolor": "white",
            "linecolor": "white",
            "ticks": ""
           },
           "baxis": {
            "gridcolor": "white",
            "linecolor": "white",
            "ticks": ""
           },
           "bgcolor": "#E5ECF6",
           "caxis": {
            "gridcolor": "white",
            "linecolor": "white",
            "ticks": ""
           }
          },
          "title": {
           "x": 0.05
          },
          "xaxis": {
           "automargin": true,
           "gridcolor": "white",
           "linecolor": "white",
           "ticks": "",
           "title": {
            "standoff": 15
           },
           "zerolinecolor": "white",
           "zerolinewidth": 2
          },
          "yaxis": {
           "automargin": true,
           "gridcolor": "white",
           "linecolor": "white",
           "ticks": "",
           "title": {
            "standoff": 15
           },
           "zerolinecolor": "white",
           "zerolinewidth": 2
          }
         }
        },
        "title": {
         "text": "Gender-Based Population Distribution by Country"
        }
       }
      }
     },
     "metadata": {},
     "output_type": "display_data"
    }
   ],
   "source": [
    "# Create pie charts for each country\n",
    "fig = px.pie(\n",
    "    gender_data_melted,\n",
    "    names='Gender',\n",
    "    values='Population',\n",
    "    facet_col='country_name',\n",
    "    title=\"Gender-Based Population Distribution by Country\",\n",
    "    labels={'gender': 'Gender', 'population': 'Population'}\n",
    ")\n",
    "fig.update_traces(textinfo='percent+label')\n",
    "fig.show()"
   ]
  },
  {
   "cell_type": "code",
   "execution_count": 16,
   "metadata": {},
   "outputs": [
    {
     "data": {
      "application/vnd.plotly.v1+json": {
       "config": {
        "plotlyServerURL": "https://plot.ly"
       },
       "data": [
        {
         "domain": {
          "x": [
           0,
           1
          ],
          "y": [
           0,
           1
          ]
         },
         "hovertemplate": "Age Group=%{label}<br>Population=%{value}<extra></extra>",
         "labels": [
          "population_age_00_09",
          "population_age_10_19",
          "population_age_20_29",
          "population_age_30_39",
          "population_age_40_49",
          "population_age_50_59",
          "population_age_60_69",
          "population_age_70_79",
          "population_age_80_and_older"
         ],
         "legendgroup": "",
         "name": "",
         "showlegend": true,
         "textinfo": "percent+label",
         "textposition": "inside",
         "type": "pie",
         "values": [
          606997146,
          685334360,
          736667103,
          847729296,
          1114508831,
          1127990565,
          886152906,
          724896884,
          532769140
         ]
        }
       ],
       "layout": {
        "legend": {
         "tracegroupgap": 0
        },
        "template": {
         "data": {
          "bar": [
           {
            "error_x": {
             "color": "#2a3f5f"
            },
            "error_y": {
             "color": "#2a3f5f"
            },
            "marker": {
             "line": {
              "color": "#E5ECF6",
              "width": 0.5
             },
             "pattern": {
              "fillmode": "overlay",
              "size": 10,
              "solidity": 0.2
             }
            },
            "type": "bar"
           }
          ],
          "barpolar": [
           {
            "marker": {
             "line": {
              "color": "#E5ECF6",
              "width": 0.5
             },
             "pattern": {
              "fillmode": "overlay",
              "size": 10,
              "solidity": 0.2
             }
            },
            "type": "barpolar"
           }
          ],
          "carpet": [
           {
            "aaxis": {
             "endlinecolor": "#2a3f5f",
             "gridcolor": "white",
             "linecolor": "white",
             "minorgridcolor": "white",
             "startlinecolor": "#2a3f5f"
            },
            "baxis": {
             "endlinecolor": "#2a3f5f",
             "gridcolor": "white",
             "linecolor": "white",
             "minorgridcolor": "white",
             "startlinecolor": "#2a3f5f"
            },
            "type": "carpet"
           }
          ],
          "choropleth": [
           {
            "colorbar": {
             "outlinewidth": 0,
             "ticks": ""
            },
            "type": "choropleth"
           }
          ],
          "contour": [
           {
            "colorbar": {
             "outlinewidth": 0,
             "ticks": ""
            },
            "colorscale": [
             [
              0,
              "#0d0887"
             ],
             [
              0.1111111111111111,
              "#46039f"
             ],
             [
              0.2222222222222222,
              "#7201a8"
             ],
             [
              0.3333333333333333,
              "#9c179e"
             ],
             [
              0.4444444444444444,
              "#bd3786"
             ],
             [
              0.5555555555555556,
              "#d8576b"
             ],
             [
              0.6666666666666666,
              "#ed7953"
             ],
             [
              0.7777777777777778,
              "#fb9f3a"
             ],
             [
              0.8888888888888888,
              "#fdca26"
             ],
             [
              1,
              "#f0f921"
             ]
            ],
            "type": "contour"
           }
          ],
          "contourcarpet": [
           {
            "colorbar": {
             "outlinewidth": 0,
             "ticks": ""
            },
            "type": "contourcarpet"
           }
          ],
          "heatmap": [
           {
            "colorbar": {
             "outlinewidth": 0,
             "ticks": ""
            },
            "colorscale": [
             [
              0,
              "#0d0887"
             ],
             [
              0.1111111111111111,
              "#46039f"
             ],
             [
              0.2222222222222222,
              "#7201a8"
             ],
             [
              0.3333333333333333,
              "#9c179e"
             ],
             [
              0.4444444444444444,
              "#bd3786"
             ],
             [
              0.5555555555555556,
              "#d8576b"
             ],
             [
              0.6666666666666666,
              "#ed7953"
             ],
             [
              0.7777777777777778,
              "#fb9f3a"
             ],
             [
              0.8888888888888888,
              "#fdca26"
             ],
             [
              1,
              "#f0f921"
             ]
            ],
            "type": "heatmap"
           }
          ],
          "heatmapgl": [
           {
            "colorbar": {
             "outlinewidth": 0,
             "ticks": ""
            },
            "colorscale": [
             [
              0,
              "#0d0887"
             ],
             [
              0.1111111111111111,
              "#46039f"
             ],
             [
              0.2222222222222222,
              "#7201a8"
             ],
             [
              0.3333333333333333,
              "#9c179e"
             ],
             [
              0.4444444444444444,
              "#bd3786"
             ],
             [
              0.5555555555555556,
              "#d8576b"
             ],
             [
              0.6666666666666666,
              "#ed7953"
             ],
             [
              0.7777777777777778,
              "#fb9f3a"
             ],
             [
              0.8888888888888888,
              "#fdca26"
             ],
             [
              1,
              "#f0f921"
             ]
            ],
            "type": "heatmapgl"
           }
          ],
          "histogram": [
           {
            "marker": {
             "pattern": {
              "fillmode": "overlay",
              "size": 10,
              "solidity": 0.2
             }
            },
            "type": "histogram"
           }
          ],
          "histogram2d": [
           {
            "colorbar": {
             "outlinewidth": 0,
             "ticks": ""
            },
            "colorscale": [
             [
              0,
              "#0d0887"
             ],
             [
              0.1111111111111111,
              "#46039f"
             ],
             [
              0.2222222222222222,
              "#7201a8"
             ],
             [
              0.3333333333333333,
              "#9c179e"
             ],
             [
              0.4444444444444444,
              "#bd3786"
             ],
             [
              0.5555555555555556,
              "#d8576b"
             ],
             [
              0.6666666666666666,
              "#ed7953"
             ],
             [
              0.7777777777777778,
              "#fb9f3a"
             ],
             [
              0.8888888888888888,
              "#fdca26"
             ],
             [
              1,
              "#f0f921"
             ]
            ],
            "type": "histogram2d"
           }
          ],
          "histogram2dcontour": [
           {
            "colorbar": {
             "outlinewidth": 0,
             "ticks": ""
            },
            "colorscale": [
             [
              0,
              "#0d0887"
             ],
             [
              0.1111111111111111,
              "#46039f"
             ],
             [
              0.2222222222222222,
              "#7201a8"
             ],
             [
              0.3333333333333333,
              "#9c179e"
             ],
             [
              0.4444444444444444,
              "#bd3786"
             ],
             [
              0.5555555555555556,
              "#d8576b"
             ],
             [
              0.6666666666666666,
              "#ed7953"
             ],
             [
              0.7777777777777778,
              "#fb9f3a"
             ],
             [
              0.8888888888888888,
              "#fdca26"
             ],
             [
              1,
              "#f0f921"
             ]
            ],
            "type": "histogram2dcontour"
           }
          ],
          "mesh3d": [
           {
            "colorbar": {
             "outlinewidth": 0,
             "ticks": ""
            },
            "type": "mesh3d"
           }
          ],
          "parcoords": [
           {
            "line": {
             "colorbar": {
              "outlinewidth": 0,
              "ticks": ""
             }
            },
            "type": "parcoords"
           }
          ],
          "pie": [
           {
            "automargin": true,
            "type": "pie"
           }
          ],
          "scatter": [
           {
            "fillpattern": {
             "fillmode": "overlay",
             "size": 10,
             "solidity": 0.2
            },
            "type": "scatter"
           }
          ],
          "scatter3d": [
           {
            "line": {
             "colorbar": {
              "outlinewidth": 0,
              "ticks": ""
             }
            },
            "marker": {
             "colorbar": {
              "outlinewidth": 0,
              "ticks": ""
             }
            },
            "type": "scatter3d"
           }
          ],
          "scattercarpet": [
           {
            "marker": {
             "colorbar": {
              "outlinewidth": 0,
              "ticks": ""
             }
            },
            "type": "scattercarpet"
           }
          ],
          "scattergeo": [
           {
            "marker": {
             "colorbar": {
              "outlinewidth": 0,
              "ticks": ""
             }
            },
            "type": "scattergeo"
           }
          ],
          "scattergl": [
           {
            "marker": {
             "colorbar": {
              "outlinewidth": 0,
              "ticks": ""
             }
            },
            "type": "scattergl"
           }
          ],
          "scattermapbox": [
           {
            "marker": {
             "colorbar": {
              "outlinewidth": 0,
              "ticks": ""
             }
            },
            "type": "scattermapbox"
           }
          ],
          "scatterpolar": [
           {
            "marker": {
             "colorbar": {
              "outlinewidth": 0,
              "ticks": ""
             }
            },
            "type": "scatterpolar"
           }
          ],
          "scatterpolargl": [
           {
            "marker": {
             "colorbar": {
              "outlinewidth": 0,
              "ticks": ""
             }
            },
            "type": "scatterpolargl"
           }
          ],
          "scatterternary": [
           {
            "marker": {
             "colorbar": {
              "outlinewidth": 0,
              "ticks": ""
             }
            },
            "type": "scatterternary"
           }
          ],
          "surface": [
           {
            "colorbar": {
             "outlinewidth": 0,
             "ticks": ""
            },
            "colorscale": [
             [
              0,
              "#0d0887"
             ],
             [
              0.1111111111111111,
              "#46039f"
             ],
             [
              0.2222222222222222,
              "#7201a8"
             ],
             [
              0.3333333333333333,
              "#9c179e"
             ],
             [
              0.4444444444444444,
              "#bd3786"
             ],
             [
              0.5555555555555556,
              "#d8576b"
             ],
             [
              0.6666666666666666,
              "#ed7953"
             ],
             [
              0.7777777777777778,
              "#fb9f3a"
             ],
             [
              0.8888888888888888,
              "#fdca26"
             ],
             [
              1,
              "#f0f921"
             ]
            ],
            "type": "surface"
           }
          ],
          "table": [
           {
            "cells": {
             "fill": {
              "color": "#EBF0F8"
             },
             "line": {
              "color": "white"
             }
            },
            "header": {
             "fill": {
              "color": "#C8D4E3"
             },
             "line": {
              "color": "white"
             }
            },
            "type": "table"
           }
          ]
         },
         "layout": {
          "annotationdefaults": {
           "arrowcolor": "#2a3f5f",
           "arrowhead": 0,
           "arrowwidth": 1
          },
          "autotypenumbers": "strict",
          "coloraxis": {
           "colorbar": {
            "outlinewidth": 0,
            "ticks": ""
           }
          },
          "colorscale": {
           "diverging": [
            [
             0,
             "#8e0152"
            ],
            [
             0.1,
             "#c51b7d"
            ],
            [
             0.2,
             "#de77ae"
            ],
            [
             0.3,
             "#f1b6da"
            ],
            [
             0.4,
             "#fde0ef"
            ],
            [
             0.5,
             "#f7f7f7"
            ],
            [
             0.6,
             "#e6f5d0"
            ],
            [
             0.7,
             "#b8e186"
            ],
            [
             0.8,
             "#7fbc41"
            ],
            [
             0.9,
             "#4d9221"
            ],
            [
             1,
             "#276419"
            ]
           ],
           "sequential": [
            [
             0,
             "#0d0887"
            ],
            [
             0.1111111111111111,
             "#46039f"
            ],
            [
             0.2222222222222222,
             "#7201a8"
            ],
            [
             0.3333333333333333,
             "#9c179e"
            ],
            [
             0.4444444444444444,
             "#bd3786"
            ],
            [
             0.5555555555555556,
             "#d8576b"
            ],
            [
             0.6666666666666666,
             "#ed7953"
            ],
            [
             0.7777777777777778,
             "#fb9f3a"
            ],
            [
             0.8888888888888888,
             "#fdca26"
            ],
            [
             1,
             "#f0f921"
            ]
           ],
           "sequentialminus": [
            [
             0,
             "#0d0887"
            ],
            [
             0.1111111111111111,
             "#46039f"
            ],
            [
             0.2222222222222222,
             "#7201a8"
            ],
            [
             0.3333333333333333,
             "#9c179e"
            ],
            [
             0.4444444444444444,
             "#bd3786"
            ],
            [
             0.5555555555555556,
             "#d8576b"
            ],
            [
             0.6666666666666666,
             "#ed7953"
            ],
            [
             0.7777777777777778,
             "#fb9f3a"
            ],
            [
             0.8888888888888888,
             "#fdca26"
            ],
            [
             1,
             "#f0f921"
            ]
           ]
          },
          "colorway": [
           "#636efa",
           "#EF553B",
           "#00cc96",
           "#ab63fa",
           "#FFA15A",
           "#19d3f3",
           "#FF6692",
           "#B6E880",
           "#FF97FF",
           "#FECB52"
          ],
          "font": {
           "color": "#2a3f5f"
          },
          "geo": {
           "bgcolor": "white",
           "lakecolor": "white",
           "landcolor": "#E5ECF6",
           "showlakes": true,
           "showland": true,
           "subunitcolor": "white"
          },
          "hoverlabel": {
           "align": "left"
          },
          "hovermode": "closest",
          "mapbox": {
           "style": "light"
          },
          "paper_bgcolor": "white",
          "plot_bgcolor": "#E5ECF6",
          "polar": {
           "angularaxis": {
            "gridcolor": "white",
            "linecolor": "white",
            "ticks": ""
           },
           "bgcolor": "#E5ECF6",
           "radialaxis": {
            "gridcolor": "white",
            "linecolor": "white",
            "ticks": ""
           }
          },
          "scene": {
           "xaxis": {
            "backgroundcolor": "#E5ECF6",
            "gridcolor": "white",
            "gridwidth": 2,
            "linecolor": "white",
            "showbackground": true,
            "ticks": "",
            "zerolinecolor": "white"
           },
           "yaxis": {
            "backgroundcolor": "#E5ECF6",
            "gridcolor": "white",
            "gridwidth": 2,
            "linecolor": "white",
            "showbackground": true,
            "ticks": "",
            "zerolinecolor": "white"
           },
           "zaxis": {
            "backgroundcolor": "#E5ECF6",
            "gridcolor": "white",
            "gridwidth": 2,
            "linecolor": "white",
            "showbackground": true,
            "ticks": "",
            "zerolinecolor": "white"
           }
          },
          "shapedefaults": {
           "line": {
            "color": "#2a3f5f"
           }
          },
          "ternary": {
           "aaxis": {
            "gridcolor": "white",
            "linecolor": "white",
            "ticks": ""
           },
           "baxis": {
            "gridcolor": "white",
            "linecolor": "white",
            "ticks": ""
           },
           "bgcolor": "#E5ECF6",
           "caxis": {
            "gridcolor": "white",
            "linecolor": "white",
            "ticks": ""
           }
          },
          "title": {
           "x": 0.05
          },
          "xaxis": {
           "automargin": true,
           "gridcolor": "white",
           "linecolor": "white",
           "ticks": "",
           "title": {
            "standoff": 15
           },
           "zerolinecolor": "white",
           "zerolinewidth": 2
          },
          "yaxis": {
           "automargin": true,
           "gridcolor": "white",
           "linecolor": "white",
           "ticks": "",
           "title": {
            "standoff": 15
           },
           "zerolinecolor": "white",
           "zerolinewidth": 2
          }
         }
        },
        "title": {
         "text": "Age Distribution in Italy"
        }
       }
      }
     },
     "metadata": {},
     "output_type": "display_data"
    }
   ],
   "source": [
    "# Aggregate population by age group for one country (checks which country you want via input)\n",
    "country_name = input(\"Provide country:\") # make sure to use exact spelling ('United States of America', 'Germany', 'Italy', 'Spain')\n",
    "age_groups = ['population_age_00_09', 'population_age_10_19', 'population_age_20_29', \n",
    "              'population_age_30_39', 'population_age_40_49', 'population_age_50_59', \n",
    "              'population_age_60_69', 'population_age_70_79', 'population_age_80_and_older']\n",
    "age_distribution = df[df['country_name'] == country_name][age_groups].sum().reset_index()\n",
    "age_distribution.columns = ['Age Group', 'Population']\n",
    "\n",
    "# Plot the pie chart\n",
    "fig_pie = px.pie(\n",
    "    age_distribution,\n",
    "    names='Age Group',\n",
    "    values='Population',\n",
    "    title=f\"Age Distribution in {country_name}\",\n",
    ")\n",
    "fig_pie.update_traces(textposition='inside', textinfo='percent+label')\n",
    "fig_pie.show()"
   ]
  },
  {
   "cell_type": "markdown",
   "metadata": {},
   "source": [
    "### Demographics Summary\n",
    "\n",
    "The demographic analysis provides an overview of the population structure across the countries in the dataset. Key observations are as follows:\n",
    "\n",
    "1. **Population Size**:\n",
    "   - The United States has a significantly larger population compared to the other countries in the dataset, which stands out as the most notable difference in demographics.\n",
    "   - Spain has inaccurate data since the population size does not match with Spain's actual size, so we should be careful to use Spain's data in the further analysis.\n",
    "\n",
    "2. **Gender Distribution**:\n",
    "   - Across all countries, the population is almost evenly split between males and females, showing no significant gender disparities.\n",
    "\n",
    "3. **Age Group Distribution**:\n",
    "   - While there are slight variations in the proportions of certain age groups among countries, the overall age group distributions remain fairly consistent.\n",
    "   - The share of older populations (e.g., ages 70-79 and 80 and older) is comparable, with no drastic outliers.\n",
    "\n",
    "### Insights:\n",
    "- There are no substantial demographic differences between countries apart from the total population size.\n",
    "- The balanced gender distribution and similar age group shares across countries indicate that demographics may not be a primary driver of variance in other COVID-related metrics, such as confirmed cases or mortality rates. However, subtle variations in older populations could warrant further exploration in relation to mortality rates. \n",
    "\n",
    "This analysis sets the stage for exploring other dimensions, such as health and epidemiological data, to uncover meaningful differences and trends.\n"
   ]
  },
  {
   "cell_type": "markdown",
   "metadata": {},
   "source": [
    "## **(3) First visualizations of COVID-19 specific data**"
   ]
  },
  {
   "cell_type": "markdown",
   "metadata": {},
   "source": [
    "### Section 3a: Data Trends and Mortality Insights\n",
    "\n",
    "This section explores key patterns and relationships in the data using visualizations. The analysis focuses on weekly confirmed cases, mortality trends over time, and the relationship between confirmed cases and mortality rates. It highlights significant differences across countries while noting data limitations, particularly for Italy, which lacks mortality-related information."
   ]
  },
  {
   "cell_type": "code",
   "execution_count": 17,
   "metadata": {},
   "outputs": [
    {
     "data": {
      "application/vnd.plotly.v1+json": {
       "config": {
        "plotlyServerURL": "https://plot.ly"
       },
       "data": [
        {
         "hovertemplate": "country_name=Germany<br>Week Start=%{x}<br>New Confirmed Cases=%{y}<extra></extra>",
         "legendgroup": "Germany",
         "line": {
          "color": "#636efa",
          "dash": "solid"
         },
         "marker": {
          "symbol": "circle"
         },
         "mode": "lines",
         "name": "Germany",
         "orientation": "v",
         "showlegend": true,
         "type": "scatter",
         "x": [
          "2020-01-02T00:00:00",
          "2020-01-09T00:00:00",
          "2020-01-16T00:00:00",
          "2020-01-23T00:00:00",
          "2020-01-30T00:00:00",
          "2020-02-06T00:00:00",
          "2020-02-13T00:00:00",
          "2020-02-20T00:00:00",
          "2020-02-27T00:00:00",
          "2020-03-05T00:00:00",
          "2020-03-12T00:00:00",
          "2020-03-19T00:00:00",
          "2020-03-26T00:00:00",
          "2020-04-02T00:00:00",
          "2020-04-09T00:00:00",
          "2020-04-16T00:00:00",
          "2020-04-23T00:00:00",
          "2020-04-30T00:00:00",
          "2020-05-07T00:00:00",
          "2020-05-14T00:00:00",
          "2020-05-21T00:00:00",
          "2020-05-28T00:00:00",
          "2020-06-04T00:00:00",
          "2020-06-11T00:00:00",
          "2020-06-18T00:00:00",
          "2020-06-25T00:00:00",
          "2020-07-02T00:00:00",
          "2020-07-09T00:00:00",
          "2020-07-16T00:00:00",
          "2020-07-23T00:00:00",
          "2020-07-30T00:00:00",
          "2020-08-06T00:00:00",
          "2020-08-13T00:00:00",
          "2020-08-20T00:00:00",
          "2020-08-27T00:00:00",
          "2020-09-03T00:00:00",
          "2020-09-10T00:00:00",
          "2020-09-17T00:00:00",
          "2020-09-24T00:00:00",
          "2020-10-01T00:00:00",
          "2020-10-08T00:00:00",
          "2020-10-15T00:00:00",
          "2020-10-22T00:00:00",
          "2020-10-29T00:00:00",
          "2020-11-05T00:00:00",
          "2020-11-12T00:00:00",
          "2020-11-19T00:00:00",
          "2020-11-26T00:00:00",
          "2020-12-03T00:00:00",
          "2020-12-10T00:00:00",
          "2020-12-17T00:00:00",
          "2020-12-24T00:00:00",
          "2020-12-31T00:00:00",
          "2021-01-07T00:00:00",
          "2021-01-14T00:00:00",
          "2021-01-21T00:00:00",
          "2021-01-28T00:00:00",
          "2021-02-04T00:00:00",
          "2021-02-11T00:00:00",
          "2021-02-18T00:00:00",
          "2021-02-25T00:00:00",
          "2021-03-04T00:00:00",
          "2021-03-11T00:00:00",
          "2021-03-18T00:00:00",
          "2021-03-25T00:00:00",
          "2021-04-01T00:00:00",
          "2021-04-08T00:00:00",
          "2021-04-15T00:00:00",
          "2021-04-22T00:00:00",
          "2021-04-29T00:00:00",
          "2021-05-06T00:00:00",
          "2021-05-13T00:00:00",
          "2021-05-20T00:00:00",
          "2021-05-27T00:00:00",
          "2021-06-03T00:00:00",
          "2021-06-10T00:00:00",
          "2021-06-17T00:00:00",
          "2021-06-24T00:00:00",
          "2021-07-01T00:00:00",
          "2021-07-08T00:00:00",
          "2021-07-15T00:00:00",
          "2021-07-22T00:00:00",
          "2021-07-29T00:00:00",
          "2021-08-05T00:00:00",
          "2021-08-12T00:00:00",
          "2021-08-19T00:00:00",
          "2021-08-26T00:00:00",
          "2021-09-02T00:00:00",
          "2021-09-09T00:00:00",
          "2021-09-16T00:00:00",
          "2021-09-23T00:00:00",
          "2021-09-30T00:00:00",
          "2021-10-07T00:00:00",
          "2021-10-14T00:00:00",
          "2021-10-21T00:00:00",
          "2021-10-28T00:00:00",
          "2021-11-04T00:00:00",
          "2021-11-11T00:00:00",
          "2021-11-18T00:00:00",
          "2021-11-25T00:00:00",
          "2021-12-02T00:00:00",
          "2021-12-09T00:00:00",
          "2021-12-16T00:00:00",
          "2021-12-23T00:00:00",
          "2021-12-30T00:00:00",
          "2022-01-06T00:00:00",
          "2022-01-13T00:00:00",
          "2022-01-20T00:00:00",
          "2022-01-27T00:00:00",
          "2022-02-03T00:00:00",
          "2022-02-10T00:00:00"
         ],
         "xaxis": "x",
         "y": [
          1,
          1,
          1,
          5,
          13,
          6,
          2,
          13,
          411,
          2312,
          13395,
          28015,
          36112,
          33735,
          20391,
          16323,
          9979,
          6460,
          5641,
          4411,
          3177,
          2465,
          2653,
          2743,
          4041,
          3021,
          2500,
          2588,
          3376,
          4449,
          5498,
          7043,
          8953,
          9292,
          8218,
          9230,
          10910,
          12286,
          14112,
          19686,
          32440,
          53596,
          93738,
          119586,
          128231,
          128241,
          126186,
          122329,
          139544,
          166768,
          180586,
          130049,
          118419,
          135944,
          105851,
          86512,
          71673,
          56556,
          50882,
          54645,
          57412,
          61761,
          81993,
          102593,
          120670,
          97013,
          143379,
          144272,
          137611,
          113273,
          90638,
          59061,
          36430,
          29308,
          16760,
          10014,
          5767,
          4549,
          4664,
          7192,
          10970,
          14178,
          17326,
          25126,
          40127,
          59626,
          70549,
          74612,
          67867,
          56090,
          56289,
          55679,
          59976,
          79687,
          117993,
          143503,
          228267,
          309853,
          387822,
          398583,
          375454,
          303339,
          245531,
          187218,
          263990,
          401306,
          606837,
          966891,
          1191961,
          1319009,
          703744
         ],
         "yaxis": "y"
        },
        {
         "hovertemplate": "country_name=Italy<br>Week Start=%{x}<br>New Confirmed Cases=%{y}<extra></extra>",
         "legendgroup": "Italy",
         "line": {
          "color": "#EF553B",
          "dash": "solid"
         },
         "marker": {
          "symbol": "circle"
         },
         "mode": "lines",
         "name": "Italy",
         "orientation": "v",
         "showlegend": true,
         "type": "scatter",
         "x": [
          "2020-02-20T00:00:00",
          "2020-02-27T00:00:00",
          "2020-03-05T00:00:00",
          "2020-03-12T00:00:00",
          "2020-03-19T00:00:00",
          "2020-03-26T00:00:00",
          "2020-04-02T00:00:00",
          "2020-04-09T00:00:00",
          "2020-04-16T00:00:00",
          "2020-04-23T00:00:00",
          "2020-04-30T00:00:00",
          "2020-05-07T00:00:00",
          "2020-05-14T00:00:00",
          "2020-05-21T00:00:00",
          "2020-05-28T00:00:00",
          "2020-06-04T00:00:00",
          "2020-06-11T00:00:00",
          "2020-06-18T00:00:00",
          "2020-06-25T00:00:00",
          "2020-07-02T00:00:00",
          "2020-07-09T00:00:00",
          "2020-07-16T00:00:00",
          "2020-07-23T00:00:00",
          "2020-07-30T00:00:00",
          "2020-08-06T00:00:00",
          "2020-08-13T00:00:00",
          "2020-08-20T00:00:00",
          "2020-08-27T00:00:00",
          "2020-09-03T00:00:00",
          "2020-09-10T00:00:00",
          "2020-09-17T00:00:00",
          "2020-09-24T00:00:00",
          "2020-10-01T00:00:00",
          "2020-10-08T00:00:00",
          "2020-10-15T00:00:00",
          "2020-10-22T00:00:00",
          "2020-10-29T00:00:00",
          "2020-11-05T00:00:00",
          "2020-11-12T00:00:00",
          "2020-11-19T00:00:00",
          "2020-11-26T00:00:00",
          "2020-12-03T00:00:00",
          "2020-12-10T00:00:00",
          "2020-12-17T00:00:00",
          "2020-12-24T00:00:00",
          "2020-12-31T00:00:00",
          "2021-01-07T00:00:00",
          "2021-01-14T00:00:00",
          "2021-01-21T00:00:00",
          "2021-01-28T00:00:00",
          "2021-02-04T00:00:00",
          "2021-02-11T00:00:00",
          "2021-02-18T00:00:00",
          "2021-02-25T00:00:00",
          "2021-03-04T00:00:00",
          "2021-03-11T00:00:00",
          "2021-03-18T00:00:00",
          "2021-03-25T00:00:00",
          "2021-04-01T00:00:00",
          "2021-04-08T00:00:00",
          "2021-04-15T00:00:00",
          "2021-04-22T00:00:00",
          "2021-04-29T00:00:00",
          "2021-05-06T00:00:00",
          "2021-05-13T00:00:00",
          "2021-05-20T00:00:00",
          "2021-05-27T00:00:00",
          "2021-06-03T00:00:00",
          "2021-06-10T00:00:00",
          "2021-06-17T00:00:00",
          "2021-06-24T00:00:00",
          "2021-07-01T00:00:00",
          "2021-07-08T00:00:00",
          "2021-07-15T00:00:00",
          "2021-07-22T00:00:00",
          "2021-07-29T00:00:00",
          "2021-08-05T00:00:00",
          "2021-08-12T00:00:00",
          "2021-08-19T00:00:00",
          "2021-08-26T00:00:00",
          "2021-09-02T00:00:00",
          "2021-09-09T00:00:00",
          "2021-09-16T00:00:00",
          "2021-09-23T00:00:00",
          "2021-09-30T00:00:00",
          "2021-10-07T00:00:00",
          "2021-10-14T00:00:00",
          "2021-10-21T00:00:00",
          "2021-10-28T00:00:00",
          "2021-11-04T00:00:00",
          "2021-11-11T00:00:00",
          "2021-11-18T00:00:00",
          "2021-11-25T00:00:00",
          "2021-12-02T00:00:00",
          "2021-12-09T00:00:00",
          "2021-12-16T00:00:00",
          "2021-12-23T00:00:00",
          "2021-12-30T00:00:00",
          "2022-01-06T00:00:00",
          "2022-01-13T00:00:00",
          "2022-01-20T00:00:00",
          "2022-01-27T00:00:00",
          "2022-02-03T00:00:00",
          "2022-02-10T00:00:00",
          "2022-02-17T00:00:00",
          "2022-02-24T00:00:00",
          "2022-03-03T00:00:00",
          "2022-03-10T00:00:00",
          "2022-03-17T00:00:00",
          "2022-03-24T00:00:00",
          "2022-03-31T00:00:00",
          "2022-04-07T00:00:00",
          "2022-04-14T00:00:00",
          "2022-04-21T00:00:00",
          "2022-04-28T00:00:00",
          "2022-05-05T00:00:00",
          "2022-05-12T00:00:00",
          "2022-05-19T00:00:00",
          "2022-05-26T00:00:00",
          "2022-06-02T00:00:00",
          "2022-06-09T00:00:00",
          "2022-06-16T00:00:00",
          "2022-06-23T00:00:00",
          "2022-06-30T00:00:00",
          "2022-07-07T00:00:00",
          "2022-07-14T00:00:00",
          "2022-07-21T00:00:00",
          "2022-07-28T00:00:00",
          "2022-08-04T00:00:00",
          "2022-08-11T00:00:00",
          "2022-08-18T00:00:00"
         ],
         "xaxis": "x",
         "y": [
          370,
          2681,
          8883,
          21623,
          35360,
          32669,
          28275,
          24095,
          20880,
          15389,
          10293,
          7437,
          5098,
          3691,
          2621,
          1864,
          2238,
          1974,
          1647,
          1352,
          1285,
          1412,
          1601,
          1884,
          2618,
          3201,
          6312,
          7428,
          8491,
          8483,
          9361,
          10289,
          15859,
          32884,
          65471,
          125204,
          176239,
          210325,
          216433,
          186712,
          144686,
          117121,
          109103,
          96645,
          86331,
          110468,
          107897,
          85295,
          76027,
          70838,
          70914,
          70551,
          83889,
          112529,
          128803,
          143329,
          135414,
          131460,
          106451,
          98133,
          84687,
          79681,
          66564,
          53240,
          36292,
          41442,
          19110,
          12979,
          9509,
          6205,
          4408,
          5013,
          8810,
          19164,
          30070,
          35502,
          38764,
          40530,
          40944,
          39610,
          35044,
          29198,
          25171,
          20153,
          18688,
          15603,
          16459,
          23237,
          26411,
          38414,
          49415,
          63409,
          78288,
          95976,
          116877,
          171269,
          343647,
          809016,
          1071951,
          1109267,
          1049339,
          768963,
          552386,
          374654,
          305166,
          241110,
          266289,
          368892,
          463839,
          459526,
          427362,
          393735,
          354349,
          380223,
          321879,
          256722,
          210421,
          149389,
          115459,
          113403,
          153577,
          335598,
          379160,
          538270,
          1083889,
          541994,
          406633,
          302591,
          207595,
          139347,
          96457
         ],
         "yaxis": "y"
        },
        {
         "hovertemplate": "country_name=Spain<br>Week Start=%{x}<br>New Confirmed Cases=%{y}<extra></extra>",
         "legendgroup": "Spain",
         "line": {
          "color": "#00cc96",
          "dash": "solid"
         },
         "marker": {
          "symbol": "circle"
         },
         "mode": "lines",
         "name": "Spain",
         "orientation": "v",
         "showlegend": true,
         "type": "scatter",
         "x": [
          "2020-01-30T00:00:00",
          "2020-02-20T00:00:00",
          "2020-02-27T00:00:00",
          "2020-03-05T00:00:00",
          "2020-03-12T00:00:00",
          "2020-03-19T00:00:00",
          "2020-03-26T00:00:00",
          "2020-04-02T00:00:00",
          "2020-04-09T00:00:00",
          "2020-04-16T00:00:00",
          "2020-04-23T00:00:00",
          "2020-04-30T00:00:00",
          "2020-05-07T00:00:00",
          "2020-05-14T00:00:00",
          "2020-05-21T00:00:00",
          "2020-05-28T00:00:00",
          "2020-06-04T00:00:00",
          "2020-06-11T00:00:00",
          "2020-06-18T00:00:00",
          "2020-06-25T00:00:00",
          "2020-07-02T00:00:00",
          "2020-07-09T00:00:00",
          "2020-07-16T00:00:00",
          "2020-07-23T00:00:00",
          "2020-07-30T00:00:00",
          "2020-08-06T00:00:00",
          "2020-08-13T00:00:00",
          "2020-08-20T00:00:00",
          "2020-08-27T00:00:00",
          "2020-09-03T00:00:00",
          "2020-09-10T00:00:00",
          "2020-09-17T00:00:00",
          "2020-09-24T00:00:00",
          "2020-10-01T00:00:00",
          "2020-10-08T00:00:00",
          "2020-10-15T00:00:00",
          "2020-10-22T00:00:00",
          "2020-10-29T00:00:00",
          "2020-11-05T00:00:00",
          "2020-11-12T00:00:00",
          "2020-11-19T00:00:00",
          "2020-11-26T00:00:00",
          "2020-12-03T00:00:00",
          "2020-12-10T00:00:00",
          "2020-12-17T00:00:00",
          "2020-12-24T00:00:00",
          "2020-12-31T00:00:00",
          "2021-01-07T00:00:00",
          "2021-01-14T00:00:00",
          "2021-01-21T00:00:00",
          "2021-01-28T00:00:00",
          "2021-02-04T00:00:00",
          "2021-02-11T00:00:00",
          "2021-02-18T00:00:00",
          "2021-02-25T00:00:00",
          "2021-03-04T00:00:00",
          "2021-03-11T00:00:00",
          "2021-03-18T00:00:00",
          "2021-03-25T00:00:00",
          "2021-04-01T00:00:00",
          "2021-04-08T00:00:00",
          "2021-04-15T00:00:00",
          "2021-04-22T00:00:00",
          "2021-04-29T00:00:00",
          "2021-05-06T00:00:00",
          "2021-05-13T00:00:00",
          "2021-05-20T00:00:00",
          "2021-05-27T00:00:00",
          "2021-06-03T00:00:00",
          "2021-06-10T00:00:00",
          "2021-06-17T00:00:00",
          "2021-06-24T00:00:00",
          "2021-07-01T00:00:00",
          "2021-07-08T00:00:00",
          "2021-07-15T00:00:00",
          "2021-07-22T00:00:00",
          "2021-07-29T00:00:00",
          "2021-08-05T00:00:00",
          "2021-08-12T00:00:00",
          "2021-08-19T00:00:00",
          "2021-08-26T00:00:00",
          "2021-09-02T00:00:00",
          "2021-09-09T00:00:00",
          "2021-09-16T00:00:00",
          "2021-09-23T00:00:00",
          "2021-09-30T00:00:00",
          "2021-10-07T00:00:00",
          "2021-10-14T00:00:00",
          "2021-10-21T00:00:00",
          "2021-10-28T00:00:00",
          "2021-11-04T00:00:00",
          "2021-11-11T00:00:00",
          "2021-11-18T00:00:00",
          "2021-11-25T00:00:00",
          "2021-12-02T00:00:00",
          "2021-12-09T00:00:00",
          "2021-12-16T00:00:00",
          "2021-12-23T00:00:00",
          "2021-12-30T00:00:00",
          "2022-01-06T00:00:00",
          "2022-01-13T00:00:00",
          "2022-01-20T00:00:00",
          "2022-01-27T00:00:00",
          "2022-02-03T00:00:00",
          "2022-02-10T00:00:00",
          "2022-02-17T00:00:00",
          "2022-02-24T00:00:00",
          "2022-03-03T00:00:00",
          "2022-03-10T00:00:00",
          "2022-03-17T00:00:00",
          "2022-03-24T00:00:00",
          "2022-03-31T00:00:00",
          "2022-04-07T00:00:00",
          "2022-04-14T00:00:00",
          "2022-04-21T00:00:00",
          "2022-04-28T00:00:00",
          "2022-05-05T00:00:00",
          "2022-05-12T00:00:00",
          "2022-05-19T00:00:00",
          "2022-05-26T00:00:00",
          "2022-06-02T00:00:00",
          "2022-06-09T00:00:00",
          "2022-06-16T00:00:00",
          "2022-06-23T00:00:00",
          "2022-06-30T00:00:00",
          "2022-07-07T00:00:00",
          "2022-07-14T00:00:00",
          "2022-07-21T00:00:00"
         ],
         "xaxis": "x",
         "y": [
          2,
          2,
          73,
          1973,
          13999,
          27313,
          26786,
          23494,
          17106,
          17317,
          10543,
          6890,
          5025,
          4451,
          5619,
          5442,
          3887,
          3673,
          3258,
          4037,
          5263,
          9180,
          12564,
          12493,
          12946,
          15940,
          22661,
          29703,
          32135,
          34464,
          37219,
          43470,
          41023,
          38152,
          39886,
          52803,
          59558,
          51037,
          39323,
          30066,
          22568,
          21638,
          20584,
          29396,
          36213,
          35231,
          42777,
          66830,
          65800,
          67762,
          57060,
          42861,
          32253,
          26973,
          22352,
          20897,
          21516,
          22660,
          26361,
          23931,
          32133,
          30804,
          29470,
          25405,
          19042,
          15463,
          14116,
          12162,
          10821,
          10335,
          12400,
          32023,
          63241,
          90657,
          88714,
          76703,
          59956,
          42184,
          30272,
          22366,
          16600,
          12420,
          9243,
          7164,
          6497,
          5312,
          4469,
          5055,
          5956,
          6259,
          6963,
          16827,
          20451,
          27774,
          32705,
          67437,
          146927,
          300446,
          333772,
          384607,
          394907,
          320505,
          187155,
          118123,
          62131,
          50828,
          41740,
          39277,
          35195,
          31111,
          20645,
          10576,
          12412,
          11500,
          14419,
          18286,
          19929,
          19021,
          15422,
          14879,
          15559,
          19128,
          27256,
          29954,
          26483,
          17490,
          10343,
          4009
         ],
         "yaxis": "y"
        },
        {
         "hovertemplate": "country_name=United States of America<br>Week Start=%{x}<br>New Confirmed Cases=%{y}<extra></extra>",
         "legendgroup": "United States of America",
         "line": {
          "color": "#ab63fa",
          "dash": "solid"
         },
         "marker": {
          "symbol": "circle"
         },
         "mode": "lines",
         "name": "United States of America",
         "orientation": "v",
         "showlegend": true,
         "type": "scatter",
         "x": [
          "2020-01-16T00:00:00",
          "2020-01-23T00:00:00",
          "2020-01-30T00:00:00",
          "2020-02-06T00:00:00",
          "2020-02-13T00:00:00",
          "2020-02-20T00:00:00",
          "2020-02-27T00:00:00",
          "2020-03-05T00:00:00",
          "2020-03-12T00:00:00",
          "2020-03-19T00:00:00",
          "2020-03-26T00:00:00",
          "2020-04-02T00:00:00",
          "2020-04-09T00:00:00",
          "2020-04-16T00:00:00",
          "2020-04-23T00:00:00",
          "2020-04-30T00:00:00",
          "2020-05-07T00:00:00",
          "2020-05-14T00:00:00",
          "2020-05-21T00:00:00",
          "2020-05-28T00:00:00",
          "2020-06-04T00:00:00",
          "2020-06-11T00:00:00",
          "2020-06-18T00:00:00",
          "2020-06-25T00:00:00",
          "2020-07-02T00:00:00",
          "2020-07-09T00:00:00",
          "2020-07-16T00:00:00",
          "2020-07-23T00:00:00",
          "2020-07-30T00:00:00",
          "2020-08-06T00:00:00",
          "2020-08-13T00:00:00",
          "2020-08-20T00:00:00",
          "2020-08-27T00:00:00",
          "2020-09-03T00:00:00",
          "2020-09-10T00:00:00",
          "2020-09-17T00:00:00",
          "2020-09-24T00:00:00",
          "2020-10-01T00:00:00",
          "2020-10-08T00:00:00",
          "2020-10-15T00:00:00",
          "2020-10-22T00:00:00",
          "2020-10-29T00:00:00",
          "2020-11-05T00:00:00",
          "2020-11-12T00:00:00",
          "2020-11-19T00:00:00",
          "2020-11-26T00:00:00",
          "2020-12-03T00:00:00",
          "2020-12-10T00:00:00",
          "2020-12-17T00:00:00",
          "2020-12-24T00:00:00",
          "2020-12-31T00:00:00",
          "2021-01-07T00:00:00",
          "2021-01-14T00:00:00",
          "2021-01-21T00:00:00",
          "2021-01-28T00:00:00",
          "2021-02-04T00:00:00",
          "2021-02-11T00:00:00",
          "2021-02-18T00:00:00",
          "2021-02-25T00:00:00",
          "2021-03-04T00:00:00",
          "2021-03-11T00:00:00",
          "2021-03-18T00:00:00",
          "2021-03-25T00:00:00",
          "2021-04-01T00:00:00",
          "2021-04-08T00:00:00",
          "2021-04-15T00:00:00",
          "2021-04-22T00:00:00",
          "2021-04-29T00:00:00",
          "2021-05-06T00:00:00",
          "2021-05-13T00:00:00",
          "2021-05-20T00:00:00",
          "2021-05-27T00:00:00",
          "2021-06-03T00:00:00",
          "2021-06-10T00:00:00",
          "2021-06-17T00:00:00",
          "2021-06-24T00:00:00",
          "2021-07-01T00:00:00",
          "2021-07-08T00:00:00",
          "2021-07-15T00:00:00",
          "2021-07-22T00:00:00",
          "2021-07-29T00:00:00",
          "2021-08-05T00:00:00",
          "2021-08-12T00:00:00",
          "2021-08-19T00:00:00",
          "2021-08-26T00:00:00",
          "2021-09-02T00:00:00",
          "2021-09-09T00:00:00",
          "2021-09-16T00:00:00",
          "2021-09-23T00:00:00",
          "2021-09-30T00:00:00",
          "2021-10-07T00:00:00",
          "2021-10-14T00:00:00",
          "2021-10-21T00:00:00",
          "2021-10-28T00:00:00",
          "2021-11-04T00:00:00",
          "2021-11-11T00:00:00",
          "2021-11-18T00:00:00",
          "2021-11-25T00:00:00",
          "2021-12-02T00:00:00",
          "2021-12-09T00:00:00",
          "2021-12-16T00:00:00",
          "2021-12-23T00:00:00",
          "2021-12-30T00:00:00",
          "2022-01-06T00:00:00",
          "2022-01-13T00:00:00",
          "2022-01-20T00:00:00",
          "2022-01-27T00:00:00",
          "2022-02-03T00:00:00",
          "2022-02-10T00:00:00",
          "2022-02-17T00:00:00",
          "2022-02-24T00:00:00",
          "2022-03-03T00:00:00",
          "2022-03-10T00:00:00",
          "2022-03-17T00:00:00",
          "2022-03-24T00:00:00",
          "2022-03-31T00:00:00",
          "2022-04-07T00:00:00",
          "2022-04-14T00:00:00",
          "2022-04-21T00:00:00",
          "2022-04-28T00:00:00",
          "2022-05-05T00:00:00",
          "2022-05-12T00:00:00",
          "2022-05-19T00:00:00",
          "2022-05-26T00:00:00",
          "2022-06-02T00:00:00",
          "2022-06-09T00:00:00",
          "2022-06-16T00:00:00",
          "2022-06-23T00:00:00",
          "2022-06-30T00:00:00",
          "2022-07-07T00:00:00",
          "2022-07-14T00:00:00",
          "2022-07-21T00:00:00",
          "2022-07-28T00:00:00",
          "2022-08-04T00:00:00",
          "2022-08-11T00:00:00",
          "2022-08-18T00:00:00"
         ],
         "xaxis": "x",
         "y": [
          0,
          0,
          7,
          2,
          8,
          32,
          90,
          1553,
          25958,
          92358,
          187521,
          257250,
          229109,
          219448,
          217309,
          197973,
          174795,
          167007,
          157038,
          157253,
          153708,
          166240,
          228998,
          313923,
          378779,
          454011,
          477462,
          458970,
          407749,
          386840,
          338044,
          300598,
          295499,
          266015,
          278451,
          313106,
          310246,
          351209,
          381413,
          430484,
          537450,
          653927,
          922751,
          1151220,
          1253801,
          1167905,
          1492899,
          1583957,
          1503802,
          1290894,
          1665348,
          1749361,
          1403605,
          1166826,
          970195,
          756005,
          564620,
          490793,
          469356,
          450221,
          401828,
          418325,
          467264,
          471524,
          508166,
          455957,
          383022,
          331221,
          261094,
          213378,
          166386,
          116906,
          102188,
          95927,
          84344,
          97305,
          108948,
          180497,
          285819,
          455862,
          670133,
          871038,
          984946,
          1063779,
          1183012,
          1070014,
          1087979,
          945670,
          810427,
          719148,
          631159,
          539499,
          508296,
          507551,
          543932,
          634150,
          672225,
          613947,
          844636,
          888795,
          1327094,
          2396134,
          4272395,
          5462177,
          5430290,
          4285639,
          2711622,
          1525748,
          974327,
          570027,
          427106,
          266688,
          248927,
          209048,
          230597,
          206688,
          271365,
          278889,
          399894,
          455027,
          633915,
          288885,
          157508,
          154419,
          152857,
          155786,
          143476,
          170099,
          180887,
          187430,
          200282,
          181174,
          168553,
          140633,
          116631,
          47168
         ],
         "yaxis": "y"
        }
       ],
       "layout": {
        "legend": {
         "title": {
          "text": "country_name"
         },
         "tracegroupgap": 0
        },
        "template": {
         "data": {
          "bar": [
           {
            "error_x": {
             "color": "#2a3f5f"
            },
            "error_y": {
             "color": "#2a3f5f"
            },
            "marker": {
             "line": {
              "color": "#E5ECF6",
              "width": 0.5
             },
             "pattern": {
              "fillmode": "overlay",
              "size": 10,
              "solidity": 0.2
             }
            },
            "type": "bar"
           }
          ],
          "barpolar": [
           {
            "marker": {
             "line": {
              "color": "#E5ECF6",
              "width": 0.5
             },
             "pattern": {
              "fillmode": "overlay",
              "size": 10,
              "solidity": 0.2
             }
            },
            "type": "barpolar"
           }
          ],
          "carpet": [
           {
            "aaxis": {
             "endlinecolor": "#2a3f5f",
             "gridcolor": "white",
             "linecolor": "white",
             "minorgridcolor": "white",
             "startlinecolor": "#2a3f5f"
            },
            "baxis": {
             "endlinecolor": "#2a3f5f",
             "gridcolor": "white",
             "linecolor": "white",
             "minorgridcolor": "white",
             "startlinecolor": "#2a3f5f"
            },
            "type": "carpet"
           }
          ],
          "choropleth": [
           {
            "colorbar": {
             "outlinewidth": 0,
             "ticks": ""
            },
            "type": "choropleth"
           }
          ],
          "contour": [
           {
            "colorbar": {
             "outlinewidth": 0,
             "ticks": ""
            },
            "colorscale": [
             [
              0,
              "#0d0887"
             ],
             [
              0.1111111111111111,
              "#46039f"
             ],
             [
              0.2222222222222222,
              "#7201a8"
             ],
             [
              0.3333333333333333,
              "#9c179e"
             ],
             [
              0.4444444444444444,
              "#bd3786"
             ],
             [
              0.5555555555555556,
              "#d8576b"
             ],
             [
              0.6666666666666666,
              "#ed7953"
             ],
             [
              0.7777777777777778,
              "#fb9f3a"
             ],
             [
              0.8888888888888888,
              "#fdca26"
             ],
             [
              1,
              "#f0f921"
             ]
            ],
            "type": "contour"
           }
          ],
          "contourcarpet": [
           {
            "colorbar": {
             "outlinewidth": 0,
             "ticks": ""
            },
            "type": "contourcarpet"
           }
          ],
          "heatmap": [
           {
            "colorbar": {
             "outlinewidth": 0,
             "ticks": ""
            },
            "colorscale": [
             [
              0,
              "#0d0887"
             ],
             [
              0.1111111111111111,
              "#46039f"
             ],
             [
              0.2222222222222222,
              "#7201a8"
             ],
             [
              0.3333333333333333,
              "#9c179e"
             ],
             [
              0.4444444444444444,
              "#bd3786"
             ],
             [
              0.5555555555555556,
              "#d8576b"
             ],
             [
              0.6666666666666666,
              "#ed7953"
             ],
             [
              0.7777777777777778,
              "#fb9f3a"
             ],
             [
              0.8888888888888888,
              "#fdca26"
             ],
             [
              1,
              "#f0f921"
             ]
            ],
            "type": "heatmap"
           }
          ],
          "heatmapgl": [
           {
            "colorbar": {
             "outlinewidth": 0,
             "ticks": ""
            },
            "colorscale": [
             [
              0,
              "#0d0887"
             ],
             [
              0.1111111111111111,
              "#46039f"
             ],
             [
              0.2222222222222222,
              "#7201a8"
             ],
             [
              0.3333333333333333,
              "#9c179e"
             ],
             [
              0.4444444444444444,
              "#bd3786"
             ],
             [
              0.5555555555555556,
              "#d8576b"
             ],
             [
              0.6666666666666666,
              "#ed7953"
             ],
             [
              0.7777777777777778,
              "#fb9f3a"
             ],
             [
              0.8888888888888888,
              "#fdca26"
             ],
             [
              1,
              "#f0f921"
             ]
            ],
            "type": "heatmapgl"
           }
          ],
          "histogram": [
           {
            "marker": {
             "pattern": {
              "fillmode": "overlay",
              "size": 10,
              "solidity": 0.2
             }
            },
            "type": "histogram"
           }
          ],
          "histogram2d": [
           {
            "colorbar": {
             "outlinewidth": 0,
             "ticks": ""
            },
            "colorscale": [
             [
              0,
              "#0d0887"
             ],
             [
              0.1111111111111111,
              "#46039f"
             ],
             [
              0.2222222222222222,
              "#7201a8"
             ],
             [
              0.3333333333333333,
              "#9c179e"
             ],
             [
              0.4444444444444444,
              "#bd3786"
             ],
             [
              0.5555555555555556,
              "#d8576b"
             ],
             [
              0.6666666666666666,
              "#ed7953"
             ],
             [
              0.7777777777777778,
              "#fb9f3a"
             ],
             [
              0.8888888888888888,
              "#fdca26"
             ],
             [
              1,
              "#f0f921"
             ]
            ],
            "type": "histogram2d"
           }
          ],
          "histogram2dcontour": [
           {
            "colorbar": {
             "outlinewidth": 0,
             "ticks": ""
            },
            "colorscale": [
             [
              0,
              "#0d0887"
             ],
             [
              0.1111111111111111,
              "#46039f"
             ],
             [
              0.2222222222222222,
              "#7201a8"
             ],
             [
              0.3333333333333333,
              "#9c179e"
             ],
             [
              0.4444444444444444,
              "#bd3786"
             ],
             [
              0.5555555555555556,
              "#d8576b"
             ],
             [
              0.6666666666666666,
              "#ed7953"
             ],
             [
              0.7777777777777778,
              "#fb9f3a"
             ],
             [
              0.8888888888888888,
              "#fdca26"
             ],
             [
              1,
              "#f0f921"
             ]
            ],
            "type": "histogram2dcontour"
           }
          ],
          "mesh3d": [
           {
            "colorbar": {
             "outlinewidth": 0,
             "ticks": ""
            },
            "type": "mesh3d"
           }
          ],
          "parcoords": [
           {
            "line": {
             "colorbar": {
              "outlinewidth": 0,
              "ticks": ""
             }
            },
            "type": "parcoords"
           }
          ],
          "pie": [
           {
            "automargin": true,
            "type": "pie"
           }
          ],
          "scatter": [
           {
            "fillpattern": {
             "fillmode": "overlay",
             "size": 10,
             "solidity": 0.2
            },
            "type": "scatter"
           }
          ],
          "scatter3d": [
           {
            "line": {
             "colorbar": {
              "outlinewidth": 0,
              "ticks": ""
             }
            },
            "marker": {
             "colorbar": {
              "outlinewidth": 0,
              "ticks": ""
             }
            },
            "type": "scatter3d"
           }
          ],
          "scattercarpet": [
           {
            "marker": {
             "colorbar": {
              "outlinewidth": 0,
              "ticks": ""
             }
            },
            "type": "scattercarpet"
           }
          ],
          "scattergeo": [
           {
            "marker": {
             "colorbar": {
              "outlinewidth": 0,
              "ticks": ""
             }
            },
            "type": "scattergeo"
           }
          ],
          "scattergl": [
           {
            "marker": {
             "colorbar": {
              "outlinewidth": 0,
              "ticks": ""
             }
            },
            "type": "scattergl"
           }
          ],
          "scattermapbox": [
           {
            "marker": {
             "colorbar": {
              "outlinewidth": 0,
              "ticks": ""
             }
            },
            "type": "scattermapbox"
           }
          ],
          "scatterpolar": [
           {
            "marker": {
             "colorbar": {
              "outlinewidth": 0,
              "ticks": ""
             }
            },
            "type": "scatterpolar"
           }
          ],
          "scatterpolargl": [
           {
            "marker": {
             "colorbar": {
              "outlinewidth": 0,
              "ticks": ""
             }
            },
            "type": "scatterpolargl"
           }
          ],
          "scatterternary": [
           {
            "marker": {
             "colorbar": {
              "outlinewidth": 0,
              "ticks": ""
             }
            },
            "type": "scatterternary"
           }
          ],
          "surface": [
           {
            "colorbar": {
             "outlinewidth": 0,
             "ticks": ""
            },
            "colorscale": [
             [
              0,
              "#0d0887"
             ],
             [
              0.1111111111111111,
              "#46039f"
             ],
             [
              0.2222222222222222,
              "#7201a8"
             ],
             [
              0.3333333333333333,
              "#9c179e"
             ],
             [
              0.4444444444444444,
              "#bd3786"
             ],
             [
              0.5555555555555556,
              "#d8576b"
             ],
             [
              0.6666666666666666,
              "#ed7953"
             ],
             [
              0.7777777777777778,
              "#fb9f3a"
             ],
             [
              0.8888888888888888,
              "#fdca26"
             ],
             [
              1,
              "#f0f921"
             ]
            ],
            "type": "surface"
           }
          ],
          "table": [
           {
            "cells": {
             "fill": {
              "color": "#EBF0F8"
             },
             "line": {
              "color": "white"
             }
            },
            "header": {
             "fill": {
              "color": "#C8D4E3"
             },
             "line": {
              "color": "white"
             }
            },
            "type": "table"
           }
          ]
         },
         "layout": {
          "annotationdefaults": {
           "arrowcolor": "#2a3f5f",
           "arrowhead": 0,
           "arrowwidth": 1
          },
          "autotypenumbers": "strict",
          "coloraxis": {
           "colorbar": {
            "outlinewidth": 0,
            "ticks": ""
           }
          },
          "colorscale": {
           "diverging": [
            [
             0,
             "#8e0152"
            ],
            [
             0.1,
             "#c51b7d"
            ],
            [
             0.2,
             "#de77ae"
            ],
            [
             0.3,
             "#f1b6da"
            ],
            [
             0.4,
             "#fde0ef"
            ],
            [
             0.5,
             "#f7f7f7"
            ],
            [
             0.6,
             "#e6f5d0"
            ],
            [
             0.7,
             "#b8e186"
            ],
            [
             0.8,
             "#7fbc41"
            ],
            [
             0.9,
             "#4d9221"
            ],
            [
             1,
             "#276419"
            ]
           ],
           "sequential": [
            [
             0,
             "#0d0887"
            ],
            [
             0.1111111111111111,
             "#46039f"
            ],
            [
             0.2222222222222222,
             "#7201a8"
            ],
            [
             0.3333333333333333,
             "#9c179e"
            ],
            [
             0.4444444444444444,
             "#bd3786"
            ],
            [
             0.5555555555555556,
             "#d8576b"
            ],
            [
             0.6666666666666666,
             "#ed7953"
            ],
            [
             0.7777777777777778,
             "#fb9f3a"
            ],
            [
             0.8888888888888888,
             "#fdca26"
            ],
            [
             1,
             "#f0f921"
            ]
           ],
           "sequentialminus": [
            [
             0,
             "#0d0887"
            ],
            [
             0.1111111111111111,
             "#46039f"
            ],
            [
             0.2222222222222222,
             "#7201a8"
            ],
            [
             0.3333333333333333,
             "#9c179e"
            ],
            [
             0.4444444444444444,
             "#bd3786"
            ],
            [
             0.5555555555555556,
             "#d8576b"
            ],
            [
             0.6666666666666666,
             "#ed7953"
            ],
            [
             0.7777777777777778,
             "#fb9f3a"
            ],
            [
             0.8888888888888888,
             "#fdca26"
            ],
            [
             1,
             "#f0f921"
            ]
           ]
          },
          "colorway": [
           "#636efa",
           "#EF553B",
           "#00cc96",
           "#ab63fa",
           "#FFA15A",
           "#19d3f3",
           "#FF6692",
           "#B6E880",
           "#FF97FF",
           "#FECB52"
          ],
          "font": {
           "color": "#2a3f5f"
          },
          "geo": {
           "bgcolor": "white",
           "lakecolor": "white",
           "landcolor": "#E5ECF6",
           "showlakes": true,
           "showland": true,
           "subunitcolor": "white"
          },
          "hoverlabel": {
           "align": "left"
          },
          "hovermode": "closest",
          "mapbox": {
           "style": "light"
          },
          "paper_bgcolor": "white",
          "plot_bgcolor": "#E5ECF6",
          "polar": {
           "angularaxis": {
            "gridcolor": "white",
            "linecolor": "white",
            "ticks": ""
           },
           "bgcolor": "#E5ECF6",
           "radialaxis": {
            "gridcolor": "white",
            "linecolor": "white",
            "ticks": ""
           }
          },
          "scene": {
           "xaxis": {
            "backgroundcolor": "#E5ECF6",
            "gridcolor": "white",
            "gridwidth": 2,
            "linecolor": "white",
            "showbackground": true,
            "ticks": "",
            "zerolinecolor": "white"
           },
           "yaxis": {
            "backgroundcolor": "#E5ECF6",
            "gridcolor": "white",
            "gridwidth": 2,
            "linecolor": "white",
            "showbackground": true,
            "ticks": "",
            "zerolinecolor": "white"
           },
           "zaxis": {
            "backgroundcolor": "#E5ECF6",
            "gridcolor": "white",
            "gridwidth": 2,
            "linecolor": "white",
            "showbackground": true,
            "ticks": "",
            "zerolinecolor": "white"
           }
          },
          "shapedefaults": {
           "line": {
            "color": "#2a3f5f"
           }
          },
          "ternary": {
           "aaxis": {
            "gridcolor": "white",
            "linecolor": "white",
            "ticks": ""
           },
           "baxis": {
            "gridcolor": "white",
            "linecolor": "white",
            "ticks": ""
           },
           "bgcolor": "#E5ECF6",
           "caxis": {
            "gridcolor": "white",
            "linecolor": "white",
            "ticks": ""
           }
          },
          "title": {
           "x": 0.05
          },
          "xaxis": {
           "automargin": true,
           "gridcolor": "white",
           "linecolor": "white",
           "ticks": "",
           "title": {
            "standoff": 15
           },
           "zerolinecolor": "white",
           "zerolinewidth": 2
          },
          "yaxis": {
           "automargin": true,
           "gridcolor": "white",
           "linecolor": "white",
           "ticks": "",
           "title": {
            "standoff": 15
           },
           "zerolinecolor": "white",
           "zerolinewidth": 2
          }
         }
        },
        "title": {
         "text": "Weekly Trends of New Confirmed Cases by Country"
        },
        "xaxis": {
         "anchor": "y",
         "domain": [
          0,
          1
         ],
         "title": {
          "text": "Week Start"
         }
        },
        "yaxis": {
         "anchor": "x",
         "domain": [
          0,
          1
         ],
         "title": {
          "text": "New Confirmed Cases"
         }
        }
       }
      }
     },
     "metadata": {},
     "output_type": "display_data"
    }
   ],
   "source": [
    "# Line chart for weekly trends of new confirmed cases\n",
    "fig1 = px.line(\n",
    "    df,\n",
    "    x='week_start',\n",
    "    y='new_confirmed',\n",
    "    color='country_name',\n",
    "    title=\"Weekly Trends of New Confirmed Cases by Country\",\n",
    "    labels={'week_start': 'Week Start', 'new_confirmed': 'New Confirmed Cases'}\n",
    ")\n",
    "fig1.show()\n",
    "\n"
   ]
  },
  {
   "cell_type": "markdown",
   "metadata": {},
   "source": [
    "#### Weekly Trends of New Confirmed Cases by Country\n",
    "- **Insight**: The United States displays the highest number of weekly confirmed cases over the observed period, with sharp spikes, particularly in early 2022. Germany, Spain, and Italy exhibit much lower trends, with Italy having the least data points due to incomplete records.The Spain comparison here makes limited sense as the population size is not reflected correctly, additionally, Germany stops in Q1 2022, indicating a lack of tracking afterwards. \n",
    "- **Observation**: Nonetheless, the consistent wave pattern is evident for most countries, which aligns with periodic surges during various COVID-19 waves. "
   ]
  },
  {
   "cell_type": "code",
   "execution_count": 18,
   "metadata": {},
   "outputs": [
    {
     "data": {
      "application/vnd.plotly.v1+json": {
       "config": {
        "plotlyServerURL": "https://plot.ly"
       },
       "data": [
        {
         "hovertemplate": "country_name=Germany<br>Week Start=%{x}<br>Mortality Rate (%)=%{y}<extra></extra>",
         "legendgroup": "Germany",
         "line": {
          "color": "#636efa",
          "dash": "solid"
         },
         "marker": {
          "symbol": "circle"
         },
         "mode": "lines",
         "name": "Germany",
         "orientation": "v",
         "showlegend": true,
         "type": "scatter",
         "x": [
          "2020-01-02T00:00:00",
          "2020-01-09T00:00:00",
          "2020-01-16T00:00:00",
          "2020-01-23T00:00:00",
          "2020-01-30T00:00:00",
          "2020-02-06T00:00:00",
          "2020-02-13T00:00:00",
          "2020-02-20T00:00:00",
          "2020-02-27T00:00:00",
          "2020-03-05T00:00:00",
          "2020-03-12T00:00:00",
          "2020-03-19T00:00:00",
          "2020-03-26T00:00:00",
          "2020-04-02T00:00:00",
          "2020-04-09T00:00:00",
          "2020-04-16T00:00:00",
          "2020-04-23T00:00:00",
          "2020-04-30T00:00:00",
          "2020-05-07T00:00:00",
          "2020-05-14T00:00:00",
          "2020-05-21T00:00:00",
          "2020-05-28T00:00:00",
          "2020-06-04T00:00:00",
          "2020-06-11T00:00:00",
          "2020-06-18T00:00:00",
          "2020-06-25T00:00:00",
          "2020-07-02T00:00:00",
          "2020-07-09T00:00:00",
          "2020-07-16T00:00:00",
          "2020-07-23T00:00:00",
          "2020-07-30T00:00:00",
          "2020-08-06T00:00:00",
          "2020-08-13T00:00:00",
          "2020-08-20T00:00:00",
          "2020-08-27T00:00:00",
          "2020-09-03T00:00:00",
          "2020-09-10T00:00:00",
          "2020-09-17T00:00:00",
          "2020-09-24T00:00:00",
          "2020-10-01T00:00:00",
          "2020-10-08T00:00:00",
          "2020-10-15T00:00:00",
          "2020-10-22T00:00:00",
          "2020-10-29T00:00:00",
          "2020-11-05T00:00:00",
          "2020-11-12T00:00:00",
          "2020-11-19T00:00:00",
          "2020-11-26T00:00:00",
          "2020-12-03T00:00:00",
          "2020-12-10T00:00:00",
          "2020-12-17T00:00:00",
          "2020-12-24T00:00:00",
          "2020-12-31T00:00:00",
          "2021-01-07T00:00:00",
          "2021-01-14T00:00:00",
          "2021-01-21T00:00:00",
          "2021-01-28T00:00:00",
          "2021-02-04T00:00:00",
          "2021-02-11T00:00:00",
          "2021-02-18T00:00:00",
          "2021-02-25T00:00:00",
          "2021-03-04T00:00:00",
          "2021-03-11T00:00:00",
          "2021-03-18T00:00:00",
          "2021-03-25T00:00:00",
          "2021-04-01T00:00:00",
          "2021-04-08T00:00:00",
          "2021-04-15T00:00:00",
          "2021-04-22T00:00:00",
          "2021-04-29T00:00:00",
          "2021-05-06T00:00:00",
          "2021-05-13T00:00:00",
          "2021-05-20T00:00:00",
          "2021-05-27T00:00:00",
          "2021-06-03T00:00:00",
          "2021-06-10T00:00:00",
          "2021-06-17T00:00:00",
          "2021-06-24T00:00:00",
          "2021-07-01T00:00:00",
          "2021-07-08T00:00:00",
          "2021-07-15T00:00:00",
          "2021-07-22T00:00:00",
          "2021-07-29T00:00:00",
          "2021-08-05T00:00:00",
          "2021-08-12T00:00:00",
          "2021-08-19T00:00:00",
          "2021-08-26T00:00:00",
          "2021-09-02T00:00:00",
          "2021-09-09T00:00:00",
          "2021-09-16T00:00:00",
          "2021-09-23T00:00:00",
          "2021-09-30T00:00:00",
          "2021-10-07T00:00:00",
          "2021-10-14T00:00:00",
          "2021-10-21T00:00:00",
          "2021-10-28T00:00:00",
          "2021-11-04T00:00:00",
          "2021-11-11T00:00:00",
          "2021-11-18T00:00:00",
          "2021-11-25T00:00:00",
          "2021-12-02T00:00:00",
          "2021-12-09T00:00:00",
          "2021-12-16T00:00:00",
          "2021-12-23T00:00:00",
          "2021-12-30T00:00:00",
          "2022-01-06T00:00:00",
          "2022-01-13T00:00:00",
          "2022-01-20T00:00:00",
          "2022-01-27T00:00:00",
          "2022-02-03T00:00:00",
          "2022-02-10T00:00:00"
         ],
         "xaxis": "x",
         "y": [
          0,
          0,
          0,
          0,
          0,
          0,
          0,
          7.6923076923076925,
          0.48661800486618007,
          1.3408304498269896,
          1.530421799178798,
          3.0376583972871676,
          5.4580194949047405,
          6.571809693196977,
          7.429748418419892,
          6.267230288549899,
          5.281090289608177,
          4.597523219814241,
          3.8291083141287006,
          3.4459306279755157,
          2.4866225999370473,
          1.947261663286004,
          1.3192612137203166,
          1.4947138169886984,
          0.7176441474882455,
          0.7944389275074478,
          1.28,
          0.8500772797527048,
          1.0071090047393365,
          0.7417397167902899,
          0.6911604219716261,
          0.41175635382649445,
          0.40209985479727467,
          0.2260008609556608,
          0.2311998053054271,
          0.6500541711809318,
          0.6416131989000917,
          0.7325411036952629,
          0.8219954648526077,
          0.8533983541603171,
          1.0110974106041923,
          1.2034480185088439,
          1.4743220465552924,
          1.5168999715685783,
          1.6080354984364154,
          2.288659633034677,
          2.612809661927631,
          3.2208225359481397,
          3.5401020466662847,
          3.74472320828936,
          3.819786694428139,
          4.423717214280771,
          4.226517704084649,
          3.995027364208792,
          4.444927303473751,
          4.19132605881265,
          3.628981624879662,
          3.4337647641275906,
          3.105223851263708,
          2.455851404520084,
          1.9368773078798858,
          1.6839105584430303,
          1.4184137670288928,
          1.3460957375259521,
          1.3632220104417005,
          1.5204147897704432,
          1.1535859505227404,
          1.1242652766995673,
          1.0711353016837317,
          1.0196604663070634,
          0.9278668990930956,
          0.8956841231946632,
          0.9140818007136975,
          0.6994677221236523,
          0.548926014319809,
          0.6490912722188935,
          0.5202011444425177,
          0.5275884809848318,
          0.49313893653516294,
          0.41713014460511677,
          0.29170464904284416,
          0.3667654112004514,
          0.40978875678171534,
          0.45769322614025315,
          0.4510678595459417,
          0.46959380136182205,
          0.5443025414959816,
          0.5910577387015493,
          0.6483268746224233,
          0.5972544125512569,
          0.6857467711275738,
          0.7974281147290719,
          0.8453381352541016,
          0.9600060235672068,
          0.9576839304026511,
          0.997191696340843,
          0.8389298496935605,
          0.7742381064569328,
          0.7397723697985159,
          0.7102661177220303,
          0.6890324780132853,
          0.703833005317483,
          0.6418741421653478,
          0.5368073582668333,
          0.3000113640668207,
          0.1427838108575501,
          0.08997473786206181,
          0.05998607909267952,
          0.047233089002073056,
          0.028582064261881462,
          0.011367770098217532
         ],
         "yaxis": "y"
        },
        {
         "hovertemplate": "country_name=Italy<br>Week Start=%{x}<br>Mortality Rate (%)=%{y}<extra></extra>",
         "legendgroup": "Italy",
         "line": {
          "color": "#EF553B",
          "dash": "solid"
         },
         "marker": {
          "symbol": "circle"
         },
         "mode": "lines",
         "name": "Italy",
         "orientation": "v",
         "showlegend": true,
         "type": "scatter",
         "x": [
          "2020-02-20T00:00:00",
          "2020-02-27T00:00:00",
          "2020-03-05T00:00:00",
          "2020-03-12T00:00:00",
          "2020-03-19T00:00:00",
          "2020-03-26T00:00:00",
          "2020-04-02T00:00:00",
          "2020-04-09T00:00:00",
          "2020-04-16T00:00:00",
          "2020-04-23T00:00:00",
          "2020-04-30T00:00:00",
          "2020-05-07T00:00:00",
          "2020-05-14T00:00:00",
          "2020-05-21T00:00:00",
          "2020-05-28T00:00:00",
          "2020-06-04T00:00:00",
          "2020-06-11T00:00:00",
          "2020-06-18T00:00:00",
          "2020-06-25T00:00:00",
          "2020-07-02T00:00:00",
          "2020-07-09T00:00:00",
          "2020-07-16T00:00:00",
          "2020-07-23T00:00:00",
          "2020-07-30T00:00:00",
          "2020-08-06T00:00:00",
          "2020-08-13T00:00:00",
          "2020-08-20T00:00:00",
          "2020-08-27T00:00:00",
          "2020-09-03T00:00:00",
          "2020-09-10T00:00:00",
          "2020-09-17T00:00:00",
          "2020-09-24T00:00:00",
          "2020-10-01T00:00:00",
          "2020-10-08T00:00:00",
          "2020-10-15T00:00:00",
          "2020-10-22T00:00:00",
          "2020-10-29T00:00:00",
          "2020-11-05T00:00:00",
          "2020-11-12T00:00:00",
          "2020-11-19T00:00:00",
          "2020-11-26T00:00:00",
          "2020-12-03T00:00:00",
          "2020-12-10T00:00:00",
          "2020-12-17T00:00:00",
          "2020-12-24T00:00:00",
          "2020-12-31T00:00:00",
          "2021-01-07T00:00:00",
          "2021-01-14T00:00:00",
          "2021-01-21T00:00:00",
          "2021-01-28T00:00:00",
          "2021-02-04T00:00:00",
          "2021-02-11T00:00:00",
          "2021-02-18T00:00:00",
          "2021-02-25T00:00:00",
          "2021-03-04T00:00:00",
          "2021-03-11T00:00:00",
          "2021-03-18T00:00:00",
          "2021-03-25T00:00:00",
          "2021-04-01T00:00:00",
          "2021-04-08T00:00:00",
          "2021-04-15T00:00:00",
          "2021-04-22T00:00:00",
          "2021-04-29T00:00:00",
          "2021-05-06T00:00:00",
          "2021-05-13T00:00:00",
          "2021-05-20T00:00:00",
          "2021-05-27T00:00:00",
          "2021-06-03T00:00:00",
          "2021-06-10T00:00:00",
          "2021-06-17T00:00:00",
          "2021-06-24T00:00:00",
          "2021-07-01T00:00:00",
          "2021-07-08T00:00:00",
          "2021-07-15T00:00:00",
          "2021-07-22T00:00:00",
          "2021-07-29T00:00:00",
          "2021-08-05T00:00:00",
          "2021-08-12T00:00:00",
          "2021-08-19T00:00:00",
          "2021-08-26T00:00:00",
          "2021-09-02T00:00:00",
          "2021-09-09T00:00:00",
          "2021-09-16T00:00:00",
          "2021-09-23T00:00:00",
          "2021-09-30T00:00:00",
          "2021-10-07T00:00:00",
          "2021-10-14T00:00:00",
          "2021-10-21T00:00:00",
          "2021-10-28T00:00:00",
          "2021-11-04T00:00:00",
          "2021-11-11T00:00:00",
          "2021-11-18T00:00:00",
          "2021-11-25T00:00:00",
          "2021-12-02T00:00:00",
          "2021-12-09T00:00:00",
          "2021-12-16T00:00:00",
          "2021-12-23T00:00:00",
          "2021-12-30T00:00:00",
          "2022-01-06T00:00:00",
          "2022-01-13T00:00:00",
          "2022-01-20T00:00:00",
          "2022-01-27T00:00:00",
          "2022-02-03T00:00:00",
          "2022-02-10T00:00:00",
          "2022-02-17T00:00:00",
          "2022-02-24T00:00:00",
          "2022-03-03T00:00:00",
          "2022-03-10T00:00:00",
          "2022-03-17T00:00:00",
          "2022-03-24T00:00:00",
          "2022-03-31T00:00:00",
          "2022-04-07T00:00:00",
          "2022-04-14T00:00:00",
          "2022-04-21T00:00:00",
          "2022-04-28T00:00:00",
          "2022-05-05T00:00:00",
          "2022-05-12T00:00:00",
          "2022-05-19T00:00:00",
          "2022-05-26T00:00:00",
          "2022-06-02T00:00:00",
          "2022-06-09T00:00:00",
          "2022-06-16T00:00:00",
          "2022-06-23T00:00:00",
          "2022-06-30T00:00:00",
          "2022-07-07T00:00:00",
          "2022-07-14T00:00:00",
          "2022-07-21T00:00:00",
          "2022-07-28T00:00:00",
          "2022-08-04T00:00:00",
          "2022-08-11T00:00:00",
          "2022-08-18T00:00:00"
         ],
         "xaxis": "x",
         "y": [
          0,
          0,
          0,
          0,
          0,
          0,
          0,
          0,
          0,
          0,
          0,
          0,
          0,
          0,
          0,
          0,
          0,
          0,
          0,
          0,
          0,
          0,
          0,
          0,
          0,
          0,
          0,
          0,
          0,
          0,
          0,
          0,
          0,
          0,
          0,
          0,
          0,
          0,
          0,
          0,
          0,
          0,
          0,
          0,
          0,
          0,
          0,
          0,
          0,
          0,
          0,
          0,
          0,
          0,
          0,
          0,
          0,
          0,
          0,
          0,
          0,
          0,
          0,
          0,
          0,
          0,
          0,
          0,
          0,
          0,
          0,
          0,
          0,
          0,
          0,
          0,
          0,
          0,
          0,
          0,
          0,
          0,
          0,
          0,
          0,
          0,
          0,
          0,
          0,
          0,
          0,
          0,
          0,
          0,
          0,
          0,
          0,
          0,
          0,
          0,
          0,
          0,
          0,
          0,
          0,
          0,
          0,
          0,
          0,
          0,
          0,
          0,
          0,
          0,
          0,
          0,
          0,
          0,
          0,
          0,
          0,
          0,
          0,
          0,
          0,
          0,
          0,
          0,
          0,
          0,
          0
         ],
         "yaxis": "y"
        },
        {
         "hovertemplate": "country_name=Spain<br>Week Start=%{x}<br>Mortality Rate (%)=%{y}<extra></extra>",
         "legendgroup": "Spain",
         "line": {
          "color": "#00cc96",
          "dash": "solid"
         },
         "marker": {
          "symbol": "circle"
         },
         "mode": "lines",
         "name": "Spain",
         "orientation": "v",
         "showlegend": true,
         "type": "scatter",
         "x": [
          "2020-01-30T00:00:00",
          "2020-02-20T00:00:00",
          "2020-02-27T00:00:00",
          "2020-03-05T00:00:00",
          "2020-03-12T00:00:00",
          "2020-03-19T00:00:00",
          "2020-03-26T00:00:00",
          "2020-04-02T00:00:00",
          "2020-04-09T00:00:00",
          "2020-04-16T00:00:00",
          "2020-04-23T00:00:00",
          "2020-04-30T00:00:00",
          "2020-05-07T00:00:00",
          "2020-05-14T00:00:00",
          "2020-05-21T00:00:00",
          "2020-05-28T00:00:00",
          "2020-06-04T00:00:00",
          "2020-06-11T00:00:00",
          "2020-06-18T00:00:00",
          "2020-06-25T00:00:00",
          "2020-07-02T00:00:00",
          "2020-07-09T00:00:00",
          "2020-07-16T00:00:00",
          "2020-07-23T00:00:00",
          "2020-07-30T00:00:00",
          "2020-08-06T00:00:00",
          "2020-08-13T00:00:00",
          "2020-08-20T00:00:00",
          "2020-08-27T00:00:00",
          "2020-09-03T00:00:00",
          "2020-09-10T00:00:00",
          "2020-09-17T00:00:00",
          "2020-09-24T00:00:00",
          "2020-10-01T00:00:00",
          "2020-10-08T00:00:00",
          "2020-10-15T00:00:00",
          "2020-10-22T00:00:00",
          "2020-10-29T00:00:00",
          "2020-11-05T00:00:00",
          "2020-11-12T00:00:00",
          "2020-11-19T00:00:00",
          "2020-11-26T00:00:00",
          "2020-12-03T00:00:00",
          "2020-12-10T00:00:00",
          "2020-12-17T00:00:00",
          "2020-12-24T00:00:00",
          "2020-12-31T00:00:00",
          "2021-01-07T00:00:00",
          "2021-01-14T00:00:00",
          "2021-01-21T00:00:00",
          "2021-01-28T00:00:00",
          "2021-02-04T00:00:00",
          "2021-02-11T00:00:00",
          "2021-02-18T00:00:00",
          "2021-02-25T00:00:00",
          "2021-03-04T00:00:00",
          "2021-03-11T00:00:00",
          "2021-03-18T00:00:00",
          "2021-03-25T00:00:00",
          "2021-04-01T00:00:00",
          "2021-04-08T00:00:00",
          "2021-04-15T00:00:00",
          "2021-04-22T00:00:00",
          "2021-04-29T00:00:00",
          "2021-05-06T00:00:00",
          "2021-05-13T00:00:00",
          "2021-05-20T00:00:00",
          "2021-05-27T00:00:00",
          "2021-06-03T00:00:00",
          "2021-06-10T00:00:00",
          "2021-06-17T00:00:00",
          "2021-06-24T00:00:00",
          "2021-07-01T00:00:00",
          "2021-07-08T00:00:00",
          "2021-07-15T00:00:00",
          "2021-07-22T00:00:00",
          "2021-07-29T00:00:00",
          "2021-08-05T00:00:00",
          "2021-08-12T00:00:00",
          "2021-08-19T00:00:00",
          "2021-08-26T00:00:00",
          "2021-09-02T00:00:00",
          "2021-09-09T00:00:00",
          "2021-09-16T00:00:00",
          "2021-09-23T00:00:00",
          "2021-09-30T00:00:00",
          "2021-10-07T00:00:00",
          "2021-10-14T00:00:00",
          "2021-10-21T00:00:00",
          "2021-10-28T00:00:00",
          "2021-11-04T00:00:00",
          "2021-11-11T00:00:00",
          "2021-11-18T00:00:00",
          "2021-11-25T00:00:00",
          "2021-12-02T00:00:00",
          "2021-12-09T00:00:00",
          "2021-12-16T00:00:00",
          "2021-12-23T00:00:00",
          "2021-12-30T00:00:00",
          "2022-01-06T00:00:00",
          "2022-01-13T00:00:00",
          "2022-01-20T00:00:00",
          "2022-01-27T00:00:00",
          "2022-02-03T00:00:00",
          "2022-02-10T00:00:00",
          "2022-02-17T00:00:00",
          "2022-02-24T00:00:00",
          "2022-03-03T00:00:00",
          "2022-03-10T00:00:00",
          "2022-03-17T00:00:00",
          "2022-03-24T00:00:00",
          "2022-03-31T00:00:00",
          "2022-04-07T00:00:00",
          "2022-04-14T00:00:00",
          "2022-04-21T00:00:00",
          "2022-04-28T00:00:00",
          "2022-05-05T00:00:00",
          "2022-05-12T00:00:00",
          "2022-05-19T00:00:00",
          "2022-05-26T00:00:00",
          "2022-06-02T00:00:00",
          "2022-06-09T00:00:00",
          "2022-06-16T00:00:00",
          "2022-06-23T00:00:00",
          "2022-06-30T00:00:00",
          "2022-07-07T00:00:00",
          "2022-07-14T00:00:00",
          "2022-07-21T00:00:00"
         ],
         "xaxis": "x",
         "y": [
          0,
          0,
          0,
          0,
          0.05714693906707623,
          0.18306301028814118,
          0.3509295900843724,
          0.20430748276155614,
          0.16368525663509878,
          0.1732401686204308,
          0.20866925922412974,
          0.29027576197387517,
          0.07960199004975124,
          0.22466861379465286,
          0.10678056593699946,
          0.03675119441381845,
          0.05145356315924878,
          0,
          0,
          0,
          0,
          0,
          0,
          0,
          0,
          0.02509410288582183,
          0.017651471691452272,
          0.040399959600040405,
          0.04978994865411545,
          0.09285051067780872,
          0.09672479110131922,
          0.05981136415919025,
          0.0731297077249348,
          0.04193751310547285,
          0.04011432582861155,
          0.06060261727553358,
          0.03358071123946405,
          0.03918725630424986,
          0.07120514711492001,
          0.07982438635002993,
          0.15065579581708613,
          0.09242998428690267,
          0.08744656043528955,
          0.14968022860253094,
          0.15464059868003202,
          0.12489001163747836,
          0.09818360333824251,
          0.04788268741583122,
          0.0972644376899696,
          0.07673917534901567,
          0.07360672975814932,
          0.07465994727141224,
          0.11161752395126034,
          0.15571126682237793,
          0.12526843235504653,
          0.18184428386849785,
          0.17661275329986986,
          0.1500441306266549,
          0.1289784150828876,
          0.10864568969119552,
          0.09336196433572963,
          0.09738994935722634,
          0.0678656260604004,
          0.047234796299940957,
          0.14704337779644996,
          0.09053870529651425,
          0.04250495891187305,
          0.0328893274132544,
          0.16634322151372333,
          0.05805515239477503,
          0.08064516129032258,
          0.018736533116822284,
          0.009487516010183267,
          0.017648940512039888,
          0.020289920418423247,
          0.033896979257656154,
          0.07005137100540396,
          0.13275175421960933,
          0.18498942917547567,
          0.23249575248144505,
          0.18072289156626506,
          0.2898550724637681,
          0.21637996321540626,
          0.3629257398101619,
          0.18470063106048948,
          0.338855421686747,
          0.13425822331617812,
          0.11869436201780414,
          0.16789791806581597,
          0.031953986259785905,
          0.3734022691368663,
          0.13074225946395673,
          0.05867683731846853,
          0.07200979333189314,
          0.09172909341079345,
          0.03855450272105817,
          0.040836605933558846,
          0.016641925670503186,
          0.029361360449648263,
          0.0275606008210979,
          0,
          0,
          0,
          0,
          0,
          0,
          0,
          0,
          0,
          0,
          0,
          0,
          0,
          0,
          0,
          0,
          0,
          0,
          0,
          0,
          0,
          0,
          0,
          0,
          0,
          0,
          0,
          0
         ],
         "yaxis": "y"
        },
        {
         "hovertemplate": "country_name=United States of America<br>Week Start=%{x}<br>Mortality Rate (%)=%{y}<extra></extra>",
         "legendgroup": "United States of America",
         "line": {
          "color": "#ab63fa",
          "dash": "solid"
         },
         "marker": {
          "symbol": "circle"
         },
         "mode": "lines",
         "name": "United States of America",
         "orientation": "v",
         "showlegend": true,
         "type": "scatter",
         "x": [
          "2020-01-16T00:00:00",
          "2020-01-23T00:00:00",
          "2020-01-30T00:00:00",
          "2020-02-06T00:00:00",
          "2020-02-13T00:00:00",
          "2020-02-20T00:00:00",
          "2020-02-27T00:00:00",
          "2020-03-05T00:00:00",
          "2020-03-12T00:00:00",
          "2020-03-19T00:00:00",
          "2020-03-26T00:00:00",
          "2020-04-02T00:00:00",
          "2020-04-09T00:00:00",
          "2020-04-16T00:00:00",
          "2020-04-23T00:00:00",
          "2020-04-30T00:00:00",
          "2020-05-07T00:00:00",
          "2020-05-14T00:00:00",
          "2020-05-21T00:00:00",
          "2020-05-28T00:00:00",
          "2020-06-04T00:00:00",
          "2020-06-11T00:00:00",
          "2020-06-18T00:00:00",
          "2020-06-25T00:00:00",
          "2020-07-02T00:00:00",
          "2020-07-09T00:00:00",
          "2020-07-16T00:00:00",
          "2020-07-23T00:00:00",
          "2020-07-30T00:00:00",
          "2020-08-06T00:00:00",
          "2020-08-13T00:00:00",
          "2020-08-20T00:00:00",
          "2020-08-27T00:00:00",
          "2020-09-03T00:00:00",
          "2020-09-10T00:00:00",
          "2020-09-17T00:00:00",
          "2020-09-24T00:00:00",
          "2020-10-01T00:00:00",
          "2020-10-08T00:00:00",
          "2020-10-15T00:00:00",
          "2020-10-22T00:00:00",
          "2020-10-29T00:00:00",
          "2020-11-05T00:00:00",
          "2020-11-12T00:00:00",
          "2020-11-19T00:00:00",
          "2020-11-26T00:00:00",
          "2020-12-03T00:00:00",
          "2020-12-10T00:00:00",
          "2020-12-17T00:00:00",
          "2020-12-24T00:00:00",
          "2020-12-31T00:00:00",
          "2021-01-07T00:00:00",
          "2021-01-14T00:00:00",
          "2021-01-21T00:00:00",
          "2021-01-28T00:00:00",
          "2021-02-04T00:00:00",
          "2021-02-11T00:00:00",
          "2021-02-18T00:00:00",
          "2021-02-25T00:00:00",
          "2021-03-04T00:00:00",
          "2021-03-11T00:00:00",
          "2021-03-18T00:00:00",
          "2021-03-25T00:00:00",
          "2021-04-01T00:00:00",
          "2021-04-08T00:00:00",
          "2021-04-15T00:00:00",
          "2021-04-22T00:00:00",
          "2021-04-29T00:00:00",
          "2021-05-06T00:00:00",
          "2021-05-13T00:00:00",
          "2021-05-20T00:00:00",
          "2021-05-27T00:00:00",
          "2021-06-03T00:00:00",
          "2021-06-10T00:00:00",
          "2021-06-17T00:00:00",
          "2021-06-24T00:00:00",
          "2021-07-01T00:00:00",
          "2021-07-08T00:00:00",
          "2021-07-15T00:00:00",
          "2021-07-22T00:00:00",
          "2021-07-29T00:00:00",
          "2021-08-05T00:00:00",
          "2021-08-12T00:00:00",
          "2021-08-19T00:00:00",
          "2021-08-26T00:00:00",
          "2021-09-02T00:00:00",
          "2021-09-09T00:00:00",
          "2021-09-16T00:00:00",
          "2021-09-23T00:00:00",
          "2021-09-30T00:00:00",
          "2021-10-07T00:00:00",
          "2021-10-14T00:00:00",
          "2021-10-21T00:00:00",
          "2021-10-28T00:00:00",
          "2021-11-04T00:00:00",
          "2021-11-11T00:00:00",
          "2021-11-18T00:00:00",
          "2021-11-25T00:00:00",
          "2021-12-02T00:00:00",
          "2021-12-09T00:00:00",
          "2021-12-16T00:00:00",
          "2021-12-23T00:00:00",
          "2021-12-30T00:00:00",
          "2022-01-06T00:00:00",
          "2022-01-13T00:00:00",
          "2022-01-20T00:00:00",
          "2022-01-27T00:00:00",
          "2022-02-03T00:00:00",
          "2022-02-10T00:00:00",
          "2022-02-17T00:00:00",
          "2022-02-24T00:00:00",
          "2022-03-03T00:00:00",
          "2022-03-10T00:00:00",
          "2022-03-17T00:00:00",
          "2022-03-24T00:00:00",
          "2022-03-31T00:00:00",
          "2022-04-07T00:00:00",
          "2022-04-14T00:00:00",
          "2022-04-21T00:00:00",
          "2022-04-28T00:00:00",
          "2022-05-05T00:00:00",
          "2022-05-12T00:00:00",
          "2022-05-19T00:00:00",
          "2022-05-26T00:00:00",
          "2022-06-02T00:00:00",
          "2022-06-09T00:00:00",
          "2022-06-16T00:00:00",
          "2022-06-23T00:00:00",
          "2022-06-30T00:00:00",
          "2022-07-07T00:00:00",
          "2022-07-14T00:00:00",
          "2022-07-21T00:00:00",
          "2022-07-28T00:00:00",
          "2022-08-04T00:00:00",
          "2022-08-11T00:00:00",
          "2022-08-18T00:00:00"
         ],
         "xaxis": "x",
         "y": [
          0,
          0,
          0,
          0,
          0,
          0,
          13.333333333333334,
          1.6097875080489377,
          0.6972802218969104,
          1.6067909655904198,
          3.6326598087680844,
          5.767930029154519,
          7.6862977883889325,
          7.631420655462798,
          7.0572318679852195,
          7.168654311446511,
          6.437827168969363,
          5.897956373086158,
          4.78037162979661,
          4.52900739572536,
          3.9997918130481174,
          2.8645332050048125,
          1.8812391374597157,
          1.8663812463565905,
          1.1006417990437696,
          1.1625268991279947,
          1.2675354269030834,
          1.8114473712878838,
          1.8425551013000645,
          2.041153965463758,
          2.1310835275881246,
          2.2232350181970606,
          2.11066704117442,
          1.9705655696107363,
          2.1641150507629705,
          1.6952725275146436,
          1.6738330228270468,
          1.4262162985572693,
          1.3489314732324278,
          1.31526374963994,
          1.0520048376593172,
          1.0369658998634406,
          0.8473575211514265,
          0.7898577161619846,
          0.9440094560460551,
          0.9895496637140863,
          1.115011799190702,
          1.144538645935464,
          1.2622007418529833,
          1.2904235359371103,
          1.1456464354597358,
          1.3538086192615475,
          1.559983043662569,
          2.017610166382991,
          2.2796448136714784,
          2.8503779736906503,
          3.5205979242676486,
          3.2486200903435867,
          3.0595113304187014,
          2.546749263139658,
          2.1633634291288812,
          2.010876710691448,
          1.5274020682098342,
          1.5695913675655957,
          1.1458853996528693,
          1.4157036738113462,
          1.4056633822600269,
          1.5554569305690158,
          1.8334392977241913,
          2.110339397688609,
          2.6186097388001395,
          3.4780079722169948,
          3.2381492934591147,
          2.5592377537085493,
          2.578725220525467,
          1.9721494270592468,
          1.3804750890333002,
          0.9628968902530236,
          0.5986306018844093,
          0.432806419486599,
          0.4100678522024732,
          0.40136021620181894,
          0.48652413431802355,
          0.6198655923833803,
          0.690102889911514,
          0.7823262125542283,
          2.1282579902737093,
          1.530449311070458,
          1.7500650891443648,
          1.8138130120642761,
          1.641741621366407,
          2.5468073156762108,
          1.9866377071627555,
          1.780707751536299,
          1.5869630762668865,
          1.2221083339903809,
          1.4893822752798542,
          1.0417837370326755,
          1.1371762510714674,
          1.0529987229901159,
          0.7346879723666899,
          0.45915629092529886,
          0.22692190211813282,
          0.24779497259059896,
          0.2589548624474936,
          0.41053387837846356,
          0.6873745676941698,
          1.192398744746839,
          1.670999572012271,
          2.428481457895854,
          2.8936610583789504,
          3.59371250299976,
          3.4584436401033236,
          2.823753396349164,
          2.5460001647896546,
          1.9091577643598079,
          1.48876973817552,
          1.065298380359211,
          0.6339179882668907,
          0.885002428427324,
          0.4057326297689753,
          0.2966578396247642,
          0.2603042385148691,
          0.22730363491539254,
          0.21327122735628726,
          0.22081573440488875,
          0.2258217402213611,
          0.2069383123945467,
          0.22666084351003665,
          0.20967827989115936,
          0.1982205090821941,
          0.2941923234018126,
          0.3002023102525615,
          0.36762353075025067,
          0.40469514966003894,
          0.4515773405698779
         ],
         "yaxis": "y"
        }
       ],
       "layout": {
        "legend": {
         "title": {
          "text": "country_name"
         },
         "tracegroupgap": 0
        },
        "template": {
         "data": {
          "bar": [
           {
            "error_x": {
             "color": "#2a3f5f"
            },
            "error_y": {
             "color": "#2a3f5f"
            },
            "marker": {
             "line": {
              "color": "#E5ECF6",
              "width": 0.5
             },
             "pattern": {
              "fillmode": "overlay",
              "size": 10,
              "solidity": 0.2
             }
            },
            "type": "bar"
           }
          ],
          "barpolar": [
           {
            "marker": {
             "line": {
              "color": "#E5ECF6",
              "width": 0.5
             },
             "pattern": {
              "fillmode": "overlay",
              "size": 10,
              "solidity": 0.2
             }
            },
            "type": "barpolar"
           }
          ],
          "carpet": [
           {
            "aaxis": {
             "endlinecolor": "#2a3f5f",
             "gridcolor": "white",
             "linecolor": "white",
             "minorgridcolor": "white",
             "startlinecolor": "#2a3f5f"
            },
            "baxis": {
             "endlinecolor": "#2a3f5f",
             "gridcolor": "white",
             "linecolor": "white",
             "minorgridcolor": "white",
             "startlinecolor": "#2a3f5f"
            },
            "type": "carpet"
           }
          ],
          "choropleth": [
           {
            "colorbar": {
             "outlinewidth": 0,
             "ticks": ""
            },
            "type": "choropleth"
           }
          ],
          "contour": [
           {
            "colorbar": {
             "outlinewidth": 0,
             "ticks": ""
            },
            "colorscale": [
             [
              0,
              "#0d0887"
             ],
             [
              0.1111111111111111,
              "#46039f"
             ],
             [
              0.2222222222222222,
              "#7201a8"
             ],
             [
              0.3333333333333333,
              "#9c179e"
             ],
             [
              0.4444444444444444,
              "#bd3786"
             ],
             [
              0.5555555555555556,
              "#d8576b"
             ],
             [
              0.6666666666666666,
              "#ed7953"
             ],
             [
              0.7777777777777778,
              "#fb9f3a"
             ],
             [
              0.8888888888888888,
              "#fdca26"
             ],
             [
              1,
              "#f0f921"
             ]
            ],
            "type": "contour"
           }
          ],
          "contourcarpet": [
           {
            "colorbar": {
             "outlinewidth": 0,
             "ticks": ""
            },
            "type": "contourcarpet"
           }
          ],
          "heatmap": [
           {
            "colorbar": {
             "outlinewidth": 0,
             "ticks": ""
            },
            "colorscale": [
             [
              0,
              "#0d0887"
             ],
             [
              0.1111111111111111,
              "#46039f"
             ],
             [
              0.2222222222222222,
              "#7201a8"
             ],
             [
              0.3333333333333333,
              "#9c179e"
             ],
             [
              0.4444444444444444,
              "#bd3786"
             ],
             [
              0.5555555555555556,
              "#d8576b"
             ],
             [
              0.6666666666666666,
              "#ed7953"
             ],
             [
              0.7777777777777778,
              "#fb9f3a"
             ],
             [
              0.8888888888888888,
              "#fdca26"
             ],
             [
              1,
              "#f0f921"
             ]
            ],
            "type": "heatmap"
           }
          ],
          "heatmapgl": [
           {
            "colorbar": {
             "outlinewidth": 0,
             "ticks": ""
            },
            "colorscale": [
             [
              0,
              "#0d0887"
             ],
             [
              0.1111111111111111,
              "#46039f"
             ],
             [
              0.2222222222222222,
              "#7201a8"
             ],
             [
              0.3333333333333333,
              "#9c179e"
             ],
             [
              0.4444444444444444,
              "#bd3786"
             ],
             [
              0.5555555555555556,
              "#d8576b"
             ],
             [
              0.6666666666666666,
              "#ed7953"
             ],
             [
              0.7777777777777778,
              "#fb9f3a"
             ],
             [
              0.8888888888888888,
              "#fdca26"
             ],
             [
              1,
              "#f0f921"
             ]
            ],
            "type": "heatmapgl"
           }
          ],
          "histogram": [
           {
            "marker": {
             "pattern": {
              "fillmode": "overlay",
              "size": 10,
              "solidity": 0.2
             }
            },
            "type": "histogram"
           }
          ],
          "histogram2d": [
           {
            "colorbar": {
             "outlinewidth": 0,
             "ticks": ""
            },
            "colorscale": [
             [
              0,
              "#0d0887"
             ],
             [
              0.1111111111111111,
              "#46039f"
             ],
             [
              0.2222222222222222,
              "#7201a8"
             ],
             [
              0.3333333333333333,
              "#9c179e"
             ],
             [
              0.4444444444444444,
              "#bd3786"
             ],
             [
              0.5555555555555556,
              "#d8576b"
             ],
             [
              0.6666666666666666,
              "#ed7953"
             ],
             [
              0.7777777777777778,
              "#fb9f3a"
             ],
             [
              0.8888888888888888,
              "#fdca26"
             ],
             [
              1,
              "#f0f921"
             ]
            ],
            "type": "histogram2d"
           }
          ],
          "histogram2dcontour": [
           {
            "colorbar": {
             "outlinewidth": 0,
             "ticks": ""
            },
            "colorscale": [
             [
              0,
              "#0d0887"
             ],
             [
              0.1111111111111111,
              "#46039f"
             ],
             [
              0.2222222222222222,
              "#7201a8"
             ],
             [
              0.3333333333333333,
              "#9c179e"
             ],
             [
              0.4444444444444444,
              "#bd3786"
             ],
             [
              0.5555555555555556,
              "#d8576b"
             ],
             [
              0.6666666666666666,
              "#ed7953"
             ],
             [
              0.7777777777777778,
              "#fb9f3a"
             ],
             [
              0.8888888888888888,
              "#fdca26"
             ],
             [
              1,
              "#f0f921"
             ]
            ],
            "type": "histogram2dcontour"
           }
          ],
          "mesh3d": [
           {
            "colorbar": {
             "outlinewidth": 0,
             "ticks": ""
            },
            "type": "mesh3d"
           }
          ],
          "parcoords": [
           {
            "line": {
             "colorbar": {
              "outlinewidth": 0,
              "ticks": ""
             }
            },
            "type": "parcoords"
           }
          ],
          "pie": [
           {
            "automargin": true,
            "type": "pie"
           }
          ],
          "scatter": [
           {
            "fillpattern": {
             "fillmode": "overlay",
             "size": 10,
             "solidity": 0.2
            },
            "type": "scatter"
           }
          ],
          "scatter3d": [
           {
            "line": {
             "colorbar": {
              "outlinewidth": 0,
              "ticks": ""
             }
            },
            "marker": {
             "colorbar": {
              "outlinewidth": 0,
              "ticks": ""
             }
            },
            "type": "scatter3d"
           }
          ],
          "scattercarpet": [
           {
            "marker": {
             "colorbar": {
              "outlinewidth": 0,
              "ticks": ""
             }
            },
            "type": "scattercarpet"
           }
          ],
          "scattergeo": [
           {
            "marker": {
             "colorbar": {
              "outlinewidth": 0,
              "ticks": ""
             }
            },
            "type": "scattergeo"
           }
          ],
          "scattergl": [
           {
            "marker": {
             "colorbar": {
              "outlinewidth": 0,
              "ticks": ""
             }
            },
            "type": "scattergl"
           }
          ],
          "scattermapbox": [
           {
            "marker": {
             "colorbar": {
              "outlinewidth": 0,
              "ticks": ""
             }
            },
            "type": "scattermapbox"
           }
          ],
          "scatterpolar": [
           {
            "marker": {
             "colorbar": {
              "outlinewidth": 0,
              "ticks": ""
             }
            },
            "type": "scatterpolar"
           }
          ],
          "scatterpolargl": [
           {
            "marker": {
             "colorbar": {
              "outlinewidth": 0,
              "ticks": ""
             }
            },
            "type": "scatterpolargl"
           }
          ],
          "scatterternary": [
           {
            "marker": {
             "colorbar": {
              "outlinewidth": 0,
              "ticks": ""
             }
            },
            "type": "scatterternary"
           }
          ],
          "surface": [
           {
            "colorbar": {
             "outlinewidth": 0,
             "ticks": ""
            },
            "colorscale": [
             [
              0,
              "#0d0887"
             ],
             [
              0.1111111111111111,
              "#46039f"
             ],
             [
              0.2222222222222222,
              "#7201a8"
             ],
             [
              0.3333333333333333,
              "#9c179e"
             ],
             [
              0.4444444444444444,
              "#bd3786"
             ],
             [
              0.5555555555555556,
              "#d8576b"
             ],
             [
              0.6666666666666666,
              "#ed7953"
             ],
             [
              0.7777777777777778,
              "#fb9f3a"
             ],
             [
              0.8888888888888888,
              "#fdca26"
             ],
             [
              1,
              "#f0f921"
             ]
            ],
            "type": "surface"
           }
          ],
          "table": [
           {
            "cells": {
             "fill": {
              "color": "#EBF0F8"
             },
             "line": {
              "color": "white"
             }
            },
            "header": {
             "fill": {
              "color": "#C8D4E3"
             },
             "line": {
              "color": "white"
             }
            },
            "type": "table"
           }
          ]
         },
         "layout": {
          "annotationdefaults": {
           "arrowcolor": "#2a3f5f",
           "arrowhead": 0,
           "arrowwidth": 1
          },
          "autotypenumbers": "strict",
          "coloraxis": {
           "colorbar": {
            "outlinewidth": 0,
            "ticks": ""
           }
          },
          "colorscale": {
           "diverging": [
            [
             0,
             "#8e0152"
            ],
            [
             0.1,
             "#c51b7d"
            ],
            [
             0.2,
             "#de77ae"
            ],
            [
             0.3,
             "#f1b6da"
            ],
            [
             0.4,
             "#fde0ef"
            ],
            [
             0.5,
             "#f7f7f7"
            ],
            [
             0.6,
             "#e6f5d0"
            ],
            [
             0.7,
             "#b8e186"
            ],
            [
             0.8,
             "#7fbc41"
            ],
            [
             0.9,
             "#4d9221"
            ],
            [
             1,
             "#276419"
            ]
           ],
           "sequential": [
            [
             0,
             "#0d0887"
            ],
            [
             0.1111111111111111,
             "#46039f"
            ],
            [
             0.2222222222222222,
             "#7201a8"
            ],
            [
             0.3333333333333333,
             "#9c179e"
            ],
            [
             0.4444444444444444,
             "#bd3786"
            ],
            [
             0.5555555555555556,
             "#d8576b"
            ],
            [
             0.6666666666666666,
             "#ed7953"
            ],
            [
             0.7777777777777778,
             "#fb9f3a"
            ],
            [
             0.8888888888888888,
             "#fdca26"
            ],
            [
             1,
             "#f0f921"
            ]
           ],
           "sequentialminus": [
            [
             0,
             "#0d0887"
            ],
            [
             0.1111111111111111,
             "#46039f"
            ],
            [
             0.2222222222222222,
             "#7201a8"
            ],
            [
             0.3333333333333333,
             "#9c179e"
            ],
            [
             0.4444444444444444,
             "#bd3786"
            ],
            [
             0.5555555555555556,
             "#d8576b"
            ],
            [
             0.6666666666666666,
             "#ed7953"
            ],
            [
             0.7777777777777778,
             "#fb9f3a"
            ],
            [
             0.8888888888888888,
             "#fdca26"
            ],
            [
             1,
             "#f0f921"
            ]
           ]
          },
          "colorway": [
           "#636efa",
           "#EF553B",
           "#00cc96",
           "#ab63fa",
           "#FFA15A",
           "#19d3f3",
           "#FF6692",
           "#B6E880",
           "#FF97FF",
           "#FECB52"
          ],
          "font": {
           "color": "#2a3f5f"
          },
          "geo": {
           "bgcolor": "white",
           "lakecolor": "white",
           "landcolor": "#E5ECF6",
           "showlakes": true,
           "showland": true,
           "subunitcolor": "white"
          },
          "hoverlabel": {
           "align": "left"
          },
          "hovermode": "closest",
          "mapbox": {
           "style": "light"
          },
          "paper_bgcolor": "white",
          "plot_bgcolor": "#E5ECF6",
          "polar": {
           "angularaxis": {
            "gridcolor": "white",
            "linecolor": "white",
            "ticks": ""
           },
           "bgcolor": "#E5ECF6",
           "radialaxis": {
            "gridcolor": "white",
            "linecolor": "white",
            "ticks": ""
           }
          },
          "scene": {
           "xaxis": {
            "backgroundcolor": "#E5ECF6",
            "gridcolor": "white",
            "gridwidth": 2,
            "linecolor": "white",
            "showbackground": true,
            "ticks": "",
            "zerolinecolor": "white"
           },
           "yaxis": {
            "backgroundcolor": "#E5ECF6",
            "gridcolor": "white",
            "gridwidth": 2,
            "linecolor": "white",
            "showbackground": true,
            "ticks": "",
            "zerolinecolor": "white"
           },
           "zaxis": {
            "backgroundcolor": "#E5ECF6",
            "gridcolor": "white",
            "gridwidth": 2,
            "linecolor": "white",
            "showbackground": true,
            "ticks": "",
            "zerolinecolor": "white"
           }
          },
          "shapedefaults": {
           "line": {
            "color": "#2a3f5f"
           }
          },
          "ternary": {
           "aaxis": {
            "gridcolor": "white",
            "linecolor": "white",
            "ticks": ""
           },
           "baxis": {
            "gridcolor": "white",
            "linecolor": "white",
            "ticks": ""
           },
           "bgcolor": "#E5ECF6",
           "caxis": {
            "gridcolor": "white",
            "linecolor": "white",
            "ticks": ""
           }
          },
          "title": {
           "x": 0.05
          },
          "xaxis": {
           "automargin": true,
           "gridcolor": "white",
           "linecolor": "white",
           "ticks": "",
           "title": {
            "standoff": 15
           },
           "zerolinecolor": "white",
           "zerolinewidth": 2
          },
          "yaxis": {
           "automargin": true,
           "gridcolor": "white",
           "linecolor": "white",
           "ticks": "",
           "title": {
            "standoff": 15
           },
           "zerolinecolor": "white",
           "zerolinewidth": 2
          }
         }
        },
        "title": {
         "text": "Mortality Rate Over Time by Country"
        },
        "xaxis": {
         "anchor": "y",
         "domain": [
          0,
          1
         ],
         "title": {
          "text": "Week Start"
         }
        },
        "yaxis": {
         "anchor": "x",
         "domain": [
          0,
          1
         ],
         "title": {
          "text": "Mortality Rate (%)"
         }
        }
       }
      }
     },
     "metadata": {},
     "output_type": "display_data"
    }
   ],
   "source": [
    "# Line chart for weekly mortality rates\n",
    "fig2 = px.line(\n",
    "    df,\n",
    "    x='week_start',\n",
    "    y='mortality_rate',\n",
    "    color='country_name',\n",
    "    title=\"Mortality Rate Over Time by Country\",\n",
    "    labels={'week_start': 'Week Start', 'mortality_rate': 'Mortality Rate (%)'}\n",
    ")\n",
    "fig2.show()\n",
    "\n"
   ]
  },
  {
   "cell_type": "markdown",
   "metadata": {},
   "source": [
    "#### Mortality Rate Over Time by Country\n",
    "- **Insight**: The United States again dominates the trends, showing relatively high mortality rates during early pandemic waves. Mortality rates in Germany, Spain, and Italy appear significantly lower, with Italy lacking mortality data entirely, limiting comprehensive comparison.\n",
    "- **Observation**: A general downward trend in mortality rates is noticeable across countries, potentially reflecting improvements in healthcare responses and vaccine rollout."
   ]
  },
  {
   "cell_type": "code",
   "execution_count": 19,
   "metadata": {},
   "outputs": [
    {
     "data": {
      "application/vnd.plotly.v1+json": {
       "config": {
        "plotlyServerURL": "https://plot.ly"
       },
       "data": [
        {
         "hovertemplate": "country_name=Germany<br>New Confirmed Cases=%{x}<br>Mortality Rate (%)=%{y}<extra></extra>",
         "legendgroup": "Germany",
         "marker": {
          "color": "#636efa",
          "symbol": "circle"
         },
         "mode": "markers",
         "name": "Germany",
         "orientation": "v",
         "showlegend": true,
         "type": "scatter",
         "x": [
          1,
          1,
          1,
          5,
          13,
          6,
          2,
          13,
          411,
          2312,
          13395,
          28015,
          36112,
          33735,
          20391,
          16323,
          9979,
          6460,
          5641,
          4411,
          3177,
          2465,
          2653,
          2743,
          4041,
          3021,
          2500,
          2588,
          3376,
          4449,
          5498,
          7043,
          8953,
          9292,
          8218,
          9230,
          10910,
          12286,
          14112,
          19686,
          32440,
          53596,
          93738,
          119586,
          128231,
          128241,
          126186,
          122329,
          139544,
          166768,
          180586,
          130049,
          118419,
          135944,
          105851,
          86512,
          71673,
          56556,
          50882,
          54645,
          57412,
          61761,
          81993,
          102593,
          120670,
          97013,
          143379,
          144272,
          137611,
          113273,
          90638,
          59061,
          36430,
          29308,
          16760,
          10014,
          5767,
          4549,
          4664,
          7192,
          10970,
          14178,
          17326,
          25126,
          40127,
          59626,
          70549,
          74612,
          67867,
          56090,
          56289,
          55679,
          59976,
          79687,
          117993,
          143503,
          228267,
          309853,
          387822,
          398583,
          375454,
          303339,
          245531,
          187218,
          263990,
          401306,
          606837,
          966891,
          1191961,
          1319009,
          703744
         ],
         "xaxis": "x",
         "y": [
          0,
          0,
          0,
          0,
          0,
          0,
          0,
          7.6923076923076925,
          0.48661800486618007,
          1.3408304498269896,
          1.530421799178798,
          3.0376583972871676,
          5.4580194949047405,
          6.571809693196977,
          7.429748418419892,
          6.267230288549899,
          5.281090289608177,
          4.597523219814241,
          3.8291083141287006,
          3.4459306279755157,
          2.4866225999370473,
          1.947261663286004,
          1.3192612137203166,
          1.4947138169886984,
          0.7176441474882455,
          0.7944389275074478,
          1.28,
          0.8500772797527048,
          1.0071090047393365,
          0.7417397167902899,
          0.6911604219716261,
          0.41175635382649445,
          0.40209985479727467,
          0.2260008609556608,
          0.2311998053054271,
          0.6500541711809318,
          0.6416131989000917,
          0.7325411036952629,
          0.8219954648526077,
          0.8533983541603171,
          1.0110974106041923,
          1.2034480185088439,
          1.4743220465552924,
          1.5168999715685783,
          1.6080354984364154,
          2.288659633034677,
          2.612809661927631,
          3.2208225359481397,
          3.5401020466662847,
          3.74472320828936,
          3.819786694428139,
          4.423717214280771,
          4.226517704084649,
          3.995027364208792,
          4.444927303473751,
          4.19132605881265,
          3.628981624879662,
          3.4337647641275906,
          3.105223851263708,
          2.455851404520084,
          1.9368773078798858,
          1.6839105584430303,
          1.4184137670288928,
          1.3460957375259521,
          1.3632220104417005,
          1.5204147897704432,
          1.1535859505227404,
          1.1242652766995673,
          1.0711353016837317,
          1.0196604663070634,
          0.9278668990930956,
          0.8956841231946632,
          0.9140818007136975,
          0.6994677221236523,
          0.548926014319809,
          0.6490912722188935,
          0.5202011444425177,
          0.5275884809848318,
          0.49313893653516294,
          0.41713014460511677,
          0.29170464904284416,
          0.3667654112004514,
          0.40978875678171534,
          0.45769322614025315,
          0.4510678595459417,
          0.46959380136182205,
          0.5443025414959816,
          0.5910577387015493,
          0.6483268746224233,
          0.5972544125512569,
          0.6857467711275738,
          0.7974281147290719,
          0.8453381352541016,
          0.9600060235672068,
          0.9576839304026511,
          0.997191696340843,
          0.8389298496935605,
          0.7742381064569328,
          0.7397723697985159,
          0.7102661177220303,
          0.6890324780132853,
          0.703833005317483,
          0.6418741421653478,
          0.5368073582668333,
          0.3000113640668207,
          0.1427838108575501,
          0.08997473786206181,
          0.05998607909267952,
          0.047233089002073056,
          0.028582064261881462,
          0.011367770098217532
         ],
         "yaxis": "y"
        },
        {
         "hovertemplate": "country_name=Italy<br>New Confirmed Cases=%{x}<br>Mortality Rate (%)=%{y}<extra></extra>",
         "legendgroup": "Italy",
         "marker": {
          "color": "#EF553B",
          "symbol": "circle"
         },
         "mode": "markers",
         "name": "Italy",
         "orientation": "v",
         "showlegend": true,
         "type": "scatter",
         "x": [
          370,
          2681,
          8883,
          21623,
          35360,
          32669,
          28275,
          24095,
          20880,
          15389,
          10293,
          7437,
          5098,
          3691,
          2621,
          1864,
          2238,
          1974,
          1647,
          1352,
          1285,
          1412,
          1601,
          1884,
          2618,
          3201,
          6312,
          7428,
          8491,
          8483,
          9361,
          10289,
          15859,
          32884,
          65471,
          125204,
          176239,
          210325,
          216433,
          186712,
          144686,
          117121,
          109103,
          96645,
          86331,
          110468,
          107897,
          85295,
          76027,
          70838,
          70914,
          70551,
          83889,
          112529,
          128803,
          143329,
          135414,
          131460,
          106451,
          98133,
          84687,
          79681,
          66564,
          53240,
          36292,
          41442,
          19110,
          12979,
          9509,
          6205,
          4408,
          5013,
          8810,
          19164,
          30070,
          35502,
          38764,
          40530,
          40944,
          39610,
          35044,
          29198,
          25171,
          20153,
          18688,
          15603,
          16459,
          23237,
          26411,
          38414,
          49415,
          63409,
          78288,
          95976,
          116877,
          171269,
          343647,
          809016,
          1071951,
          1109267,
          1049339,
          768963,
          552386,
          374654,
          305166,
          241110,
          266289,
          368892,
          463839,
          459526,
          427362,
          393735,
          354349,
          380223,
          321879,
          256722,
          210421,
          149389,
          115459,
          113403,
          153577,
          335598,
          379160,
          538270,
          1083889,
          541994,
          406633,
          302591,
          207595,
          139347,
          96457
         ],
         "xaxis": "x",
         "y": [
          0,
          0,
          0,
          0,
          0,
          0,
          0,
          0,
          0,
          0,
          0,
          0,
          0,
          0,
          0,
          0,
          0,
          0,
          0,
          0,
          0,
          0,
          0,
          0,
          0,
          0,
          0,
          0,
          0,
          0,
          0,
          0,
          0,
          0,
          0,
          0,
          0,
          0,
          0,
          0,
          0,
          0,
          0,
          0,
          0,
          0,
          0,
          0,
          0,
          0,
          0,
          0,
          0,
          0,
          0,
          0,
          0,
          0,
          0,
          0,
          0,
          0,
          0,
          0,
          0,
          0,
          0,
          0,
          0,
          0,
          0,
          0,
          0,
          0,
          0,
          0,
          0,
          0,
          0,
          0,
          0,
          0,
          0,
          0,
          0,
          0,
          0,
          0,
          0,
          0,
          0,
          0,
          0,
          0,
          0,
          0,
          0,
          0,
          0,
          0,
          0,
          0,
          0,
          0,
          0,
          0,
          0,
          0,
          0,
          0,
          0,
          0,
          0,
          0,
          0,
          0,
          0,
          0,
          0,
          0,
          0,
          0,
          0,
          0,
          0,
          0,
          0,
          0,
          0,
          0,
          0
         ],
         "yaxis": "y"
        },
        {
         "hovertemplate": "country_name=Spain<br>New Confirmed Cases=%{x}<br>Mortality Rate (%)=%{y}<extra></extra>",
         "legendgroup": "Spain",
         "marker": {
          "color": "#00cc96",
          "symbol": "circle"
         },
         "mode": "markers",
         "name": "Spain",
         "orientation": "v",
         "showlegend": true,
         "type": "scatter",
         "x": [
          2,
          2,
          73,
          1973,
          13999,
          27313,
          26786,
          23494,
          17106,
          17317,
          10543,
          6890,
          5025,
          4451,
          5619,
          5442,
          3887,
          3673,
          3258,
          4037,
          5263,
          9180,
          12564,
          12493,
          12946,
          15940,
          22661,
          29703,
          32135,
          34464,
          37219,
          43470,
          41023,
          38152,
          39886,
          52803,
          59558,
          51037,
          39323,
          30066,
          22568,
          21638,
          20584,
          29396,
          36213,
          35231,
          42777,
          66830,
          65800,
          67762,
          57060,
          42861,
          32253,
          26973,
          22352,
          20897,
          21516,
          22660,
          26361,
          23931,
          32133,
          30804,
          29470,
          25405,
          19042,
          15463,
          14116,
          12162,
          10821,
          10335,
          12400,
          32023,
          63241,
          90657,
          88714,
          76703,
          59956,
          42184,
          30272,
          22366,
          16600,
          12420,
          9243,
          7164,
          6497,
          5312,
          4469,
          5055,
          5956,
          6259,
          6963,
          16827,
          20451,
          27774,
          32705,
          67437,
          146927,
          300446,
          333772,
          384607,
          394907,
          320505,
          187155,
          118123,
          62131,
          50828,
          41740,
          39277,
          35195,
          31111,
          20645,
          10576,
          12412,
          11500,
          14419,
          18286,
          19929,
          19021,
          15422,
          14879,
          15559,
          19128,
          27256,
          29954,
          26483,
          17490,
          10343,
          4009
         ],
         "xaxis": "x",
         "y": [
          0,
          0,
          0,
          0,
          0.05714693906707623,
          0.18306301028814118,
          0.3509295900843724,
          0.20430748276155614,
          0.16368525663509878,
          0.1732401686204308,
          0.20866925922412974,
          0.29027576197387517,
          0.07960199004975124,
          0.22466861379465286,
          0.10678056593699946,
          0.03675119441381845,
          0.05145356315924878,
          0,
          0,
          0,
          0,
          0,
          0,
          0,
          0,
          0.02509410288582183,
          0.017651471691452272,
          0.040399959600040405,
          0.04978994865411545,
          0.09285051067780872,
          0.09672479110131922,
          0.05981136415919025,
          0.0731297077249348,
          0.04193751310547285,
          0.04011432582861155,
          0.06060261727553358,
          0.03358071123946405,
          0.03918725630424986,
          0.07120514711492001,
          0.07982438635002993,
          0.15065579581708613,
          0.09242998428690267,
          0.08744656043528955,
          0.14968022860253094,
          0.15464059868003202,
          0.12489001163747836,
          0.09818360333824251,
          0.04788268741583122,
          0.0972644376899696,
          0.07673917534901567,
          0.07360672975814932,
          0.07465994727141224,
          0.11161752395126034,
          0.15571126682237793,
          0.12526843235504653,
          0.18184428386849785,
          0.17661275329986986,
          0.1500441306266549,
          0.1289784150828876,
          0.10864568969119552,
          0.09336196433572963,
          0.09738994935722634,
          0.0678656260604004,
          0.047234796299940957,
          0.14704337779644996,
          0.09053870529651425,
          0.04250495891187305,
          0.0328893274132544,
          0.16634322151372333,
          0.05805515239477503,
          0.08064516129032258,
          0.018736533116822284,
          0.009487516010183267,
          0.017648940512039888,
          0.020289920418423247,
          0.033896979257656154,
          0.07005137100540396,
          0.13275175421960933,
          0.18498942917547567,
          0.23249575248144505,
          0.18072289156626506,
          0.2898550724637681,
          0.21637996321540626,
          0.3629257398101619,
          0.18470063106048948,
          0.338855421686747,
          0.13425822331617812,
          0.11869436201780414,
          0.16789791806581597,
          0.031953986259785905,
          0.3734022691368663,
          0.13074225946395673,
          0.05867683731846853,
          0.07200979333189314,
          0.09172909341079345,
          0.03855450272105817,
          0.040836605933558846,
          0.016641925670503186,
          0.029361360449648263,
          0.0275606008210979,
          0,
          0,
          0,
          0,
          0,
          0,
          0,
          0,
          0,
          0,
          0,
          0,
          0,
          0,
          0,
          0,
          0,
          0,
          0,
          0,
          0,
          0,
          0,
          0,
          0,
          0,
          0,
          0
         ],
         "yaxis": "y"
        },
        {
         "hovertemplate": "country_name=United States of America<br>New Confirmed Cases=%{x}<br>Mortality Rate (%)=%{y}<extra></extra>",
         "legendgroup": "United States of America",
         "marker": {
          "color": "#ab63fa",
          "symbol": "circle"
         },
         "mode": "markers",
         "name": "United States of America",
         "orientation": "v",
         "showlegend": true,
         "type": "scatter",
         "x": [
          0,
          0,
          7,
          2,
          8,
          32,
          90,
          1553,
          25958,
          92358,
          187521,
          257250,
          229109,
          219448,
          217309,
          197973,
          174795,
          167007,
          157038,
          157253,
          153708,
          166240,
          228998,
          313923,
          378779,
          454011,
          477462,
          458970,
          407749,
          386840,
          338044,
          300598,
          295499,
          266015,
          278451,
          313106,
          310246,
          351209,
          381413,
          430484,
          537450,
          653927,
          922751,
          1151220,
          1253801,
          1167905,
          1492899,
          1583957,
          1503802,
          1290894,
          1665348,
          1749361,
          1403605,
          1166826,
          970195,
          756005,
          564620,
          490793,
          469356,
          450221,
          401828,
          418325,
          467264,
          471524,
          508166,
          455957,
          383022,
          331221,
          261094,
          213378,
          166386,
          116906,
          102188,
          95927,
          84344,
          97305,
          108948,
          180497,
          285819,
          455862,
          670133,
          871038,
          984946,
          1063779,
          1183012,
          1070014,
          1087979,
          945670,
          810427,
          719148,
          631159,
          539499,
          508296,
          507551,
          543932,
          634150,
          672225,
          613947,
          844636,
          888795,
          1327094,
          2396134,
          4272395,
          5462177,
          5430290,
          4285639,
          2711622,
          1525748,
          974327,
          570027,
          427106,
          266688,
          248927,
          209048,
          230597,
          206688,
          271365,
          278889,
          399894,
          455027,
          633915,
          288885,
          157508,
          154419,
          152857,
          155786,
          143476,
          170099,
          180887,
          187430,
          200282,
          181174,
          168553,
          140633,
          116631,
          47168
         ],
         "xaxis": "x",
         "y": [
          null,
          null,
          0,
          0,
          0,
          0,
          13.333333333333334,
          1.6097875080489377,
          0.6972802218969104,
          1.6067909655904198,
          3.6326598087680844,
          5.767930029154519,
          7.6862977883889325,
          7.631420655462798,
          7.0572318679852195,
          7.168654311446511,
          6.437827168969363,
          5.897956373086158,
          4.78037162979661,
          4.52900739572536,
          3.9997918130481174,
          2.8645332050048125,
          1.8812391374597157,
          1.8663812463565905,
          1.1006417990437696,
          1.1625268991279947,
          1.2675354269030834,
          1.8114473712878838,
          1.8425551013000645,
          2.041153965463758,
          2.1310835275881246,
          2.2232350181970606,
          2.11066704117442,
          1.9705655696107363,
          2.1641150507629705,
          1.6952725275146436,
          1.6738330228270468,
          1.4262162985572693,
          1.3489314732324278,
          1.31526374963994,
          1.0520048376593172,
          1.0369658998634406,
          0.8473575211514265,
          0.7898577161619846,
          0.9440094560460551,
          0.9895496637140863,
          1.115011799190702,
          1.144538645935464,
          1.2622007418529833,
          1.2904235359371103,
          1.1456464354597358,
          1.3538086192615475,
          1.559983043662569,
          2.017610166382991,
          2.2796448136714784,
          2.8503779736906503,
          3.5205979242676486,
          3.2486200903435867,
          3.0595113304187014,
          2.546749263139658,
          2.1633634291288812,
          2.010876710691448,
          1.5274020682098342,
          1.5695913675655957,
          1.1458853996528693,
          1.4157036738113462,
          1.4056633822600269,
          1.5554569305690158,
          1.8334392977241913,
          2.110339397688609,
          2.6186097388001395,
          3.4780079722169948,
          3.2381492934591147,
          2.5592377537085493,
          2.578725220525467,
          1.9721494270592468,
          1.3804750890333002,
          0.9628968902530236,
          0.5986306018844093,
          0.432806419486599,
          0.4100678522024732,
          0.40136021620181894,
          0.48652413431802355,
          0.6198655923833803,
          0.690102889911514,
          0.7823262125542283,
          2.1282579902737093,
          1.530449311070458,
          1.7500650891443648,
          1.8138130120642761,
          1.641741621366407,
          2.5468073156762108,
          1.9866377071627555,
          1.780707751536299,
          1.5869630762668865,
          1.2221083339903809,
          1.4893822752798542,
          1.0417837370326755,
          1.1371762510714674,
          1.0529987229901159,
          0.7346879723666899,
          0.45915629092529886,
          0.22692190211813282,
          0.24779497259059896,
          0.2589548624474936,
          0.41053387837846356,
          0.6873745676941698,
          1.192398744746839,
          1.670999572012271,
          2.428481457895854,
          2.8936610583789504,
          3.59371250299976,
          3.4584436401033236,
          2.823753396349164,
          2.5460001647896546,
          1.9091577643598079,
          1.48876973817552,
          1.065298380359211,
          0.6339179882668907,
          0.885002428427324,
          0.4057326297689753,
          0.2966578396247642,
          0.2603042385148691,
          0.22730363491539254,
          0.21327122735628726,
          0.22081573440488875,
          0.2258217402213611,
          0.2069383123945467,
          0.22666084351003665,
          0.20967827989115936,
          0.1982205090821941,
          0.2941923234018126,
          0.3002023102525615,
          0.36762353075025067,
          0.40469514966003894,
          0.4515773405698779
         ],
         "yaxis": "y"
        }
       ],
       "layout": {
        "legend": {
         "title": {
          "text": "country_name"
         },
         "tracegroupgap": 0
        },
        "template": {
         "data": {
          "bar": [
           {
            "error_x": {
             "color": "#2a3f5f"
            },
            "error_y": {
             "color": "#2a3f5f"
            },
            "marker": {
             "line": {
              "color": "#E5ECF6",
              "width": 0.5
             },
             "pattern": {
              "fillmode": "overlay",
              "size": 10,
              "solidity": 0.2
             }
            },
            "type": "bar"
           }
          ],
          "barpolar": [
           {
            "marker": {
             "line": {
              "color": "#E5ECF6",
              "width": 0.5
             },
             "pattern": {
              "fillmode": "overlay",
              "size": 10,
              "solidity": 0.2
             }
            },
            "type": "barpolar"
           }
          ],
          "carpet": [
           {
            "aaxis": {
             "endlinecolor": "#2a3f5f",
             "gridcolor": "white",
             "linecolor": "white",
             "minorgridcolor": "white",
             "startlinecolor": "#2a3f5f"
            },
            "baxis": {
             "endlinecolor": "#2a3f5f",
             "gridcolor": "white",
             "linecolor": "white",
             "minorgridcolor": "white",
             "startlinecolor": "#2a3f5f"
            },
            "type": "carpet"
           }
          ],
          "choropleth": [
           {
            "colorbar": {
             "outlinewidth": 0,
             "ticks": ""
            },
            "type": "choropleth"
           }
          ],
          "contour": [
           {
            "colorbar": {
             "outlinewidth": 0,
             "ticks": ""
            },
            "colorscale": [
             [
              0,
              "#0d0887"
             ],
             [
              0.1111111111111111,
              "#46039f"
             ],
             [
              0.2222222222222222,
              "#7201a8"
             ],
             [
              0.3333333333333333,
              "#9c179e"
             ],
             [
              0.4444444444444444,
              "#bd3786"
             ],
             [
              0.5555555555555556,
              "#d8576b"
             ],
             [
              0.6666666666666666,
              "#ed7953"
             ],
             [
              0.7777777777777778,
              "#fb9f3a"
             ],
             [
              0.8888888888888888,
              "#fdca26"
             ],
             [
              1,
              "#f0f921"
             ]
            ],
            "type": "contour"
           }
          ],
          "contourcarpet": [
           {
            "colorbar": {
             "outlinewidth": 0,
             "ticks": ""
            },
            "type": "contourcarpet"
           }
          ],
          "heatmap": [
           {
            "colorbar": {
             "outlinewidth": 0,
             "ticks": ""
            },
            "colorscale": [
             [
              0,
              "#0d0887"
             ],
             [
              0.1111111111111111,
              "#46039f"
             ],
             [
              0.2222222222222222,
              "#7201a8"
             ],
             [
              0.3333333333333333,
              "#9c179e"
             ],
             [
              0.4444444444444444,
              "#bd3786"
             ],
             [
              0.5555555555555556,
              "#d8576b"
             ],
             [
              0.6666666666666666,
              "#ed7953"
             ],
             [
              0.7777777777777778,
              "#fb9f3a"
             ],
             [
              0.8888888888888888,
              "#fdca26"
             ],
             [
              1,
              "#f0f921"
             ]
            ],
            "type": "heatmap"
           }
          ],
          "heatmapgl": [
           {
            "colorbar": {
             "outlinewidth": 0,
             "ticks": ""
            },
            "colorscale": [
             [
              0,
              "#0d0887"
             ],
             [
              0.1111111111111111,
              "#46039f"
             ],
             [
              0.2222222222222222,
              "#7201a8"
             ],
             [
              0.3333333333333333,
              "#9c179e"
             ],
             [
              0.4444444444444444,
              "#bd3786"
             ],
             [
              0.5555555555555556,
              "#d8576b"
             ],
             [
              0.6666666666666666,
              "#ed7953"
             ],
             [
              0.7777777777777778,
              "#fb9f3a"
             ],
             [
              0.8888888888888888,
              "#fdca26"
             ],
             [
              1,
              "#f0f921"
             ]
            ],
            "type": "heatmapgl"
           }
          ],
          "histogram": [
           {
            "marker": {
             "pattern": {
              "fillmode": "overlay",
              "size": 10,
              "solidity": 0.2
             }
            },
            "type": "histogram"
           }
          ],
          "histogram2d": [
           {
            "colorbar": {
             "outlinewidth": 0,
             "ticks": ""
            },
            "colorscale": [
             [
              0,
              "#0d0887"
             ],
             [
              0.1111111111111111,
              "#46039f"
             ],
             [
              0.2222222222222222,
              "#7201a8"
             ],
             [
              0.3333333333333333,
              "#9c179e"
             ],
             [
              0.4444444444444444,
              "#bd3786"
             ],
             [
              0.5555555555555556,
              "#d8576b"
             ],
             [
              0.6666666666666666,
              "#ed7953"
             ],
             [
              0.7777777777777778,
              "#fb9f3a"
             ],
             [
              0.8888888888888888,
              "#fdca26"
             ],
             [
              1,
              "#f0f921"
             ]
            ],
            "type": "histogram2d"
           }
          ],
          "histogram2dcontour": [
           {
            "colorbar": {
             "outlinewidth": 0,
             "ticks": ""
            },
            "colorscale": [
             [
              0,
              "#0d0887"
             ],
             [
              0.1111111111111111,
              "#46039f"
             ],
             [
              0.2222222222222222,
              "#7201a8"
             ],
             [
              0.3333333333333333,
              "#9c179e"
             ],
             [
              0.4444444444444444,
              "#bd3786"
             ],
             [
              0.5555555555555556,
              "#d8576b"
             ],
             [
              0.6666666666666666,
              "#ed7953"
             ],
             [
              0.7777777777777778,
              "#fb9f3a"
             ],
             [
              0.8888888888888888,
              "#fdca26"
             ],
             [
              1,
              "#f0f921"
             ]
            ],
            "type": "histogram2dcontour"
           }
          ],
          "mesh3d": [
           {
            "colorbar": {
             "outlinewidth": 0,
             "ticks": ""
            },
            "type": "mesh3d"
           }
          ],
          "parcoords": [
           {
            "line": {
             "colorbar": {
              "outlinewidth": 0,
              "ticks": ""
             }
            },
            "type": "parcoords"
           }
          ],
          "pie": [
           {
            "automargin": true,
            "type": "pie"
           }
          ],
          "scatter": [
           {
            "fillpattern": {
             "fillmode": "overlay",
             "size": 10,
             "solidity": 0.2
            },
            "type": "scatter"
           }
          ],
          "scatter3d": [
           {
            "line": {
             "colorbar": {
              "outlinewidth": 0,
              "ticks": ""
             }
            },
            "marker": {
             "colorbar": {
              "outlinewidth": 0,
              "ticks": ""
             }
            },
            "type": "scatter3d"
           }
          ],
          "scattercarpet": [
           {
            "marker": {
             "colorbar": {
              "outlinewidth": 0,
              "ticks": ""
             }
            },
            "type": "scattercarpet"
           }
          ],
          "scattergeo": [
           {
            "marker": {
             "colorbar": {
              "outlinewidth": 0,
              "ticks": ""
             }
            },
            "type": "scattergeo"
           }
          ],
          "scattergl": [
           {
            "marker": {
             "colorbar": {
              "outlinewidth": 0,
              "ticks": ""
             }
            },
            "type": "scattergl"
           }
          ],
          "scattermapbox": [
           {
            "marker": {
             "colorbar": {
              "outlinewidth": 0,
              "ticks": ""
             }
            },
            "type": "scattermapbox"
           }
          ],
          "scatterpolar": [
           {
            "marker": {
             "colorbar": {
              "outlinewidth": 0,
              "ticks": ""
             }
            },
            "type": "scatterpolar"
           }
          ],
          "scatterpolargl": [
           {
            "marker": {
             "colorbar": {
              "outlinewidth": 0,
              "ticks": ""
             }
            },
            "type": "scatterpolargl"
           }
          ],
          "scatterternary": [
           {
            "marker": {
             "colorbar": {
              "outlinewidth": 0,
              "ticks": ""
             }
            },
            "type": "scatterternary"
           }
          ],
          "surface": [
           {
            "colorbar": {
             "outlinewidth": 0,
             "ticks": ""
            },
            "colorscale": [
             [
              0,
              "#0d0887"
             ],
             [
              0.1111111111111111,
              "#46039f"
             ],
             [
              0.2222222222222222,
              "#7201a8"
             ],
             [
              0.3333333333333333,
              "#9c179e"
             ],
             [
              0.4444444444444444,
              "#bd3786"
             ],
             [
              0.5555555555555556,
              "#d8576b"
             ],
             [
              0.6666666666666666,
              "#ed7953"
             ],
             [
              0.7777777777777778,
              "#fb9f3a"
             ],
             [
              0.8888888888888888,
              "#fdca26"
             ],
             [
              1,
              "#f0f921"
             ]
            ],
            "type": "surface"
           }
          ],
          "table": [
           {
            "cells": {
             "fill": {
              "color": "#EBF0F8"
             },
             "line": {
              "color": "white"
             }
            },
            "header": {
             "fill": {
              "color": "#C8D4E3"
             },
             "line": {
              "color": "white"
             }
            },
            "type": "table"
           }
          ]
         },
         "layout": {
          "annotationdefaults": {
           "arrowcolor": "#2a3f5f",
           "arrowhead": 0,
           "arrowwidth": 1
          },
          "autotypenumbers": "strict",
          "coloraxis": {
           "colorbar": {
            "outlinewidth": 0,
            "ticks": ""
           }
          },
          "colorscale": {
           "diverging": [
            [
             0,
             "#8e0152"
            ],
            [
             0.1,
             "#c51b7d"
            ],
            [
             0.2,
             "#de77ae"
            ],
            [
             0.3,
             "#f1b6da"
            ],
            [
             0.4,
             "#fde0ef"
            ],
            [
             0.5,
             "#f7f7f7"
            ],
            [
             0.6,
             "#e6f5d0"
            ],
            [
             0.7,
             "#b8e186"
            ],
            [
             0.8,
             "#7fbc41"
            ],
            [
             0.9,
             "#4d9221"
            ],
            [
             1,
             "#276419"
            ]
           ],
           "sequential": [
            [
             0,
             "#0d0887"
            ],
            [
             0.1111111111111111,
             "#46039f"
            ],
            [
             0.2222222222222222,
             "#7201a8"
            ],
            [
             0.3333333333333333,
             "#9c179e"
            ],
            [
             0.4444444444444444,
             "#bd3786"
            ],
            [
             0.5555555555555556,
             "#d8576b"
            ],
            [
             0.6666666666666666,
             "#ed7953"
            ],
            [
             0.7777777777777778,
             "#fb9f3a"
            ],
            [
             0.8888888888888888,
             "#fdca26"
            ],
            [
             1,
             "#f0f921"
            ]
           ],
           "sequentialminus": [
            [
             0,
             "#0d0887"
            ],
            [
             0.1111111111111111,
             "#46039f"
            ],
            [
             0.2222222222222222,
             "#7201a8"
            ],
            [
             0.3333333333333333,
             "#9c179e"
            ],
            [
             0.4444444444444444,
             "#bd3786"
            ],
            [
             0.5555555555555556,
             "#d8576b"
            ],
            [
             0.6666666666666666,
             "#ed7953"
            ],
            [
             0.7777777777777778,
             "#fb9f3a"
            ],
            [
             0.8888888888888888,
             "#fdca26"
            ],
            [
             1,
             "#f0f921"
            ]
           ]
          },
          "colorway": [
           "#636efa",
           "#EF553B",
           "#00cc96",
           "#ab63fa",
           "#FFA15A",
           "#19d3f3",
           "#FF6692",
           "#B6E880",
           "#FF97FF",
           "#FECB52"
          ],
          "font": {
           "color": "#2a3f5f"
          },
          "geo": {
           "bgcolor": "white",
           "lakecolor": "white",
           "landcolor": "#E5ECF6",
           "showlakes": true,
           "showland": true,
           "subunitcolor": "white"
          },
          "hoverlabel": {
           "align": "left"
          },
          "hovermode": "closest",
          "mapbox": {
           "style": "light"
          },
          "paper_bgcolor": "white",
          "plot_bgcolor": "#E5ECF6",
          "polar": {
           "angularaxis": {
            "gridcolor": "white",
            "linecolor": "white",
            "ticks": ""
           },
           "bgcolor": "#E5ECF6",
           "radialaxis": {
            "gridcolor": "white",
            "linecolor": "white",
            "ticks": ""
           }
          },
          "scene": {
           "xaxis": {
            "backgroundcolor": "#E5ECF6",
            "gridcolor": "white",
            "gridwidth": 2,
            "linecolor": "white",
            "showbackground": true,
            "ticks": "",
            "zerolinecolor": "white"
           },
           "yaxis": {
            "backgroundcolor": "#E5ECF6",
            "gridcolor": "white",
            "gridwidth": 2,
            "linecolor": "white",
            "showbackground": true,
            "ticks": "",
            "zerolinecolor": "white"
           },
           "zaxis": {
            "backgroundcolor": "#E5ECF6",
            "gridcolor": "white",
            "gridwidth": 2,
            "linecolor": "white",
            "showbackground": true,
            "ticks": "",
            "zerolinecolor": "white"
           }
          },
          "shapedefaults": {
           "line": {
            "color": "#2a3f5f"
           }
          },
          "ternary": {
           "aaxis": {
            "gridcolor": "white",
            "linecolor": "white",
            "ticks": ""
           },
           "baxis": {
            "gridcolor": "white",
            "linecolor": "white",
            "ticks": ""
           },
           "bgcolor": "#E5ECF6",
           "caxis": {
            "gridcolor": "white",
            "linecolor": "white",
            "ticks": ""
           }
          },
          "title": {
           "x": 0.05
          },
          "xaxis": {
           "automargin": true,
           "gridcolor": "white",
           "linecolor": "white",
           "ticks": "",
           "title": {
            "standoff": 15
           },
           "zerolinecolor": "white",
           "zerolinewidth": 2
          },
          "yaxis": {
           "automargin": true,
           "gridcolor": "white",
           "linecolor": "white",
           "ticks": "",
           "title": {
            "standoff": 15
           },
           "zerolinecolor": "white",
           "zerolinewidth": 2
          }
         }
        },
        "title": {
         "text": "Mortality Rate vs. Confirmed Cases"
        },
        "xaxis": {
         "anchor": "y",
         "domain": [
          0,
          1
         ],
         "title": {
          "text": "New Confirmed Cases"
         }
        },
        "yaxis": {
         "anchor": "x",
         "domain": [
          0,
          1
         ],
         "title": {
          "text": "Mortality Rate (%)"
         }
        }
       }
      }
     },
     "metadata": {},
     "output_type": "display_data"
    }
   ],
   "source": [
    "# Scatter plot for mortality rate vs. confirmed cases\n",
    "\n",
    "# Calculate derived variable: Mortality Rate\n",
    "df['mortality_rate'] = (df['new_deceased'] / df['new_confirmed']) * 100 #putting it here again since it raised an error when only done earlier\n",
    "\n",
    "fig5 = px.scatter(\n",
    "    df,\n",
    "    x='new_confirmed',\n",
    "    y='mortality_rate',\n",
    "    color='country_name',\n",
    "    title=\"Mortality Rate vs. Confirmed Cases\",\n",
    "    labels={'new_confirmed': 'New Confirmed Cases', 'mortality_rate': 'Mortality Rate (%)'}\n",
    ")\n",
    "fig5.show()\n"
   ]
  },
  {
   "cell_type": "markdown",
   "metadata": {},
   "source": [
    "#### Mortality Rate vs. Confirmed Cases\n",
    "- **Insight**: A positive correlation is evident between confirmed cases and mortality rate, especially at lower confirmed case counts. The United States forms the majority of the data points, while Germany and Spain have tighter distributions with lower mortality rates.\n",
    "- **Observation**: This chart highlights that mortality tends to decrease with increasing case volumes, likely due to better resource allocation during larger outbreaks.\n"
   ]
  },
  {
   "cell_type": "markdown",
   "metadata": {},
   "source": [
    "#### General Note on Spain\n",
    "- **Insight**: Spain's data is not solid and lacks consistency, particularly affecting its representation in comparative analyses.\n",
    "- **Recommendation**: Any analysis involving Spain should be approached cautiously or excluded from comparative insights to ensure reliability.\n"
   ]
  },
  {
   "cell_type": "markdown",
   "metadata": {},
   "source": [
    "#### General Note on Italy\n",
    "- **Insight**: Italy's data is significantly incomplete, particularly lacking in mortality-related fields. As a result, the insights for Italy are limited compared to other countries.\n",
    "- **Recommendation**: Any further analysis involving mortality data should exclude Italy to maintain statistical integrity.\n"
   ]
  },
  {
   "cell_type": "markdown",
   "metadata": {},
   "source": [
    "### Section 3b: Demographics-Supported COVID-19 Insights\n",
    "\n",
    "The following section provides a sequential analysis based on COVID-19 confirmed cases and mortality metrics, further broken down by demographics such as gender and age groups. Real insights are derived from data visualizations, with an emphasis on highlighting the logic connecting these analyses.\n",
    "\n",
    "### Data Availability Commentary\n",
    "\n",
    "Throughout the analysis, it is important to note:\n",
    "- Italy’s limited mortality data restricts its contribution to certain insights, particularly related to death rates.\n",
    "- Spain also shows gaps in the population data which makes it significantly harder to analyze.\n",
    "- The data is only sufficiently robust to analyze demographic patterns and draw insights for the other countries, especially the United States and until q1 2022 Germany.\n"
   ]
  },
  {
   "cell_type": "code",
   "execution_count": 20,
   "metadata": {},
   "outputs": [
    {
     "data": {
      "application/vnd.plotly.v1+json": {
       "config": {
        "plotlyServerURL": "https://plot.ly"
       },
       "data": [
        {
         "alignmentgroup": "True",
         "hovertemplate": "Gender=Male<br>Country=%{x}<br>Average Weekly Cases=%{y}<extra></extra>",
         "legendgroup": "Male",
         "marker": {
          "color": "#636efa",
          "pattern": {
           "shape": ""
          }
         },
         "name": "Male",
         "offsetgroup": "Male",
         "orientation": "v",
         "showlegend": true,
         "textposition": "auto",
         "type": "bar",
         "x": [
          "Germany",
          "Italy",
          "Spain",
          "United States of America"
         ],
         "xaxis": "x",
         "y": [
          55929.31007253634,
          74290.10531663791,
          20219.543309252396,
          312721.5179589917
         ],
         "yaxis": "y"
        },
        {
         "alignmentgroup": "True",
         "hovertemplate": "Gender=Female<br>Country=%{x}<br>Average Weekly Cases=%{y}<extra></extra>",
         "legendgroup": "Female",
         "marker": {
          "color": "#EF553B",
          "pattern": {
           "shape": ""
          }
         },
         "name": "Female",
         "offsetgroup": "Female",
         "orientation": "v",
         "showlegend": true,
         "textposition": "auto",
         "type": "bar",
         "x": [
          "Germany",
          "Italy",
          "Spain",
          "United States of America"
         ],
         "xaxis": "x",
         "y": [
          57395.07731485105,
          78336.23056122469,
          20638.839503247604,
          322918.7320410083
         ],
         "yaxis": "y"
        }
       ],
       "layout": {
        "bargap": 0.15,
        "barmode": "group",
        "legend": {
         "title": {
          "text": "Gender"
         },
         "tracegroupgap": 0
        },
        "template": {
         "data": {
          "bar": [
           {
            "error_x": {
             "color": "#2a3f5f"
            },
            "error_y": {
             "color": "#2a3f5f"
            },
            "marker": {
             "line": {
              "color": "#E5ECF6",
              "width": 0.5
             },
             "pattern": {
              "fillmode": "overlay",
              "size": 10,
              "solidity": 0.2
             }
            },
            "type": "bar"
           }
          ],
          "barpolar": [
           {
            "marker": {
             "line": {
              "color": "#E5ECF6",
              "width": 0.5
             },
             "pattern": {
              "fillmode": "overlay",
              "size": 10,
              "solidity": 0.2
             }
            },
            "type": "barpolar"
           }
          ],
          "carpet": [
           {
            "aaxis": {
             "endlinecolor": "#2a3f5f",
             "gridcolor": "white",
             "linecolor": "white",
             "minorgridcolor": "white",
             "startlinecolor": "#2a3f5f"
            },
            "baxis": {
             "endlinecolor": "#2a3f5f",
             "gridcolor": "white",
             "linecolor": "white",
             "minorgridcolor": "white",
             "startlinecolor": "#2a3f5f"
            },
            "type": "carpet"
           }
          ],
          "choropleth": [
           {
            "colorbar": {
             "outlinewidth": 0,
             "ticks": ""
            },
            "type": "choropleth"
           }
          ],
          "contour": [
           {
            "colorbar": {
             "outlinewidth": 0,
             "ticks": ""
            },
            "colorscale": [
             [
              0,
              "#0d0887"
             ],
             [
              0.1111111111111111,
              "#46039f"
             ],
             [
              0.2222222222222222,
              "#7201a8"
             ],
             [
              0.3333333333333333,
              "#9c179e"
             ],
             [
              0.4444444444444444,
              "#bd3786"
             ],
             [
              0.5555555555555556,
              "#d8576b"
             ],
             [
              0.6666666666666666,
              "#ed7953"
             ],
             [
              0.7777777777777778,
              "#fb9f3a"
             ],
             [
              0.8888888888888888,
              "#fdca26"
             ],
             [
              1,
              "#f0f921"
             ]
            ],
            "type": "contour"
           }
          ],
          "contourcarpet": [
           {
            "colorbar": {
             "outlinewidth": 0,
             "ticks": ""
            },
            "type": "contourcarpet"
           }
          ],
          "heatmap": [
           {
            "colorbar": {
             "outlinewidth": 0,
             "ticks": ""
            },
            "colorscale": [
             [
              0,
              "#0d0887"
             ],
             [
              0.1111111111111111,
              "#46039f"
             ],
             [
              0.2222222222222222,
              "#7201a8"
             ],
             [
              0.3333333333333333,
              "#9c179e"
             ],
             [
              0.4444444444444444,
              "#bd3786"
             ],
             [
              0.5555555555555556,
              "#d8576b"
             ],
             [
              0.6666666666666666,
              "#ed7953"
             ],
             [
              0.7777777777777778,
              "#fb9f3a"
             ],
             [
              0.8888888888888888,
              "#fdca26"
             ],
             [
              1,
              "#f0f921"
             ]
            ],
            "type": "heatmap"
           }
          ],
          "heatmapgl": [
           {
            "colorbar": {
             "outlinewidth": 0,
             "ticks": ""
            },
            "colorscale": [
             [
              0,
              "#0d0887"
             ],
             [
              0.1111111111111111,
              "#46039f"
             ],
             [
              0.2222222222222222,
              "#7201a8"
             ],
             [
              0.3333333333333333,
              "#9c179e"
             ],
             [
              0.4444444444444444,
              "#bd3786"
             ],
             [
              0.5555555555555556,
              "#d8576b"
             ],
             [
              0.6666666666666666,
              "#ed7953"
             ],
             [
              0.7777777777777778,
              "#fb9f3a"
             ],
             [
              0.8888888888888888,
              "#fdca26"
             ],
             [
              1,
              "#f0f921"
             ]
            ],
            "type": "heatmapgl"
           }
          ],
          "histogram": [
           {
            "marker": {
             "pattern": {
              "fillmode": "overlay",
              "size": 10,
              "solidity": 0.2
             }
            },
            "type": "histogram"
           }
          ],
          "histogram2d": [
           {
            "colorbar": {
             "outlinewidth": 0,
             "ticks": ""
            },
            "colorscale": [
             [
              0,
              "#0d0887"
             ],
             [
              0.1111111111111111,
              "#46039f"
             ],
             [
              0.2222222222222222,
              "#7201a8"
             ],
             [
              0.3333333333333333,
              "#9c179e"
             ],
             [
              0.4444444444444444,
              "#bd3786"
             ],
             [
              0.5555555555555556,
              "#d8576b"
             ],
             [
              0.6666666666666666,
              "#ed7953"
             ],
             [
              0.7777777777777778,
              "#fb9f3a"
             ],
             [
              0.8888888888888888,
              "#fdca26"
             ],
             [
              1,
              "#f0f921"
             ]
            ],
            "type": "histogram2d"
           }
          ],
          "histogram2dcontour": [
           {
            "colorbar": {
             "outlinewidth": 0,
             "ticks": ""
            },
            "colorscale": [
             [
              0,
              "#0d0887"
             ],
             [
              0.1111111111111111,
              "#46039f"
             ],
             [
              0.2222222222222222,
              "#7201a8"
             ],
             [
              0.3333333333333333,
              "#9c179e"
             ],
             [
              0.4444444444444444,
              "#bd3786"
             ],
             [
              0.5555555555555556,
              "#d8576b"
             ],
             [
              0.6666666666666666,
              "#ed7953"
             ],
             [
              0.7777777777777778,
              "#fb9f3a"
             ],
             [
              0.8888888888888888,
              "#fdca26"
             ],
             [
              1,
              "#f0f921"
             ]
            ],
            "type": "histogram2dcontour"
           }
          ],
          "mesh3d": [
           {
            "colorbar": {
             "outlinewidth": 0,
             "ticks": ""
            },
            "type": "mesh3d"
           }
          ],
          "parcoords": [
           {
            "line": {
             "colorbar": {
              "outlinewidth": 0,
              "ticks": ""
             }
            },
            "type": "parcoords"
           }
          ],
          "pie": [
           {
            "automargin": true,
            "type": "pie"
           }
          ],
          "scatter": [
           {
            "fillpattern": {
             "fillmode": "overlay",
             "size": 10,
             "solidity": 0.2
            },
            "type": "scatter"
           }
          ],
          "scatter3d": [
           {
            "line": {
             "colorbar": {
              "outlinewidth": 0,
              "ticks": ""
             }
            },
            "marker": {
             "colorbar": {
              "outlinewidth": 0,
              "ticks": ""
             }
            },
            "type": "scatter3d"
           }
          ],
          "scattercarpet": [
           {
            "marker": {
             "colorbar": {
              "outlinewidth": 0,
              "ticks": ""
             }
            },
            "type": "scattercarpet"
           }
          ],
          "scattergeo": [
           {
            "marker": {
             "colorbar": {
              "outlinewidth": 0,
              "ticks": ""
             }
            },
            "type": "scattergeo"
           }
          ],
          "scattergl": [
           {
            "marker": {
             "colorbar": {
              "outlinewidth": 0,
              "ticks": ""
             }
            },
            "type": "scattergl"
           }
          ],
          "scattermapbox": [
           {
            "marker": {
             "colorbar": {
              "outlinewidth": 0,
              "ticks": ""
             }
            },
            "type": "scattermapbox"
           }
          ],
          "scatterpolar": [
           {
            "marker": {
             "colorbar": {
              "outlinewidth": 0,
              "ticks": ""
             }
            },
            "type": "scatterpolar"
           }
          ],
          "scatterpolargl": [
           {
            "marker": {
             "colorbar": {
              "outlinewidth": 0,
              "ticks": ""
             }
            },
            "type": "scatterpolargl"
           }
          ],
          "scatterternary": [
           {
            "marker": {
             "colorbar": {
              "outlinewidth": 0,
              "ticks": ""
             }
            },
            "type": "scatterternary"
           }
          ],
          "surface": [
           {
            "colorbar": {
             "outlinewidth": 0,
             "ticks": ""
            },
            "colorscale": [
             [
              0,
              "#0d0887"
             ],
             [
              0.1111111111111111,
              "#46039f"
             ],
             [
              0.2222222222222222,
              "#7201a8"
             ],
             [
              0.3333333333333333,
              "#9c179e"
             ],
             [
              0.4444444444444444,
              "#bd3786"
             ],
             [
              0.5555555555555556,
              "#d8576b"
             ],
             [
              0.6666666666666666,
              "#ed7953"
             ],
             [
              0.7777777777777778,
              "#fb9f3a"
             ],
             [
              0.8888888888888888,
              "#fdca26"
             ],
             [
              1,
              "#f0f921"
             ]
            ],
            "type": "surface"
           }
          ],
          "table": [
           {
            "cells": {
             "fill": {
              "color": "#EBF0F8"
             },
             "line": {
              "color": "white"
             }
            },
            "header": {
             "fill": {
              "color": "#C8D4E3"
             },
             "line": {
              "color": "white"
             }
            },
            "type": "table"
           }
          ]
         },
         "layout": {
          "annotationdefaults": {
           "arrowcolor": "#2a3f5f",
           "arrowhead": 0,
           "arrowwidth": 1
          },
          "autotypenumbers": "strict",
          "coloraxis": {
           "colorbar": {
            "outlinewidth": 0,
            "ticks": ""
           }
          },
          "colorscale": {
           "diverging": [
            [
             0,
             "#8e0152"
            ],
            [
             0.1,
             "#c51b7d"
            ],
            [
             0.2,
             "#de77ae"
            ],
            [
             0.3,
             "#f1b6da"
            ],
            [
             0.4,
             "#fde0ef"
            ],
            [
             0.5,
             "#f7f7f7"
            ],
            [
             0.6,
             "#e6f5d0"
            ],
            [
             0.7,
             "#b8e186"
            ],
            [
             0.8,
             "#7fbc41"
            ],
            [
             0.9,
             "#4d9221"
            ],
            [
             1,
             "#276419"
            ]
           ],
           "sequential": [
            [
             0,
             "#0d0887"
            ],
            [
             0.1111111111111111,
             "#46039f"
            ],
            [
             0.2222222222222222,
             "#7201a8"
            ],
            [
             0.3333333333333333,
             "#9c179e"
            ],
            [
             0.4444444444444444,
             "#bd3786"
            ],
            [
             0.5555555555555556,
             "#d8576b"
            ],
            [
             0.6666666666666666,
             "#ed7953"
            ],
            [
             0.7777777777777778,
             "#fb9f3a"
            ],
            [
             0.8888888888888888,
             "#fdca26"
            ],
            [
             1,
             "#f0f921"
            ]
           ],
           "sequentialminus": [
            [
             0,
             "#0d0887"
            ],
            [
             0.1111111111111111,
             "#46039f"
            ],
            [
             0.2222222222222222,
             "#7201a8"
            ],
            [
             0.3333333333333333,
             "#9c179e"
            ],
            [
             0.4444444444444444,
             "#bd3786"
            ],
            [
             0.5555555555555556,
             "#d8576b"
            ],
            [
             0.6666666666666666,
             "#ed7953"
            ],
            [
             0.7777777777777778,
             "#fb9f3a"
            ],
            [
             0.8888888888888888,
             "#fdca26"
            ],
            [
             1,
             "#f0f921"
            ]
           ]
          },
          "colorway": [
           "#636efa",
           "#EF553B",
           "#00cc96",
           "#ab63fa",
           "#FFA15A",
           "#19d3f3",
           "#FF6692",
           "#B6E880",
           "#FF97FF",
           "#FECB52"
          ],
          "font": {
           "color": "#2a3f5f"
          },
          "geo": {
           "bgcolor": "white",
           "lakecolor": "white",
           "landcolor": "#E5ECF6",
           "showlakes": true,
           "showland": true,
           "subunitcolor": "white"
          },
          "hoverlabel": {
           "align": "left"
          },
          "hovermode": "closest",
          "mapbox": {
           "style": "light"
          },
          "paper_bgcolor": "white",
          "plot_bgcolor": "#E5ECF6",
          "polar": {
           "angularaxis": {
            "gridcolor": "white",
            "linecolor": "white",
            "ticks": ""
           },
           "bgcolor": "#E5ECF6",
           "radialaxis": {
            "gridcolor": "white",
            "linecolor": "white",
            "ticks": ""
           }
          },
          "scene": {
           "xaxis": {
            "backgroundcolor": "#E5ECF6",
            "gridcolor": "white",
            "gridwidth": 2,
            "linecolor": "white",
            "showbackground": true,
            "ticks": "",
            "zerolinecolor": "white"
           },
           "yaxis": {
            "backgroundcolor": "#E5ECF6",
            "gridcolor": "white",
            "gridwidth": 2,
            "linecolor": "white",
            "showbackground": true,
            "ticks": "",
            "zerolinecolor": "white"
           },
           "zaxis": {
            "backgroundcolor": "#E5ECF6",
            "gridcolor": "white",
            "gridwidth": 2,
            "linecolor": "white",
            "showbackground": true,
            "ticks": "",
            "zerolinecolor": "white"
           }
          },
          "shapedefaults": {
           "line": {
            "color": "#2a3f5f"
           }
          },
          "ternary": {
           "aaxis": {
            "gridcolor": "white",
            "linecolor": "white",
            "ticks": ""
           },
           "baxis": {
            "gridcolor": "white",
            "linecolor": "white",
            "ticks": ""
           },
           "bgcolor": "#E5ECF6",
           "caxis": {
            "gridcolor": "white",
            "linecolor": "white",
            "ticks": ""
           }
          },
          "title": {
           "x": 0.05
          },
          "xaxis": {
           "automargin": true,
           "gridcolor": "white",
           "linecolor": "white",
           "ticks": "",
           "title": {
            "standoff": 15
           },
           "zerolinecolor": "white",
           "zerolinewidth": 2
          },
          "yaxis": {
           "automargin": true,
           "gridcolor": "white",
           "linecolor": "white",
           "ticks": "",
           "title": {
            "standoff": 15
           },
           "zerolinecolor": "white",
           "zerolinewidth": 2
          }
         }
        },
        "title": {
         "text": "Average Weekly Confirmed Cases by Gender and Country"
        },
        "xaxis": {
         "anchor": "y",
         "domain": [
          0,
          1
         ],
         "title": {
          "text": "Country"
         }
        },
        "yaxis": {
         "anchor": "x",
         "domain": [
          0,
          1
         ],
         "title": {
          "text": "Average Weekly Cases"
         }
        }
       }
      }
     },
     "metadata": {},
     "output_type": "display_data"
    }
   ],
   "source": [
    "# Calculate confirmed cases by gender using population proportions\n",
    "df['confirmed_cases_male'] = df['new_confirmed'] * (df['population_male'] / (df['population_male'] + df['population_female']))\n",
    "df['confirmed_cases_female'] = df['new_confirmed'] * (df['population_female'] / (df['population_male'] + df['population_female']))\n",
    "\n",
    "# Group by country and compute the mean for confirmed cases by gender\n",
    "gender_data = df.groupby(\"country_name\")[['confirmed_cases_male', 'confirmed_cases_female']].mean().reset_index()\n",
    "\n",
    "# Reshape the data using melt to create Gender and Cases columns\n",
    "gender_data = gender_data.melt(\n",
    "    id_vars=['country_name'],\n",
    "    value_vars=['confirmed_cases_male', 'confirmed_cases_female'],\n",
    "    var_name='Gender',\n",
    "    value_name='Confirmed Cases'\n",
    ")\n",
    "\n",
    "# Rename Gender values for better readability\n",
    "gender_data['Gender'] = gender_data['Gender'].replace({\n",
    "    \"confirmed_cases_male\": \"Male\",\n",
    "    \"confirmed_cases_female\": \"Female\"\n",
    "})\n",
    "\n",
    "# Create grouped bar chart for confirmed cases by gender\n",
    "fig_gender = px.bar(\n",
    "    gender_data,\n",
    "    x='country_name',\n",
    "    y='Confirmed Cases',\n",
    "    color='Gender',\n",
    "    title=\"Average Weekly Confirmed Cases by Gender and Country\",\n",
    "    barmode='group',\n",
    "    labels={'Confirmed Cases': 'Average Weekly Cases', 'country_name': 'Country'}\n",
    ")\n",
    "\n",
    "fig_gender.update_layout(\n",
    "    xaxis_title=\"Country\",\n",
    "    yaxis_title=\"Average Weekly Cases\",\n",
    "    legend_title=\"Gender\",\n",
    "    bargap=0.15\n",
    ")\n",
    "\n",
    "fig_gender.show()\n"
   ]
  },
  {
   "cell_type": "markdown",
   "metadata": {},
   "source": [
    "#### **1. Confirmed Cases by Gender and Country**\n",
    "\n",
    "The chart illustrates the population split by gender for each country, normalizing it to make it comparable and focusing on the distribution of confirmed cases across genders.\n",
    "\n",
    "- **Insight**: \n",
    "  - The United States exhibits a substantially larger population compared to the other countries, contributing to its higher number of confirmed cases.\n",
    "  - Gender distribution appears balanced across all countries, with no significant differences in cases between males and females.\n"
   ]
  },
  {
   "cell_type": "code",
   "execution_count": 21,
   "metadata": {},
   "outputs": [
    {
     "data": {
      "application/vnd.plotly.v1+json": {
       "config": {
        "plotlyServerURL": "https://plot.ly"
       },
       "data": [
        {
         "alignmentgroup": "True",
         "hovertemplate": "age_group=00_09<br>Country=%{x}<br>New Confirmed Cases=%{y}<extra></extra>",
         "legendgroup": "00_09",
         "marker": {
          "color": "#636efa",
          "pattern": {
           "shape": ""
          }
         },
         "name": "00_09",
         "offsetgroup": "00_09",
         "orientation": "v",
         "showlegend": true,
         "textposition": "auto",
         "type": "bar",
         "x": [
          "Germany",
          "Italy",
          "Spain",
          "United States of America"
         ],
         "xaxis": "x",
         "y": [
          10320.617906946827,
          12755.49505479941,
          3580.5801925415594,
          78564.49011245983
         ],
         "yaxis": "y"
        },
        {
         "alignmentgroup": "True",
         "hovertemplate": "age_group=10_19<br>Country=%{x}<br>New Confirmed Cases=%{y}<extra></extra>",
         "legendgroup": "10_19",
         "marker": {
          "color": "#EF553B",
          "pattern": {
           "shape": ""
          }
         },
         "name": "10_19",
         "offsetgroup": "10_19",
         "orientation": "v",
         "showlegend": true,
         "textposition": "auto",
         "type": "bar",
         "x": [
          "Germany",
          "Italy",
          "Spain",
          "United States of America"
         ],
         "xaxis": "x",
         "y": [
          10574.70757393228,
          14401.680629753931,
          4236.454446857483,
          81480.24004474145
         ],
         "yaxis": "y"
        },
        {
         "alignmentgroup": "True",
         "hovertemplate": "age_group=20_29<br>Country=%{x}<br>New Confirmed Cases=%{y}<extra></extra>",
         "legendgroup": "20_29",
         "marker": {
          "color": "#00cc96",
          "pattern": {
           "shape": ""
          }
         },
         "name": "20_29",
         "offsetgroup": "20_29",
         "orientation": "v",
         "showlegend": true,
         "textposition": "auto",
         "type": "bar",
         "x": [
          "Germany",
          "Italy",
          "Spain",
          "United States of America"
         ],
         "xaxis": "x",
         "y": [
          13297.077669809783,
          15480.391713983296,
          4370.027948261554,
          89152.77061561933
         ],
         "yaxis": "y"
        },
        {
         "alignmentgroup": "True",
         "hovertemplate": "age_group=30_39<br>Country=%{x}<br>New Confirmed Cases=%{y}<extra></extra>",
         "legendgroup": "30_39",
         "marker": {
          "color": "#ab63fa",
          "pattern": {
           "shape": ""
          }
         },
         "name": "30_39",
         "offsetgroup": "30_39",
         "orientation": "v",
         "showlegend": true,
         "textposition": "auto",
         "type": "bar",
         "x": [
          "Germany",
          "Italy",
          "Spain",
          "United States of America"
         ],
         "xaxis": "x",
         "y": [
          14327.872113717445,
          17814.263072229645,
          5500.833208884221,
          84928.13124687065
         ],
         "yaxis": "y"
        },
        {
         "alignmentgroup": "True",
         "hovertemplate": "age_group=40_49<br>Country=%{x}<br>New Confirmed Cases=%{y}<extra></extra>",
         "legendgroup": "40_49",
         "marker": {
          "color": "#FFA15A",
          "pattern": {
           "shape": ""
          }
         },
         "name": "40_49",
         "offsetgroup": "40_49",
         "orientation": "v",
         "showlegend": true,
         "textposition": "auto",
         "type": "bar",
         "x": [
          "Germany",
          "Italy",
          "Spain",
          "United States of America"
         ],
         "xaxis": "x",
         "y": [
          14229.35151596239,
          23420.393285260638,
          7025.155818941663,
          79340.52570403031
         ],
         "yaxis": "y"
        },
        {
         "alignmentgroup": "True",
         "hovertemplate": "age_group=50_59<br>Country=%{x}<br>New Confirmed Cases=%{y}<extra></extra>",
         "legendgroup": "50_59",
         "marker": {
          "color": "#19d3f3",
          "pattern": {
           "shape": ""
          }
         },
         "name": "50_59",
         "offsetgroup": "50_59",
         "orientation": "v",
         "showlegend": true,
         "textposition": "auto",
         "type": "bar",
         "x": [
          "Germany",
          "Italy",
          "Spain",
          "United States of America"
         ],
         "xaxis": "x",
         "y": [
          18484.41797110044,
          23703.699710176057,
          6264.0254654404625,
          84502.1899813595
         ],
         "yaxis": "y"
        },
        {
         "alignmentgroup": "True",
         "hovertemplate": "age_group=60_69<br>Country=%{x}<br>New Confirmed Cases=%{y}<extra></extra>",
         "legendgroup": "60_69",
         "marker": {
          "color": "#FF6692",
          "pattern": {
           "shape": ""
          }
         },
         "name": "60_69",
         "offsetgroup": "60_69",
         "orientation": "v",
         "showlegend": true,
         "textposition": "auto",
         "type": "bar",
         "x": [
          "Germany",
          "Italy",
          "Spain",
          "United States of America"
         ],
         "xaxis": "x",
         "y": [
          14160.654373781932,
          18621.700422754748,
          4518.02576710744,
          71522.17670814903
         ],
         "yaxis": "y"
        },
        {
         "alignmentgroup": "True",
         "hovertemplate": "age_group=70_79<br>Country=%{x}<br>New Confirmed Cases=%{y}<extra></extra>",
         "legendgroup": "70_79",
         "marker": {
          "color": "#B6E880",
          "pattern": {
           "shape": ""
          }
         },
         "name": "70_79",
         "offsetgroup": "70_79",
         "orientation": "v",
         "showlegend": true,
         "textposition": "auto",
         "type": "bar",
         "x": [
          "Germany",
          "Italy",
          "Spain",
          "United States of America"
         ],
         "xaxis": "x",
         "y": [
          10519.602929715706,
          15233.051226078585,
          3209.4736584080792,
          41913.17930546467
         ],
         "yaxis": "y"
        },
        {
         "alignmentgroup": "True",
         "hovertemplate": "age_group=80_and_older<br>Country=%{x}<br>New Confirmed Cases=%{y}<extra></extra>",
         "legendgroup": "80_and_older",
         "marker": {
          "color": "#FF97FF",
          "pattern": {
           "shape": ""
          }
         },
         "name": "80_and_older",
         "offsetgroup": "80_and_older",
         "orientation": "v",
         "showlegend": true,
         "textposition": "auto",
         "type": "bar",
         "x": [
          "Germany",
          "Italy",
          "Spain",
          "United States of America"
         ],
         "xaxis": "x",
         "y": [
          7410.085332420585,
          11195.660762826281,
          2153.8063060575373,
          24236.54628130523
         ],
         "yaxis": "y"
        }
       ],
       "layout": {
        "barmode": "relative",
        "legend": {
         "title": {
          "text": "Age Group"
         },
         "tracegroupgap": 0
        },
        "template": {
         "data": {
          "bar": [
           {
            "error_x": {
             "color": "#2a3f5f"
            },
            "error_y": {
             "color": "#2a3f5f"
            },
            "marker": {
             "line": {
              "color": "#E5ECF6",
              "width": 0.5
             },
             "pattern": {
              "fillmode": "overlay",
              "size": 10,
              "solidity": 0.2
             }
            },
            "type": "bar"
           }
          ],
          "barpolar": [
           {
            "marker": {
             "line": {
              "color": "#E5ECF6",
              "width": 0.5
             },
             "pattern": {
              "fillmode": "overlay",
              "size": 10,
              "solidity": 0.2
             }
            },
            "type": "barpolar"
           }
          ],
          "carpet": [
           {
            "aaxis": {
             "endlinecolor": "#2a3f5f",
             "gridcolor": "white",
             "linecolor": "white",
             "minorgridcolor": "white",
             "startlinecolor": "#2a3f5f"
            },
            "baxis": {
             "endlinecolor": "#2a3f5f",
             "gridcolor": "white",
             "linecolor": "white",
             "minorgridcolor": "white",
             "startlinecolor": "#2a3f5f"
            },
            "type": "carpet"
           }
          ],
          "choropleth": [
           {
            "colorbar": {
             "outlinewidth": 0,
             "ticks": ""
            },
            "type": "choropleth"
           }
          ],
          "contour": [
           {
            "colorbar": {
             "outlinewidth": 0,
             "ticks": ""
            },
            "colorscale": [
             [
              0,
              "#0d0887"
             ],
             [
              0.1111111111111111,
              "#46039f"
             ],
             [
              0.2222222222222222,
              "#7201a8"
             ],
             [
              0.3333333333333333,
              "#9c179e"
             ],
             [
              0.4444444444444444,
              "#bd3786"
             ],
             [
              0.5555555555555556,
              "#d8576b"
             ],
             [
              0.6666666666666666,
              "#ed7953"
             ],
             [
              0.7777777777777778,
              "#fb9f3a"
             ],
             [
              0.8888888888888888,
              "#fdca26"
             ],
             [
              1,
              "#f0f921"
             ]
            ],
            "type": "contour"
           }
          ],
          "contourcarpet": [
           {
            "colorbar": {
             "outlinewidth": 0,
             "ticks": ""
            },
            "type": "contourcarpet"
           }
          ],
          "heatmap": [
           {
            "colorbar": {
             "outlinewidth": 0,
             "ticks": ""
            },
            "colorscale": [
             [
              0,
              "#0d0887"
             ],
             [
              0.1111111111111111,
              "#46039f"
             ],
             [
              0.2222222222222222,
              "#7201a8"
             ],
             [
              0.3333333333333333,
              "#9c179e"
             ],
             [
              0.4444444444444444,
              "#bd3786"
             ],
             [
              0.5555555555555556,
              "#d8576b"
             ],
             [
              0.6666666666666666,
              "#ed7953"
             ],
             [
              0.7777777777777778,
              "#fb9f3a"
             ],
             [
              0.8888888888888888,
              "#fdca26"
             ],
             [
              1,
              "#f0f921"
             ]
            ],
            "type": "heatmap"
           }
          ],
          "heatmapgl": [
           {
            "colorbar": {
             "outlinewidth": 0,
             "ticks": ""
            },
            "colorscale": [
             [
              0,
              "#0d0887"
             ],
             [
              0.1111111111111111,
              "#46039f"
             ],
             [
              0.2222222222222222,
              "#7201a8"
             ],
             [
              0.3333333333333333,
              "#9c179e"
             ],
             [
              0.4444444444444444,
              "#bd3786"
             ],
             [
              0.5555555555555556,
              "#d8576b"
             ],
             [
              0.6666666666666666,
              "#ed7953"
             ],
             [
              0.7777777777777778,
              "#fb9f3a"
             ],
             [
              0.8888888888888888,
              "#fdca26"
             ],
             [
              1,
              "#f0f921"
             ]
            ],
            "type": "heatmapgl"
           }
          ],
          "histogram": [
           {
            "marker": {
             "pattern": {
              "fillmode": "overlay",
              "size": 10,
              "solidity": 0.2
             }
            },
            "type": "histogram"
           }
          ],
          "histogram2d": [
           {
            "colorbar": {
             "outlinewidth": 0,
             "ticks": ""
            },
            "colorscale": [
             [
              0,
              "#0d0887"
             ],
             [
              0.1111111111111111,
              "#46039f"
             ],
             [
              0.2222222222222222,
              "#7201a8"
             ],
             [
              0.3333333333333333,
              "#9c179e"
             ],
             [
              0.4444444444444444,
              "#bd3786"
             ],
             [
              0.5555555555555556,
              "#d8576b"
             ],
             [
              0.6666666666666666,
              "#ed7953"
             ],
             [
              0.7777777777777778,
              "#fb9f3a"
             ],
             [
              0.8888888888888888,
              "#fdca26"
             ],
             [
              1,
              "#f0f921"
             ]
            ],
            "type": "histogram2d"
           }
          ],
          "histogram2dcontour": [
           {
            "colorbar": {
             "outlinewidth": 0,
             "ticks": ""
            },
            "colorscale": [
             [
              0,
              "#0d0887"
             ],
             [
              0.1111111111111111,
              "#46039f"
             ],
             [
              0.2222222222222222,
              "#7201a8"
             ],
             [
              0.3333333333333333,
              "#9c179e"
             ],
             [
              0.4444444444444444,
              "#bd3786"
             ],
             [
              0.5555555555555556,
              "#d8576b"
             ],
             [
              0.6666666666666666,
              "#ed7953"
             ],
             [
              0.7777777777777778,
              "#fb9f3a"
             ],
             [
              0.8888888888888888,
              "#fdca26"
             ],
             [
              1,
              "#f0f921"
             ]
            ],
            "type": "histogram2dcontour"
           }
          ],
          "mesh3d": [
           {
            "colorbar": {
             "outlinewidth": 0,
             "ticks": ""
            },
            "type": "mesh3d"
           }
          ],
          "parcoords": [
           {
            "line": {
             "colorbar": {
              "outlinewidth": 0,
              "ticks": ""
             }
            },
            "type": "parcoords"
           }
          ],
          "pie": [
           {
            "automargin": true,
            "type": "pie"
           }
          ],
          "scatter": [
           {
            "fillpattern": {
             "fillmode": "overlay",
             "size": 10,
             "solidity": 0.2
            },
            "type": "scatter"
           }
          ],
          "scatter3d": [
           {
            "line": {
             "colorbar": {
              "outlinewidth": 0,
              "ticks": ""
             }
            },
            "marker": {
             "colorbar": {
              "outlinewidth": 0,
              "ticks": ""
             }
            },
            "type": "scatter3d"
           }
          ],
          "scattercarpet": [
           {
            "marker": {
             "colorbar": {
              "outlinewidth": 0,
              "ticks": ""
             }
            },
            "type": "scattercarpet"
           }
          ],
          "scattergeo": [
           {
            "marker": {
             "colorbar": {
              "outlinewidth": 0,
              "ticks": ""
             }
            },
            "type": "scattergeo"
           }
          ],
          "scattergl": [
           {
            "marker": {
             "colorbar": {
              "outlinewidth": 0,
              "ticks": ""
             }
            },
            "type": "scattergl"
           }
          ],
          "scattermapbox": [
           {
            "marker": {
             "colorbar": {
              "outlinewidth": 0,
              "ticks": ""
             }
            },
            "type": "scattermapbox"
           }
          ],
          "scatterpolar": [
           {
            "marker": {
             "colorbar": {
              "outlinewidth": 0,
              "ticks": ""
             }
            },
            "type": "scatterpolar"
           }
          ],
          "scatterpolargl": [
           {
            "marker": {
             "colorbar": {
              "outlinewidth": 0,
              "ticks": ""
             }
            },
            "type": "scatterpolargl"
           }
          ],
          "scatterternary": [
           {
            "marker": {
             "colorbar": {
              "outlinewidth": 0,
              "ticks": ""
             }
            },
            "type": "scatterternary"
           }
          ],
          "surface": [
           {
            "colorbar": {
             "outlinewidth": 0,
             "ticks": ""
            },
            "colorscale": [
             [
              0,
              "#0d0887"
             ],
             [
              0.1111111111111111,
              "#46039f"
             ],
             [
              0.2222222222222222,
              "#7201a8"
             ],
             [
              0.3333333333333333,
              "#9c179e"
             ],
             [
              0.4444444444444444,
              "#bd3786"
             ],
             [
              0.5555555555555556,
              "#d8576b"
             ],
             [
              0.6666666666666666,
              "#ed7953"
             ],
             [
              0.7777777777777778,
              "#fb9f3a"
             ],
             [
              0.8888888888888888,
              "#fdca26"
             ],
             [
              1,
              "#f0f921"
             ]
            ],
            "type": "surface"
           }
          ],
          "table": [
           {
            "cells": {
             "fill": {
              "color": "#EBF0F8"
             },
             "line": {
              "color": "white"
             }
            },
            "header": {
             "fill": {
              "color": "#C8D4E3"
             },
             "line": {
              "color": "white"
             }
            },
            "type": "table"
           }
          ]
         },
         "layout": {
          "annotationdefaults": {
           "arrowcolor": "#2a3f5f",
           "arrowhead": 0,
           "arrowwidth": 1
          },
          "autotypenumbers": "strict",
          "coloraxis": {
           "colorbar": {
            "outlinewidth": 0,
            "ticks": ""
           }
          },
          "colorscale": {
           "diverging": [
            [
             0,
             "#8e0152"
            ],
            [
             0.1,
             "#c51b7d"
            ],
            [
             0.2,
             "#de77ae"
            ],
            [
             0.3,
             "#f1b6da"
            ],
            [
             0.4,
             "#fde0ef"
            ],
            [
             0.5,
             "#f7f7f7"
            ],
            [
             0.6,
             "#e6f5d0"
            ],
            [
             0.7,
             "#b8e186"
            ],
            [
             0.8,
             "#7fbc41"
            ],
            [
             0.9,
             "#4d9221"
            ],
            [
             1,
             "#276419"
            ]
           ],
           "sequential": [
            [
             0,
             "#0d0887"
            ],
            [
             0.1111111111111111,
             "#46039f"
            ],
            [
             0.2222222222222222,
             "#7201a8"
            ],
            [
             0.3333333333333333,
             "#9c179e"
            ],
            [
             0.4444444444444444,
             "#bd3786"
            ],
            [
             0.5555555555555556,
             "#d8576b"
            ],
            [
             0.6666666666666666,
             "#ed7953"
            ],
            [
             0.7777777777777778,
             "#fb9f3a"
            ],
            [
             0.8888888888888888,
             "#fdca26"
            ],
            [
             1,
             "#f0f921"
            ]
           ],
           "sequentialminus": [
            [
             0,
             "#0d0887"
            ],
            [
             0.1111111111111111,
             "#46039f"
            ],
            [
             0.2222222222222222,
             "#7201a8"
            ],
            [
             0.3333333333333333,
             "#9c179e"
            ],
            [
             0.4444444444444444,
             "#bd3786"
            ],
            [
             0.5555555555555556,
             "#d8576b"
            ],
            [
             0.6666666666666666,
             "#ed7953"
            ],
            [
             0.7777777777777778,
             "#fb9f3a"
            ],
            [
             0.8888888888888888,
             "#fdca26"
            ],
            [
             1,
             "#f0f921"
            ]
           ]
          },
          "colorway": [
           "#636efa",
           "#EF553B",
           "#00cc96",
           "#ab63fa",
           "#FFA15A",
           "#19d3f3",
           "#FF6692",
           "#B6E880",
           "#FF97FF",
           "#FECB52"
          ],
          "font": {
           "color": "#2a3f5f"
          },
          "geo": {
           "bgcolor": "white",
           "lakecolor": "white",
           "landcolor": "#E5ECF6",
           "showlakes": true,
           "showland": true,
           "subunitcolor": "white"
          },
          "hoverlabel": {
           "align": "left"
          },
          "hovermode": "closest",
          "mapbox": {
           "style": "light"
          },
          "paper_bgcolor": "white",
          "plot_bgcolor": "#E5ECF6",
          "polar": {
           "angularaxis": {
            "gridcolor": "white",
            "linecolor": "white",
            "ticks": ""
           },
           "bgcolor": "#E5ECF6",
           "radialaxis": {
            "gridcolor": "white",
            "linecolor": "white",
            "ticks": ""
           }
          },
          "scene": {
           "xaxis": {
            "backgroundcolor": "#E5ECF6",
            "gridcolor": "white",
            "gridwidth": 2,
            "linecolor": "white",
            "showbackground": true,
            "ticks": "",
            "zerolinecolor": "white"
           },
           "yaxis": {
            "backgroundcolor": "#E5ECF6",
            "gridcolor": "white",
            "gridwidth": 2,
            "linecolor": "white",
            "showbackground": true,
            "ticks": "",
            "zerolinecolor": "white"
           },
           "zaxis": {
            "backgroundcolor": "#E5ECF6",
            "gridcolor": "white",
            "gridwidth": 2,
            "linecolor": "white",
            "showbackground": true,
            "ticks": "",
            "zerolinecolor": "white"
           }
          },
          "shapedefaults": {
           "line": {
            "color": "#2a3f5f"
           }
          },
          "ternary": {
           "aaxis": {
            "gridcolor": "white",
            "linecolor": "white",
            "ticks": ""
           },
           "baxis": {
            "gridcolor": "white",
            "linecolor": "white",
            "ticks": ""
           },
           "bgcolor": "#E5ECF6",
           "caxis": {
            "gridcolor": "white",
            "linecolor": "white",
            "ticks": ""
           }
          },
          "title": {
           "x": 0.05
          },
          "xaxis": {
           "automargin": true,
           "gridcolor": "white",
           "linecolor": "white",
           "ticks": "",
           "title": {
            "standoff": 15
           },
           "zerolinecolor": "white",
           "zerolinewidth": 2
          },
          "yaxis": {
           "automargin": true,
           "gridcolor": "white",
           "linecolor": "white",
           "ticks": "",
           "title": {
            "standoff": 15
           },
           "zerolinecolor": "white",
           "zerolinewidth": 2
          }
         }
        },
        "title": {
         "text": "Average Weekly New Confirmed Cases by Age Group"
        },
        "xaxis": {
         "anchor": "y",
         "domain": [
          0,
          1
         ],
         "title": {
          "text": "Country"
         }
        },
        "yaxis": {
         "anchor": "x",
         "domain": [
          0,
          1
         ],
         "title": {
          "text": "New Confirmed Cases"
         }
        }
       }
      }
     },
     "metadata": {},
     "output_type": "display_data"
    }
   ],
   "source": [
    "# Calculate new confirmed cases per age group as a share of total confirmed cases\n",
    "age_columns = [\n",
    "    'population_age_00_09', 'population_age_10_19', 'population_age_20_29',\n",
    "    'population_age_30_39', 'population_age_40_49', 'population_age_50_59',\n",
    "    'population_age_60_69', 'population_age_70_79', 'population_age_80_and_older'\n",
    "]\n",
    "\n",
    "# Distribute new confirmed cases proportionally across age groups\n",
    "for age in age_columns:\n",
    "    df[f'{age}_cases'] = (df[age] / df[age_columns].sum(axis=1)) * df['new_confirmed']\n",
    "\n",
    "# Group by country and calculate the mean for cases by age group\n",
    "age_group_data = df.groupby(\"country_name\")[\n",
    "    [f'{age}_cases' for age in age_columns]\n",
    "].mean().reset_index()\n",
    "\n",
    "# Melt the DataFrame for visualization\n",
    "df_age_melted = age_group_data.melt(\n",
    "    id_vars=['country_name'], \n",
    "    value_vars=[f'{age}_cases' for age in age_columns],\n",
    "    var_name='age_group',\n",
    "    value_name='new_cases'\n",
    ")\n",
    "\n",
    "# Age group mapping for cleaner labels\n",
    "df_age_melted['age_group'] = df_age_melted['age_group'].str.replace('_cases', '').str.replace('population_age_', '')\n",
    "\n",
    "# Stacked bar chart\n",
    "fig_age = px.bar(\n",
    "    df_age_melted,\n",
    "    x='country_name',\n",
    "    y='new_cases',\n",
    "    color='age_group',\n",
    "    title='Average Weekly New Confirmed Cases by Age Group',\n",
    "    labels={'new_cases': 'New Confirmed Cases', 'country_name': 'Country'}\n",
    ")\n",
    "\n",
    "fig_age.update_layout(\n",
    "    xaxis_title=\"Country\",\n",
    "    yaxis_title=\"New Confirmed Cases\",\n",
    "    legend_title=\"Age Group\"\n",
    ")\n",
    "\n",
    "fig_age.show()\n",
    "\n",
    "\n"
   ]
  },
  {
   "cell_type": "markdown",
   "metadata": {},
   "source": [
    "\n",
    "#### **2. New Confirmed Cases Share by Age Group**\n",
    "\n",
    "This visualization compares the share of new confirmed cases across different age groups by country.\n",
    "\n",
    "- **Insight**:\n",
    "  - The United States again dominates in terms of case volume across all age groups.\n",
    "  - The share distribution among age groups is relatively consistent across countries, though slight variations are observed in older populations for countries like Germany and Spain."
   ]
  },
  {
   "cell_type": "code",
   "execution_count": 22,
   "metadata": {},
   "outputs": [
    {
     "data": {
      "application/vnd.plotly.v1+json": {
       "config": {
        "plotlyServerURL": "https://plot.ly"
       },
       "data": [
        {
         "alignmentgroup": "True",
         "hovertemplate": "Age Group=00_09<br>Country=%{x}<br>Weighted Cases=%{y}<extra></extra>",
         "legendgroup": "00_09",
         "marker": {
          "color": "#636efa",
          "pattern": {
           "shape": ""
          }
         },
         "name": "00_09",
         "offsetgroup": "00_09",
         "orientation": "v",
         "showlegend": true,
         "textposition": "auto",
         "type": "bar",
         "x": [
          "Germany",
          "Italy",
          "Spain",
          "United States of America"
         ],
         "xaxis": "x",
         "y": [
          10320.617906946827,
          12755.49505479941,
          3580.5801925415594,
          78564.49011245983
         ],
         "yaxis": "y"
        },
        {
         "alignmentgroup": "True",
         "hovertemplate": "Age Group=10_19<br>Country=%{x}<br>Weighted Cases=%{y}<extra></extra>",
         "legendgroup": "10_19",
         "marker": {
          "color": "#EF553B",
          "pattern": {
           "shape": ""
          }
         },
         "name": "10_19",
         "offsetgroup": "10_19",
         "orientation": "v",
         "showlegend": true,
         "textposition": "auto",
         "type": "bar",
         "x": [
          "Germany",
          "Italy",
          "Spain",
          "United States of America"
         ],
         "xaxis": "x",
         "y": [
          10574.70757393228,
          14401.680629753931,
          4236.454446857483,
          81480.24004474145
         ],
         "yaxis": "y"
        },
        {
         "alignmentgroup": "True",
         "hovertemplate": "Age Group=20_29<br>Country=%{x}<br>Weighted Cases=%{y}<extra></extra>",
         "legendgroup": "20_29",
         "marker": {
          "color": "#00cc96",
          "pattern": {
           "shape": ""
          }
         },
         "name": "20_29",
         "offsetgroup": "20_29",
         "orientation": "v",
         "showlegend": true,
         "textposition": "auto",
         "type": "bar",
         "x": [
          "Germany",
          "Italy",
          "Spain",
          "United States of America"
         ],
         "xaxis": "x",
         "y": [
          13297.077669809783,
          15480.391713983296,
          4370.027948261554,
          89152.77061561933
         ],
         "yaxis": "y"
        },
        {
         "alignmentgroup": "True",
         "hovertemplate": "Age Group=30_39<br>Country=%{x}<br>Weighted Cases=%{y}<extra></extra>",
         "legendgroup": "30_39",
         "marker": {
          "color": "#ab63fa",
          "pattern": {
           "shape": ""
          }
         },
         "name": "30_39",
         "offsetgroup": "30_39",
         "orientation": "v",
         "showlegend": true,
         "textposition": "auto",
         "type": "bar",
         "x": [
          "Germany",
          "Italy",
          "Spain",
          "United States of America"
         ],
         "xaxis": "x",
         "y": [
          14327.872113717445,
          17814.263072229645,
          5500.833208884221,
          84928.13124687065
         ],
         "yaxis": "y"
        },
        {
         "alignmentgroup": "True",
         "hovertemplate": "Age Group=40_49<br>Country=%{x}<br>Weighted Cases=%{y}<extra></extra>",
         "legendgroup": "40_49",
         "marker": {
          "color": "#FFA15A",
          "pattern": {
           "shape": ""
          }
         },
         "name": "40_49",
         "offsetgroup": "40_49",
         "orientation": "v",
         "showlegend": true,
         "textposition": "auto",
         "type": "bar",
         "x": [
          "Germany",
          "Italy",
          "Spain",
          "United States of America"
         ],
         "xaxis": "x",
         "y": [
          14229.35151596239,
          23420.393285260638,
          7025.155818941663,
          79340.52570403031
         ],
         "yaxis": "y"
        },
        {
         "alignmentgroup": "True",
         "hovertemplate": "Age Group=50_59<br>Country=%{x}<br>Weighted Cases=%{y}<extra></extra>",
         "legendgroup": "50_59",
         "marker": {
          "color": "#19d3f3",
          "pattern": {
           "shape": ""
          }
         },
         "name": "50_59",
         "offsetgroup": "50_59",
         "orientation": "v",
         "showlegend": true,
         "textposition": "auto",
         "type": "bar",
         "x": [
          "Germany",
          "Italy",
          "Spain",
          "United States of America"
         ],
         "xaxis": "x",
         "y": [
          18484.41797110044,
          23703.699710176057,
          6264.0254654404625,
          84502.1899813595
         ],
         "yaxis": "y"
        },
        {
         "alignmentgroup": "True",
         "hovertemplate": "Age Group=60_69<br>Country=%{x}<br>Weighted Cases=%{y}<extra></extra>",
         "legendgroup": "60_69",
         "marker": {
          "color": "#FF6692",
          "pattern": {
           "shape": ""
          }
         },
         "name": "60_69",
         "offsetgroup": "60_69",
         "orientation": "v",
         "showlegend": true,
         "textposition": "auto",
         "type": "bar",
         "x": [
          "Germany",
          "Italy",
          "Spain",
          "United States of America"
         ],
         "xaxis": "x",
         "y": [
          14160.654373781932,
          18621.700422754748,
          4518.02576710744,
          71522.17670814903
         ],
         "yaxis": "y"
        },
        {
         "alignmentgroup": "True",
         "hovertemplate": "Age Group=70_79<br>Country=%{x}<br>Weighted Cases=%{y}<extra></extra>",
         "legendgroup": "70_79",
         "marker": {
          "color": "#B6E880",
          "pattern": {
           "shape": ""
          }
         },
         "name": "70_79",
         "offsetgroup": "70_79",
         "orientation": "v",
         "showlegend": true,
         "textposition": "auto",
         "type": "bar",
         "x": [
          "Germany",
          "Italy",
          "Spain",
          "United States of America"
         ],
         "xaxis": "x",
         "y": [
          10519.602929715706,
          15233.051226078585,
          3209.4736584080792,
          41913.17930546467
         ],
         "yaxis": "y"
        },
        {
         "alignmentgroup": "True",
         "hovertemplate": "Age Group=80_and_older<br>Country=%{x}<br>Weighted Cases=%{y}<extra></extra>",
         "legendgroup": "80_and_older",
         "marker": {
          "color": "#FF97FF",
          "pattern": {
           "shape": ""
          }
         },
         "name": "80_and_older",
         "offsetgroup": "80_and_older",
         "orientation": "v",
         "showlegend": true,
         "textposition": "auto",
         "type": "bar",
         "x": [
          "Germany",
          "Italy",
          "Spain",
          "United States of America"
         ],
         "xaxis": "x",
         "y": [
          7410.085332420585,
          11195.660762826281,
          2153.8063060575373,
          24236.54628130523
         ],
         "yaxis": "y"
        }
       ],
       "layout": {
        "bargap": 0.15,
        "barmode": "group",
        "legend": {
         "title": {
          "text": "Age Group"
         },
         "tracegroupgap": 0
        },
        "template": {
         "data": {
          "bar": [
           {
            "error_x": {
             "color": "#2a3f5f"
            },
            "error_y": {
             "color": "#2a3f5f"
            },
            "marker": {
             "line": {
              "color": "#E5ECF6",
              "width": 0.5
             },
             "pattern": {
              "fillmode": "overlay",
              "size": 10,
              "solidity": 0.2
             }
            },
            "type": "bar"
           }
          ],
          "barpolar": [
           {
            "marker": {
             "line": {
              "color": "#E5ECF6",
              "width": 0.5
             },
             "pattern": {
              "fillmode": "overlay",
              "size": 10,
              "solidity": 0.2
             }
            },
            "type": "barpolar"
           }
          ],
          "carpet": [
           {
            "aaxis": {
             "endlinecolor": "#2a3f5f",
             "gridcolor": "white",
             "linecolor": "white",
             "minorgridcolor": "white",
             "startlinecolor": "#2a3f5f"
            },
            "baxis": {
             "endlinecolor": "#2a3f5f",
             "gridcolor": "white",
             "linecolor": "white",
             "minorgridcolor": "white",
             "startlinecolor": "#2a3f5f"
            },
            "type": "carpet"
           }
          ],
          "choropleth": [
           {
            "colorbar": {
             "outlinewidth": 0,
             "ticks": ""
            },
            "type": "choropleth"
           }
          ],
          "contour": [
           {
            "colorbar": {
             "outlinewidth": 0,
             "ticks": ""
            },
            "colorscale": [
             [
              0,
              "#0d0887"
             ],
             [
              0.1111111111111111,
              "#46039f"
             ],
             [
              0.2222222222222222,
              "#7201a8"
             ],
             [
              0.3333333333333333,
              "#9c179e"
             ],
             [
              0.4444444444444444,
              "#bd3786"
             ],
             [
              0.5555555555555556,
              "#d8576b"
             ],
             [
              0.6666666666666666,
              "#ed7953"
             ],
             [
              0.7777777777777778,
              "#fb9f3a"
             ],
             [
              0.8888888888888888,
              "#fdca26"
             ],
             [
              1,
              "#f0f921"
             ]
            ],
            "type": "contour"
           }
          ],
          "contourcarpet": [
           {
            "colorbar": {
             "outlinewidth": 0,
             "ticks": ""
            },
            "type": "contourcarpet"
           }
          ],
          "heatmap": [
           {
            "colorbar": {
             "outlinewidth": 0,
             "ticks": ""
            },
            "colorscale": [
             [
              0,
              "#0d0887"
             ],
             [
              0.1111111111111111,
              "#46039f"
             ],
             [
              0.2222222222222222,
              "#7201a8"
             ],
             [
              0.3333333333333333,
              "#9c179e"
             ],
             [
              0.4444444444444444,
              "#bd3786"
             ],
             [
              0.5555555555555556,
              "#d8576b"
             ],
             [
              0.6666666666666666,
              "#ed7953"
             ],
             [
              0.7777777777777778,
              "#fb9f3a"
             ],
             [
              0.8888888888888888,
              "#fdca26"
             ],
             [
              1,
              "#f0f921"
             ]
            ],
            "type": "heatmap"
           }
          ],
          "heatmapgl": [
           {
            "colorbar": {
             "outlinewidth": 0,
             "ticks": ""
            },
            "colorscale": [
             [
              0,
              "#0d0887"
             ],
             [
              0.1111111111111111,
              "#46039f"
             ],
             [
              0.2222222222222222,
              "#7201a8"
             ],
             [
              0.3333333333333333,
              "#9c179e"
             ],
             [
              0.4444444444444444,
              "#bd3786"
             ],
             [
              0.5555555555555556,
              "#d8576b"
             ],
             [
              0.6666666666666666,
              "#ed7953"
             ],
             [
              0.7777777777777778,
              "#fb9f3a"
             ],
             [
              0.8888888888888888,
              "#fdca26"
             ],
             [
              1,
              "#f0f921"
             ]
            ],
            "type": "heatmapgl"
           }
          ],
          "histogram": [
           {
            "marker": {
             "pattern": {
              "fillmode": "overlay",
              "size": 10,
              "solidity": 0.2
             }
            },
            "type": "histogram"
           }
          ],
          "histogram2d": [
           {
            "colorbar": {
             "outlinewidth": 0,
             "ticks": ""
            },
            "colorscale": [
             [
              0,
              "#0d0887"
             ],
             [
              0.1111111111111111,
              "#46039f"
             ],
             [
              0.2222222222222222,
              "#7201a8"
             ],
             [
              0.3333333333333333,
              "#9c179e"
             ],
             [
              0.4444444444444444,
              "#bd3786"
             ],
             [
              0.5555555555555556,
              "#d8576b"
             ],
             [
              0.6666666666666666,
              "#ed7953"
             ],
             [
              0.7777777777777778,
              "#fb9f3a"
             ],
             [
              0.8888888888888888,
              "#fdca26"
             ],
             [
              1,
              "#f0f921"
             ]
            ],
            "type": "histogram2d"
           }
          ],
          "histogram2dcontour": [
           {
            "colorbar": {
             "outlinewidth": 0,
             "ticks": ""
            },
            "colorscale": [
             [
              0,
              "#0d0887"
             ],
             [
              0.1111111111111111,
              "#46039f"
             ],
             [
              0.2222222222222222,
              "#7201a8"
             ],
             [
              0.3333333333333333,
              "#9c179e"
             ],
             [
              0.4444444444444444,
              "#bd3786"
             ],
             [
              0.5555555555555556,
              "#d8576b"
             ],
             [
              0.6666666666666666,
              "#ed7953"
             ],
             [
              0.7777777777777778,
              "#fb9f3a"
             ],
             [
              0.8888888888888888,
              "#fdca26"
             ],
             [
              1,
              "#f0f921"
             ]
            ],
            "type": "histogram2dcontour"
           }
          ],
          "mesh3d": [
           {
            "colorbar": {
             "outlinewidth": 0,
             "ticks": ""
            },
            "type": "mesh3d"
           }
          ],
          "parcoords": [
           {
            "line": {
             "colorbar": {
              "outlinewidth": 0,
              "ticks": ""
             }
            },
            "type": "parcoords"
           }
          ],
          "pie": [
           {
            "automargin": true,
            "type": "pie"
           }
          ],
          "scatter": [
           {
            "fillpattern": {
             "fillmode": "overlay",
             "size": 10,
             "solidity": 0.2
            },
            "type": "scatter"
           }
          ],
          "scatter3d": [
           {
            "line": {
             "colorbar": {
              "outlinewidth": 0,
              "ticks": ""
             }
            },
            "marker": {
             "colorbar": {
              "outlinewidth": 0,
              "ticks": ""
             }
            },
            "type": "scatter3d"
           }
          ],
          "scattercarpet": [
           {
            "marker": {
             "colorbar": {
              "outlinewidth": 0,
              "ticks": ""
             }
            },
            "type": "scattercarpet"
           }
          ],
          "scattergeo": [
           {
            "marker": {
             "colorbar": {
              "outlinewidth": 0,
              "ticks": ""
             }
            },
            "type": "scattergeo"
           }
          ],
          "scattergl": [
           {
            "marker": {
             "colorbar": {
              "outlinewidth": 0,
              "ticks": ""
             }
            },
            "type": "scattergl"
           }
          ],
          "scattermapbox": [
           {
            "marker": {
             "colorbar": {
              "outlinewidth": 0,
              "ticks": ""
             }
            },
            "type": "scattermapbox"
           }
          ],
          "scatterpolar": [
           {
            "marker": {
             "colorbar": {
              "outlinewidth": 0,
              "ticks": ""
             }
            },
            "type": "scatterpolar"
           }
          ],
          "scatterpolargl": [
           {
            "marker": {
             "colorbar": {
              "outlinewidth": 0,
              "ticks": ""
             }
            },
            "type": "scatterpolargl"
           }
          ],
          "scatterternary": [
           {
            "marker": {
             "colorbar": {
              "outlinewidth": 0,
              "ticks": ""
             }
            },
            "type": "scatterternary"
           }
          ],
          "surface": [
           {
            "colorbar": {
             "outlinewidth": 0,
             "ticks": ""
            },
            "colorscale": [
             [
              0,
              "#0d0887"
             ],
             [
              0.1111111111111111,
              "#46039f"
             ],
             [
              0.2222222222222222,
              "#7201a8"
             ],
             [
              0.3333333333333333,
              "#9c179e"
             ],
             [
              0.4444444444444444,
              "#bd3786"
             ],
             [
              0.5555555555555556,
              "#d8576b"
             ],
             [
              0.6666666666666666,
              "#ed7953"
             ],
             [
              0.7777777777777778,
              "#fb9f3a"
             ],
             [
              0.8888888888888888,
              "#fdca26"
             ],
             [
              1,
              "#f0f921"
             ]
            ],
            "type": "surface"
           }
          ],
          "table": [
           {
            "cells": {
             "fill": {
              "color": "#EBF0F8"
             },
             "line": {
              "color": "white"
             }
            },
            "header": {
             "fill": {
              "color": "#C8D4E3"
             },
             "line": {
              "color": "white"
             }
            },
            "type": "table"
           }
          ]
         },
         "layout": {
          "annotationdefaults": {
           "arrowcolor": "#2a3f5f",
           "arrowhead": 0,
           "arrowwidth": 1
          },
          "autotypenumbers": "strict",
          "coloraxis": {
           "colorbar": {
            "outlinewidth": 0,
            "ticks": ""
           }
          },
          "colorscale": {
           "diverging": [
            [
             0,
             "#8e0152"
            ],
            [
             0.1,
             "#c51b7d"
            ],
            [
             0.2,
             "#de77ae"
            ],
            [
             0.3,
             "#f1b6da"
            ],
            [
             0.4,
             "#fde0ef"
            ],
            [
             0.5,
             "#f7f7f7"
            ],
            [
             0.6,
             "#e6f5d0"
            ],
            [
             0.7,
             "#b8e186"
            ],
            [
             0.8,
             "#7fbc41"
            ],
            [
             0.9,
             "#4d9221"
            ],
            [
             1,
             "#276419"
            ]
           ],
           "sequential": [
            [
             0,
             "#0d0887"
            ],
            [
             0.1111111111111111,
             "#46039f"
            ],
            [
             0.2222222222222222,
             "#7201a8"
            ],
            [
             0.3333333333333333,
             "#9c179e"
            ],
            [
             0.4444444444444444,
             "#bd3786"
            ],
            [
             0.5555555555555556,
             "#d8576b"
            ],
            [
             0.6666666666666666,
             "#ed7953"
            ],
            [
             0.7777777777777778,
             "#fb9f3a"
            ],
            [
             0.8888888888888888,
             "#fdca26"
            ],
            [
             1,
             "#f0f921"
            ]
           ],
           "sequentialminus": [
            [
             0,
             "#0d0887"
            ],
            [
             0.1111111111111111,
             "#46039f"
            ],
            [
             0.2222222222222222,
             "#7201a8"
            ],
            [
             0.3333333333333333,
             "#9c179e"
            ],
            [
             0.4444444444444444,
             "#bd3786"
            ],
            [
             0.5555555555555556,
             "#d8576b"
            ],
            [
             0.6666666666666666,
             "#ed7953"
            ],
            [
             0.7777777777777778,
             "#fb9f3a"
            ],
            [
             0.8888888888888888,
             "#fdca26"
            ],
            [
             1,
             "#f0f921"
            ]
           ]
          },
          "colorway": [
           "#636efa",
           "#EF553B",
           "#00cc96",
           "#ab63fa",
           "#FFA15A",
           "#19d3f3",
           "#FF6692",
           "#B6E880",
           "#FF97FF",
           "#FECB52"
          ],
          "font": {
           "color": "#2a3f5f"
          },
          "geo": {
           "bgcolor": "white",
           "lakecolor": "white",
           "landcolor": "#E5ECF6",
           "showlakes": true,
           "showland": true,
           "subunitcolor": "white"
          },
          "hoverlabel": {
           "align": "left"
          },
          "hovermode": "closest",
          "mapbox": {
           "style": "light"
          },
          "paper_bgcolor": "white",
          "plot_bgcolor": "#E5ECF6",
          "polar": {
           "angularaxis": {
            "gridcolor": "white",
            "linecolor": "white",
            "ticks": ""
           },
           "bgcolor": "#E5ECF6",
           "radialaxis": {
            "gridcolor": "white",
            "linecolor": "white",
            "ticks": ""
           }
          },
          "scene": {
           "xaxis": {
            "backgroundcolor": "#E5ECF6",
            "gridcolor": "white",
            "gridwidth": 2,
            "linecolor": "white",
            "showbackground": true,
            "ticks": "",
            "zerolinecolor": "white"
           },
           "yaxis": {
            "backgroundcolor": "#E5ECF6",
            "gridcolor": "white",
            "gridwidth": 2,
            "linecolor": "white",
            "showbackground": true,
            "ticks": "",
            "zerolinecolor": "white"
           },
           "zaxis": {
            "backgroundcolor": "#E5ECF6",
            "gridcolor": "white",
            "gridwidth": 2,
            "linecolor": "white",
            "showbackground": true,
            "ticks": "",
            "zerolinecolor": "white"
           }
          },
          "shapedefaults": {
           "line": {
            "color": "#2a3f5f"
           }
          },
          "ternary": {
           "aaxis": {
            "gridcolor": "white",
            "linecolor": "white",
            "ticks": ""
           },
           "baxis": {
            "gridcolor": "white",
            "linecolor": "white",
            "ticks": ""
           },
           "bgcolor": "#E5ECF6",
           "caxis": {
            "gridcolor": "white",
            "linecolor": "white",
            "ticks": ""
           }
          },
          "title": {
           "x": 0.05
          },
          "xaxis": {
           "automargin": true,
           "gridcolor": "white",
           "linecolor": "white",
           "ticks": "",
           "title": {
            "standoff": 15
           },
           "zerolinecolor": "white",
           "zerolinewidth": 2
          },
          "yaxis": {
           "automargin": true,
           "gridcolor": "white",
           "linecolor": "white",
           "ticks": "",
           "title": {
            "standoff": 15
           },
           "zerolinecolor": "white",
           "zerolinewidth": 2
          }
         }
        },
        "title": {
         "text": "Average Weekly Weighted Confirmed Cases by Age Group and Country"
        },
        "xaxis": {
         "anchor": "y",
         "domain": [
          0,
          1
         ],
         "title": {
          "text": "Country"
         }
        },
        "yaxis": {
         "anchor": "x",
         "domain": [
          0,
          1
         ],
         "title": {
          "text": "Weighted Confirmed Cases"
         }
        }
       }
      }
     },
     "metadata": {},
     "output_type": "display_data"
    }
   ],
   "source": [
    "# Define age group columns\n",
    "age_group_columns = [\n",
    "    \"population_age_00_09\", \"population_age_10_19\", \"population_age_20_29\",\n",
    "    \"population_age_30_39\", \"population_age_40_49\", \"population_age_50_59\",\n",
    "    \"population_age_60_69\", \"population_age_70_79\", \"population_age_80_and_older\"\n",
    "]\n",
    "\n",
    "# Prepare weighted data\n",
    "df_weighted_age = df[['country_name', 'new_confirmed'] + age_group_columns].copy()\n",
    "\n",
    "# Distribute new confirmed cases across age groups proportionally based on age group populations\n",
    "total_age_group_population = df[age_group_columns].sum(axis=1)\n",
    "for age_group in age_group_columns:\n",
    "    df_weighted_age[age_group] = (df[age_group] / total_age_group_population) * df['new_confirmed']\n",
    "\n",
    "# Group by country and calculate the mean for each age group to avoid inflating weekly totals\n",
    "grouped_weighted_data = df_weighted_age.groupby('country_name')[\n",
    "    age_group_columns\n",
    "].mean().reset_index()\n",
    "\n",
    "# Melt the data for visualization\n",
    "weighted_age_data = grouped_weighted_data.melt(\n",
    "    id_vars=['country_name'],\n",
    "    value_vars=age_group_columns,\n",
    "    var_name='Age Group',\n",
    "    value_name='Weighted Confirmed Cases'\n",
    ")\n",
    "\n",
    "# Clean up age group labels\n",
    "weighted_age_data['Age Group'] = weighted_age_data['Age Group'].str.replace('population_age_', '')\n",
    "\n",
    "# Create grouped bar chart\n",
    "fig_weighted_age = px.bar(\n",
    "    weighted_age_data,\n",
    "    x='country_name',\n",
    "    y='Weighted Confirmed Cases',\n",
    "    color='Age Group',\n",
    "    title=\"Average Weekly Weighted Confirmed Cases by Age Group and Country\",\n",
    "    barmode='group',\n",
    "    labels={'Weighted Confirmed Cases': 'Weighted Cases', 'country_name': 'Country'}\n",
    ")\n",
    "\n",
    "fig_weighted_age.update_layout(\n",
    "    xaxis_title=\"Country\",\n",
    "    yaxis_title=\"Weighted Confirmed Cases\",\n",
    "    legend_title=\"Age Group\",\n",
    "    bargap=0.15\n",
    ")\n",
    "\n",
    "fig_weighted_age.show()"
   ]
  },
  {
   "cell_type": "markdown",
   "metadata": {},
   "source": [
    "#### **3. Weighted Confirmed Cases by Age Group and Country**\n",
    "\n",
    "A weighted comparison of confirmed cases by age group, normalized by the population size of each group.\n",
    "\n",
    "- **Insight**:\n",
    "  - Normalization highlights the relative vulnerability of different age groups.\n",
    "  - Older age groups (e.g., 70-79 and 80+) show a higher proportion of weighted cases in countries like Germany and Italy, emphasizing their susceptibility."
   ]
  },
  {
   "cell_type": "code",
   "execution_count": 23,
   "metadata": {},
   "outputs": [
    {
     "data": {
      "application/vnd.plotly.v1+json": {
       "config": {
        "plotlyServerURL": "https://plot.ly"
       },
       "data": [
        {
         "alignmentgroup": "True",
         "hovertemplate": "Age Group=00-09<br>Country=%{x}<br>Mortality Rate (%)=%{y}<extra></extra>",
         "legendgroup": "00-09",
         "marker": {
          "color": "#636efa",
          "pattern": {
           "shape": ""
          }
         },
         "name": "00-09",
         "offsetgroup": "00-09",
         "orientation": "v",
         "showlegend": true,
         "textposition": "auto",
         "type": "bar",
         "x": [
          "Germany",
          "Italy",
          "Spain",
          "United States of America"
         ],
         "xaxis": "x",
         "y": [
          0.01499890587387075,
          0,
          0.0048485797197662375,
          0.018511988967171523
         ],
         "yaxis": "y"
        },
        {
         "alignmentgroup": "True",
         "hovertemplate": "Age Group=10-19<br>Country=%{x}<br>Mortality Rate (%)=%{y}<extra></extra>",
         "legendgroup": "10-19",
         "marker": {
          "color": "#EF553B",
          "pattern": {
           "shape": ""
          }
         },
         "name": "10-19",
         "offsetgroup": "10-19",
         "orientation": "v",
         "showlegend": true,
         "textposition": "auto",
         "type": "bar",
         "x": [
          "Germany",
          "Italy",
          "Spain",
          "United States of America"
         ],
         "xaxis": "x",
         "y": [
          0.014638511321870785,
          0,
          0.004097938199106929,
          0.017849542089894407
         ],
         "yaxis": "y"
        },
        {
         "alignmentgroup": "True",
         "hovertemplate": "Age Group=20-29<br>Country=%{x}<br>Mortality Rate (%)=%{y}<extra></extra>",
         "legendgroup": "20-29",
         "marker": {
          "color": "#00cc96",
          "pattern": {
           "shape": ""
          }
         },
         "name": "20-29",
         "offsetgroup": "20-29",
         "orientation": "v",
         "showlegend": true,
         "textposition": "auto",
         "type": "bar",
         "x": [
          "Germany",
          "Italy",
          "Spain",
          "United States of America"
         ],
         "xaxis": "x",
         "y": [
          0.01164150352358548,
          0,
          0.0039726813448550105,
          0.01631340186211227
         ],
         "yaxis": "y"
        },
        {
         "alignmentgroup": "True",
         "hovertemplate": "Age Group=30-39<br>Country=%{x}<br>Mortality Rate (%)=%{y}<extra></extra>",
         "legendgroup": "30-39",
         "marker": {
          "color": "#ab63fa",
          "pattern": {
           "shape": ""
          }
         },
         "name": "30-39",
         "offsetgroup": "30-39",
         "orientation": "v",
         "showlegend": true,
         "textposition": "auto",
         "type": "bar",
         "x": [
          "Germany",
          "Italy",
          "Spain",
          "United States of America"
         ],
         "xaxis": "x",
         "y": [
          0.010803975308955854,
          0,
          0.0031560179789699738,
          0.01712489080850819
         ],
         "yaxis": "y"
        },
        {
         "alignmentgroup": "True",
         "hovertemplate": "Age Group=40-49<br>Country=%{x}<br>Mortality Rate (%)=%{y}<extra></extra>",
         "legendgroup": "40-49",
         "marker": {
          "color": "#FFA15A",
          "pattern": {
           "shape": ""
          }
         },
         "name": "40-49",
         "offsetgroup": "40-49",
         "orientation": "v",
         "showlegend": true,
         "textposition": "auto",
         "type": "bar",
         "x": [
          "Germany",
          "Italy",
          "Spain",
          "United States of America"
         ],
         "xaxis": "x",
         "y": [
          0.010878779428059605,
          0,
          0.002471223265930218,
          0.018330921824222714
         ],
         "yaxis": "y"
        },
        {
         "alignmentgroup": "True",
         "hovertemplate": "Age Group=50-59<br>Country=%{x}<br>Mortality Rate (%)=%{y}<extra></extra>",
         "legendgroup": "50-59",
         "marker": {
          "color": "#19d3f3",
          "pattern": {
           "shape": ""
          }
         },
         "name": "50-59",
         "offsetgroup": "50-59",
         "orientation": "v",
         "showlegend": true,
         "textposition": "auto",
         "type": "bar",
         "x": [
          "Germany",
          "Italy",
          "Spain",
          "United States of America"
         ],
         "xaxis": "x",
         "y": [
          0.008374511807106943,
          0,
          0.002771497115127541,
          0.017211210437198587
         ],
         "yaxis": "y"
        },
        {
         "alignmentgroup": "True",
         "hovertemplate": "Age Group=60-69<br>Country=%{x}<br>Mortality Rate (%)=%{y}<extra></extra>",
         "legendgroup": "60-69",
         "marker": {
          "color": "#FF6692",
          "pattern": {
           "shape": ""
          }
         },
         "name": "60-69",
         "offsetgroup": "60-69",
         "orientation": "v",
         "showlegend": true,
         "textposition": "auto",
         "type": "bar",
         "x": [
          "Germany",
          "Italy",
          "Spain",
          "United States of America"
         ],
         "xaxis": "x",
         "y": [
          0.010931555312379113,
          0,
          0.003842547475701648,
          0.020334741490153838
         ],
         "yaxis": "y"
        },
        {
         "alignmentgroup": "True",
         "hovertemplate": "Age Group=70-79<br>Country=%{x}<br>Mortality Rate (%)=%{y}<extra></extra>",
         "legendgroup": "70-79",
         "marker": {
          "color": "#B6E880",
          "pattern": {
           "shape": ""
          }
         },
         "name": "70-79",
         "offsetgroup": "70-79",
         "orientation": "v",
         "showlegend": true,
         "textposition": "auto",
         "type": "bar",
         "x": [
          "Germany",
          "Italy",
          "Spain",
          "United States of America"
         ],
         "xaxis": "x",
         "y": [
          0.014715191968815483,
          0,
          0.0054092135827544805,
          0.03469994398596455
         ],
         "yaxis": "y"
        },
        {
         "alignmentgroup": "True",
         "hovertemplate": "Age Group=80+<br>Country=%{x}<br>Mortality Rate (%)=%{y}<extra></extra>",
         "legendgroup": "80+",
         "marker": {
          "color": "#FF97FF",
          "pattern": {
           "shape": ""
          }
         },
         "name": "80+",
         "offsetgroup": "80+",
         "orientation": "v",
         "showlegend": true,
         "textposition": "auto",
         "type": "bar",
         "x": [
          "Germany",
          "Italy",
          "Spain",
          "United States of America"
         ],
         "xaxis": "x",
         "y": [
          0.020890174620420192,
          0,
          0.008060487360319724,
          0.060007930061188076
         ],
         "yaxis": "y"
        }
       ],
       "layout": {
        "barmode": "group",
        "legend": {
         "title": {
          "text": "Age Group"
         },
         "tracegroupgap": 0
        },
        "template": {
         "data": {
          "bar": [
           {
            "error_x": {
             "color": "#2a3f5f"
            },
            "error_y": {
             "color": "#2a3f5f"
            },
            "marker": {
             "line": {
              "color": "#E5ECF6",
              "width": 0.5
             },
             "pattern": {
              "fillmode": "overlay",
              "size": 10,
              "solidity": 0.2
             }
            },
            "type": "bar"
           }
          ],
          "barpolar": [
           {
            "marker": {
             "line": {
              "color": "#E5ECF6",
              "width": 0.5
             },
             "pattern": {
              "fillmode": "overlay",
              "size": 10,
              "solidity": 0.2
             }
            },
            "type": "barpolar"
           }
          ],
          "carpet": [
           {
            "aaxis": {
             "endlinecolor": "#2a3f5f",
             "gridcolor": "white",
             "linecolor": "white",
             "minorgridcolor": "white",
             "startlinecolor": "#2a3f5f"
            },
            "baxis": {
             "endlinecolor": "#2a3f5f",
             "gridcolor": "white",
             "linecolor": "white",
             "minorgridcolor": "white",
             "startlinecolor": "#2a3f5f"
            },
            "type": "carpet"
           }
          ],
          "choropleth": [
           {
            "colorbar": {
             "outlinewidth": 0,
             "ticks": ""
            },
            "type": "choropleth"
           }
          ],
          "contour": [
           {
            "colorbar": {
             "outlinewidth": 0,
             "ticks": ""
            },
            "colorscale": [
             [
              0,
              "#0d0887"
             ],
             [
              0.1111111111111111,
              "#46039f"
             ],
             [
              0.2222222222222222,
              "#7201a8"
             ],
             [
              0.3333333333333333,
              "#9c179e"
             ],
             [
              0.4444444444444444,
              "#bd3786"
             ],
             [
              0.5555555555555556,
              "#d8576b"
             ],
             [
              0.6666666666666666,
              "#ed7953"
             ],
             [
              0.7777777777777778,
              "#fb9f3a"
             ],
             [
              0.8888888888888888,
              "#fdca26"
             ],
             [
              1,
              "#f0f921"
             ]
            ],
            "type": "contour"
           }
          ],
          "contourcarpet": [
           {
            "colorbar": {
             "outlinewidth": 0,
             "ticks": ""
            },
            "type": "contourcarpet"
           }
          ],
          "heatmap": [
           {
            "colorbar": {
             "outlinewidth": 0,
             "ticks": ""
            },
            "colorscale": [
             [
              0,
              "#0d0887"
             ],
             [
              0.1111111111111111,
              "#46039f"
             ],
             [
              0.2222222222222222,
              "#7201a8"
             ],
             [
              0.3333333333333333,
              "#9c179e"
             ],
             [
              0.4444444444444444,
              "#bd3786"
             ],
             [
              0.5555555555555556,
              "#d8576b"
             ],
             [
              0.6666666666666666,
              "#ed7953"
             ],
             [
              0.7777777777777778,
              "#fb9f3a"
             ],
             [
              0.8888888888888888,
              "#fdca26"
             ],
             [
              1,
              "#f0f921"
             ]
            ],
            "type": "heatmap"
           }
          ],
          "heatmapgl": [
           {
            "colorbar": {
             "outlinewidth": 0,
             "ticks": ""
            },
            "colorscale": [
             [
              0,
              "#0d0887"
             ],
             [
              0.1111111111111111,
              "#46039f"
             ],
             [
              0.2222222222222222,
              "#7201a8"
             ],
             [
              0.3333333333333333,
              "#9c179e"
             ],
             [
              0.4444444444444444,
              "#bd3786"
             ],
             [
              0.5555555555555556,
              "#d8576b"
             ],
             [
              0.6666666666666666,
              "#ed7953"
             ],
             [
              0.7777777777777778,
              "#fb9f3a"
             ],
             [
              0.8888888888888888,
              "#fdca26"
             ],
             [
              1,
              "#f0f921"
             ]
            ],
            "type": "heatmapgl"
           }
          ],
          "histogram": [
           {
            "marker": {
             "pattern": {
              "fillmode": "overlay",
              "size": 10,
              "solidity": 0.2
             }
            },
            "type": "histogram"
           }
          ],
          "histogram2d": [
           {
            "colorbar": {
             "outlinewidth": 0,
             "ticks": ""
            },
            "colorscale": [
             [
              0,
              "#0d0887"
             ],
             [
              0.1111111111111111,
              "#46039f"
             ],
             [
              0.2222222222222222,
              "#7201a8"
             ],
             [
              0.3333333333333333,
              "#9c179e"
             ],
             [
              0.4444444444444444,
              "#bd3786"
             ],
             [
              0.5555555555555556,
              "#d8576b"
             ],
             [
              0.6666666666666666,
              "#ed7953"
             ],
             [
              0.7777777777777778,
              "#fb9f3a"
             ],
             [
              0.8888888888888888,
              "#fdca26"
             ],
             [
              1,
              "#f0f921"
             ]
            ],
            "type": "histogram2d"
           }
          ],
          "histogram2dcontour": [
           {
            "colorbar": {
             "outlinewidth": 0,
             "ticks": ""
            },
            "colorscale": [
             [
              0,
              "#0d0887"
             ],
             [
              0.1111111111111111,
              "#46039f"
             ],
             [
              0.2222222222222222,
              "#7201a8"
             ],
             [
              0.3333333333333333,
              "#9c179e"
             ],
             [
              0.4444444444444444,
              "#bd3786"
             ],
             [
              0.5555555555555556,
              "#d8576b"
             ],
             [
              0.6666666666666666,
              "#ed7953"
             ],
             [
              0.7777777777777778,
              "#fb9f3a"
             ],
             [
              0.8888888888888888,
              "#fdca26"
             ],
             [
              1,
              "#f0f921"
             ]
            ],
            "type": "histogram2dcontour"
           }
          ],
          "mesh3d": [
           {
            "colorbar": {
             "outlinewidth": 0,
             "ticks": ""
            },
            "type": "mesh3d"
           }
          ],
          "parcoords": [
           {
            "line": {
             "colorbar": {
              "outlinewidth": 0,
              "ticks": ""
             }
            },
            "type": "parcoords"
           }
          ],
          "pie": [
           {
            "automargin": true,
            "type": "pie"
           }
          ],
          "scatter": [
           {
            "fillpattern": {
             "fillmode": "overlay",
             "size": 10,
             "solidity": 0.2
            },
            "type": "scatter"
           }
          ],
          "scatter3d": [
           {
            "line": {
             "colorbar": {
              "outlinewidth": 0,
              "ticks": ""
             }
            },
            "marker": {
             "colorbar": {
              "outlinewidth": 0,
              "ticks": ""
             }
            },
            "type": "scatter3d"
           }
          ],
          "scattercarpet": [
           {
            "marker": {
             "colorbar": {
              "outlinewidth": 0,
              "ticks": ""
             }
            },
            "type": "scattercarpet"
           }
          ],
          "scattergeo": [
           {
            "marker": {
             "colorbar": {
              "outlinewidth": 0,
              "ticks": ""
             }
            },
            "type": "scattergeo"
           }
          ],
          "scattergl": [
           {
            "marker": {
             "colorbar": {
              "outlinewidth": 0,
              "ticks": ""
             }
            },
            "type": "scattergl"
           }
          ],
          "scattermapbox": [
           {
            "marker": {
             "colorbar": {
              "outlinewidth": 0,
              "ticks": ""
             }
            },
            "type": "scattermapbox"
           }
          ],
          "scatterpolar": [
           {
            "marker": {
             "colorbar": {
              "outlinewidth": 0,
              "ticks": ""
             }
            },
            "type": "scatterpolar"
           }
          ],
          "scatterpolargl": [
           {
            "marker": {
             "colorbar": {
              "outlinewidth": 0,
              "ticks": ""
             }
            },
            "type": "scatterpolargl"
           }
          ],
          "scatterternary": [
           {
            "marker": {
             "colorbar": {
              "outlinewidth": 0,
              "ticks": ""
             }
            },
            "type": "scatterternary"
           }
          ],
          "surface": [
           {
            "colorbar": {
             "outlinewidth": 0,
             "ticks": ""
            },
            "colorscale": [
             [
              0,
              "#0d0887"
             ],
             [
              0.1111111111111111,
              "#46039f"
             ],
             [
              0.2222222222222222,
              "#7201a8"
             ],
             [
              0.3333333333333333,
              "#9c179e"
             ],
             [
              0.4444444444444444,
              "#bd3786"
             ],
             [
              0.5555555555555556,
              "#d8576b"
             ],
             [
              0.6666666666666666,
              "#ed7953"
             ],
             [
              0.7777777777777778,
              "#fb9f3a"
             ],
             [
              0.8888888888888888,
              "#fdca26"
             ],
             [
              1,
              "#f0f921"
             ]
            ],
            "type": "surface"
           }
          ],
          "table": [
           {
            "cells": {
             "fill": {
              "color": "#EBF0F8"
             },
             "line": {
              "color": "white"
             }
            },
            "header": {
             "fill": {
              "color": "#C8D4E3"
             },
             "line": {
              "color": "white"
             }
            },
            "type": "table"
           }
          ]
         },
         "layout": {
          "annotationdefaults": {
           "arrowcolor": "#2a3f5f",
           "arrowhead": 0,
           "arrowwidth": 1
          },
          "autotypenumbers": "strict",
          "coloraxis": {
           "colorbar": {
            "outlinewidth": 0,
            "ticks": ""
           }
          },
          "colorscale": {
           "diverging": [
            [
             0,
             "#8e0152"
            ],
            [
             0.1,
             "#c51b7d"
            ],
            [
             0.2,
             "#de77ae"
            ],
            [
             0.3,
             "#f1b6da"
            ],
            [
             0.4,
             "#fde0ef"
            ],
            [
             0.5,
             "#f7f7f7"
            ],
            [
             0.6,
             "#e6f5d0"
            ],
            [
             0.7,
             "#b8e186"
            ],
            [
             0.8,
             "#7fbc41"
            ],
            [
             0.9,
             "#4d9221"
            ],
            [
             1,
             "#276419"
            ]
           ],
           "sequential": [
            [
             0,
             "#0d0887"
            ],
            [
             0.1111111111111111,
             "#46039f"
            ],
            [
             0.2222222222222222,
             "#7201a8"
            ],
            [
             0.3333333333333333,
             "#9c179e"
            ],
            [
             0.4444444444444444,
             "#bd3786"
            ],
            [
             0.5555555555555556,
             "#d8576b"
            ],
            [
             0.6666666666666666,
             "#ed7953"
            ],
            [
             0.7777777777777778,
             "#fb9f3a"
            ],
            [
             0.8888888888888888,
             "#fdca26"
            ],
            [
             1,
             "#f0f921"
            ]
           ],
           "sequentialminus": [
            [
             0,
             "#0d0887"
            ],
            [
             0.1111111111111111,
             "#46039f"
            ],
            [
             0.2222222222222222,
             "#7201a8"
            ],
            [
             0.3333333333333333,
             "#9c179e"
            ],
            [
             0.4444444444444444,
             "#bd3786"
            ],
            [
             0.5555555555555556,
             "#d8576b"
            ],
            [
             0.6666666666666666,
             "#ed7953"
            ],
            [
             0.7777777777777778,
             "#fb9f3a"
            ],
            [
             0.8888888888888888,
             "#fdca26"
            ],
            [
             1,
             "#f0f921"
            ]
           ]
          },
          "colorway": [
           "#636efa",
           "#EF553B",
           "#00cc96",
           "#ab63fa",
           "#FFA15A",
           "#19d3f3",
           "#FF6692",
           "#B6E880",
           "#FF97FF",
           "#FECB52"
          ],
          "font": {
           "color": "#2a3f5f"
          },
          "geo": {
           "bgcolor": "white",
           "lakecolor": "white",
           "landcolor": "#E5ECF6",
           "showlakes": true,
           "showland": true,
           "subunitcolor": "white"
          },
          "hoverlabel": {
           "align": "left"
          },
          "hovermode": "closest",
          "mapbox": {
           "style": "light"
          },
          "paper_bgcolor": "white",
          "plot_bgcolor": "#E5ECF6",
          "polar": {
           "angularaxis": {
            "gridcolor": "white",
            "linecolor": "white",
            "ticks": ""
           },
           "bgcolor": "#E5ECF6",
           "radialaxis": {
            "gridcolor": "white",
            "linecolor": "white",
            "ticks": ""
           }
          },
          "scene": {
           "xaxis": {
            "backgroundcolor": "#E5ECF6",
            "gridcolor": "white",
            "gridwidth": 2,
            "linecolor": "white",
            "showbackground": true,
            "ticks": "",
            "zerolinecolor": "white"
           },
           "yaxis": {
            "backgroundcolor": "#E5ECF6",
            "gridcolor": "white",
            "gridwidth": 2,
            "linecolor": "white",
            "showbackground": true,
            "ticks": "",
            "zerolinecolor": "white"
           },
           "zaxis": {
            "backgroundcolor": "#E5ECF6",
            "gridcolor": "white",
            "gridwidth": 2,
            "linecolor": "white",
            "showbackground": true,
            "ticks": "",
            "zerolinecolor": "white"
           }
          },
          "shapedefaults": {
           "line": {
            "color": "#2a3f5f"
           }
          },
          "ternary": {
           "aaxis": {
            "gridcolor": "white",
            "linecolor": "white",
            "ticks": ""
           },
           "baxis": {
            "gridcolor": "white",
            "linecolor": "white",
            "ticks": ""
           },
           "bgcolor": "#E5ECF6",
           "caxis": {
            "gridcolor": "white",
            "linecolor": "white",
            "ticks": ""
           }
          },
          "title": {
           "x": 0.05
          },
          "xaxis": {
           "automargin": true,
           "gridcolor": "white",
           "linecolor": "white",
           "ticks": "",
           "title": {
            "standoff": 15
           },
           "zerolinecolor": "white",
           "zerolinewidth": 2
          },
          "yaxis": {
           "automargin": true,
           "gridcolor": "white",
           "linecolor": "white",
           "ticks": "",
           "title": {
            "standoff": 15
           },
           "zerolinecolor": "white",
           "zerolinewidth": 2
          }
         }
        },
        "title": {
         "text": "Average Weekly Mortality Rate by Age Group and Country"
        },
        "xaxis": {
         "anchor": "y",
         "domain": [
          0,
          1
         ],
         "title": {
          "text": "Country"
         }
        },
        "yaxis": {
         "anchor": "x",
         "domain": [
          0,
          1
         ],
         "title": {
          "text": "Mortality Rate (%)"
         }
        }
       }
      }
     },
     "metadata": {},
     "output_type": "display_data"
    }
   ],
   "source": [
    "# Define age groups with their corresponding population columns\n",
    "age_groups = {\n",
    "    \"00-09\": \"population_age_00_09\",\n",
    "    \"10-19\": \"population_age_10_19\",\n",
    "    \"20-29\": \"population_age_20_29\",\n",
    "    \"30-39\": \"population_age_30_39\",\n",
    "    \"40-49\": \"population_age_40_49\",\n",
    "    \"50-59\": \"population_age_50_59\",\n",
    "    \"60-69\": \"population_age_60_69\",\n",
    "    \"70-79\": \"population_age_70_79\",\n",
    "    \"80+\": \"population_age_80_and_older\",\n",
    "}\n",
    "\n",
    "# Calculate mortality rate for each age group, grouped by country and averaged across weeks\n",
    "mortality_by_age = []\n",
    "for age_group, col in age_groups.items():\n",
    "    temp_df = df[['country_name', col, 'new_deceased']].copy()\n",
    "    temp_df['mortality_rate'] = (temp_df['new_deceased'] / temp_df[col]) * 100\n",
    "    temp_df['age_group'] = age_group\n",
    "    mortality_by_age.append(temp_df[['country_name', 'age_group', 'mortality_rate']])\n",
    "\n",
    "# Combine data for all age groups\n",
    "mortality_df = pd.concat(mortality_by_age, ignore_index=True)\n",
    "\n",
    "# Group by country and age group to calculate the mean mortality rate (avoid inflating weekly data)\n",
    "mortality_df = mortality_df.groupby(['country_name', 'age_group'])['mortality_rate'].mean().reset_index()\n",
    "\n",
    "# Drop NaN values resulting from potential zero populations\n",
    "mortality_df = mortality_df.dropna()\n",
    "\n",
    "# Create grouped bar chart\n",
    "fig_mortality_age = px.bar(\n",
    "    mortality_df, \n",
    "    x='country_name', \n",
    "    y='mortality_rate', \n",
    "    color='age_group', \n",
    "    barmode='group',\n",
    "    title=\"Average Weekly Mortality Rate by Age Group and Country\",\n",
    "    labels={'country_name': 'Country', 'mortality_rate': 'Mortality Rate (%)', 'age_group': 'Age Group'}\n",
    ")\n",
    "\n",
    "# Update chart layout for clarity\n",
    "fig_mortality_age.update_layout(\n",
    "    xaxis_title=\"Country\",\n",
    "    yaxis_title=\"Mortality Rate (%)\",\n",
    "    legend_title=\"Age Group\"\n",
    ")\n",
    "\n",
    "# Show chart\n",
    "fig_mortality_age.show()"
   ]
  },
  {
   "cell_type": "markdown",
   "metadata": {},
   "source": [
    "#### **4. Mortality Rate by Age Group and Country**\n",
    "\n",
    "This visualization focuses on mortality rates by age group and country.\n",
    "\n",
    "- **Insight**:\n",
    "  - Mortality rates are higher in older age groups, with the United States showing disproportionately higher rates in older demographics.\n",
    "  - Italy has incomplete mortality data, making cross-country comparisons difficult for this specific metric."
   ]
  },
  {
   "cell_type": "markdown",
   "metadata": {},
   "source": [
    "## **(4) Deep dive: Mortality and Vulnerability Insights**"
   ]
  },
  {
   "cell_type": "markdown",
   "metadata": {},
   "source": [
    "In this section, we take our analysis one step further by delving into the confirmed-to-deceased ratio over time, distributional insights into mortality rates, and detailed vulnerability assessments by demographic groups and countries. By creating new variables like the vulnerability index and leveraging advanced chart types, we explore key insights about COVID-19 dynamics and how various population segments have been impacted. This approach combines trends, distributions, and categorical breakdowns to provide a holistic understanding of the data."
   ]
  },
  {
   "cell_type": "code",
   "execution_count": 24,
   "metadata": {},
   "outputs": [
    {
     "data": {
      "application/vnd.plotly.v1+json": {
       "config": {
        "plotlyServerURL": "https://plot.ly"
       },
       "data": [
        {
         "hovertemplate": "country_name=Germany<br>Week Start=%{x}<br>Deceased-to-Confirmed Ratio=%{y}<extra></extra>",
         "legendgroup": "Germany",
         "line": {
          "color": "#636efa",
          "dash": "solid"
         },
         "marker": {
          "symbol": "circle"
         },
         "mode": "lines",
         "name": "Germany",
         "orientation": "v",
         "showlegend": true,
         "type": "scatter",
         "x": [
          "2020-01-02T00:00:00",
          "2020-01-09T00:00:00",
          "2020-01-16T00:00:00",
          "2020-01-23T00:00:00",
          "2020-01-30T00:00:00",
          "2020-02-06T00:00:00",
          "2020-02-13T00:00:00",
          "2020-02-20T00:00:00",
          "2020-02-27T00:00:00",
          "2020-03-05T00:00:00",
          "2020-03-12T00:00:00",
          "2020-03-19T00:00:00",
          "2020-03-26T00:00:00",
          "2020-04-02T00:00:00",
          "2020-04-09T00:00:00",
          "2020-04-16T00:00:00",
          "2020-04-23T00:00:00",
          "2020-04-30T00:00:00",
          "2020-05-07T00:00:00",
          "2020-05-14T00:00:00",
          "2020-05-21T00:00:00",
          "2020-05-28T00:00:00",
          "2020-06-04T00:00:00",
          "2020-06-11T00:00:00",
          "2020-06-18T00:00:00",
          "2020-06-25T00:00:00",
          "2020-07-02T00:00:00",
          "2020-07-09T00:00:00",
          "2020-07-16T00:00:00",
          "2020-07-23T00:00:00",
          "2020-07-30T00:00:00",
          "2020-08-06T00:00:00",
          "2020-08-13T00:00:00",
          "2020-08-20T00:00:00",
          "2020-08-27T00:00:00",
          "2020-09-03T00:00:00",
          "2020-09-10T00:00:00",
          "2020-09-17T00:00:00",
          "2020-09-24T00:00:00",
          "2020-10-01T00:00:00",
          "2020-10-08T00:00:00",
          "2020-10-15T00:00:00",
          "2020-10-22T00:00:00",
          "2020-10-29T00:00:00",
          "2020-11-05T00:00:00",
          "2020-11-12T00:00:00",
          "2020-11-19T00:00:00",
          "2020-11-26T00:00:00",
          "2020-12-03T00:00:00",
          "2020-12-10T00:00:00",
          "2020-12-17T00:00:00",
          "2020-12-24T00:00:00",
          "2020-12-31T00:00:00",
          "2021-01-07T00:00:00",
          "2021-01-14T00:00:00",
          "2021-01-21T00:00:00",
          "2021-01-28T00:00:00",
          "2021-02-04T00:00:00",
          "2021-02-11T00:00:00",
          "2021-02-18T00:00:00",
          "2021-02-25T00:00:00",
          "2021-03-04T00:00:00",
          "2021-03-11T00:00:00",
          "2021-03-18T00:00:00",
          "2021-03-25T00:00:00",
          "2021-04-01T00:00:00",
          "2021-04-08T00:00:00",
          "2021-04-15T00:00:00",
          "2021-04-22T00:00:00",
          "2021-04-29T00:00:00",
          "2021-05-06T00:00:00",
          "2021-05-13T00:00:00",
          "2021-05-20T00:00:00",
          "2021-05-27T00:00:00",
          "2021-06-03T00:00:00",
          "2021-06-10T00:00:00",
          "2021-06-17T00:00:00",
          "2021-06-24T00:00:00",
          "2021-07-01T00:00:00",
          "2021-07-08T00:00:00",
          "2021-07-15T00:00:00",
          "2021-07-22T00:00:00",
          "2021-07-29T00:00:00",
          "2021-08-05T00:00:00",
          "2021-08-12T00:00:00",
          "2021-08-19T00:00:00",
          "2021-08-26T00:00:00",
          "2021-09-02T00:00:00",
          "2021-09-09T00:00:00",
          "2021-09-16T00:00:00",
          "2021-09-23T00:00:00",
          "2021-09-30T00:00:00",
          "2021-10-07T00:00:00",
          "2021-10-14T00:00:00",
          "2021-10-21T00:00:00",
          "2021-10-28T00:00:00",
          "2021-11-04T00:00:00",
          "2021-11-11T00:00:00",
          "2021-11-18T00:00:00",
          "2021-11-25T00:00:00",
          "2021-12-02T00:00:00",
          "2021-12-09T00:00:00",
          "2021-12-16T00:00:00",
          "2021-12-23T00:00:00",
          "2021-12-30T00:00:00",
          "2022-01-06T00:00:00",
          "2022-01-13T00:00:00",
          "2022-01-20T00:00:00",
          "2022-01-27T00:00:00",
          "2022-02-03T00:00:00",
          "2022-02-10T00:00:00"
         ],
         "xaxis": "x",
         "y": [
          0,
          0,
          0,
          0,
          0,
          0,
          0,
          0.07692307692307693,
          0.004866180048661801,
          0.013408304498269897,
          0.01530421799178798,
          0.030376583972871674,
          0.05458019494904741,
          0.06571809693196977,
          0.07429748418419892,
          0.06267230288549899,
          0.05281090289608177,
          0.04597523219814242,
          0.038291083141287006,
          0.03445930627975516,
          0.024866225999370474,
          0.01947261663286004,
          0.013192612137203167,
          0.014947138169886985,
          0.007176441474882455,
          0.007944389275074478,
          0.0128,
          0.008500772797527048,
          0.010071090047393365,
          0.007417397167902899,
          0.006911604219716261,
          0.004117563538264944,
          0.004020998547972747,
          0.002260008609556608,
          0.002311998053054271,
          0.0065005417118093175,
          0.006416131989000917,
          0.007325411036952629,
          0.008219954648526076,
          0.00853398354160317,
          0.010110974106041924,
          0.01203448018508844,
          0.014743220465552924,
          0.015168999715685782,
          0.016080354984364154,
          0.02288659633034677,
          0.026128096619276307,
          0.032208225359481396,
          0.035401020466662846,
          0.0374472320828936,
          0.03819786694428139,
          0.04423717214280771,
          0.04226517704084649,
          0.03995027364208792,
          0.04444927303473751,
          0.0419132605881265,
          0.03628981624879662,
          0.034337647641275906,
          0.03105223851263708,
          0.024558514045200843,
          0.01936877307879886,
          0.016839105584430303,
          0.014184137670288928,
          0.01346095737525952,
          0.013632220104417005,
          0.015204147897704431,
          0.011535859505227404,
          0.011242652766995674,
          0.010711353016837316,
          0.010196604663070635,
          0.009278668990930956,
          0.008956841231946632,
          0.009140818007136975,
          0.0069946772212365225,
          0.005489260143198091,
          0.006490912722188935,
          0.0052020114444251775,
          0.005275884809848318,
          0.00493138936535163,
          0.004171301446051168,
          0.0029170464904284413,
          0.003667654112004514,
          0.004097887567817153,
          0.004576932261402531,
          0.004510678595459417,
          0.0046959380136182205,
          0.005443025414959815,
          0.005910577387015494,
          0.006483268746224233,
          0.005972544125512569,
          0.006857467711275738,
          0.00797428114729072,
          0.008453381352541017,
          0.009600060235672067,
          0.00957683930402651,
          0.00997191696340843,
          0.008389298496935605,
          0.007742381064569328,
          0.0073977236979851585,
          0.007102661177220303,
          0.006890324780132852,
          0.007038330053174831,
          0.006418741421653477,
          0.005368073582668333,
          0.0030001136406682073,
          0.001427838108575501,
          0.000899747378620618,
          0.0005998607909267952,
          0.00047233089002073054,
          0.0002858206426188146,
          0.00011367770098217533
         ],
         "yaxis": "y"
        },
        {
         "hovertemplate": "country_name=Italy<br>Week Start=%{x}<br>Deceased-to-Confirmed Ratio=%{y}<extra></extra>",
         "legendgroup": "Italy",
         "line": {
          "color": "#EF553B",
          "dash": "solid"
         },
         "marker": {
          "symbol": "circle"
         },
         "mode": "lines",
         "name": "Italy",
         "orientation": "v",
         "showlegend": true,
         "type": "scatter",
         "x": [
          "2020-02-20T00:00:00",
          "2020-02-27T00:00:00",
          "2020-03-05T00:00:00",
          "2020-03-12T00:00:00",
          "2020-03-19T00:00:00",
          "2020-03-26T00:00:00",
          "2020-04-02T00:00:00",
          "2020-04-09T00:00:00",
          "2020-04-16T00:00:00",
          "2020-04-23T00:00:00",
          "2020-04-30T00:00:00",
          "2020-05-07T00:00:00",
          "2020-05-14T00:00:00",
          "2020-05-21T00:00:00",
          "2020-05-28T00:00:00",
          "2020-06-04T00:00:00",
          "2020-06-11T00:00:00",
          "2020-06-18T00:00:00",
          "2020-06-25T00:00:00",
          "2020-07-02T00:00:00",
          "2020-07-09T00:00:00",
          "2020-07-16T00:00:00",
          "2020-07-23T00:00:00",
          "2020-07-30T00:00:00",
          "2020-08-06T00:00:00",
          "2020-08-13T00:00:00",
          "2020-08-20T00:00:00",
          "2020-08-27T00:00:00",
          "2020-09-03T00:00:00",
          "2020-09-10T00:00:00",
          "2020-09-17T00:00:00",
          "2020-09-24T00:00:00",
          "2020-10-01T00:00:00",
          "2020-10-08T00:00:00",
          "2020-10-15T00:00:00",
          "2020-10-22T00:00:00",
          "2020-10-29T00:00:00",
          "2020-11-05T00:00:00",
          "2020-11-12T00:00:00",
          "2020-11-19T00:00:00",
          "2020-11-26T00:00:00",
          "2020-12-03T00:00:00",
          "2020-12-10T00:00:00",
          "2020-12-17T00:00:00",
          "2020-12-24T00:00:00",
          "2020-12-31T00:00:00",
          "2021-01-07T00:00:00",
          "2021-01-14T00:00:00",
          "2021-01-21T00:00:00",
          "2021-01-28T00:00:00",
          "2021-02-04T00:00:00",
          "2021-02-11T00:00:00",
          "2021-02-18T00:00:00",
          "2021-02-25T00:00:00",
          "2021-03-04T00:00:00",
          "2021-03-11T00:00:00",
          "2021-03-18T00:00:00",
          "2021-03-25T00:00:00",
          "2021-04-01T00:00:00",
          "2021-04-08T00:00:00",
          "2021-04-15T00:00:00",
          "2021-04-22T00:00:00",
          "2021-04-29T00:00:00",
          "2021-05-06T00:00:00",
          "2021-05-13T00:00:00",
          "2021-05-20T00:00:00",
          "2021-05-27T00:00:00",
          "2021-06-03T00:00:00",
          "2021-06-10T00:00:00",
          "2021-06-17T00:00:00",
          "2021-06-24T00:00:00",
          "2021-07-01T00:00:00",
          "2021-07-08T00:00:00",
          "2021-07-15T00:00:00",
          "2021-07-22T00:00:00",
          "2021-07-29T00:00:00",
          "2021-08-05T00:00:00",
          "2021-08-12T00:00:00",
          "2021-08-19T00:00:00",
          "2021-08-26T00:00:00",
          "2021-09-02T00:00:00",
          "2021-09-09T00:00:00",
          "2021-09-16T00:00:00",
          "2021-09-23T00:00:00",
          "2021-09-30T00:00:00",
          "2021-10-07T00:00:00",
          "2021-10-14T00:00:00",
          "2021-10-21T00:00:00",
          "2021-10-28T00:00:00",
          "2021-11-04T00:00:00",
          "2021-11-11T00:00:00",
          "2021-11-18T00:00:00",
          "2021-11-25T00:00:00",
          "2021-12-02T00:00:00",
          "2021-12-09T00:00:00",
          "2021-12-16T00:00:00",
          "2021-12-23T00:00:00",
          "2021-12-30T00:00:00",
          "2022-01-06T00:00:00",
          "2022-01-13T00:00:00",
          "2022-01-20T00:00:00",
          "2022-01-27T00:00:00",
          "2022-02-03T00:00:00",
          "2022-02-10T00:00:00",
          "2022-02-17T00:00:00",
          "2022-02-24T00:00:00",
          "2022-03-03T00:00:00",
          "2022-03-10T00:00:00",
          "2022-03-17T00:00:00",
          "2022-03-24T00:00:00",
          "2022-03-31T00:00:00",
          "2022-04-07T00:00:00",
          "2022-04-14T00:00:00",
          "2022-04-21T00:00:00",
          "2022-04-28T00:00:00",
          "2022-05-05T00:00:00",
          "2022-05-12T00:00:00",
          "2022-05-19T00:00:00",
          "2022-05-26T00:00:00",
          "2022-06-02T00:00:00",
          "2022-06-09T00:00:00",
          "2022-06-16T00:00:00",
          "2022-06-23T00:00:00",
          "2022-06-30T00:00:00",
          "2022-07-07T00:00:00",
          "2022-07-14T00:00:00",
          "2022-07-21T00:00:00",
          "2022-07-28T00:00:00",
          "2022-08-04T00:00:00",
          "2022-08-11T00:00:00",
          "2022-08-18T00:00:00"
         ],
         "xaxis": "x",
         "y": [
          0,
          0,
          0,
          0,
          0,
          0,
          0,
          0,
          0,
          0,
          0,
          0,
          0,
          0,
          0,
          0,
          0,
          0,
          0,
          0,
          0,
          0,
          0,
          0,
          0,
          0,
          0,
          0,
          0,
          0,
          0,
          0,
          0,
          0,
          0,
          0,
          0,
          0,
          0,
          0,
          0,
          0,
          0,
          0,
          0,
          0,
          0,
          0,
          0,
          0,
          0,
          0,
          0,
          0,
          0,
          0,
          0,
          0,
          0,
          0,
          0,
          0,
          0,
          0,
          0,
          0,
          0,
          0,
          0,
          0,
          0,
          0,
          0,
          0,
          0,
          0,
          0,
          0,
          0,
          0,
          0,
          0,
          0,
          0,
          0,
          0,
          0,
          0,
          0,
          0,
          0,
          0,
          0,
          0,
          0,
          0,
          0,
          0,
          0,
          0,
          0,
          0,
          0,
          0,
          0,
          0,
          0,
          0,
          0,
          0,
          0,
          0,
          0,
          0,
          0,
          0,
          0,
          0,
          0,
          0,
          0,
          0,
          0,
          0,
          0,
          0,
          0,
          0,
          0,
          0,
          0
         ],
         "yaxis": "y"
        },
        {
         "hovertemplate": "country_name=Spain<br>Week Start=%{x}<br>Deceased-to-Confirmed Ratio=%{y}<extra></extra>",
         "legendgroup": "Spain",
         "line": {
          "color": "#00cc96",
          "dash": "solid"
         },
         "marker": {
          "symbol": "circle"
         },
         "mode": "lines",
         "name": "Spain",
         "orientation": "v",
         "showlegend": true,
         "type": "scatter",
         "x": [
          "2020-01-30T00:00:00",
          "2020-02-20T00:00:00",
          "2020-02-27T00:00:00",
          "2020-03-05T00:00:00",
          "2020-03-12T00:00:00",
          "2020-03-19T00:00:00",
          "2020-03-26T00:00:00",
          "2020-04-02T00:00:00",
          "2020-04-09T00:00:00",
          "2020-04-16T00:00:00",
          "2020-04-23T00:00:00",
          "2020-04-30T00:00:00",
          "2020-05-07T00:00:00",
          "2020-05-14T00:00:00",
          "2020-05-21T00:00:00",
          "2020-05-28T00:00:00",
          "2020-06-04T00:00:00",
          "2020-06-11T00:00:00",
          "2020-06-18T00:00:00",
          "2020-06-25T00:00:00",
          "2020-07-02T00:00:00",
          "2020-07-09T00:00:00",
          "2020-07-16T00:00:00",
          "2020-07-23T00:00:00",
          "2020-07-30T00:00:00",
          "2020-08-06T00:00:00",
          "2020-08-13T00:00:00",
          "2020-08-20T00:00:00",
          "2020-08-27T00:00:00",
          "2020-09-03T00:00:00",
          "2020-09-10T00:00:00",
          "2020-09-17T00:00:00",
          "2020-09-24T00:00:00",
          "2020-10-01T00:00:00",
          "2020-10-08T00:00:00",
          "2020-10-15T00:00:00",
          "2020-10-22T00:00:00",
          "2020-10-29T00:00:00",
          "2020-11-05T00:00:00",
          "2020-11-12T00:00:00",
          "2020-11-19T00:00:00",
          "2020-11-26T00:00:00",
          "2020-12-03T00:00:00",
          "2020-12-10T00:00:00",
          "2020-12-17T00:00:00",
          "2020-12-24T00:00:00",
          "2020-12-31T00:00:00",
          "2021-01-07T00:00:00",
          "2021-01-14T00:00:00",
          "2021-01-21T00:00:00",
          "2021-01-28T00:00:00",
          "2021-02-04T00:00:00",
          "2021-02-11T00:00:00",
          "2021-02-18T00:00:00",
          "2021-02-25T00:00:00",
          "2021-03-04T00:00:00",
          "2021-03-11T00:00:00",
          "2021-03-18T00:00:00",
          "2021-03-25T00:00:00",
          "2021-04-01T00:00:00",
          "2021-04-08T00:00:00",
          "2021-04-15T00:00:00",
          "2021-04-22T00:00:00",
          "2021-04-29T00:00:00",
          "2021-05-06T00:00:00",
          "2021-05-13T00:00:00",
          "2021-05-20T00:00:00",
          "2021-05-27T00:00:00",
          "2021-06-03T00:00:00",
          "2021-06-10T00:00:00",
          "2021-06-17T00:00:00",
          "2021-06-24T00:00:00",
          "2021-07-01T00:00:00",
          "2021-07-08T00:00:00",
          "2021-07-15T00:00:00",
          "2021-07-22T00:00:00",
          "2021-07-29T00:00:00",
          "2021-08-05T00:00:00",
          "2021-08-12T00:00:00",
          "2021-08-19T00:00:00",
          "2021-08-26T00:00:00",
          "2021-09-02T00:00:00",
          "2021-09-09T00:00:00",
          "2021-09-16T00:00:00",
          "2021-09-23T00:00:00",
          "2021-09-30T00:00:00",
          "2021-10-07T00:00:00",
          "2021-10-14T00:00:00",
          "2021-10-21T00:00:00",
          "2021-10-28T00:00:00",
          "2021-11-04T00:00:00",
          "2021-11-11T00:00:00",
          "2021-11-18T00:00:00",
          "2021-11-25T00:00:00",
          "2021-12-02T00:00:00",
          "2021-12-09T00:00:00",
          "2021-12-16T00:00:00",
          "2021-12-23T00:00:00",
          "2021-12-30T00:00:00",
          "2022-01-06T00:00:00",
          "2022-01-13T00:00:00",
          "2022-01-20T00:00:00",
          "2022-01-27T00:00:00",
          "2022-02-03T00:00:00",
          "2022-02-10T00:00:00",
          "2022-02-17T00:00:00",
          "2022-02-24T00:00:00",
          "2022-03-03T00:00:00",
          "2022-03-10T00:00:00",
          "2022-03-17T00:00:00",
          "2022-03-24T00:00:00",
          "2022-03-31T00:00:00",
          "2022-04-07T00:00:00",
          "2022-04-14T00:00:00",
          "2022-04-21T00:00:00",
          "2022-04-28T00:00:00",
          "2022-05-05T00:00:00",
          "2022-05-12T00:00:00",
          "2022-05-19T00:00:00",
          "2022-05-26T00:00:00",
          "2022-06-02T00:00:00",
          "2022-06-09T00:00:00",
          "2022-06-16T00:00:00",
          "2022-06-23T00:00:00",
          "2022-06-30T00:00:00",
          "2022-07-07T00:00:00",
          "2022-07-14T00:00:00",
          "2022-07-21T00:00:00"
         ],
         "xaxis": "x",
         "y": [
          0,
          0,
          0,
          0,
          0.0005714693906707622,
          0.0018306301028814117,
          0.0035092959008437242,
          0.0020430748276155613,
          0.0016368525663509879,
          0.001732401686204308,
          0.0020866925922412975,
          0.002902757619738752,
          0.0007960199004975124,
          0.0022466861379465287,
          0.0010678056593699946,
          0.0003675119441381845,
          0.0005145356315924878,
          0,
          0,
          0,
          0,
          0,
          0,
          0,
          0,
          0.0002509410288582183,
          0.00017651471691452274,
          0.000403999596000404,
          0.0004978994865411545,
          0.0009285051067780873,
          0.0009672479110131921,
          0.0005981136415919025,
          0.000731297077249348,
          0.0004193751310547285,
          0.00040114325828611544,
          0.0006060261727553358,
          0.0003358071123946405,
          0.00039187256304249856,
          0.0007120514711492002,
          0.0007982438635002994,
          0.0015065579581708614,
          0.0009242998428690267,
          0.0008744656043528955,
          0.0014968022860253095,
          0.0015464059868003203,
          0.0012489001163747836,
          0.0009818360333824251,
          0.00047882687415831216,
          0.0009726443768996961,
          0.0007673917534901567,
          0.0007360672975814932,
          0.0007465994727141224,
          0.0011161752395126034,
          0.0015571126682237793,
          0.0012526843235504653,
          0.0018184428386849786,
          0.0017661275329986987,
          0.001500441306266549,
          0.001289784150828876,
          0.0010864568969119553,
          0.0009336196433572963,
          0.0009738994935722633,
          0.0006786562606040041,
          0.00047234796299940957,
          0.0014704337779644996,
          0.0009053870529651426,
          0.0004250495891187305,
          0.000328893274132544,
          0.0016634322151372332,
          0.0005805515239477503,
          0.0008064516129032258,
          0.00018736533116822283,
          0.00009487516010183267,
          0.00017648940512039887,
          0.00020289920418423247,
          0.00033896979257656156,
          0.0007005137100540396,
          0.0013275175421960932,
          0.0018498942917547568,
          0.0023249575248144505,
          0.0018072289156626507,
          0.002898550724637681,
          0.0021637996321540627,
          0.0036292573981016193,
          0.0018470063106048947,
          0.00338855421686747,
          0.0013425822331617813,
          0.0011869436201780415,
          0.0016789791806581598,
          0.00031953986259785906,
          0.003734022691368663,
          0.0013074225946395673,
          0.0005867683731846853,
          0.0007200979333189314,
          0.0009172909341079345,
          0.0003855450272105817,
          0.00040836605933558843,
          0.00016641925670503186,
          0.0002936136044964826,
          0.000275606008210979,
          0,
          0,
          0,
          0,
          0,
          0,
          0,
          0,
          0,
          0,
          0,
          0,
          0,
          0,
          0,
          0,
          0,
          0,
          0,
          0,
          0,
          0,
          0,
          0,
          0,
          0,
          0,
          0
         ],
         "yaxis": "y"
        },
        {
         "hovertemplate": "country_name=United States of America<br>Week Start=%{x}<br>Deceased-to-Confirmed Ratio=%{y}<extra></extra>",
         "legendgroup": "United States of America",
         "line": {
          "color": "#ab63fa",
          "dash": "solid"
         },
         "marker": {
          "symbol": "circle"
         },
         "mode": "lines",
         "name": "United States of America",
         "orientation": "v",
         "showlegend": true,
         "type": "scatter",
         "x": [
          "2020-01-16T00:00:00",
          "2020-01-23T00:00:00",
          "2020-01-30T00:00:00",
          "2020-02-06T00:00:00",
          "2020-02-13T00:00:00",
          "2020-02-20T00:00:00",
          "2020-02-27T00:00:00",
          "2020-03-05T00:00:00",
          "2020-03-12T00:00:00",
          "2020-03-19T00:00:00",
          "2020-03-26T00:00:00",
          "2020-04-02T00:00:00",
          "2020-04-09T00:00:00",
          "2020-04-16T00:00:00",
          "2020-04-23T00:00:00",
          "2020-04-30T00:00:00",
          "2020-05-07T00:00:00",
          "2020-05-14T00:00:00",
          "2020-05-21T00:00:00",
          "2020-05-28T00:00:00",
          "2020-06-04T00:00:00",
          "2020-06-11T00:00:00",
          "2020-06-18T00:00:00",
          "2020-06-25T00:00:00",
          "2020-07-02T00:00:00",
          "2020-07-09T00:00:00",
          "2020-07-16T00:00:00",
          "2020-07-23T00:00:00",
          "2020-07-30T00:00:00",
          "2020-08-06T00:00:00",
          "2020-08-13T00:00:00",
          "2020-08-20T00:00:00",
          "2020-08-27T00:00:00",
          "2020-09-03T00:00:00",
          "2020-09-10T00:00:00",
          "2020-09-17T00:00:00",
          "2020-09-24T00:00:00",
          "2020-10-01T00:00:00",
          "2020-10-08T00:00:00",
          "2020-10-15T00:00:00",
          "2020-10-22T00:00:00",
          "2020-10-29T00:00:00",
          "2020-11-05T00:00:00",
          "2020-11-12T00:00:00",
          "2020-11-19T00:00:00",
          "2020-11-26T00:00:00",
          "2020-12-03T00:00:00",
          "2020-12-10T00:00:00",
          "2020-12-17T00:00:00",
          "2020-12-24T00:00:00",
          "2020-12-31T00:00:00",
          "2021-01-07T00:00:00",
          "2021-01-14T00:00:00",
          "2021-01-21T00:00:00",
          "2021-01-28T00:00:00",
          "2021-02-04T00:00:00",
          "2021-02-11T00:00:00",
          "2021-02-18T00:00:00",
          "2021-02-25T00:00:00",
          "2021-03-04T00:00:00",
          "2021-03-11T00:00:00",
          "2021-03-18T00:00:00",
          "2021-03-25T00:00:00",
          "2021-04-01T00:00:00",
          "2021-04-08T00:00:00",
          "2021-04-15T00:00:00",
          "2021-04-22T00:00:00",
          "2021-04-29T00:00:00",
          "2021-05-06T00:00:00",
          "2021-05-13T00:00:00",
          "2021-05-20T00:00:00",
          "2021-05-27T00:00:00",
          "2021-06-03T00:00:00",
          "2021-06-10T00:00:00",
          "2021-06-17T00:00:00",
          "2021-06-24T00:00:00",
          "2021-07-01T00:00:00",
          "2021-07-08T00:00:00",
          "2021-07-15T00:00:00",
          "2021-07-22T00:00:00",
          "2021-07-29T00:00:00",
          "2021-08-05T00:00:00",
          "2021-08-12T00:00:00",
          "2021-08-19T00:00:00",
          "2021-08-26T00:00:00",
          "2021-09-02T00:00:00",
          "2021-09-09T00:00:00",
          "2021-09-16T00:00:00",
          "2021-09-23T00:00:00",
          "2021-09-30T00:00:00",
          "2021-10-07T00:00:00",
          "2021-10-14T00:00:00",
          "2021-10-21T00:00:00",
          "2021-10-28T00:00:00",
          "2021-11-04T00:00:00",
          "2021-11-11T00:00:00",
          "2021-11-18T00:00:00",
          "2021-11-25T00:00:00",
          "2021-12-02T00:00:00",
          "2021-12-09T00:00:00",
          "2021-12-16T00:00:00",
          "2021-12-23T00:00:00",
          "2021-12-30T00:00:00",
          "2022-01-06T00:00:00",
          "2022-01-13T00:00:00",
          "2022-01-20T00:00:00",
          "2022-01-27T00:00:00",
          "2022-02-03T00:00:00",
          "2022-02-10T00:00:00",
          "2022-02-17T00:00:00",
          "2022-02-24T00:00:00",
          "2022-03-03T00:00:00",
          "2022-03-10T00:00:00",
          "2022-03-17T00:00:00",
          "2022-03-24T00:00:00",
          "2022-03-31T00:00:00",
          "2022-04-07T00:00:00",
          "2022-04-14T00:00:00",
          "2022-04-21T00:00:00",
          "2022-04-28T00:00:00",
          "2022-05-05T00:00:00",
          "2022-05-12T00:00:00",
          "2022-05-19T00:00:00",
          "2022-05-26T00:00:00",
          "2022-06-02T00:00:00",
          "2022-06-09T00:00:00",
          "2022-06-16T00:00:00",
          "2022-06-23T00:00:00",
          "2022-06-30T00:00:00",
          "2022-07-07T00:00:00",
          "2022-07-14T00:00:00",
          "2022-07-21T00:00:00",
          "2022-07-28T00:00:00",
          "2022-08-04T00:00:00",
          "2022-08-11T00:00:00",
          "2022-08-18T00:00:00"
         ],
         "xaxis": "x",
         "y": [
          null,
          null,
          0,
          0,
          0,
          0,
          0.13333333333333333,
          0.016097875080489377,
          0.006972802218969104,
          0.016067909655904197,
          0.03632659808768084,
          0.05767930029154519,
          0.07686297788388932,
          0.07631420655462798,
          0.0705723186798522,
          0.07168654311446511,
          0.06437827168969364,
          0.05897956373086158,
          0.0478037162979661,
          0.045290073957253596,
          0.039997918130481175,
          0.028645332050048124,
          0.018812391374597157,
          0.018663812463565906,
          0.011006417990437696,
          0.011625268991279946,
          0.012675354269030834,
          0.01811447371287884,
          0.018425551013000644,
          0.020411539654637576,
          0.021310835275881245,
          0.022232350181970607,
          0.021106670411744202,
          0.01970565569610736,
          0.021641150507629707,
          0.016952725275146435,
          0.016738330228270468,
          0.014262162985572693,
          0.013489314732324278,
          0.0131526374963994,
          0.010520048376593172,
          0.010369658998634405,
          0.008473575211514265,
          0.007898577161619846,
          0.00944009456046055,
          0.009895496637140863,
          0.011150117991907021,
          0.011445386459354641,
          0.012622007418529833,
          0.012904235359371102,
          0.011456464354597358,
          0.013538086192615475,
          0.015599830436625689,
          0.02017610166382991,
          0.022796448136714786,
          0.0285037797369065,
          0.03520597924267649,
          0.03248620090343587,
          0.030595113304187013,
          0.025467492631396582,
          0.02163363429128881,
          0.02010876710691448,
          0.015274020682098342,
          0.015695913675655957,
          0.011458853996528693,
          0.014157036738113462,
          0.014056633822600268,
          0.015554569305690158,
          0.018334392977241914,
          0.02110339397688609,
          0.026186097388001393,
          0.03478007972216995,
          0.032381492934591145,
          0.025592377537085494,
          0.02578725220525467,
          0.019721494270592468,
          0.013804750890333003,
          0.009628968902530236,
          0.005986306018844093,
          0.00432806419486599,
          0.004100678522024732,
          0.0040136021620181895,
          0.004865241343180235,
          0.006198655923833804,
          0.00690102889911514,
          0.007823262125542282,
          0.021282579902737093,
          0.01530449311070458,
          0.017500650891443648,
          0.018138130120642762,
          0.01641741621366407,
          0.025468073156762108,
          0.019866377071627556,
          0.01780707751536299,
          0.015869630762668865,
          0.012221083339903809,
          0.014893822752798542,
          0.010417837370326755,
          0.011371762510714674,
          0.010529987229901158,
          0.0073468797236669,
          0.004591562909252988,
          0.0022692190211813282,
          0.0024779497259059895,
          0.002589548624474936,
          0.004105338783784635,
          0.006873745676941698,
          0.01192398744746839,
          0.01670999572012271,
          0.02428481457895854,
          0.028936610583789504,
          0.0359371250299976,
          0.03458443640103324,
          0.02823753396349164,
          0.02546000164789655,
          0.01909157764359808,
          0.0148876973817552,
          0.01065298380359211,
          0.006339179882668907,
          0.00885002428427324,
          0.004057326297689753,
          0.002966578396247642,
          0.002603042385148691,
          0.0022730363491539254,
          0.0021327122735628726,
          0.0022081573440488876,
          0.002258217402213611,
          0.002069383123945467,
          0.0022666084351003666,
          0.0020967827989115937,
          0.001982205090821941,
          0.0029419232340181264,
          0.003002023102525615,
          0.0036762353075025065,
          0.004046951496600389,
          0.004515773405698779
         ],
         "yaxis": "y"
        }
       ],
       "layout": {
        "hovermode": "x unified",
        "legend": {
         "title": {
          "text": "Country"
         },
         "tracegroupgap": 0
        },
        "template": {
         "data": {
          "bar": [
           {
            "error_x": {
             "color": "#2a3f5f"
            },
            "error_y": {
             "color": "#2a3f5f"
            },
            "marker": {
             "line": {
              "color": "#E5ECF6",
              "width": 0.5
             },
             "pattern": {
              "fillmode": "overlay",
              "size": 10,
              "solidity": 0.2
             }
            },
            "type": "bar"
           }
          ],
          "barpolar": [
           {
            "marker": {
             "line": {
              "color": "#E5ECF6",
              "width": 0.5
             },
             "pattern": {
              "fillmode": "overlay",
              "size": 10,
              "solidity": 0.2
             }
            },
            "type": "barpolar"
           }
          ],
          "carpet": [
           {
            "aaxis": {
             "endlinecolor": "#2a3f5f",
             "gridcolor": "white",
             "linecolor": "white",
             "minorgridcolor": "white",
             "startlinecolor": "#2a3f5f"
            },
            "baxis": {
             "endlinecolor": "#2a3f5f",
             "gridcolor": "white",
             "linecolor": "white",
             "minorgridcolor": "white",
             "startlinecolor": "#2a3f5f"
            },
            "type": "carpet"
           }
          ],
          "choropleth": [
           {
            "colorbar": {
             "outlinewidth": 0,
             "ticks": ""
            },
            "type": "choropleth"
           }
          ],
          "contour": [
           {
            "colorbar": {
             "outlinewidth": 0,
             "ticks": ""
            },
            "colorscale": [
             [
              0,
              "#0d0887"
             ],
             [
              0.1111111111111111,
              "#46039f"
             ],
             [
              0.2222222222222222,
              "#7201a8"
             ],
             [
              0.3333333333333333,
              "#9c179e"
             ],
             [
              0.4444444444444444,
              "#bd3786"
             ],
             [
              0.5555555555555556,
              "#d8576b"
             ],
             [
              0.6666666666666666,
              "#ed7953"
             ],
             [
              0.7777777777777778,
              "#fb9f3a"
             ],
             [
              0.8888888888888888,
              "#fdca26"
             ],
             [
              1,
              "#f0f921"
             ]
            ],
            "type": "contour"
           }
          ],
          "contourcarpet": [
           {
            "colorbar": {
             "outlinewidth": 0,
             "ticks": ""
            },
            "type": "contourcarpet"
           }
          ],
          "heatmap": [
           {
            "colorbar": {
             "outlinewidth": 0,
             "ticks": ""
            },
            "colorscale": [
             [
              0,
              "#0d0887"
             ],
             [
              0.1111111111111111,
              "#46039f"
             ],
             [
              0.2222222222222222,
              "#7201a8"
             ],
             [
              0.3333333333333333,
              "#9c179e"
             ],
             [
              0.4444444444444444,
              "#bd3786"
             ],
             [
              0.5555555555555556,
              "#d8576b"
             ],
             [
              0.6666666666666666,
              "#ed7953"
             ],
             [
              0.7777777777777778,
              "#fb9f3a"
             ],
             [
              0.8888888888888888,
              "#fdca26"
             ],
             [
              1,
              "#f0f921"
             ]
            ],
            "type": "heatmap"
           }
          ],
          "heatmapgl": [
           {
            "colorbar": {
             "outlinewidth": 0,
             "ticks": ""
            },
            "colorscale": [
             [
              0,
              "#0d0887"
             ],
             [
              0.1111111111111111,
              "#46039f"
             ],
             [
              0.2222222222222222,
              "#7201a8"
             ],
             [
              0.3333333333333333,
              "#9c179e"
             ],
             [
              0.4444444444444444,
              "#bd3786"
             ],
             [
              0.5555555555555556,
              "#d8576b"
             ],
             [
              0.6666666666666666,
              "#ed7953"
             ],
             [
              0.7777777777777778,
              "#fb9f3a"
             ],
             [
              0.8888888888888888,
              "#fdca26"
             ],
             [
              1,
              "#f0f921"
             ]
            ],
            "type": "heatmapgl"
           }
          ],
          "histogram": [
           {
            "marker": {
             "pattern": {
              "fillmode": "overlay",
              "size": 10,
              "solidity": 0.2
             }
            },
            "type": "histogram"
           }
          ],
          "histogram2d": [
           {
            "colorbar": {
             "outlinewidth": 0,
             "ticks": ""
            },
            "colorscale": [
             [
              0,
              "#0d0887"
             ],
             [
              0.1111111111111111,
              "#46039f"
             ],
             [
              0.2222222222222222,
              "#7201a8"
             ],
             [
              0.3333333333333333,
              "#9c179e"
             ],
             [
              0.4444444444444444,
              "#bd3786"
             ],
             [
              0.5555555555555556,
              "#d8576b"
             ],
             [
              0.6666666666666666,
              "#ed7953"
             ],
             [
              0.7777777777777778,
              "#fb9f3a"
             ],
             [
              0.8888888888888888,
              "#fdca26"
             ],
             [
              1,
              "#f0f921"
             ]
            ],
            "type": "histogram2d"
           }
          ],
          "histogram2dcontour": [
           {
            "colorbar": {
             "outlinewidth": 0,
             "ticks": ""
            },
            "colorscale": [
             [
              0,
              "#0d0887"
             ],
             [
              0.1111111111111111,
              "#46039f"
             ],
             [
              0.2222222222222222,
              "#7201a8"
             ],
             [
              0.3333333333333333,
              "#9c179e"
             ],
             [
              0.4444444444444444,
              "#bd3786"
             ],
             [
              0.5555555555555556,
              "#d8576b"
             ],
             [
              0.6666666666666666,
              "#ed7953"
             ],
             [
              0.7777777777777778,
              "#fb9f3a"
             ],
             [
              0.8888888888888888,
              "#fdca26"
             ],
             [
              1,
              "#f0f921"
             ]
            ],
            "type": "histogram2dcontour"
           }
          ],
          "mesh3d": [
           {
            "colorbar": {
             "outlinewidth": 0,
             "ticks": ""
            },
            "type": "mesh3d"
           }
          ],
          "parcoords": [
           {
            "line": {
             "colorbar": {
              "outlinewidth": 0,
              "ticks": ""
             }
            },
            "type": "parcoords"
           }
          ],
          "pie": [
           {
            "automargin": true,
            "type": "pie"
           }
          ],
          "scatter": [
           {
            "fillpattern": {
             "fillmode": "overlay",
             "size": 10,
             "solidity": 0.2
            },
            "type": "scatter"
           }
          ],
          "scatter3d": [
           {
            "line": {
             "colorbar": {
              "outlinewidth": 0,
              "ticks": ""
             }
            },
            "marker": {
             "colorbar": {
              "outlinewidth": 0,
              "ticks": ""
             }
            },
            "type": "scatter3d"
           }
          ],
          "scattercarpet": [
           {
            "marker": {
             "colorbar": {
              "outlinewidth": 0,
              "ticks": ""
             }
            },
            "type": "scattercarpet"
           }
          ],
          "scattergeo": [
           {
            "marker": {
             "colorbar": {
              "outlinewidth": 0,
              "ticks": ""
             }
            },
            "type": "scattergeo"
           }
          ],
          "scattergl": [
           {
            "marker": {
             "colorbar": {
              "outlinewidth": 0,
              "ticks": ""
             }
            },
            "type": "scattergl"
           }
          ],
          "scattermapbox": [
           {
            "marker": {
             "colorbar": {
              "outlinewidth": 0,
              "ticks": ""
             }
            },
            "type": "scattermapbox"
           }
          ],
          "scatterpolar": [
           {
            "marker": {
             "colorbar": {
              "outlinewidth": 0,
              "ticks": ""
             }
            },
            "type": "scatterpolar"
           }
          ],
          "scatterpolargl": [
           {
            "marker": {
             "colorbar": {
              "outlinewidth": 0,
              "ticks": ""
             }
            },
            "type": "scatterpolargl"
           }
          ],
          "scatterternary": [
           {
            "marker": {
             "colorbar": {
              "outlinewidth": 0,
              "ticks": ""
             }
            },
            "type": "scatterternary"
           }
          ],
          "surface": [
           {
            "colorbar": {
             "outlinewidth": 0,
             "ticks": ""
            },
            "colorscale": [
             [
              0,
              "#0d0887"
             ],
             [
              0.1111111111111111,
              "#46039f"
             ],
             [
              0.2222222222222222,
              "#7201a8"
             ],
             [
              0.3333333333333333,
              "#9c179e"
             ],
             [
              0.4444444444444444,
              "#bd3786"
             ],
             [
              0.5555555555555556,
              "#d8576b"
             ],
             [
              0.6666666666666666,
              "#ed7953"
             ],
             [
              0.7777777777777778,
              "#fb9f3a"
             ],
             [
              0.8888888888888888,
              "#fdca26"
             ],
             [
              1,
              "#f0f921"
             ]
            ],
            "type": "surface"
           }
          ],
          "table": [
           {
            "cells": {
             "fill": {
              "color": "#EBF0F8"
             },
             "line": {
              "color": "white"
             }
            },
            "header": {
             "fill": {
              "color": "#C8D4E3"
             },
             "line": {
              "color": "white"
             }
            },
            "type": "table"
           }
          ]
         },
         "layout": {
          "annotationdefaults": {
           "arrowcolor": "#2a3f5f",
           "arrowhead": 0,
           "arrowwidth": 1
          },
          "autotypenumbers": "strict",
          "coloraxis": {
           "colorbar": {
            "outlinewidth": 0,
            "ticks": ""
           }
          },
          "colorscale": {
           "diverging": [
            [
             0,
             "#8e0152"
            ],
            [
             0.1,
             "#c51b7d"
            ],
            [
             0.2,
             "#de77ae"
            ],
            [
             0.3,
             "#f1b6da"
            ],
            [
             0.4,
             "#fde0ef"
            ],
            [
             0.5,
             "#f7f7f7"
            ],
            [
             0.6,
             "#e6f5d0"
            ],
            [
             0.7,
             "#b8e186"
            ],
            [
             0.8,
             "#7fbc41"
            ],
            [
             0.9,
             "#4d9221"
            ],
            [
             1,
             "#276419"
            ]
           ],
           "sequential": [
            [
             0,
             "#0d0887"
            ],
            [
             0.1111111111111111,
             "#46039f"
            ],
            [
             0.2222222222222222,
             "#7201a8"
            ],
            [
             0.3333333333333333,
             "#9c179e"
            ],
            [
             0.4444444444444444,
             "#bd3786"
            ],
            [
             0.5555555555555556,
             "#d8576b"
            ],
            [
             0.6666666666666666,
             "#ed7953"
            ],
            [
             0.7777777777777778,
             "#fb9f3a"
            ],
            [
             0.8888888888888888,
             "#fdca26"
            ],
            [
             1,
             "#f0f921"
            ]
           ],
           "sequentialminus": [
            [
             0,
             "#0d0887"
            ],
            [
             0.1111111111111111,
             "#46039f"
            ],
            [
             0.2222222222222222,
             "#7201a8"
            ],
            [
             0.3333333333333333,
             "#9c179e"
            ],
            [
             0.4444444444444444,
             "#bd3786"
            ],
            [
             0.5555555555555556,
             "#d8576b"
            ],
            [
             0.6666666666666666,
             "#ed7953"
            ],
            [
             0.7777777777777778,
             "#fb9f3a"
            ],
            [
             0.8888888888888888,
             "#fdca26"
            ],
            [
             1,
             "#f0f921"
            ]
           ]
          },
          "colorway": [
           "#636efa",
           "#EF553B",
           "#00cc96",
           "#ab63fa",
           "#FFA15A",
           "#19d3f3",
           "#FF6692",
           "#B6E880",
           "#FF97FF",
           "#FECB52"
          ],
          "font": {
           "color": "#2a3f5f"
          },
          "geo": {
           "bgcolor": "white",
           "lakecolor": "white",
           "landcolor": "#E5ECF6",
           "showlakes": true,
           "showland": true,
           "subunitcolor": "white"
          },
          "hoverlabel": {
           "align": "left"
          },
          "hovermode": "closest",
          "mapbox": {
           "style": "light"
          },
          "paper_bgcolor": "white",
          "plot_bgcolor": "#E5ECF6",
          "polar": {
           "angularaxis": {
            "gridcolor": "white",
            "linecolor": "white",
            "ticks": ""
           },
           "bgcolor": "#E5ECF6",
           "radialaxis": {
            "gridcolor": "white",
            "linecolor": "white",
            "ticks": ""
           }
          },
          "scene": {
           "xaxis": {
            "backgroundcolor": "#E5ECF6",
            "gridcolor": "white",
            "gridwidth": 2,
            "linecolor": "white",
            "showbackground": true,
            "ticks": "",
            "zerolinecolor": "white"
           },
           "yaxis": {
            "backgroundcolor": "#E5ECF6",
            "gridcolor": "white",
            "gridwidth": 2,
            "linecolor": "white",
            "showbackground": true,
            "ticks": "",
            "zerolinecolor": "white"
           },
           "zaxis": {
            "backgroundcolor": "#E5ECF6",
            "gridcolor": "white",
            "gridwidth": 2,
            "linecolor": "white",
            "showbackground": true,
            "ticks": "",
            "zerolinecolor": "white"
           }
          },
          "shapedefaults": {
           "line": {
            "color": "#2a3f5f"
           }
          },
          "ternary": {
           "aaxis": {
            "gridcolor": "white",
            "linecolor": "white",
            "ticks": ""
           },
           "baxis": {
            "gridcolor": "white",
            "linecolor": "white",
            "ticks": ""
           },
           "bgcolor": "#E5ECF6",
           "caxis": {
            "gridcolor": "white",
            "linecolor": "white",
            "ticks": ""
           }
          },
          "title": {
           "x": 0.05
          },
          "xaxis": {
           "automargin": true,
           "gridcolor": "white",
           "linecolor": "white",
           "ticks": "",
           "title": {
            "standoff": 15
           },
           "zerolinecolor": "white",
           "zerolinewidth": 2
          },
          "yaxis": {
           "automargin": true,
           "gridcolor": "white",
           "linecolor": "white",
           "ticks": "",
           "title": {
            "standoff": 15
           },
           "zerolinecolor": "white",
           "zerolinewidth": 2
          }
         }
        },
        "title": {
         "text": "Deceased-to-Confirmed Ratio by Country Over Time"
        },
        "xaxis": {
         "anchor": "y",
         "domain": [
          0,
          1
         ],
         "dtick": "M1",
         "tickformat": "%b-%Y",
         "title": {
          "text": "Week"
         }
        },
        "yaxis": {
         "anchor": "x",
         "domain": [
          0,
          1
         ],
         "title": {
          "text": "Deceased-to-Confirmed Ratio"
         }
        }
       }
      }
     },
     "metadata": {},
     "output_type": "display_data"
    }
   ],
   "source": [
    "# Convert the 'week' column to string to handle any inconsistencies\n",
    "df['week'] = df['week'].astype(str)\n",
    "\n",
    "# Parse the start of the week from the 'week' column\n",
    "df['week_start'] = df['week'].str.split('/').str[0]  # Extract the start date if it's a range\n",
    "df['week_start'] = pd.to_datetime(df['week_start'], errors='coerce')  # Convert to datetime\n",
    "\n",
    "# Calculate the deceased-to-confirmed ratio\n",
    "df['deceased_to_confirmed_ratio'] = df['new_deceased'] / df['new_confirmed']\n",
    "\n",
    "# Group by country and week to calculate the mean ratio over time\n",
    "country_trends = df.groupby(['country_name', 'week_start'])['deceased_to_confirmed_ratio'].mean().reset_index()\n",
    "\n",
    "# Create a line chart to show the deceased-to-confirmed ratio by country over time\n",
    "fig_country = px.line(\n",
    "    country_trends,\n",
    "    x='week_start',\n",
    "    y='deceased_to_confirmed_ratio',\n",
    "    color='country_name',\n",
    "    title='Deceased-to-Confirmed Ratio by Country Over Time',\n",
    "    labels={'week_start': 'Week Start', 'deceased_to_confirmed_ratio': 'Deceased-to-Confirmed Ratio'}\n",
    ")\n",
    "\n",
    "# Update layout for better readability\n",
    "fig_country.update_layout(\n",
    "    xaxis=dict(\n",
    "        title=\"Week\",\n",
    "        tickformat=\"%b-%Y\",  # Format as \"Month-Year\"\n",
    "        dtick=\"M1\",  # Tick every month\n",
    "    ),\n",
    "    yaxis_title=\"Deceased-to-Confirmed Ratio\",\n",
    "    legend_title=\"Country\",\n",
    "    hovermode=\"x unified\",\n",
    ")\n",
    "\n",
    "# Display the chart\n",
    "fig_country.show()\n",
    "\n",
    "\n"
   ]
  },
  {
   "cell_type": "markdown",
   "metadata": {},
   "source": [
    "### Graph 1: Confirmed-to-Deceased Ratio Over Time by Country\n",
    "**Insights**:\n",
    "- The confirmed-to-deceased ratio varies significantly across countries, with the United States consistently showing much higher ratios compared to European nations.\n",
    "- Peaks in the ratio may correspond to periods of mass testing or outbreaks with lower fatality rates.\n",
    "- Italy and Spains data is not really usable as it doe\n",
    "\n",
    "**Sequential Logic**:\n",
    "This chart helps establish a baseline comparison of how well countries manage fatality rates relative to confirmed cases over time."
   ]
  },
  {
   "cell_type": "code",
   "execution_count": 25,
   "metadata": {},
   "outputs": [
    {
     "data": {
      "application/vnd.plotly.v1+json": {
       "config": {
        "plotlyServerURL": "https://plot.ly"
       },
       "data": [
        {
         "alignmentgroup": "True",
         "boxpoints": "all",
         "hovertemplate": "Country=%{x}<br>Mortality Rate (%)=%{y}<extra></extra>",
         "legendgroup": "",
         "marker": {
          "color": "blue"
         },
         "name": "",
         "notched": false,
         "offsetgroup": "",
         "orientation": "v",
         "showlegend": false,
         "type": "box",
         "x": [
          "Germany",
          "Germany",
          "Germany",
          "Germany",
          "Germany",
          "Germany",
          "Germany",
          "Germany",
          "Germany",
          "Germany",
          "Germany",
          "Germany",
          "Germany",
          "Germany",
          "Germany",
          "Germany",
          "Germany",
          "Germany",
          "Germany",
          "Germany",
          "Germany",
          "Germany",
          "Germany",
          "Germany",
          "Germany",
          "Germany",
          "Germany",
          "Germany",
          "Germany",
          "Germany",
          "Germany",
          "Germany",
          "Germany",
          "Germany",
          "Germany",
          "Germany",
          "Germany",
          "Germany",
          "Germany",
          "Germany",
          "Germany",
          "Germany",
          "Germany",
          "Germany",
          "Germany",
          "Germany",
          "Germany",
          "Germany",
          "Germany",
          "Germany",
          "Germany",
          "Germany",
          "Germany",
          "Germany",
          "Germany",
          "Germany",
          "Germany",
          "Germany",
          "Germany",
          "Germany",
          "Germany",
          "Germany",
          "Germany",
          "Germany",
          "Germany",
          "Germany",
          "Germany",
          "Germany",
          "Germany",
          "Germany",
          "Germany",
          "Germany",
          "Germany",
          "Germany",
          "Germany",
          "Germany",
          "Germany",
          "Germany",
          "Germany",
          "Germany",
          "Germany",
          "Germany",
          "Germany",
          "Germany",
          "Germany",
          "Germany",
          "Germany",
          "Germany",
          "Germany",
          "Germany",
          "Germany",
          "Germany",
          "Germany",
          "Germany",
          "Germany",
          "Germany",
          "Germany",
          "Germany",
          "Germany",
          "Germany",
          "Germany",
          "Germany",
          "Germany",
          "Germany",
          "Germany",
          "Germany",
          "Germany",
          "Germany",
          "Germany",
          "Germany",
          "Germany",
          "Italy",
          "Italy",
          "Italy",
          "Italy",
          "Italy",
          "Italy",
          "Italy",
          "Italy",
          "Italy",
          "Italy",
          "Italy",
          "Italy",
          "Italy",
          "Italy",
          "Italy",
          "Italy",
          "Italy",
          "Italy",
          "Italy",
          "Italy",
          "Italy",
          "Italy",
          "Italy",
          "Italy",
          "Italy",
          "Italy",
          "Italy",
          "Italy",
          "Italy",
          "Italy",
          "Italy",
          "Italy",
          "Italy",
          "Italy",
          "Italy",
          "Italy",
          "Italy",
          "Italy",
          "Italy",
          "Italy",
          "Italy",
          "Italy",
          "Italy",
          "Italy",
          "Italy",
          "Italy",
          "Italy",
          "Italy",
          "Italy",
          "Italy",
          "Italy",
          "Italy",
          "Italy",
          "Italy",
          "Italy",
          "Italy",
          "Italy",
          "Italy",
          "Italy",
          "Italy",
          "Italy",
          "Italy",
          "Italy",
          "Italy",
          "Italy",
          "Italy",
          "Italy",
          "Italy",
          "Italy",
          "Italy",
          "Italy",
          "Italy",
          "Italy",
          "Italy",
          "Italy",
          "Italy",
          "Italy",
          "Italy",
          "Italy",
          "Italy",
          "Italy",
          "Italy",
          "Italy",
          "Italy",
          "Italy",
          "Italy",
          "Italy",
          "Italy",
          "Italy",
          "Italy",
          "Italy",
          "Italy",
          "Italy",
          "Italy",
          "Italy",
          "Italy",
          "Italy",
          "Italy",
          "Italy",
          "Italy",
          "Italy",
          "Italy",
          "Italy",
          "Italy",
          "Italy",
          "Italy",
          "Italy",
          "Italy",
          "Italy",
          "Italy",
          "Italy",
          "Italy",
          "Italy",
          "Italy",
          "Italy",
          "Italy",
          "Italy",
          "Italy",
          "Italy",
          "Italy",
          "Italy",
          "Italy",
          "Italy",
          "Italy",
          "Italy",
          "Italy",
          "Italy",
          "Italy",
          "Italy",
          "Italy",
          "Italy",
          "Spain",
          "Spain",
          "Spain",
          "Spain",
          "Spain",
          "Spain",
          "Spain",
          "Spain",
          "Spain",
          "Spain",
          "Spain",
          "Spain",
          "Spain",
          "Spain",
          "Spain",
          "Spain",
          "Spain",
          "Spain",
          "Spain",
          "Spain",
          "Spain",
          "Spain",
          "Spain",
          "Spain",
          "Spain",
          "Spain",
          "Spain",
          "Spain",
          "Spain",
          "Spain",
          "Spain",
          "Spain",
          "Spain",
          "Spain",
          "Spain",
          "Spain",
          "Spain",
          "Spain",
          "Spain",
          "Spain",
          "Spain",
          "Spain",
          "Spain",
          "Spain",
          "Spain",
          "Spain",
          "Spain",
          "Spain",
          "Spain",
          "Spain",
          "Spain",
          "Spain",
          "Spain",
          "Spain",
          "Spain",
          "Spain",
          "Spain",
          "Spain",
          "Spain",
          "Spain",
          "Spain",
          "Spain",
          "Spain",
          "Spain",
          "Spain",
          "Spain",
          "Spain",
          "Spain",
          "Spain",
          "Spain",
          "Spain",
          "Spain",
          "Spain",
          "Spain",
          "Spain",
          "Spain",
          "Spain",
          "Spain",
          "Spain",
          "Spain",
          "Spain",
          "Spain",
          "Spain",
          "Spain",
          "Spain",
          "Spain",
          "Spain",
          "Spain",
          "Spain",
          "Spain",
          "Spain",
          "Spain",
          "Spain",
          "Spain",
          "Spain",
          "Spain",
          "Spain",
          "Spain",
          "Spain",
          "Spain",
          "Spain",
          "Spain",
          "Spain",
          "Spain",
          "Spain",
          "Spain",
          "Spain",
          "Spain",
          "Spain",
          "Spain",
          "Spain",
          "Spain",
          "Spain",
          "Spain",
          "Spain",
          "Spain",
          "Spain",
          "Spain",
          "Spain",
          "Spain",
          "Spain",
          "Spain",
          "Spain",
          "Spain",
          "Spain",
          "Spain",
          "Spain",
          "Spain",
          "United States of America",
          "United States of America",
          "United States of America",
          "United States of America",
          "United States of America",
          "United States of America",
          "United States of America",
          "United States of America",
          "United States of America",
          "United States of America",
          "United States of America",
          "United States of America",
          "United States of America",
          "United States of America",
          "United States of America",
          "United States of America",
          "United States of America",
          "United States of America",
          "United States of America",
          "United States of America",
          "United States of America",
          "United States of America",
          "United States of America",
          "United States of America",
          "United States of America",
          "United States of America",
          "United States of America",
          "United States of America",
          "United States of America",
          "United States of America",
          "United States of America",
          "United States of America",
          "United States of America",
          "United States of America",
          "United States of America",
          "United States of America",
          "United States of America",
          "United States of America",
          "United States of America",
          "United States of America",
          "United States of America",
          "United States of America",
          "United States of America",
          "United States of America",
          "United States of America",
          "United States of America",
          "United States of America",
          "United States of America",
          "United States of America",
          "United States of America",
          "United States of America",
          "United States of America",
          "United States of America",
          "United States of America",
          "United States of America",
          "United States of America",
          "United States of America",
          "United States of America",
          "United States of America",
          "United States of America",
          "United States of America",
          "United States of America",
          "United States of America",
          "United States of America",
          "United States of America",
          "United States of America",
          "United States of America",
          "United States of America",
          "United States of America",
          "United States of America",
          "United States of America",
          "United States of America",
          "United States of America",
          "United States of America",
          "United States of America",
          "United States of America",
          "United States of America",
          "United States of America",
          "United States of America",
          "United States of America",
          "United States of America",
          "United States of America",
          "United States of America",
          "United States of America",
          "United States of America",
          "United States of America",
          "United States of America",
          "United States of America",
          "United States of America",
          "United States of America",
          "United States of America",
          "United States of America",
          "United States of America",
          "United States of America",
          "United States of America",
          "United States of America",
          "United States of America",
          "United States of America",
          "United States of America",
          "United States of America",
          "United States of America",
          "United States of America",
          "United States of America",
          "United States of America",
          "United States of America",
          "United States of America",
          "United States of America",
          "United States of America",
          "United States of America",
          "United States of America",
          "United States of America",
          "United States of America",
          "United States of America",
          "United States of America",
          "United States of America",
          "United States of America",
          "United States of America",
          "United States of America",
          "United States of America",
          "United States of America",
          "United States of America",
          "United States of America",
          "United States of America",
          "United States of America",
          "United States of America",
          "United States of America",
          "United States of America",
          "United States of America",
          "United States of America",
          "United States of America",
          "United States of America",
          "United States of America",
          "United States of America",
          "United States of America",
          "United States of America",
          "United States of America"
         ],
         "x0": " ",
         "xaxis": "x",
         "y": [
          0,
          0,
          0,
          0,
          0,
          0,
          0,
          7.6923076923076925,
          0.48661800486618007,
          1.3408304498269896,
          1.530421799178798,
          3.0376583972871676,
          5.4580194949047405,
          6.571809693196977,
          7.429748418419892,
          6.267230288549899,
          5.281090289608177,
          4.597523219814241,
          3.8291083141287006,
          3.4459306279755157,
          2.4866225999370473,
          1.947261663286004,
          1.3192612137203166,
          1.4947138169886984,
          0.7176441474882455,
          0.7944389275074478,
          1.28,
          0.8500772797527048,
          1.0071090047393365,
          0.7417397167902899,
          0.6911604219716261,
          0.41175635382649445,
          0.40209985479727467,
          0.2260008609556608,
          0.2311998053054271,
          0.6500541711809318,
          0.6416131989000917,
          0.7325411036952629,
          0.8219954648526077,
          0.8533983541603171,
          1.0110974106041923,
          1.2034480185088439,
          1.4743220465552924,
          1.5168999715685783,
          1.6080354984364154,
          2.288659633034677,
          2.612809661927631,
          3.2208225359481397,
          3.5401020466662847,
          3.74472320828936,
          3.819786694428139,
          4.423717214280771,
          4.226517704084649,
          3.995027364208792,
          4.444927303473751,
          4.19132605881265,
          3.628981624879662,
          3.4337647641275906,
          3.105223851263708,
          2.455851404520084,
          1.9368773078798858,
          1.6839105584430303,
          1.4184137670288928,
          1.3460957375259521,
          1.3632220104417005,
          1.5204147897704432,
          1.1535859505227404,
          1.1242652766995673,
          1.0711353016837317,
          1.0196604663070634,
          0.9278668990930956,
          0.8956841231946632,
          0.9140818007136975,
          0.6994677221236523,
          0.548926014319809,
          0.6490912722188935,
          0.5202011444425177,
          0.5275884809848318,
          0.49313893653516294,
          0.41713014460511677,
          0.29170464904284416,
          0.3667654112004514,
          0.40978875678171534,
          0.45769322614025315,
          0.4510678595459417,
          0.46959380136182205,
          0.5443025414959816,
          0.5910577387015493,
          0.6483268746224233,
          0.5972544125512569,
          0.6857467711275738,
          0.7974281147290719,
          0.8453381352541016,
          0.9600060235672068,
          0.9576839304026511,
          0.997191696340843,
          0.8389298496935605,
          0.7742381064569328,
          0.7397723697985159,
          0.7102661177220303,
          0.6890324780132853,
          0.703833005317483,
          0.6418741421653478,
          0.5368073582668333,
          0.3000113640668207,
          0.1427838108575501,
          0.08997473786206181,
          0.05998607909267952,
          0.047233089002073056,
          0.028582064261881462,
          0.011367770098217532,
          0,
          0,
          0,
          0,
          0,
          0,
          0,
          0,
          0,
          0,
          0,
          0,
          0,
          0,
          0,
          0,
          0,
          0,
          0,
          0,
          0,
          0,
          0,
          0,
          0,
          0,
          0,
          0,
          0,
          0,
          0,
          0,
          0,
          0,
          0,
          0,
          0,
          0,
          0,
          0,
          0,
          0,
          0,
          0,
          0,
          0,
          0,
          0,
          0,
          0,
          0,
          0,
          0,
          0,
          0,
          0,
          0,
          0,
          0,
          0,
          0,
          0,
          0,
          0,
          0,
          0,
          0,
          0,
          0,
          0,
          0,
          0,
          0,
          0,
          0,
          0,
          0,
          0,
          0,
          0,
          0,
          0,
          0,
          0,
          0,
          0,
          0,
          0,
          0,
          0,
          0,
          0,
          0,
          0,
          0,
          0,
          0,
          0,
          0,
          0,
          0,
          0,
          0,
          0,
          0,
          0,
          0,
          0,
          0,
          0,
          0,
          0,
          0,
          0,
          0,
          0,
          0,
          0,
          0,
          0,
          0,
          0,
          0,
          0,
          0,
          0,
          0,
          0,
          0,
          0,
          0,
          0,
          0,
          0,
          0,
          0.05714693906707623,
          0.18306301028814118,
          0.3509295900843724,
          0.20430748276155614,
          0.16368525663509878,
          0.1732401686204308,
          0.20866925922412974,
          0.29027576197387517,
          0.07960199004975124,
          0.22466861379465286,
          0.10678056593699946,
          0.03675119441381845,
          0.05145356315924878,
          0,
          0,
          0,
          0,
          0,
          0,
          0,
          0,
          0.02509410288582183,
          0.017651471691452272,
          0.040399959600040405,
          0.04978994865411545,
          0.09285051067780872,
          0.09672479110131922,
          0.05981136415919025,
          0.0731297077249348,
          0.04193751310547285,
          0.04011432582861155,
          0.06060261727553358,
          0.03358071123946405,
          0.03918725630424986,
          0.07120514711492001,
          0.07982438635002993,
          0.15065579581708613,
          0.09242998428690267,
          0.08744656043528955,
          0.14968022860253094,
          0.15464059868003202,
          0.12489001163747836,
          0.09818360333824251,
          0.04788268741583122,
          0.0972644376899696,
          0.07673917534901567,
          0.07360672975814932,
          0.07465994727141224,
          0.11161752395126034,
          0.15571126682237793,
          0.12526843235504653,
          0.18184428386849785,
          0.17661275329986986,
          0.1500441306266549,
          0.1289784150828876,
          0.10864568969119552,
          0.09336196433572963,
          0.09738994935722634,
          0.0678656260604004,
          0.047234796299940957,
          0.14704337779644996,
          0.09053870529651425,
          0.04250495891187305,
          0.0328893274132544,
          0.16634322151372333,
          0.05805515239477503,
          0.08064516129032258,
          0.018736533116822284,
          0.009487516010183267,
          0.017648940512039888,
          0.020289920418423247,
          0.033896979257656154,
          0.07005137100540396,
          0.13275175421960933,
          0.18498942917547567,
          0.23249575248144505,
          0.18072289156626506,
          0.2898550724637681,
          0.21637996321540626,
          0.3629257398101619,
          0.18470063106048948,
          0.338855421686747,
          0.13425822331617812,
          0.11869436201780414,
          0.16789791806581597,
          0.031953986259785905,
          0.3734022691368663,
          0.13074225946395673,
          0.05867683731846853,
          0.07200979333189314,
          0.09172909341079345,
          0.03855450272105817,
          0.040836605933558846,
          0.016641925670503186,
          0.029361360449648263,
          0.0275606008210979,
          0,
          0,
          0,
          0,
          0,
          0,
          0,
          0,
          0,
          0,
          0,
          0,
          0,
          0,
          0,
          0,
          0,
          0,
          0,
          0,
          0,
          0,
          0,
          0,
          0,
          0,
          0,
          0,
          null,
          null,
          0,
          0,
          0,
          0,
          13.333333333333334,
          1.6097875080489377,
          0.6972802218969104,
          1.6067909655904198,
          3.6326598087680844,
          5.767930029154519,
          7.6862977883889325,
          7.631420655462798,
          7.0572318679852195,
          7.168654311446511,
          6.437827168969363,
          5.897956373086158,
          4.78037162979661,
          4.52900739572536,
          3.9997918130481174,
          2.8645332050048125,
          1.8812391374597157,
          1.8663812463565905,
          1.1006417990437696,
          1.1625268991279947,
          1.2675354269030834,
          1.8114473712878838,
          1.8425551013000645,
          2.041153965463758,
          2.1310835275881246,
          2.2232350181970606,
          2.11066704117442,
          1.9705655696107363,
          2.1641150507629705,
          1.6952725275146436,
          1.6738330228270468,
          1.4262162985572693,
          1.3489314732324278,
          1.31526374963994,
          1.0520048376593172,
          1.0369658998634406,
          0.8473575211514265,
          0.7898577161619846,
          0.9440094560460551,
          0.9895496637140863,
          1.115011799190702,
          1.144538645935464,
          1.2622007418529833,
          1.2904235359371103,
          1.1456464354597358,
          1.3538086192615475,
          1.559983043662569,
          2.017610166382991,
          2.2796448136714784,
          2.8503779736906503,
          3.5205979242676486,
          3.2486200903435867,
          3.0595113304187014,
          2.546749263139658,
          2.1633634291288812,
          2.010876710691448,
          1.5274020682098342,
          1.5695913675655957,
          1.1458853996528693,
          1.4157036738113462,
          1.4056633822600269,
          1.5554569305690158,
          1.8334392977241913,
          2.110339397688609,
          2.6186097388001395,
          3.4780079722169948,
          3.2381492934591147,
          2.5592377537085493,
          2.578725220525467,
          1.9721494270592468,
          1.3804750890333002,
          0.9628968902530236,
          0.5986306018844093,
          0.432806419486599,
          0.4100678522024732,
          0.40136021620181894,
          0.48652413431802355,
          0.6198655923833803,
          0.690102889911514,
          0.7823262125542283,
          2.1282579902737093,
          1.530449311070458,
          1.7500650891443648,
          1.8138130120642761,
          1.641741621366407,
          2.5468073156762108,
          1.9866377071627555,
          1.780707751536299,
          1.5869630762668865,
          1.2221083339903809,
          1.4893822752798542,
          1.0417837370326755,
          1.1371762510714674,
          1.0529987229901159,
          0.7346879723666899,
          0.45915629092529886,
          0.22692190211813282,
          0.24779497259059896,
          0.2589548624474936,
          0.41053387837846356,
          0.6873745676941698,
          1.192398744746839,
          1.670999572012271,
          2.428481457895854,
          2.8936610583789504,
          3.59371250299976,
          3.4584436401033236,
          2.823753396349164,
          2.5460001647896546,
          1.9091577643598079,
          1.48876973817552,
          1.065298380359211,
          0.6339179882668907,
          0.885002428427324,
          0.4057326297689753,
          0.2966578396247642,
          0.2603042385148691,
          0.22730363491539254,
          0.21327122735628726,
          0.22081573440488875,
          0.2258217402213611,
          0.2069383123945467,
          0.22666084351003665,
          0.20967827989115936,
          0.1982205090821941,
          0.2941923234018126,
          0.3002023102525615,
          0.36762353075025067,
          0.40469514966003894,
          0.4515773405698779
         ],
         "y0": " ",
         "yaxis": "y"
        }
       ],
       "layout": {
        "boxmode": "group",
        "legend": {
         "tracegroupgap": 0
        },
        "template": {
         "data": {
          "bar": [
           {
            "error_x": {
             "color": "#2a3f5f"
            },
            "error_y": {
             "color": "#2a3f5f"
            },
            "marker": {
             "line": {
              "color": "#E5ECF6",
              "width": 0.5
             },
             "pattern": {
              "fillmode": "overlay",
              "size": 10,
              "solidity": 0.2
             }
            },
            "type": "bar"
           }
          ],
          "barpolar": [
           {
            "marker": {
             "line": {
              "color": "#E5ECF6",
              "width": 0.5
             },
             "pattern": {
              "fillmode": "overlay",
              "size": 10,
              "solidity": 0.2
             }
            },
            "type": "barpolar"
           }
          ],
          "carpet": [
           {
            "aaxis": {
             "endlinecolor": "#2a3f5f",
             "gridcolor": "white",
             "linecolor": "white",
             "minorgridcolor": "white",
             "startlinecolor": "#2a3f5f"
            },
            "baxis": {
             "endlinecolor": "#2a3f5f",
             "gridcolor": "white",
             "linecolor": "white",
             "minorgridcolor": "white",
             "startlinecolor": "#2a3f5f"
            },
            "type": "carpet"
           }
          ],
          "choropleth": [
           {
            "colorbar": {
             "outlinewidth": 0,
             "ticks": ""
            },
            "type": "choropleth"
           }
          ],
          "contour": [
           {
            "colorbar": {
             "outlinewidth": 0,
             "ticks": ""
            },
            "colorscale": [
             [
              0,
              "#0d0887"
             ],
             [
              0.1111111111111111,
              "#46039f"
             ],
             [
              0.2222222222222222,
              "#7201a8"
             ],
             [
              0.3333333333333333,
              "#9c179e"
             ],
             [
              0.4444444444444444,
              "#bd3786"
             ],
             [
              0.5555555555555556,
              "#d8576b"
             ],
             [
              0.6666666666666666,
              "#ed7953"
             ],
             [
              0.7777777777777778,
              "#fb9f3a"
             ],
             [
              0.8888888888888888,
              "#fdca26"
             ],
             [
              1,
              "#f0f921"
             ]
            ],
            "type": "contour"
           }
          ],
          "contourcarpet": [
           {
            "colorbar": {
             "outlinewidth": 0,
             "ticks": ""
            },
            "type": "contourcarpet"
           }
          ],
          "heatmap": [
           {
            "colorbar": {
             "outlinewidth": 0,
             "ticks": ""
            },
            "colorscale": [
             [
              0,
              "#0d0887"
             ],
             [
              0.1111111111111111,
              "#46039f"
             ],
             [
              0.2222222222222222,
              "#7201a8"
             ],
             [
              0.3333333333333333,
              "#9c179e"
             ],
             [
              0.4444444444444444,
              "#bd3786"
             ],
             [
              0.5555555555555556,
              "#d8576b"
             ],
             [
              0.6666666666666666,
              "#ed7953"
             ],
             [
              0.7777777777777778,
              "#fb9f3a"
             ],
             [
              0.8888888888888888,
              "#fdca26"
             ],
             [
              1,
              "#f0f921"
             ]
            ],
            "type": "heatmap"
           }
          ],
          "heatmapgl": [
           {
            "colorbar": {
             "outlinewidth": 0,
             "ticks": ""
            },
            "colorscale": [
             [
              0,
              "#0d0887"
             ],
             [
              0.1111111111111111,
              "#46039f"
             ],
             [
              0.2222222222222222,
              "#7201a8"
             ],
             [
              0.3333333333333333,
              "#9c179e"
             ],
             [
              0.4444444444444444,
              "#bd3786"
             ],
             [
              0.5555555555555556,
              "#d8576b"
             ],
             [
              0.6666666666666666,
              "#ed7953"
             ],
             [
              0.7777777777777778,
              "#fb9f3a"
             ],
             [
              0.8888888888888888,
              "#fdca26"
             ],
             [
              1,
              "#f0f921"
             ]
            ],
            "type": "heatmapgl"
           }
          ],
          "histogram": [
           {
            "marker": {
             "pattern": {
              "fillmode": "overlay",
              "size": 10,
              "solidity": 0.2
             }
            },
            "type": "histogram"
           }
          ],
          "histogram2d": [
           {
            "colorbar": {
             "outlinewidth": 0,
             "ticks": ""
            },
            "colorscale": [
             [
              0,
              "#0d0887"
             ],
             [
              0.1111111111111111,
              "#46039f"
             ],
             [
              0.2222222222222222,
              "#7201a8"
             ],
             [
              0.3333333333333333,
              "#9c179e"
             ],
             [
              0.4444444444444444,
              "#bd3786"
             ],
             [
              0.5555555555555556,
              "#d8576b"
             ],
             [
              0.6666666666666666,
              "#ed7953"
             ],
             [
              0.7777777777777778,
              "#fb9f3a"
             ],
             [
              0.8888888888888888,
              "#fdca26"
             ],
             [
              1,
              "#f0f921"
             ]
            ],
            "type": "histogram2d"
           }
          ],
          "histogram2dcontour": [
           {
            "colorbar": {
             "outlinewidth": 0,
             "ticks": ""
            },
            "colorscale": [
             [
              0,
              "#0d0887"
             ],
             [
              0.1111111111111111,
              "#46039f"
             ],
             [
              0.2222222222222222,
              "#7201a8"
             ],
             [
              0.3333333333333333,
              "#9c179e"
             ],
             [
              0.4444444444444444,
              "#bd3786"
             ],
             [
              0.5555555555555556,
              "#d8576b"
             ],
             [
              0.6666666666666666,
              "#ed7953"
             ],
             [
              0.7777777777777778,
              "#fb9f3a"
             ],
             [
              0.8888888888888888,
              "#fdca26"
             ],
             [
              1,
              "#f0f921"
             ]
            ],
            "type": "histogram2dcontour"
           }
          ],
          "mesh3d": [
           {
            "colorbar": {
             "outlinewidth": 0,
             "ticks": ""
            },
            "type": "mesh3d"
           }
          ],
          "parcoords": [
           {
            "line": {
             "colorbar": {
              "outlinewidth": 0,
              "ticks": ""
             }
            },
            "type": "parcoords"
           }
          ],
          "pie": [
           {
            "automargin": true,
            "type": "pie"
           }
          ],
          "scatter": [
           {
            "fillpattern": {
             "fillmode": "overlay",
             "size": 10,
             "solidity": 0.2
            },
            "type": "scatter"
           }
          ],
          "scatter3d": [
           {
            "line": {
             "colorbar": {
              "outlinewidth": 0,
              "ticks": ""
             }
            },
            "marker": {
             "colorbar": {
              "outlinewidth": 0,
              "ticks": ""
             }
            },
            "type": "scatter3d"
           }
          ],
          "scattercarpet": [
           {
            "marker": {
             "colorbar": {
              "outlinewidth": 0,
              "ticks": ""
             }
            },
            "type": "scattercarpet"
           }
          ],
          "scattergeo": [
           {
            "marker": {
             "colorbar": {
              "outlinewidth": 0,
              "ticks": ""
             }
            },
            "type": "scattergeo"
           }
          ],
          "scattergl": [
           {
            "marker": {
             "colorbar": {
              "outlinewidth": 0,
              "ticks": ""
             }
            },
            "type": "scattergl"
           }
          ],
          "scattermapbox": [
           {
            "marker": {
             "colorbar": {
              "outlinewidth": 0,
              "ticks": ""
             }
            },
            "type": "scattermapbox"
           }
          ],
          "scatterpolar": [
           {
            "marker": {
             "colorbar": {
              "outlinewidth": 0,
              "ticks": ""
             }
            },
            "type": "scatterpolar"
           }
          ],
          "scatterpolargl": [
           {
            "marker": {
             "colorbar": {
              "outlinewidth": 0,
              "ticks": ""
             }
            },
            "type": "scatterpolargl"
           }
          ],
          "scatterternary": [
           {
            "marker": {
             "colorbar": {
              "outlinewidth": 0,
              "ticks": ""
             }
            },
            "type": "scatterternary"
           }
          ],
          "surface": [
           {
            "colorbar": {
             "outlinewidth": 0,
             "ticks": ""
            },
            "colorscale": [
             [
              0,
              "#0d0887"
             ],
             [
              0.1111111111111111,
              "#46039f"
             ],
             [
              0.2222222222222222,
              "#7201a8"
             ],
             [
              0.3333333333333333,
              "#9c179e"
             ],
             [
              0.4444444444444444,
              "#bd3786"
             ],
             [
              0.5555555555555556,
              "#d8576b"
             ],
             [
              0.6666666666666666,
              "#ed7953"
             ],
             [
              0.7777777777777778,
              "#fb9f3a"
             ],
             [
              0.8888888888888888,
              "#fdca26"
             ],
             [
              1,
              "#f0f921"
             ]
            ],
            "type": "surface"
           }
          ],
          "table": [
           {
            "cells": {
             "fill": {
              "color": "#EBF0F8"
             },
             "line": {
              "color": "white"
             }
            },
            "header": {
             "fill": {
              "color": "#C8D4E3"
             },
             "line": {
              "color": "white"
             }
            },
            "type": "table"
           }
          ]
         },
         "layout": {
          "annotationdefaults": {
           "arrowcolor": "#2a3f5f",
           "arrowhead": 0,
           "arrowwidth": 1
          },
          "autotypenumbers": "strict",
          "coloraxis": {
           "colorbar": {
            "outlinewidth": 0,
            "ticks": ""
           }
          },
          "colorscale": {
           "diverging": [
            [
             0,
             "#8e0152"
            ],
            [
             0.1,
             "#c51b7d"
            ],
            [
             0.2,
             "#de77ae"
            ],
            [
             0.3,
             "#f1b6da"
            ],
            [
             0.4,
             "#fde0ef"
            ],
            [
             0.5,
             "#f7f7f7"
            ],
            [
             0.6,
             "#e6f5d0"
            ],
            [
             0.7,
             "#b8e186"
            ],
            [
             0.8,
             "#7fbc41"
            ],
            [
             0.9,
             "#4d9221"
            ],
            [
             1,
             "#276419"
            ]
           ],
           "sequential": [
            [
             0,
             "#0d0887"
            ],
            [
             0.1111111111111111,
             "#46039f"
            ],
            [
             0.2222222222222222,
             "#7201a8"
            ],
            [
             0.3333333333333333,
             "#9c179e"
            ],
            [
             0.4444444444444444,
             "#bd3786"
            ],
            [
             0.5555555555555556,
             "#d8576b"
            ],
            [
             0.6666666666666666,
             "#ed7953"
            ],
            [
             0.7777777777777778,
             "#fb9f3a"
            ],
            [
             0.8888888888888888,
             "#fdca26"
            ],
            [
             1,
             "#f0f921"
            ]
           ],
           "sequentialminus": [
            [
             0,
             "#0d0887"
            ],
            [
             0.1111111111111111,
             "#46039f"
            ],
            [
             0.2222222222222222,
             "#7201a8"
            ],
            [
             0.3333333333333333,
             "#9c179e"
            ],
            [
             0.4444444444444444,
             "#bd3786"
            ],
            [
             0.5555555555555556,
             "#d8576b"
            ],
            [
             0.6666666666666666,
             "#ed7953"
            ],
            [
             0.7777777777777778,
             "#fb9f3a"
            ],
            [
             0.8888888888888888,
             "#fdca26"
            ],
            [
             1,
             "#f0f921"
            ]
           ]
          },
          "colorway": [
           "#636efa",
           "#EF553B",
           "#00cc96",
           "#ab63fa",
           "#FFA15A",
           "#19d3f3",
           "#FF6692",
           "#B6E880",
           "#FF97FF",
           "#FECB52"
          ],
          "font": {
           "color": "#2a3f5f"
          },
          "geo": {
           "bgcolor": "white",
           "lakecolor": "white",
           "landcolor": "#E5ECF6",
           "showlakes": true,
           "showland": true,
           "subunitcolor": "white"
          },
          "hoverlabel": {
           "align": "left"
          },
          "hovermode": "closest",
          "mapbox": {
           "style": "light"
          },
          "paper_bgcolor": "white",
          "plot_bgcolor": "#E5ECF6",
          "polar": {
           "angularaxis": {
            "gridcolor": "white",
            "linecolor": "white",
            "ticks": ""
           },
           "bgcolor": "#E5ECF6",
           "radialaxis": {
            "gridcolor": "white",
            "linecolor": "white",
            "ticks": ""
           }
          },
          "scene": {
           "xaxis": {
            "backgroundcolor": "#E5ECF6",
            "gridcolor": "white",
            "gridwidth": 2,
            "linecolor": "white",
            "showbackground": true,
            "ticks": "",
            "zerolinecolor": "white"
           },
           "yaxis": {
            "backgroundcolor": "#E5ECF6",
            "gridcolor": "white",
            "gridwidth": 2,
            "linecolor": "white",
            "showbackground": true,
            "ticks": "",
            "zerolinecolor": "white"
           },
           "zaxis": {
            "backgroundcolor": "#E5ECF6",
            "gridcolor": "white",
            "gridwidth": 2,
            "linecolor": "white",
            "showbackground": true,
            "ticks": "",
            "zerolinecolor": "white"
           }
          },
          "shapedefaults": {
           "line": {
            "color": "#2a3f5f"
           }
          },
          "ternary": {
           "aaxis": {
            "gridcolor": "white",
            "linecolor": "white",
            "ticks": ""
           },
           "baxis": {
            "gridcolor": "white",
            "linecolor": "white",
            "ticks": ""
           },
           "bgcolor": "#E5ECF6",
           "caxis": {
            "gridcolor": "white",
            "linecolor": "white",
            "ticks": ""
           }
          },
          "title": {
           "x": 0.05
          },
          "xaxis": {
           "automargin": true,
           "gridcolor": "white",
           "linecolor": "white",
           "ticks": "",
           "title": {
            "standoff": 15
           },
           "zerolinecolor": "white",
           "zerolinewidth": 2
          },
          "yaxis": {
           "automargin": true,
           "gridcolor": "white",
           "linecolor": "white",
           "ticks": "",
           "title": {
            "standoff": 15
           },
           "zerolinecolor": "white",
           "zerolinewidth": 2
          }
         }
        },
        "title": {
         "text": "Distribution of Mortality Rate Across Countries"
        },
        "xaxis": {
         "anchor": "y",
         "domain": [
          0,
          1
         ],
         "title": {
          "text": "Country"
         }
        },
        "yaxis": {
         "anchor": "x",
         "domain": [
          0,
          1
         ],
         "title": {
          "text": "Mortality Rate (%)"
         }
        }
       }
      }
     },
     "metadata": {},
     "output_type": "display_data"
    }
   ],
   "source": [
    "# Boxplot: Mortality Rate by Country\n",
    "fig_box = px.box(\n",
    "    df, \n",
    "    x='country_name', \n",
    "    y='mortality_rate', \n",
    "    points=\"all\", \n",
    "    title=\"Distribution of Mortality Rate Across Countries\",\n",
    "    labels={'country_name': 'Country', 'mortality_rate': 'Mortality Rate (%)'}\n",
    ")\n",
    "fig_box.update_traces(marker=dict(color='blue'))\n",
    "fig_box.show()\n"
   ]
  },
  {
   "cell_type": "markdown",
   "metadata": {},
   "source": [
    "### Graph 2: Distribution of Mortality Rate Across Countries\n",
    "**Insights**:\n",
    "- The boxplot reveals significant variance in mortality rates within Germany and the United States, with outliers observed in both.\n",
    "- Italy and Spain show minimal variance, likely due to consistent reporting or limited data points for certain time periods.\n",
    "- The median mortality rate for the United States is notably higher than Germany.\n",
    "\n",
    "**Sequential Logic**:\n",
    "This graph highlights mortality rate disparities, setting the stage for deeper dives into demographic-based vulnerabilities."
   ]
  },
  {
   "cell_type": "code",
   "execution_count": 26,
   "metadata": {},
   "outputs": [
    {
     "data": {
      "application/vnd.plotly.v1+json": {
       "config": {
        "plotlyServerURL": "https://plot.ly"
       },
       "data": [
        {
         "hovertemplate": "age_group=population_age_00_09<br>New Confirmed Cases=%{x}<br>New Deceased Cases=%{y}<br>value=%{marker.size}<extra></extra>",
         "legendgroup": "population_age_00_09",
         "marker": {
          "color": "#636efa",
          "opacity": 0.7,
          "size": [
           7220827,
           7220827,
           7220827,
           7220827,
           7220827,
           7220827,
           7220827,
           7220827,
           7220827,
           7220827,
           7220827,
           7220827,
           7220827,
           7220827,
           7220827,
           7220827,
           7220827,
           7220827,
           7220827,
           7220827,
           7220827,
           7220827,
           7220827,
           7220827,
           7220827,
           7220827,
           7220827,
           7220827,
           7220827,
           7220827,
           7220827,
           7220827,
           7220827,
           7220827,
           7220827,
           7220827,
           7220827,
           7220827,
           7220827,
           7220827,
           7220827,
           7220827,
           7220827,
           7220827,
           7220827,
           7220827,
           7220827,
           7220827,
           7220827,
           7220827,
           7220827,
           7220827,
           7220827,
           7220827,
           7220827,
           7220827,
           7220827,
           7220827,
           7220827,
           7220827,
           7220827,
           7220827,
           7220827,
           7220827,
           7220827,
           7220827,
           7220827,
           7220827,
           7220827,
           7220827,
           7220827,
           7220827,
           7220827,
           7220827,
           7220827,
           7220827,
           7220827,
           7220827,
           7220827,
           7220827,
           7220827,
           7220827,
           7220827,
           7220827,
           7220827,
           7220827,
           7220827,
           7220827,
           7220827,
           7220827,
           7220827,
           7220827,
           7220827,
           7220827,
           7220827,
           7220827,
           7220827,
           7220827,
           7220827,
           7220827,
           7220827,
           7220827,
           7220827,
           7220827,
           7220827,
           7220827,
           7220827,
           7220827,
           7220827,
           7220827,
           7220827
          ],
          "sizemode": "area",
          "sizeref": 32331.5875,
          "symbol": "circle"
         },
         "mode": "markers",
         "name": "population_age_00_09",
         "orientation": "v",
         "showlegend": true,
         "type": "scatter",
         "x": [
          1,
          1,
          1,
          5,
          13,
          6,
          2,
          13,
          411,
          2312,
          13395,
          28015,
          36112,
          33735,
          20391,
          16323,
          9979,
          6460,
          5641,
          4411,
          3177,
          2465,
          2653,
          2743,
          4041,
          3021,
          2500,
          2588,
          3376,
          4449,
          5498,
          7043,
          8953,
          9292,
          8218,
          9230,
          10910,
          12286,
          14112,
          19686,
          32440,
          53596,
          93738,
          119586,
          128231,
          128241,
          126186,
          122329,
          139544,
          166768,
          180586,
          130049,
          118419,
          135944,
          105851,
          86512,
          71673,
          56556,
          50882,
          54645,
          57412,
          61761,
          81993,
          102593,
          120670,
          97013,
          143379,
          144272,
          137611,
          113273,
          90638,
          59061,
          36430,
          29308,
          16760,
          10014,
          5767,
          4549,
          4664,
          7192,
          10970,
          14178,
          17326,
          25126,
          40127,
          59626,
          70549,
          74612,
          67867,
          56090,
          56289,
          55679,
          59976,
          79687,
          117993,
          143503,
          228267,
          309853,
          387822,
          398583,
          375454,
          303339,
          245531,
          187218,
          263990,
          401306,
          606837,
          966891,
          1191961,
          1319009,
          703744
         ],
         "xaxis": "x",
         "y": [
          0,
          0,
          0,
          0,
          0,
          0,
          0,
          1,
          2,
          31,
          205,
          851,
          1971,
          2217,
          1515,
          1023,
          527,
          297,
          216,
          152,
          79,
          48,
          35,
          41,
          29,
          24,
          32,
          22,
          34,
          33,
          38,
          29,
          36,
          21,
          19,
          60,
          70,
          90,
          116,
          168,
          328,
          645,
          1382,
          1814,
          2062,
          2935,
          3297,
          3940,
          4940,
          6245,
          6898,
          5753,
          5005,
          5431,
          4705,
          3626,
          2601,
          1942,
          1580,
          1342,
          1112,
          1040,
          1163,
          1381,
          1645,
          1475,
          1654,
          1622,
          1474,
          1155,
          841,
          529,
          333,
          205,
          92,
          65,
          30,
          24,
          23,
          30,
          32,
          52,
          71,
          115,
          181,
          280,
          384,
          441,
          440,
          335,
          386,
          444,
          507,
          765,
          1130,
          1431,
          1915,
          2399,
          2869,
          2831,
          2587,
          2135,
          1576,
          1005,
          792,
          573,
          546,
          580,
          563,
          377,
          80
         ],
         "yaxis": "y"
        },
        {
         "hovertemplate": "age_group=population_age_10_19<br>New Confirmed Cases=%{x}<br>New Deceased Cases=%{y}<br>value=%{marker.size}<extra></extra>",
         "legendgroup": "population_age_10_19",
         "marker": {
          "color": "#EF553B",
          "opacity": 0.7,
          "size": [
           7398601,
           7398601,
           7398601,
           7398601,
           7398601,
           7398601,
           7398601,
           7398601,
           7398601,
           7398601,
           7398601,
           7398601,
           7398601,
           7398601,
           7398601,
           7398601,
           7398601,
           7398601,
           7398601,
           7398601,
           7398601,
           7398601,
           7398601,
           7398601,
           7398601,
           7398601,
           7398601,
           7398601,
           7398601,
           7398601,
           7398601,
           7398601,
           7398601,
           7398601,
           7398601,
           7398601,
           7398601,
           7398601,
           7398601,
           7398601,
           7398601,
           7398601,
           7398601,
           7398601,
           7398601,
           7398601,
           7398601,
           7398601,
           7398601,
           7398601,
           7398601,
           7398601,
           7398601,
           7398601,
           7398601,
           7398601,
           7398601,
           7398601,
           7398601,
           7398601,
           7398601,
           7398601,
           7398601,
           7398601,
           7398601,
           7398601,
           7398601,
           7398601,
           7398601,
           7398601,
           7398601,
           7398601,
           7398601,
           7398601,
           7398601,
           7398601,
           7398601,
           7398601,
           7398601,
           7398601,
           7398601,
           7398601,
           7398601,
           7398601,
           7398601,
           7398601,
           7398601,
           7398601,
           7398601,
           7398601,
           7398601,
           7398601,
           7398601,
           7398601,
           7398601,
           7398601,
           7398601,
           7398601,
           7398601,
           7398601,
           7398601,
           7398601,
           7398601,
           7398601,
           7398601,
           7398601,
           7398601,
           7398601,
           7398601,
           7398601,
           7398601
          ],
          "sizemode": "area",
          "sizeref": 32331.5875,
          "symbol": "circle"
         },
         "mode": "markers",
         "name": "population_age_10_19",
         "orientation": "v",
         "showlegend": true,
         "type": "scatter",
         "x": [
          1,
          1,
          1,
          5,
          13,
          6,
          2,
          13,
          411,
          2312,
          13395,
          28015,
          36112,
          33735,
          20391,
          16323,
          9979,
          6460,
          5641,
          4411,
          3177,
          2465,
          2653,
          2743,
          4041,
          3021,
          2500,
          2588,
          3376,
          4449,
          5498,
          7043,
          8953,
          9292,
          8218,
          9230,
          10910,
          12286,
          14112,
          19686,
          32440,
          53596,
          93738,
          119586,
          128231,
          128241,
          126186,
          122329,
          139544,
          166768,
          180586,
          130049,
          118419,
          135944,
          105851,
          86512,
          71673,
          56556,
          50882,
          54645,
          57412,
          61761,
          81993,
          102593,
          120670,
          97013,
          143379,
          144272,
          137611,
          113273,
          90638,
          59061,
          36430,
          29308,
          16760,
          10014,
          5767,
          4549,
          4664,
          7192,
          10970,
          14178,
          17326,
          25126,
          40127,
          59626,
          70549,
          74612,
          67867,
          56090,
          56289,
          55679,
          59976,
          79687,
          117993,
          143503,
          228267,
          309853,
          387822,
          398583,
          375454,
          303339,
          245531,
          187218,
          263990,
          401306,
          606837,
          966891,
          1191961,
          1319009,
          703744
         ],
         "xaxis": "x",
         "y": [
          0,
          0,
          0,
          0,
          0,
          0,
          0,
          1,
          2,
          31,
          205,
          851,
          1971,
          2217,
          1515,
          1023,
          527,
          297,
          216,
          152,
          79,
          48,
          35,
          41,
          29,
          24,
          32,
          22,
          34,
          33,
          38,
          29,
          36,
          21,
          19,
          60,
          70,
          90,
          116,
          168,
          328,
          645,
          1382,
          1814,
          2062,
          2935,
          3297,
          3940,
          4940,
          6245,
          6898,
          5753,
          5005,
          5431,
          4705,
          3626,
          2601,
          1942,
          1580,
          1342,
          1112,
          1040,
          1163,
          1381,
          1645,
          1475,
          1654,
          1622,
          1474,
          1155,
          841,
          529,
          333,
          205,
          92,
          65,
          30,
          24,
          23,
          30,
          32,
          52,
          71,
          115,
          181,
          280,
          384,
          441,
          440,
          335,
          386,
          444,
          507,
          765,
          1130,
          1431,
          1915,
          2399,
          2869,
          2831,
          2587,
          2135,
          1576,
          1005,
          792,
          573,
          546,
          580,
          563,
          377,
          80
         ],
         "yaxis": "y"
        },
        {
         "hovertemplate": "age_group=population_age_20_29<br>New Confirmed Cases=%{x}<br>New Deceased Cases=%{y}<br>value=%{marker.size}<extra></extra>",
         "legendgroup": "population_age_20_29",
         "marker": {
          "color": "#00cc96",
          "opacity": 0.7,
          "size": [
           9303309,
           9303309,
           9303309,
           9303309,
           9303309,
           9303309,
           9303309,
           9303309,
           9303309,
           9303309,
           9303309,
           9303309,
           9303309,
           9303309,
           9303309,
           9303309,
           9303309,
           9303309,
           9303309,
           9303309,
           9303309,
           9303309,
           9303309,
           9303309,
           9303309,
           9303309,
           9303309,
           9303309,
           9303309,
           9303309,
           9303309,
           9303309,
           9303309,
           9303309,
           9303309,
           9303309,
           9303309,
           9303309,
           9303309,
           9303309,
           9303309,
           9303309,
           9303309,
           9303309,
           9303309,
           9303309,
           9303309,
           9303309,
           9303309,
           9303309,
           9303309,
           9303309,
           9303309,
           9303309,
           9303309,
           9303309,
           9303309,
           9303309,
           9303309,
           9303309,
           9303309,
           9303309,
           9303309,
           9303309,
           9303309,
           9303309,
           9303309,
           9303309,
           9303309,
           9303309,
           9303309,
           9303309,
           9303309,
           9303309,
           9303309,
           9303309,
           9303309,
           9303309,
           9303309,
           9303309,
           9303309,
           9303309,
           9303309,
           9303309,
           9303309,
           9303309,
           9303309,
           9303309,
           9303309,
           9303309,
           9303309,
           9303309,
           9303309,
           9303309,
           9303309,
           9303309,
           9303309,
           9303309,
           9303309,
           9303309,
           9303309,
           9303309,
           9303309,
           9303309,
           9303309,
           9303309,
           9303309,
           9303309,
           9303309,
           9303309,
           9303309
          ],
          "sizemode": "area",
          "sizeref": 32331.5875,
          "symbol": "circle"
         },
         "mode": "markers",
         "name": "population_age_20_29",
         "orientation": "v",
         "showlegend": true,
         "type": "scatter",
         "x": [
          1,
          1,
          1,
          5,
          13,
          6,
          2,
          13,
          411,
          2312,
          13395,
          28015,
          36112,
          33735,
          20391,
          16323,
          9979,
          6460,
          5641,
          4411,
          3177,
          2465,
          2653,
          2743,
          4041,
          3021,
          2500,
          2588,
          3376,
          4449,
          5498,
          7043,
          8953,
          9292,
          8218,
          9230,
          10910,
          12286,
          14112,
          19686,
          32440,
          53596,
          93738,
          119586,
          128231,
          128241,
          126186,
          122329,
          139544,
          166768,
          180586,
          130049,
          118419,
          135944,
          105851,
          86512,
          71673,
          56556,
          50882,
          54645,
          57412,
          61761,
          81993,
          102593,
          120670,
          97013,
          143379,
          144272,
          137611,
          113273,
          90638,
          59061,
          36430,
          29308,
          16760,
          10014,
          5767,
          4549,
          4664,
          7192,
          10970,
          14178,
          17326,
          25126,
          40127,
          59626,
          70549,
          74612,
          67867,
          56090,
          56289,
          55679,
          59976,
          79687,
          117993,
          143503,
          228267,
          309853,
          387822,
          398583,
          375454,
          303339,
          245531,
          187218,
          263990,
          401306,
          606837,
          966891,
          1191961,
          1319009,
          703744
         ],
         "xaxis": "x",
         "y": [
          0,
          0,
          0,
          0,
          0,
          0,
          0,
          1,
          2,
          31,
          205,
          851,
          1971,
          2217,
          1515,
          1023,
          527,
          297,
          216,
          152,
          79,
          48,
          35,
          41,
          29,
          24,
          32,
          22,
          34,
          33,
          38,
          29,
          36,
          21,
          19,
          60,
          70,
          90,
          116,
          168,
          328,
          645,
          1382,
          1814,
          2062,
          2935,
          3297,
          3940,
          4940,
          6245,
          6898,
          5753,
          5005,
          5431,
          4705,
          3626,
          2601,
          1942,
          1580,
          1342,
          1112,
          1040,
          1163,
          1381,
          1645,
          1475,
          1654,
          1622,
          1474,
          1155,
          841,
          529,
          333,
          205,
          92,
          65,
          30,
          24,
          23,
          30,
          32,
          52,
          71,
          115,
          181,
          280,
          384,
          441,
          440,
          335,
          386,
          444,
          507,
          765,
          1130,
          1431,
          1915,
          2399,
          2869,
          2831,
          2587,
          2135,
          1576,
          1005,
          792,
          573,
          546,
          580,
          563,
          377,
          80
         ],
         "yaxis": "y"
        },
        {
         "hovertemplate": "age_group=population_age_30_39<br>New Confirmed Cases=%{x}<br>New Deceased Cases=%{y}<br>value=%{marker.size}<extra></extra>",
         "legendgroup": "population_age_30_39",
         "marker": {
          "color": "#ab63fa",
          "opacity": 0.7,
          "size": [
           10024505,
           10024505,
           10024505,
           10024505,
           10024505,
           10024505,
           10024505,
           10024505,
           10024505,
           10024505,
           10024505,
           10024505,
           10024505,
           10024505,
           10024505,
           10024505,
           10024505,
           10024505,
           10024505,
           10024505,
           10024505,
           10024505,
           10024505,
           10024505,
           10024505,
           10024505,
           10024505,
           10024505,
           10024505,
           10024505,
           10024505,
           10024505,
           10024505,
           10024505,
           10024505,
           10024505,
           10024505,
           10024505,
           10024505,
           10024505,
           10024505,
           10024505,
           10024505,
           10024505,
           10024505,
           10024505,
           10024505,
           10024505,
           10024505,
           10024505,
           10024505,
           10024505,
           10024505,
           10024505,
           10024505,
           10024505,
           10024505,
           10024505,
           10024505,
           10024505,
           10024505,
           10024505,
           10024505,
           10024505,
           10024505,
           10024505,
           10024505,
           10024505,
           10024505,
           10024505,
           10024505,
           10024505,
           10024505,
           10024505,
           10024505,
           10024505,
           10024505,
           10024505,
           10024505,
           10024505,
           10024505,
           10024505,
           10024505,
           10024505,
           10024505,
           10024505,
           10024505,
           10024505,
           10024505,
           10024505,
           10024505,
           10024505,
           10024505,
           10024505,
           10024505,
           10024505,
           10024505,
           10024505,
           10024505,
           10024505,
           10024505,
           10024505,
           10024505,
           10024505,
           10024505,
           10024505,
           10024505,
           10024505,
           10024505,
           10024505,
           10024505
          ],
          "sizemode": "area",
          "sizeref": 32331.5875,
          "symbol": "circle"
         },
         "mode": "markers",
         "name": "population_age_30_39",
         "orientation": "v",
         "showlegend": true,
         "type": "scatter",
         "x": [
          1,
          1,
          1,
          5,
          13,
          6,
          2,
          13,
          411,
          2312,
          13395,
          28015,
          36112,
          33735,
          20391,
          16323,
          9979,
          6460,
          5641,
          4411,
          3177,
          2465,
          2653,
          2743,
          4041,
          3021,
          2500,
          2588,
          3376,
          4449,
          5498,
          7043,
          8953,
          9292,
          8218,
          9230,
          10910,
          12286,
          14112,
          19686,
          32440,
          53596,
          93738,
          119586,
          128231,
          128241,
          126186,
          122329,
          139544,
          166768,
          180586,
          130049,
          118419,
          135944,
          105851,
          86512,
          71673,
          56556,
          50882,
          54645,
          57412,
          61761,
          81993,
          102593,
          120670,
          97013,
          143379,
          144272,
          137611,
          113273,
          90638,
          59061,
          36430,
          29308,
          16760,
          10014,
          5767,
          4549,
          4664,
          7192,
          10970,
          14178,
          17326,
          25126,
          40127,
          59626,
          70549,
          74612,
          67867,
          56090,
          56289,
          55679,
          59976,
          79687,
          117993,
          143503,
          228267,
          309853,
          387822,
          398583,
          375454,
          303339,
          245531,
          187218,
          263990,
          401306,
          606837,
          966891,
          1191961,
          1319009,
          703744
         ],
         "xaxis": "x",
         "y": [
          0,
          0,
          0,
          0,
          0,
          0,
          0,
          1,
          2,
          31,
          205,
          851,
          1971,
          2217,
          1515,
          1023,
          527,
          297,
          216,
          152,
          79,
          48,
          35,
          41,
          29,
          24,
          32,
          22,
          34,
          33,
          38,
          29,
          36,
          21,
          19,
          60,
          70,
          90,
          116,
          168,
          328,
          645,
          1382,
          1814,
          2062,
          2935,
          3297,
          3940,
          4940,
          6245,
          6898,
          5753,
          5005,
          5431,
          4705,
          3626,
          2601,
          1942,
          1580,
          1342,
          1112,
          1040,
          1163,
          1381,
          1645,
          1475,
          1654,
          1622,
          1474,
          1155,
          841,
          529,
          333,
          205,
          92,
          65,
          30,
          24,
          23,
          30,
          32,
          52,
          71,
          115,
          181,
          280,
          384,
          441,
          440,
          335,
          386,
          444,
          507,
          765,
          1130,
          1431,
          1915,
          2399,
          2869,
          2831,
          2587,
          2135,
          1576,
          1005,
          792,
          573,
          546,
          580,
          563,
          377,
          80
         ],
         "yaxis": "y"
        },
        {
         "hovertemplate": "age_group=population_age_40_49<br>New Confirmed Cases=%{x}<br>New Deceased Cases=%{y}<br>value=%{marker.size}<extra></extra>",
         "legendgroup": "population_age_40_49",
         "marker": {
          "color": "#FFA15A",
          "opacity": 0.7,
          "size": [
           9955575,
           9955575,
           9955575,
           9955575,
           9955575,
           9955575,
           9955575,
           9955575,
           9955575,
           9955575,
           9955575,
           9955575,
           9955575,
           9955575,
           9955575,
           9955575,
           9955575,
           9955575,
           9955575,
           9955575,
           9955575,
           9955575,
           9955575,
           9955575,
           9955575,
           9955575,
           9955575,
           9955575,
           9955575,
           9955575,
           9955575,
           9955575,
           9955575,
           9955575,
           9955575,
           9955575,
           9955575,
           9955575,
           9955575,
           9955575,
           9955575,
           9955575,
           9955575,
           9955575,
           9955575,
           9955575,
           9955575,
           9955575,
           9955575,
           9955575,
           9955575,
           9955575,
           9955575,
           9955575,
           9955575,
           9955575,
           9955575,
           9955575,
           9955575,
           9955575,
           9955575,
           9955575,
           9955575,
           9955575,
           9955575,
           9955575,
           9955575,
           9955575,
           9955575,
           9955575,
           9955575,
           9955575,
           9955575,
           9955575,
           9955575,
           9955575,
           9955575,
           9955575,
           9955575,
           9955575,
           9955575,
           9955575,
           9955575,
           9955575,
           9955575,
           9955575,
           9955575,
           9955575,
           9955575,
           9955575,
           9955575,
           9955575,
           9955575,
           9955575,
           9955575,
           9955575,
           9955575,
           9955575,
           9955575,
           9955575,
           9955575,
           9955575,
           9955575,
           9955575,
           9955575,
           9955575,
           9955575,
           9955575,
           9955575,
           9955575,
           9955575
          ],
          "sizemode": "area",
          "sizeref": 32331.5875,
          "symbol": "circle"
         },
         "mode": "markers",
         "name": "population_age_40_49",
         "orientation": "v",
         "showlegend": true,
         "type": "scatter",
         "x": [
          1,
          1,
          1,
          5,
          13,
          6,
          2,
          13,
          411,
          2312,
          13395,
          28015,
          36112,
          33735,
          20391,
          16323,
          9979,
          6460,
          5641,
          4411,
          3177,
          2465,
          2653,
          2743,
          4041,
          3021,
          2500,
          2588,
          3376,
          4449,
          5498,
          7043,
          8953,
          9292,
          8218,
          9230,
          10910,
          12286,
          14112,
          19686,
          32440,
          53596,
          93738,
          119586,
          128231,
          128241,
          126186,
          122329,
          139544,
          166768,
          180586,
          130049,
          118419,
          135944,
          105851,
          86512,
          71673,
          56556,
          50882,
          54645,
          57412,
          61761,
          81993,
          102593,
          120670,
          97013,
          143379,
          144272,
          137611,
          113273,
          90638,
          59061,
          36430,
          29308,
          16760,
          10014,
          5767,
          4549,
          4664,
          7192,
          10970,
          14178,
          17326,
          25126,
          40127,
          59626,
          70549,
          74612,
          67867,
          56090,
          56289,
          55679,
          59976,
          79687,
          117993,
          143503,
          228267,
          309853,
          387822,
          398583,
          375454,
          303339,
          245531,
          187218,
          263990,
          401306,
          606837,
          966891,
          1191961,
          1319009,
          703744
         ],
         "xaxis": "x",
         "y": [
          0,
          0,
          0,
          0,
          0,
          0,
          0,
          1,
          2,
          31,
          205,
          851,
          1971,
          2217,
          1515,
          1023,
          527,
          297,
          216,
          152,
          79,
          48,
          35,
          41,
          29,
          24,
          32,
          22,
          34,
          33,
          38,
          29,
          36,
          21,
          19,
          60,
          70,
          90,
          116,
          168,
          328,
          645,
          1382,
          1814,
          2062,
          2935,
          3297,
          3940,
          4940,
          6245,
          6898,
          5753,
          5005,
          5431,
          4705,
          3626,
          2601,
          1942,
          1580,
          1342,
          1112,
          1040,
          1163,
          1381,
          1645,
          1475,
          1654,
          1622,
          1474,
          1155,
          841,
          529,
          333,
          205,
          92,
          65,
          30,
          24,
          23,
          30,
          32,
          52,
          71,
          115,
          181,
          280,
          384,
          441,
          440,
          335,
          386,
          444,
          507,
          765,
          1130,
          1431,
          1915,
          2399,
          2869,
          2831,
          2587,
          2135,
          1576,
          1005,
          792,
          573,
          546,
          580,
          563,
          377,
          80
         ],
         "yaxis": "y"
        },
        {
         "hovertemplate": "age_group=population_age_50_59<br>New Confirmed Cases=%{x}<br>New Deceased Cases=%{y}<br>value=%{marker.size}<extra></extra>",
         "legendgroup": "population_age_50_59",
         "marker": {
          "color": "#19d3f3",
          "opacity": 0.7,
          "size": [
           12932635,
           12932635,
           12932635,
           12932635,
           12932635,
           12932635,
           12932635,
           12932635,
           12932635,
           12932635,
           12932635,
           12932635,
           12932635,
           12932635,
           12932635,
           12932635,
           12932635,
           12932635,
           12932635,
           12932635,
           12932635,
           12932635,
           12932635,
           12932635,
           12932635,
           12932635,
           12932635,
           12932635,
           12932635,
           12932635,
           12932635,
           12932635,
           12932635,
           12932635,
           12932635,
           12932635,
           12932635,
           12932635,
           12932635,
           12932635,
           12932635,
           12932635,
           12932635,
           12932635,
           12932635,
           12932635,
           12932635,
           12932635,
           12932635,
           12932635,
           12932635,
           12932635,
           12932635,
           12932635,
           12932635,
           12932635,
           12932635,
           12932635,
           12932635,
           12932635,
           12932635,
           12932635,
           12932635,
           12932635,
           12932635,
           12932635,
           12932635,
           12932635,
           12932635,
           12932635,
           12932635,
           12932635,
           12932635,
           12932635,
           12932635,
           12932635,
           12932635,
           12932635,
           12932635,
           12932635,
           12932635,
           12932635,
           12932635,
           12932635,
           12932635,
           12932635,
           12932635,
           12932635,
           12932635,
           12932635,
           12932635,
           12932635,
           12932635,
           12932635,
           12932635,
           12932635,
           12932635,
           12932635,
           12932635,
           12932635,
           12932635,
           12932635,
           12932635,
           12932635,
           12932635,
           12932635,
           12932635,
           12932635,
           12932635,
           12932635,
           12932635
          ],
          "sizemode": "area",
          "sizeref": 32331.5875,
          "symbol": "circle"
         },
         "mode": "markers",
         "name": "population_age_50_59",
         "orientation": "v",
         "showlegend": true,
         "type": "scatter",
         "x": [
          1,
          1,
          1,
          5,
          13,
          6,
          2,
          13,
          411,
          2312,
          13395,
          28015,
          36112,
          33735,
          20391,
          16323,
          9979,
          6460,
          5641,
          4411,
          3177,
          2465,
          2653,
          2743,
          4041,
          3021,
          2500,
          2588,
          3376,
          4449,
          5498,
          7043,
          8953,
          9292,
          8218,
          9230,
          10910,
          12286,
          14112,
          19686,
          32440,
          53596,
          93738,
          119586,
          128231,
          128241,
          126186,
          122329,
          139544,
          166768,
          180586,
          130049,
          118419,
          135944,
          105851,
          86512,
          71673,
          56556,
          50882,
          54645,
          57412,
          61761,
          81993,
          102593,
          120670,
          97013,
          143379,
          144272,
          137611,
          113273,
          90638,
          59061,
          36430,
          29308,
          16760,
          10014,
          5767,
          4549,
          4664,
          7192,
          10970,
          14178,
          17326,
          25126,
          40127,
          59626,
          70549,
          74612,
          67867,
          56090,
          56289,
          55679,
          59976,
          79687,
          117993,
          143503,
          228267,
          309853,
          387822,
          398583,
          375454,
          303339,
          245531,
          187218,
          263990,
          401306,
          606837,
          966891,
          1191961,
          1319009,
          703744
         ],
         "xaxis": "x",
         "y": [
          0,
          0,
          0,
          0,
          0,
          0,
          0,
          1,
          2,
          31,
          205,
          851,
          1971,
          2217,
          1515,
          1023,
          527,
          297,
          216,
          152,
          79,
          48,
          35,
          41,
          29,
          24,
          32,
          22,
          34,
          33,
          38,
          29,
          36,
          21,
          19,
          60,
          70,
          90,
          116,
          168,
          328,
          645,
          1382,
          1814,
          2062,
          2935,
          3297,
          3940,
          4940,
          6245,
          6898,
          5753,
          5005,
          5431,
          4705,
          3626,
          2601,
          1942,
          1580,
          1342,
          1112,
          1040,
          1163,
          1381,
          1645,
          1475,
          1654,
          1622,
          1474,
          1155,
          841,
          529,
          333,
          205,
          92,
          65,
          30,
          24,
          23,
          30,
          32,
          52,
          71,
          115,
          181,
          280,
          384,
          441,
          440,
          335,
          386,
          444,
          507,
          765,
          1130,
          1431,
          1915,
          2399,
          2869,
          2831,
          2587,
          2135,
          1576,
          1005,
          792,
          573,
          546,
          580,
          563,
          377,
          80
         ],
         "yaxis": "y"
        },
        {
         "hovertemplate": "age_group=population_age_60_69<br>New Confirmed Cases=%{x}<br>New Deceased Cases=%{y}<br>value=%{marker.size}<extra></extra>",
         "legendgroup": "population_age_60_69",
         "marker": {
          "color": "#FF6692",
          "opacity": 0.7,
          "size": [
           9907511,
           9907511,
           9907511,
           9907511,
           9907511,
           9907511,
           9907511,
           9907511,
           9907511,
           9907511,
           9907511,
           9907511,
           9907511,
           9907511,
           9907511,
           9907511,
           9907511,
           9907511,
           9907511,
           9907511,
           9907511,
           9907511,
           9907511,
           9907511,
           9907511,
           9907511,
           9907511,
           9907511,
           9907511,
           9907511,
           9907511,
           9907511,
           9907511,
           9907511,
           9907511,
           9907511,
           9907511,
           9907511,
           9907511,
           9907511,
           9907511,
           9907511,
           9907511,
           9907511,
           9907511,
           9907511,
           9907511,
           9907511,
           9907511,
           9907511,
           9907511,
           9907511,
           9907511,
           9907511,
           9907511,
           9907511,
           9907511,
           9907511,
           9907511,
           9907511,
           9907511,
           9907511,
           9907511,
           9907511,
           9907511,
           9907511,
           9907511,
           9907511,
           9907511,
           9907511,
           9907511,
           9907511,
           9907511,
           9907511,
           9907511,
           9907511,
           9907511,
           9907511,
           9907511,
           9907511,
           9907511,
           9907511,
           9907511,
           9907511,
           9907511,
           9907511,
           9907511,
           9907511,
           9907511,
           9907511,
           9907511,
           9907511,
           9907511,
           9907511,
           9907511,
           9907511,
           9907511,
           9907511,
           9907511,
           9907511,
           9907511,
           9907511,
           9907511,
           9907511,
           9907511,
           9907511,
           9907511,
           9907511,
           9907511,
           9907511,
           9907511
          ],
          "sizemode": "area",
          "sizeref": 32331.5875,
          "symbol": "circle"
         },
         "mode": "markers",
         "name": "population_age_60_69",
         "orientation": "v",
         "showlegend": true,
         "type": "scatter",
         "x": [
          1,
          1,
          1,
          5,
          13,
          6,
          2,
          13,
          411,
          2312,
          13395,
          28015,
          36112,
          33735,
          20391,
          16323,
          9979,
          6460,
          5641,
          4411,
          3177,
          2465,
          2653,
          2743,
          4041,
          3021,
          2500,
          2588,
          3376,
          4449,
          5498,
          7043,
          8953,
          9292,
          8218,
          9230,
          10910,
          12286,
          14112,
          19686,
          32440,
          53596,
          93738,
          119586,
          128231,
          128241,
          126186,
          122329,
          139544,
          166768,
          180586,
          130049,
          118419,
          135944,
          105851,
          86512,
          71673,
          56556,
          50882,
          54645,
          57412,
          61761,
          81993,
          102593,
          120670,
          97013,
          143379,
          144272,
          137611,
          113273,
          90638,
          59061,
          36430,
          29308,
          16760,
          10014,
          5767,
          4549,
          4664,
          7192,
          10970,
          14178,
          17326,
          25126,
          40127,
          59626,
          70549,
          74612,
          67867,
          56090,
          56289,
          55679,
          59976,
          79687,
          117993,
          143503,
          228267,
          309853,
          387822,
          398583,
          375454,
          303339,
          245531,
          187218,
          263990,
          401306,
          606837,
          966891,
          1191961,
          1319009,
          703744
         ],
         "xaxis": "x",
         "y": [
          0,
          0,
          0,
          0,
          0,
          0,
          0,
          1,
          2,
          31,
          205,
          851,
          1971,
          2217,
          1515,
          1023,
          527,
          297,
          216,
          152,
          79,
          48,
          35,
          41,
          29,
          24,
          32,
          22,
          34,
          33,
          38,
          29,
          36,
          21,
          19,
          60,
          70,
          90,
          116,
          168,
          328,
          645,
          1382,
          1814,
          2062,
          2935,
          3297,
          3940,
          4940,
          6245,
          6898,
          5753,
          5005,
          5431,
          4705,
          3626,
          2601,
          1942,
          1580,
          1342,
          1112,
          1040,
          1163,
          1381,
          1645,
          1475,
          1654,
          1622,
          1474,
          1155,
          841,
          529,
          333,
          205,
          92,
          65,
          30,
          24,
          23,
          30,
          32,
          52,
          71,
          115,
          181,
          280,
          384,
          441,
          440,
          335,
          386,
          444,
          507,
          765,
          1130,
          1431,
          1915,
          2399,
          2869,
          2831,
          2587,
          2135,
          1576,
          1005,
          792,
          573,
          546,
          580,
          563,
          377,
          80
         ],
         "yaxis": "y"
        },
        {
         "hovertemplate": "age_group=population_age_70_79<br>New Confirmed Cases=%{x}<br>New Deceased Cases=%{y}<br>value=%{marker.size}<extra></extra>",
         "legendgroup": "population_age_70_79",
         "marker": {
          "color": "#B6E880",
          "opacity": 0.7,
          "size": [
           7360047,
           7360047,
           7360047,
           7360047,
           7360047,
           7360047,
           7360047,
           7360047,
           7360047,
           7360047,
           7360047,
           7360047,
           7360047,
           7360047,
           7360047,
           7360047,
           7360047,
           7360047,
           7360047,
           7360047,
           7360047,
           7360047,
           7360047,
           7360047,
           7360047,
           7360047,
           7360047,
           7360047,
           7360047,
           7360047,
           7360047,
           7360047,
           7360047,
           7360047,
           7360047,
           7360047,
           7360047,
           7360047,
           7360047,
           7360047,
           7360047,
           7360047,
           7360047,
           7360047,
           7360047,
           7360047,
           7360047,
           7360047,
           7360047,
           7360047,
           7360047,
           7360047,
           7360047,
           7360047,
           7360047,
           7360047,
           7360047,
           7360047,
           7360047,
           7360047,
           7360047,
           7360047,
           7360047,
           7360047,
           7360047,
           7360047,
           7360047,
           7360047,
           7360047,
           7360047,
           7360047,
           7360047,
           7360047,
           7360047,
           7360047,
           7360047,
           7360047,
           7360047,
           7360047,
           7360047,
           7360047,
           7360047,
           7360047,
           7360047,
           7360047,
           7360047,
           7360047,
           7360047,
           7360047,
           7360047,
           7360047,
           7360047,
           7360047,
           7360047,
           7360047,
           7360047,
           7360047,
           7360047,
           7360047,
           7360047,
           7360047,
           7360047,
           7360047,
           7360047,
           7360047,
           7360047,
           7360047,
           7360047,
           7360047,
           7360047,
           7360047
          ],
          "sizemode": "area",
          "sizeref": 32331.5875,
          "symbol": "circle"
         },
         "mode": "markers",
         "name": "population_age_70_79",
         "orientation": "v",
         "showlegend": true,
         "type": "scatter",
         "x": [
          1,
          1,
          1,
          5,
          13,
          6,
          2,
          13,
          411,
          2312,
          13395,
          28015,
          36112,
          33735,
          20391,
          16323,
          9979,
          6460,
          5641,
          4411,
          3177,
          2465,
          2653,
          2743,
          4041,
          3021,
          2500,
          2588,
          3376,
          4449,
          5498,
          7043,
          8953,
          9292,
          8218,
          9230,
          10910,
          12286,
          14112,
          19686,
          32440,
          53596,
          93738,
          119586,
          128231,
          128241,
          126186,
          122329,
          139544,
          166768,
          180586,
          130049,
          118419,
          135944,
          105851,
          86512,
          71673,
          56556,
          50882,
          54645,
          57412,
          61761,
          81993,
          102593,
          120670,
          97013,
          143379,
          144272,
          137611,
          113273,
          90638,
          59061,
          36430,
          29308,
          16760,
          10014,
          5767,
          4549,
          4664,
          7192,
          10970,
          14178,
          17326,
          25126,
          40127,
          59626,
          70549,
          74612,
          67867,
          56090,
          56289,
          55679,
          59976,
          79687,
          117993,
          143503,
          228267,
          309853,
          387822,
          398583,
          375454,
          303339,
          245531,
          187218,
          263990,
          401306,
          606837,
          966891,
          1191961,
          1319009,
          703744
         ],
         "xaxis": "x",
         "y": [
          0,
          0,
          0,
          0,
          0,
          0,
          0,
          1,
          2,
          31,
          205,
          851,
          1971,
          2217,
          1515,
          1023,
          527,
          297,
          216,
          152,
          79,
          48,
          35,
          41,
          29,
          24,
          32,
          22,
          34,
          33,
          38,
          29,
          36,
          21,
          19,
          60,
          70,
          90,
          116,
          168,
          328,
          645,
          1382,
          1814,
          2062,
          2935,
          3297,
          3940,
          4940,
          6245,
          6898,
          5753,
          5005,
          5431,
          4705,
          3626,
          2601,
          1942,
          1580,
          1342,
          1112,
          1040,
          1163,
          1381,
          1645,
          1475,
          1654,
          1622,
          1474,
          1155,
          841,
          529,
          333,
          205,
          92,
          65,
          30,
          24,
          23,
          30,
          32,
          52,
          71,
          115,
          181,
          280,
          384,
          441,
          440,
          335,
          386,
          444,
          507,
          765,
          1130,
          1431,
          1915,
          2399,
          2869,
          2831,
          2587,
          2135,
          1576,
          1005,
          792,
          573,
          546,
          580,
          563,
          377,
          80
         ],
         "yaxis": "y"
        },
        {
         "hovertemplate": "age_group=population_age_80_and_older<br>New Confirmed Cases=%{x}<br>New Deceased Cases=%{y}<br>value=%{marker.size}<extra></extra>",
         "legendgroup": "population_age_80_and_older",
         "marker": {
          "color": "#FF97FF",
          "opacity": 0.7,
          "size": [
           5184471,
           5184471,
           5184471,
           5184471,
           5184471,
           5184471,
           5184471,
           5184471,
           5184471,
           5184471,
           5184471,
           5184471,
           5184471,
           5184471,
           5184471,
           5184471,
           5184471,
           5184471,
           5184471,
           5184471,
           5184471,
           5184471,
           5184471,
           5184471,
           5184471,
           5184471,
           5184471,
           5184471,
           5184471,
           5184471,
           5184471,
           5184471,
           5184471,
           5184471,
           5184471,
           5184471,
           5184471,
           5184471,
           5184471,
           5184471,
           5184471,
           5184471,
           5184471,
           5184471,
           5184471,
           5184471,
           5184471,
           5184471,
           5184471,
           5184471,
           5184471,
           5184471,
           5184471,
           5184471,
           5184471,
           5184471,
           5184471,
           5184471,
           5184471,
           5184471,
           5184471,
           5184471,
           5184471,
           5184471,
           5184471,
           5184471,
           5184471,
           5184471,
           5184471,
           5184471,
           5184471,
           5184471,
           5184471,
           5184471,
           5184471,
           5184471,
           5184471,
           5184471,
           5184471,
           5184471,
           5184471,
           5184471,
           5184471,
           5184471,
           5184471,
           5184471,
           5184471,
           5184471,
           5184471,
           5184471,
           5184471,
           5184471,
           5184471,
           5184471,
           5184471,
           5184471,
           5184471,
           5184471,
           5184471,
           5184471,
           5184471,
           5184471,
           5184471,
           5184471,
           5184471,
           5184471,
           5184471,
           5184471,
           5184471,
           5184471,
           5184471
          ],
          "sizemode": "area",
          "sizeref": 32331.5875,
          "symbol": "circle"
         },
         "mode": "markers",
         "name": "population_age_80_and_older",
         "orientation": "v",
         "showlegend": true,
         "type": "scatter",
         "x": [
          1,
          1,
          1,
          5,
          13,
          6,
          2,
          13,
          411,
          2312,
          13395,
          28015,
          36112,
          33735,
          20391,
          16323,
          9979,
          6460,
          5641,
          4411,
          3177,
          2465,
          2653,
          2743,
          4041,
          3021,
          2500,
          2588,
          3376,
          4449,
          5498,
          7043,
          8953,
          9292,
          8218,
          9230,
          10910,
          12286,
          14112,
          19686,
          32440,
          53596,
          93738,
          119586,
          128231,
          128241,
          126186,
          122329,
          139544,
          166768,
          180586,
          130049,
          118419,
          135944,
          105851,
          86512,
          71673,
          56556,
          50882,
          54645,
          57412,
          61761,
          81993,
          102593,
          120670,
          97013,
          143379,
          144272,
          137611,
          113273,
          90638,
          59061,
          36430,
          29308,
          16760,
          10014,
          5767,
          4549,
          4664,
          7192,
          10970,
          14178,
          17326,
          25126,
          40127,
          59626,
          70549,
          74612,
          67867,
          56090,
          56289,
          55679,
          59976,
          79687,
          117993,
          143503,
          228267,
          309853,
          387822,
          398583,
          375454,
          303339,
          245531,
          187218,
          263990,
          401306,
          606837,
          966891,
          1191961,
          1319009,
          703744
         ],
         "xaxis": "x",
         "y": [
          0,
          0,
          0,
          0,
          0,
          0,
          0,
          1,
          2,
          31,
          205,
          851,
          1971,
          2217,
          1515,
          1023,
          527,
          297,
          216,
          152,
          79,
          48,
          35,
          41,
          29,
          24,
          32,
          22,
          34,
          33,
          38,
          29,
          36,
          21,
          19,
          60,
          70,
          90,
          116,
          168,
          328,
          645,
          1382,
          1814,
          2062,
          2935,
          3297,
          3940,
          4940,
          6245,
          6898,
          5753,
          5005,
          5431,
          4705,
          3626,
          2601,
          1942,
          1580,
          1342,
          1112,
          1040,
          1163,
          1381,
          1645,
          1475,
          1654,
          1622,
          1474,
          1155,
          841,
          529,
          333,
          205,
          92,
          65,
          30,
          24,
          23,
          30,
          32,
          52,
          71,
          115,
          181,
          280,
          384,
          441,
          440,
          335,
          386,
          444,
          507,
          765,
          1130,
          1431,
          1915,
          2399,
          2869,
          2831,
          2587,
          2135,
          1576,
          1005,
          792,
          573,
          546,
          580,
          563,
          377,
          80
         ],
         "yaxis": "y"
        }
       ],
       "layout": {
        "legend": {
         "itemsizing": "constant",
         "title": {
          "text": "age_group"
         },
         "tracegroupgap": 0
        },
        "template": {
         "data": {
          "bar": [
           {
            "error_x": {
             "color": "#2a3f5f"
            },
            "error_y": {
             "color": "#2a3f5f"
            },
            "marker": {
             "line": {
              "color": "#E5ECF6",
              "width": 0.5
             },
             "pattern": {
              "fillmode": "overlay",
              "size": 10,
              "solidity": 0.2
             }
            },
            "type": "bar"
           }
          ],
          "barpolar": [
           {
            "marker": {
             "line": {
              "color": "#E5ECF6",
              "width": 0.5
             },
             "pattern": {
              "fillmode": "overlay",
              "size": 10,
              "solidity": 0.2
             }
            },
            "type": "barpolar"
           }
          ],
          "carpet": [
           {
            "aaxis": {
             "endlinecolor": "#2a3f5f",
             "gridcolor": "white",
             "linecolor": "white",
             "minorgridcolor": "white",
             "startlinecolor": "#2a3f5f"
            },
            "baxis": {
             "endlinecolor": "#2a3f5f",
             "gridcolor": "white",
             "linecolor": "white",
             "minorgridcolor": "white",
             "startlinecolor": "#2a3f5f"
            },
            "type": "carpet"
           }
          ],
          "choropleth": [
           {
            "colorbar": {
             "outlinewidth": 0,
             "ticks": ""
            },
            "type": "choropleth"
           }
          ],
          "contour": [
           {
            "colorbar": {
             "outlinewidth": 0,
             "ticks": ""
            },
            "colorscale": [
             [
              0,
              "#0d0887"
             ],
             [
              0.1111111111111111,
              "#46039f"
             ],
             [
              0.2222222222222222,
              "#7201a8"
             ],
             [
              0.3333333333333333,
              "#9c179e"
             ],
             [
              0.4444444444444444,
              "#bd3786"
             ],
             [
              0.5555555555555556,
              "#d8576b"
             ],
             [
              0.6666666666666666,
              "#ed7953"
             ],
             [
              0.7777777777777778,
              "#fb9f3a"
             ],
             [
              0.8888888888888888,
              "#fdca26"
             ],
             [
              1,
              "#f0f921"
             ]
            ],
            "type": "contour"
           }
          ],
          "contourcarpet": [
           {
            "colorbar": {
             "outlinewidth": 0,
             "ticks": ""
            },
            "type": "contourcarpet"
           }
          ],
          "heatmap": [
           {
            "colorbar": {
             "outlinewidth": 0,
             "ticks": ""
            },
            "colorscale": [
             [
              0,
              "#0d0887"
             ],
             [
              0.1111111111111111,
              "#46039f"
             ],
             [
              0.2222222222222222,
              "#7201a8"
             ],
             [
              0.3333333333333333,
              "#9c179e"
             ],
             [
              0.4444444444444444,
              "#bd3786"
             ],
             [
              0.5555555555555556,
              "#d8576b"
             ],
             [
              0.6666666666666666,
              "#ed7953"
             ],
             [
              0.7777777777777778,
              "#fb9f3a"
             ],
             [
              0.8888888888888888,
              "#fdca26"
             ],
             [
              1,
              "#f0f921"
             ]
            ],
            "type": "heatmap"
           }
          ],
          "heatmapgl": [
           {
            "colorbar": {
             "outlinewidth": 0,
             "ticks": ""
            },
            "colorscale": [
             [
              0,
              "#0d0887"
             ],
             [
              0.1111111111111111,
              "#46039f"
             ],
             [
              0.2222222222222222,
              "#7201a8"
             ],
             [
              0.3333333333333333,
              "#9c179e"
             ],
             [
              0.4444444444444444,
              "#bd3786"
             ],
             [
              0.5555555555555556,
              "#d8576b"
             ],
             [
              0.6666666666666666,
              "#ed7953"
             ],
             [
              0.7777777777777778,
              "#fb9f3a"
             ],
             [
              0.8888888888888888,
              "#fdca26"
             ],
             [
              1,
              "#f0f921"
             ]
            ],
            "type": "heatmapgl"
           }
          ],
          "histogram": [
           {
            "marker": {
             "pattern": {
              "fillmode": "overlay",
              "size": 10,
              "solidity": 0.2
             }
            },
            "type": "histogram"
           }
          ],
          "histogram2d": [
           {
            "colorbar": {
             "outlinewidth": 0,
             "ticks": ""
            },
            "colorscale": [
             [
              0,
              "#0d0887"
             ],
             [
              0.1111111111111111,
              "#46039f"
             ],
             [
              0.2222222222222222,
              "#7201a8"
             ],
             [
              0.3333333333333333,
              "#9c179e"
             ],
             [
              0.4444444444444444,
              "#bd3786"
             ],
             [
              0.5555555555555556,
              "#d8576b"
             ],
             [
              0.6666666666666666,
              "#ed7953"
             ],
             [
              0.7777777777777778,
              "#fb9f3a"
             ],
             [
              0.8888888888888888,
              "#fdca26"
             ],
             [
              1,
              "#f0f921"
             ]
            ],
            "type": "histogram2d"
           }
          ],
          "histogram2dcontour": [
           {
            "colorbar": {
             "outlinewidth": 0,
             "ticks": ""
            },
            "colorscale": [
             [
              0,
              "#0d0887"
             ],
             [
              0.1111111111111111,
              "#46039f"
             ],
             [
              0.2222222222222222,
              "#7201a8"
             ],
             [
              0.3333333333333333,
              "#9c179e"
             ],
             [
              0.4444444444444444,
              "#bd3786"
             ],
             [
              0.5555555555555556,
              "#d8576b"
             ],
             [
              0.6666666666666666,
              "#ed7953"
             ],
             [
              0.7777777777777778,
              "#fb9f3a"
             ],
             [
              0.8888888888888888,
              "#fdca26"
             ],
             [
              1,
              "#f0f921"
             ]
            ],
            "type": "histogram2dcontour"
           }
          ],
          "mesh3d": [
           {
            "colorbar": {
             "outlinewidth": 0,
             "ticks": ""
            },
            "type": "mesh3d"
           }
          ],
          "parcoords": [
           {
            "line": {
             "colorbar": {
              "outlinewidth": 0,
              "ticks": ""
             }
            },
            "type": "parcoords"
           }
          ],
          "pie": [
           {
            "automargin": true,
            "type": "pie"
           }
          ],
          "scatter": [
           {
            "fillpattern": {
             "fillmode": "overlay",
             "size": 10,
             "solidity": 0.2
            },
            "type": "scatter"
           }
          ],
          "scatter3d": [
           {
            "line": {
             "colorbar": {
              "outlinewidth": 0,
              "ticks": ""
             }
            },
            "marker": {
             "colorbar": {
              "outlinewidth": 0,
              "ticks": ""
             }
            },
            "type": "scatter3d"
           }
          ],
          "scattercarpet": [
           {
            "marker": {
             "colorbar": {
              "outlinewidth": 0,
              "ticks": ""
             }
            },
            "type": "scattercarpet"
           }
          ],
          "scattergeo": [
           {
            "marker": {
             "colorbar": {
              "outlinewidth": 0,
              "ticks": ""
             }
            },
            "type": "scattergeo"
           }
          ],
          "scattergl": [
           {
            "marker": {
             "colorbar": {
              "outlinewidth": 0,
              "ticks": ""
             }
            },
            "type": "scattergl"
           }
          ],
          "scattermapbox": [
           {
            "marker": {
             "colorbar": {
              "outlinewidth": 0,
              "ticks": ""
             }
            },
            "type": "scattermapbox"
           }
          ],
          "scatterpolar": [
           {
            "marker": {
             "colorbar": {
              "outlinewidth": 0,
              "ticks": ""
             }
            },
            "type": "scatterpolar"
           }
          ],
          "scatterpolargl": [
           {
            "marker": {
             "colorbar": {
              "outlinewidth": 0,
              "ticks": ""
             }
            },
            "type": "scatterpolargl"
           }
          ],
          "scatterternary": [
           {
            "marker": {
             "colorbar": {
              "outlinewidth": 0,
              "ticks": ""
             }
            },
            "type": "scatterternary"
           }
          ],
          "surface": [
           {
            "colorbar": {
             "outlinewidth": 0,
             "ticks": ""
            },
            "colorscale": [
             [
              0,
              "#0d0887"
             ],
             [
              0.1111111111111111,
              "#46039f"
             ],
             [
              0.2222222222222222,
              "#7201a8"
             ],
             [
              0.3333333333333333,
              "#9c179e"
             ],
             [
              0.4444444444444444,
              "#bd3786"
             ],
             [
              0.5555555555555556,
              "#d8576b"
             ],
             [
              0.6666666666666666,
              "#ed7953"
             ],
             [
              0.7777777777777778,
              "#fb9f3a"
             ],
             [
              0.8888888888888888,
              "#fdca26"
             ],
             [
              1,
              "#f0f921"
             ]
            ],
            "type": "surface"
           }
          ],
          "table": [
           {
            "cells": {
             "fill": {
              "color": "#EBF0F8"
             },
             "line": {
              "color": "white"
             }
            },
            "header": {
             "fill": {
              "color": "#C8D4E3"
             },
             "line": {
              "color": "white"
             }
            },
            "type": "table"
           }
          ]
         },
         "layout": {
          "annotationdefaults": {
           "arrowcolor": "#2a3f5f",
           "arrowhead": 0,
           "arrowwidth": 1
          },
          "autotypenumbers": "strict",
          "coloraxis": {
           "colorbar": {
            "outlinewidth": 0,
            "ticks": ""
           }
          },
          "colorscale": {
           "diverging": [
            [
             0,
             "#8e0152"
            ],
            [
             0.1,
             "#c51b7d"
            ],
            [
             0.2,
             "#de77ae"
            ],
            [
             0.3,
             "#f1b6da"
            ],
            [
             0.4,
             "#fde0ef"
            ],
            [
             0.5,
             "#f7f7f7"
            ],
            [
             0.6,
             "#e6f5d0"
            ],
            [
             0.7,
             "#b8e186"
            ],
            [
             0.8,
             "#7fbc41"
            ],
            [
             0.9,
             "#4d9221"
            ],
            [
             1,
             "#276419"
            ]
           ],
           "sequential": [
            [
             0,
             "#0d0887"
            ],
            [
             0.1111111111111111,
             "#46039f"
            ],
            [
             0.2222222222222222,
             "#7201a8"
            ],
            [
             0.3333333333333333,
             "#9c179e"
            ],
            [
             0.4444444444444444,
             "#bd3786"
            ],
            [
             0.5555555555555556,
             "#d8576b"
            ],
            [
             0.6666666666666666,
             "#ed7953"
            ],
            [
             0.7777777777777778,
             "#fb9f3a"
            ],
            [
             0.8888888888888888,
             "#fdca26"
            ],
            [
             1,
             "#f0f921"
            ]
           ],
           "sequentialminus": [
            [
             0,
             "#0d0887"
            ],
            [
             0.1111111111111111,
             "#46039f"
            ],
            [
             0.2222222222222222,
             "#7201a8"
            ],
            [
             0.3333333333333333,
             "#9c179e"
            ],
            [
             0.4444444444444444,
             "#bd3786"
            ],
            [
             0.5555555555555556,
             "#d8576b"
            ],
            [
             0.6666666666666666,
             "#ed7953"
            ],
            [
             0.7777777777777778,
             "#fb9f3a"
            ],
            [
             0.8888888888888888,
             "#fdca26"
            ],
            [
             1,
             "#f0f921"
            ]
           ]
          },
          "colorway": [
           "#636efa",
           "#EF553B",
           "#00cc96",
           "#ab63fa",
           "#FFA15A",
           "#19d3f3",
           "#FF6692",
           "#B6E880",
           "#FF97FF",
           "#FECB52"
          ],
          "font": {
           "color": "#2a3f5f"
          },
          "geo": {
           "bgcolor": "white",
           "lakecolor": "white",
           "landcolor": "#E5ECF6",
           "showlakes": true,
           "showland": true,
           "subunitcolor": "white"
          },
          "hoverlabel": {
           "align": "left"
          },
          "hovermode": "closest",
          "mapbox": {
           "style": "light"
          },
          "paper_bgcolor": "white",
          "plot_bgcolor": "#E5ECF6",
          "polar": {
           "angularaxis": {
            "gridcolor": "white",
            "linecolor": "white",
            "ticks": ""
           },
           "bgcolor": "#E5ECF6",
           "radialaxis": {
            "gridcolor": "white",
            "linecolor": "white",
            "ticks": ""
           }
          },
          "scene": {
           "xaxis": {
            "backgroundcolor": "#E5ECF6",
            "gridcolor": "white",
            "gridwidth": 2,
            "linecolor": "white",
            "showbackground": true,
            "ticks": "",
            "zerolinecolor": "white"
           },
           "yaxis": {
            "backgroundcolor": "#E5ECF6",
            "gridcolor": "white",
            "gridwidth": 2,
            "linecolor": "white",
            "showbackground": true,
            "ticks": "",
            "zerolinecolor": "white"
           },
           "zaxis": {
            "backgroundcolor": "#E5ECF6",
            "gridcolor": "white",
            "gridwidth": 2,
            "linecolor": "white",
            "showbackground": true,
            "ticks": "",
            "zerolinecolor": "white"
           }
          },
          "shapedefaults": {
           "line": {
            "color": "#2a3f5f"
           }
          },
          "ternary": {
           "aaxis": {
            "gridcolor": "white",
            "linecolor": "white",
            "ticks": ""
           },
           "baxis": {
            "gridcolor": "white",
            "linecolor": "white",
            "ticks": ""
           },
           "bgcolor": "#E5ECF6",
           "caxis": {
            "gridcolor": "white",
            "linecolor": "white",
            "ticks": ""
           }
          },
          "title": {
           "x": 0.05
          },
          "xaxis": {
           "automargin": true,
           "gridcolor": "white",
           "linecolor": "white",
           "ticks": "",
           "title": {
            "standoff": 15
           },
           "zerolinecolor": "white",
           "zerolinewidth": 2
          },
          "yaxis": {
           "automargin": true,
           "gridcolor": "white",
           "linecolor": "white",
           "ticks": "",
           "title": {
            "standoff": 15
           },
           "zerolinecolor": "white",
           "zerolinewidth": 2
          }
         }
        },
        "title": {
         "text": "New Confirmed vs. Deceased in Germany (Colored by Age Group)"
        },
        "xaxis": {
         "anchor": "y",
         "domain": [
          0,
          1
         ],
         "title": {
          "text": "New Confirmed Cases"
         }
        },
        "yaxis": {
         "anchor": "x",
         "domain": [
          0,
          1
         ],
         "title": {
          "text": "New Deceased Cases"
         }
        }
       }
      }
     },
     "metadata": {},
     "output_type": "display_data"
    }
   ],
   "source": [
    "# Filter data for one country (e.g., Germany)\n",
    "country_name = input(\"Provide country:\") # make sure to use exact spelling ('United States of America', 'Germany', 'Italy', 'Spain')\n",
    "df_country = df[df['country_name'] == country_name]\n",
    "\n",
    "# Create scatter plot\n",
    "age_columns = ['population_age_00_09', 'population_age_10_19', 'population_age_20_29', \n",
    "               'population_age_30_39', 'population_age_40_49', 'population_age_50_59', \n",
    "               'population_age_60_69', 'population_age_70_79', 'population_age_80_and_older']\n",
    "\n",
    "scatter_data = pd.DataFrame()\n",
    "for age_group in age_columns:\n",
    "    temp_df = df_country[['week_start', 'new_confirmed', 'new_deceased']].copy()\n",
    "    temp_df['age_group'] = age_group\n",
    "    temp_df['value'] = df_country[age_group]\n",
    "    scatter_data = pd.concat([scatter_data, temp_df])\n",
    "\n",
    "fig_scatter = px.scatter(\n",
    "    scatter_data,\n",
    "    x='new_confirmed',\n",
    "    y='new_deceased',\n",
    "    color='age_group',\n",
    "    size='value',\n",
    "    title=f\"New Confirmed vs. Deceased in {country_name} (Colored by Age Group)\",\n",
    "    labels={'new_confirmed': 'New Confirmed Cases', 'new_deceased': 'New Deceased Cases'}\n",
    ")\n",
    "fig_scatter.update_traces(marker=dict(opacity=0.7))\n",
    "fig_scatter.show()\n"
   ]
  },
  {
   "cell_type": "markdown",
   "metadata": {},
   "source": [
    "### Graph 3: New Confirmed vs. Deceased in United States (Colored by Age Group)\n",
    "**Insights**:\n",
    "- The scatter plot demonstrates a positive relationship between new confirmed cases and new deceased cases.\n",
    "- Age groups exhibit varying densities, with older groups (e.g., 70-79 and 80+) contributing disproportionately to deceased cases.\n",
    "- This correlation underscores the heightened risk faced by older populations.\n",
    "\n",
    "**Sequential Logic**:\n",
    "This analysis transitions from country-level trends to demographic group-specific vulnerabilities. Italy and Spain data remains hard / impossible to analyze."
   ]
  },
  {
   "cell_type": "code",
   "execution_count": 27,
   "metadata": {},
   "outputs": [
    {
     "data": {
      "application/vnd.plotly.v1+json": {
       "config": {
        "plotlyServerURL": "https://plot.ly"
       },
       "data": [
        {
         "alignmentgroup": "True",
         "hovertemplate": "Vulnerability Index=%{x}<br>Country=%{y}<extra></extra>",
         "legendgroup": "",
         "marker": {
          "color": "blue",
          "pattern": {
           "shape": ""
          }
         },
         "name": "",
         "offsetgroup": "",
         "orientation": "h",
         "showlegend": false,
         "textposition": "auto",
         "type": "bar",
         "x": [
          0.13082341811925194,
          0,
          0.009138702336261115,
          0.23000457443483083
         ],
         "xaxis": "x",
         "y": [
          "Germany",
          "Italy",
          "Spain",
          "United States of America"
         ],
         "yaxis": "y"
        }
       ],
       "layout": {
        "barmode": "relative",
        "legend": {
         "tracegroupgap": 0
        },
        "template": {
         "data": {
          "bar": [
           {
            "error_x": {
             "color": "#2a3f5f"
            },
            "error_y": {
             "color": "#2a3f5f"
            },
            "marker": {
             "line": {
              "color": "#E5ECF6",
              "width": 0.5
             },
             "pattern": {
              "fillmode": "overlay",
              "size": 10,
              "solidity": 0.2
             }
            },
            "type": "bar"
           }
          ],
          "barpolar": [
           {
            "marker": {
             "line": {
              "color": "#E5ECF6",
              "width": 0.5
             },
             "pattern": {
              "fillmode": "overlay",
              "size": 10,
              "solidity": 0.2
             }
            },
            "type": "barpolar"
           }
          ],
          "carpet": [
           {
            "aaxis": {
             "endlinecolor": "#2a3f5f",
             "gridcolor": "white",
             "linecolor": "white",
             "minorgridcolor": "white",
             "startlinecolor": "#2a3f5f"
            },
            "baxis": {
             "endlinecolor": "#2a3f5f",
             "gridcolor": "white",
             "linecolor": "white",
             "minorgridcolor": "white",
             "startlinecolor": "#2a3f5f"
            },
            "type": "carpet"
           }
          ],
          "choropleth": [
           {
            "colorbar": {
             "outlinewidth": 0,
             "ticks": ""
            },
            "type": "choropleth"
           }
          ],
          "contour": [
           {
            "colorbar": {
             "outlinewidth": 0,
             "ticks": ""
            },
            "colorscale": [
             [
              0,
              "#0d0887"
             ],
             [
              0.1111111111111111,
              "#46039f"
             ],
             [
              0.2222222222222222,
              "#7201a8"
             ],
             [
              0.3333333333333333,
              "#9c179e"
             ],
             [
              0.4444444444444444,
              "#bd3786"
             ],
             [
              0.5555555555555556,
              "#d8576b"
             ],
             [
              0.6666666666666666,
              "#ed7953"
             ],
             [
              0.7777777777777778,
              "#fb9f3a"
             ],
             [
              0.8888888888888888,
              "#fdca26"
             ],
             [
              1,
              "#f0f921"
             ]
            ],
            "type": "contour"
           }
          ],
          "contourcarpet": [
           {
            "colorbar": {
             "outlinewidth": 0,
             "ticks": ""
            },
            "type": "contourcarpet"
           }
          ],
          "heatmap": [
           {
            "colorbar": {
             "outlinewidth": 0,
             "ticks": ""
            },
            "colorscale": [
             [
              0,
              "#0d0887"
             ],
             [
              0.1111111111111111,
              "#46039f"
             ],
             [
              0.2222222222222222,
              "#7201a8"
             ],
             [
              0.3333333333333333,
              "#9c179e"
             ],
             [
              0.4444444444444444,
              "#bd3786"
             ],
             [
              0.5555555555555556,
              "#d8576b"
             ],
             [
              0.6666666666666666,
              "#ed7953"
             ],
             [
              0.7777777777777778,
              "#fb9f3a"
             ],
             [
              0.8888888888888888,
              "#fdca26"
             ],
             [
              1,
              "#f0f921"
             ]
            ],
            "type": "heatmap"
           }
          ],
          "heatmapgl": [
           {
            "colorbar": {
             "outlinewidth": 0,
             "ticks": ""
            },
            "colorscale": [
             [
              0,
              "#0d0887"
             ],
             [
              0.1111111111111111,
              "#46039f"
             ],
             [
              0.2222222222222222,
              "#7201a8"
             ],
             [
              0.3333333333333333,
              "#9c179e"
             ],
             [
              0.4444444444444444,
              "#bd3786"
             ],
             [
              0.5555555555555556,
              "#d8576b"
             ],
             [
              0.6666666666666666,
              "#ed7953"
             ],
             [
              0.7777777777777778,
              "#fb9f3a"
             ],
             [
              0.8888888888888888,
              "#fdca26"
             ],
             [
              1,
              "#f0f921"
             ]
            ],
            "type": "heatmapgl"
           }
          ],
          "histogram": [
           {
            "marker": {
             "pattern": {
              "fillmode": "overlay",
              "size": 10,
              "solidity": 0.2
             }
            },
            "type": "histogram"
           }
          ],
          "histogram2d": [
           {
            "colorbar": {
             "outlinewidth": 0,
             "ticks": ""
            },
            "colorscale": [
             [
              0,
              "#0d0887"
             ],
             [
              0.1111111111111111,
              "#46039f"
             ],
             [
              0.2222222222222222,
              "#7201a8"
             ],
             [
              0.3333333333333333,
              "#9c179e"
             ],
             [
              0.4444444444444444,
              "#bd3786"
             ],
             [
              0.5555555555555556,
              "#d8576b"
             ],
             [
              0.6666666666666666,
              "#ed7953"
             ],
             [
              0.7777777777777778,
              "#fb9f3a"
             ],
             [
              0.8888888888888888,
              "#fdca26"
             ],
             [
              1,
              "#f0f921"
             ]
            ],
            "type": "histogram2d"
           }
          ],
          "histogram2dcontour": [
           {
            "colorbar": {
             "outlinewidth": 0,
             "ticks": ""
            },
            "colorscale": [
             [
              0,
              "#0d0887"
             ],
             [
              0.1111111111111111,
              "#46039f"
             ],
             [
              0.2222222222222222,
              "#7201a8"
             ],
             [
              0.3333333333333333,
              "#9c179e"
             ],
             [
              0.4444444444444444,
              "#bd3786"
             ],
             [
              0.5555555555555556,
              "#d8576b"
             ],
             [
              0.6666666666666666,
              "#ed7953"
             ],
             [
              0.7777777777777778,
              "#fb9f3a"
             ],
             [
              0.8888888888888888,
              "#fdca26"
             ],
             [
              1,
              "#f0f921"
             ]
            ],
            "type": "histogram2dcontour"
           }
          ],
          "mesh3d": [
           {
            "colorbar": {
             "outlinewidth": 0,
             "ticks": ""
            },
            "type": "mesh3d"
           }
          ],
          "parcoords": [
           {
            "line": {
             "colorbar": {
              "outlinewidth": 0,
              "ticks": ""
             }
            },
            "type": "parcoords"
           }
          ],
          "pie": [
           {
            "automargin": true,
            "type": "pie"
           }
          ],
          "scatter": [
           {
            "fillpattern": {
             "fillmode": "overlay",
             "size": 10,
             "solidity": 0.2
            },
            "type": "scatter"
           }
          ],
          "scatter3d": [
           {
            "line": {
             "colorbar": {
              "outlinewidth": 0,
              "ticks": ""
             }
            },
            "marker": {
             "colorbar": {
              "outlinewidth": 0,
              "ticks": ""
             }
            },
            "type": "scatter3d"
           }
          ],
          "scattercarpet": [
           {
            "marker": {
             "colorbar": {
              "outlinewidth": 0,
              "ticks": ""
             }
            },
            "type": "scattercarpet"
           }
          ],
          "scattergeo": [
           {
            "marker": {
             "colorbar": {
              "outlinewidth": 0,
              "ticks": ""
             }
            },
            "type": "scattergeo"
           }
          ],
          "scattergl": [
           {
            "marker": {
             "colorbar": {
              "outlinewidth": 0,
              "ticks": ""
             }
            },
            "type": "scattergl"
           }
          ],
          "scattermapbox": [
           {
            "marker": {
             "colorbar": {
              "outlinewidth": 0,
              "ticks": ""
             }
            },
            "type": "scattermapbox"
           }
          ],
          "scatterpolar": [
           {
            "marker": {
             "colorbar": {
              "outlinewidth": 0,
              "ticks": ""
             }
            },
            "type": "scatterpolar"
           }
          ],
          "scatterpolargl": [
           {
            "marker": {
             "colorbar": {
              "outlinewidth": 0,
              "ticks": ""
             }
            },
            "type": "scatterpolargl"
           }
          ],
          "scatterternary": [
           {
            "marker": {
             "colorbar": {
              "outlinewidth": 0,
              "ticks": ""
             }
            },
            "type": "scatterternary"
           }
          ],
          "surface": [
           {
            "colorbar": {
             "outlinewidth": 0,
             "ticks": ""
            },
            "colorscale": [
             [
              0,
              "#0d0887"
             ],
             [
              0.1111111111111111,
              "#46039f"
             ],
             [
              0.2222222222222222,
              "#7201a8"
             ],
             [
              0.3333333333333333,
              "#9c179e"
             ],
             [
              0.4444444444444444,
              "#bd3786"
             ],
             [
              0.5555555555555556,
              "#d8576b"
             ],
             [
              0.6666666666666666,
              "#ed7953"
             ],
             [
              0.7777777777777778,
              "#fb9f3a"
             ],
             [
              0.8888888888888888,
              "#fdca26"
             ],
             [
              1,
              "#f0f921"
             ]
            ],
            "type": "surface"
           }
          ],
          "table": [
           {
            "cells": {
             "fill": {
              "color": "#EBF0F8"
             },
             "line": {
              "color": "white"
             }
            },
            "header": {
             "fill": {
              "color": "#C8D4E3"
             },
             "line": {
              "color": "white"
             }
            },
            "type": "table"
           }
          ]
         },
         "layout": {
          "annotationdefaults": {
           "arrowcolor": "#2a3f5f",
           "arrowhead": 0,
           "arrowwidth": 1
          },
          "autotypenumbers": "strict",
          "coloraxis": {
           "colorbar": {
            "outlinewidth": 0,
            "ticks": ""
           }
          },
          "colorscale": {
           "diverging": [
            [
             0,
             "#8e0152"
            ],
            [
             0.1,
             "#c51b7d"
            ],
            [
             0.2,
             "#de77ae"
            ],
            [
             0.3,
             "#f1b6da"
            ],
            [
             0.4,
             "#fde0ef"
            ],
            [
             0.5,
             "#f7f7f7"
            ],
            [
             0.6,
             "#e6f5d0"
            ],
            [
             0.7,
             "#b8e186"
            ],
            [
             0.8,
             "#7fbc41"
            ],
            [
             0.9,
             "#4d9221"
            ],
            [
             1,
             "#276419"
            ]
           ],
           "sequential": [
            [
             0,
             "#0d0887"
            ],
            [
             0.1111111111111111,
             "#46039f"
            ],
            [
             0.2222222222222222,
             "#7201a8"
            ],
            [
             0.3333333333333333,
             "#9c179e"
            ],
            [
             0.4444444444444444,
             "#bd3786"
            ],
            [
             0.5555555555555556,
             "#d8576b"
            ],
            [
             0.6666666666666666,
             "#ed7953"
            ],
            [
             0.7777777777777778,
             "#fb9f3a"
            ],
            [
             0.8888888888888888,
             "#fdca26"
            ],
            [
             1,
             "#f0f921"
            ]
           ],
           "sequentialminus": [
            [
             0,
             "#0d0887"
            ],
            [
             0.1111111111111111,
             "#46039f"
            ],
            [
             0.2222222222222222,
             "#7201a8"
            ],
            [
             0.3333333333333333,
             "#9c179e"
            ],
            [
             0.4444444444444444,
             "#bd3786"
            ],
            [
             0.5555555555555556,
             "#d8576b"
            ],
            [
             0.6666666666666666,
             "#ed7953"
            ],
            [
             0.7777777777777778,
             "#fb9f3a"
            ],
            [
             0.8888888888888888,
             "#fdca26"
            ],
            [
             1,
             "#f0f921"
            ]
           ]
          },
          "colorway": [
           "#636efa",
           "#EF553B",
           "#00cc96",
           "#ab63fa",
           "#FFA15A",
           "#19d3f3",
           "#FF6692",
           "#B6E880",
           "#FF97FF",
           "#FECB52"
          ],
          "font": {
           "color": "#2a3f5f"
          },
          "geo": {
           "bgcolor": "white",
           "lakecolor": "white",
           "landcolor": "#E5ECF6",
           "showlakes": true,
           "showland": true,
           "subunitcolor": "white"
          },
          "hoverlabel": {
           "align": "left"
          },
          "hovermode": "closest",
          "mapbox": {
           "style": "light"
          },
          "paper_bgcolor": "white",
          "plot_bgcolor": "#E5ECF6",
          "polar": {
           "angularaxis": {
            "gridcolor": "white",
            "linecolor": "white",
            "ticks": ""
           },
           "bgcolor": "#E5ECF6",
           "radialaxis": {
            "gridcolor": "white",
            "linecolor": "white",
            "ticks": ""
           }
          },
          "scene": {
           "xaxis": {
            "backgroundcolor": "#E5ECF6",
            "gridcolor": "white",
            "gridwidth": 2,
            "linecolor": "white",
            "showbackground": true,
            "ticks": "",
            "zerolinecolor": "white"
           },
           "yaxis": {
            "backgroundcolor": "#E5ECF6",
            "gridcolor": "white",
            "gridwidth": 2,
            "linecolor": "white",
            "showbackground": true,
            "ticks": "",
            "zerolinecolor": "white"
           },
           "zaxis": {
            "backgroundcolor": "#E5ECF6",
            "gridcolor": "white",
            "gridwidth": 2,
            "linecolor": "white",
            "showbackground": true,
            "ticks": "",
            "zerolinecolor": "white"
           }
          },
          "shapedefaults": {
           "line": {
            "color": "#2a3f5f"
           }
          },
          "ternary": {
           "aaxis": {
            "gridcolor": "white",
            "linecolor": "white",
            "ticks": ""
           },
           "baxis": {
            "gridcolor": "white",
            "linecolor": "white",
            "ticks": ""
           },
           "bgcolor": "#E5ECF6",
           "caxis": {
            "gridcolor": "white",
            "linecolor": "white",
            "ticks": ""
           }
          },
          "title": {
           "x": 0.05
          },
          "xaxis": {
           "automargin": true,
           "gridcolor": "white",
           "linecolor": "white",
           "ticks": "",
           "title": {
            "standoff": 15
           },
           "zerolinecolor": "white",
           "zerolinewidth": 2
          },
          "yaxis": {
           "automargin": true,
           "gridcolor": "white",
           "linecolor": "white",
           "ticks": "",
           "title": {
            "standoff": 15
           },
           "zerolinecolor": "white",
           "zerolinewidth": 2
          }
         }
        },
        "title": {
         "text": "Average Vulnerability Index by Country"
        },
        "xaxis": {
         "anchor": "y",
         "domain": [
          0,
          1
         ],
         "title": {
          "text": "Vulnerability Index"
         }
        },
        "yaxis": {
         "anchor": "x",
         "domain": [
          0,
          1
         ],
         "title": {
          "text": "Country"
         }
        }
       }
      }
     },
     "metadata": {},
     "output_type": "display_data"
    }
   ],
   "source": [
    "# Calculate vulnerability index\n",
    "df['vulnerability_index'] = df['mortality_rate'] * (df['new_confirmed'] / df['population']) * 100\n",
    "\n",
    "# Horizontal Bar Chart\n",
    "vulnerability_by_country = df.groupby('country_name')['vulnerability_index'].mean().reset_index()\n",
    "fig_bar = px.bar(\n",
    "    vulnerability_by_country, \n",
    "    x='vulnerability_index', \n",
    "    y='country_name', \n",
    "    orientation='h', \n",
    "    title=\"Average Vulnerability Index by Country\",\n",
    "    labels={'vulnerability_index': 'Vulnerability Index', 'country_name': 'Country'}\n",
    ")\n",
    "fig_bar.update_traces(marker_color='blue')\n",
    "fig_bar.show()"
   ]
  },
  {
   "cell_type": "markdown",
   "metadata": {},
   "source": [
    "### Graph 4: Average Vulnerability Index by Country\n",
    "**Definition**:\n",
    "The vulnerability index is defined as the ratio of deceased cases to total population.\n",
    "\n",
    "**Insights**:\n",
    "- The United States shows the highest average vulnerability index, likely due to its larger population and high number of deceased cases.\n",
    "- Germany ranks second, while Spain has a comparatively lower index.\n",
    "- Italy can not be indexed here due to a lack of data on mortality, Spain should be treated with care - mostly US and Germany are comparable.\n",
    "\n",
    "**Sequential Logic**:\n",
    "This index introduces a composite metric to evaluate population risk comprehensively across countries."
   ]
  },
  {
   "cell_type": "markdown",
   "metadata": {},
   "source": [
    "## **(5) Regression analysis: Prediction attempt for COVID-19 related deaths**"
   ]
  },
  {
   "cell_type": "markdown",
   "metadata": {},
   "source": [
    "### Section 5: Regression Analysis and Correlation Matrix Insights\n",
    "\n",
    "#### Summary\n",
    "This section focuses on analyzing relationships between key variables through a correlation matrix and using regression analysis to predict COVID-19 deaths. The regression model helps evaluate how well predicted deaths align with actual deaths, offering insights into the model's strengths and limitations. We also interpret the observed trends and potential delays between predictions and actual outcomes."
   ]
  },
  {
   "cell_type": "code",
   "execution_count": 28,
   "metadata": {},
   "outputs": [
    {
     "data": {
      "application/vnd.plotly.v1+json": {
       "config": {
        "plotlyServerURL": "https://plot.ly"
       },
       "data": [
        {
         "coloraxis": "coloraxis",
         "hovertemplate": "x: %{x}<br>y: %{y}<br>Correlation: %{z}<extra></extra>",
         "name": "0",
         "type": "heatmap",
         "x": [
          "new_confirmed",
          "new_deceased",
          "cumulative_confirmed",
          "cumulative_deceased",
          "population"
         ],
         "xaxis": "x",
         "y": [
          "new_confirmed",
          "new_deceased",
          "cumulative_confirmed",
          "cumulative_deceased",
          "population"
         ],
         "yaxis": "y",
         "z": [
          [
           1,
           0.6031755857754052,
           0.43645580259222877,
           0.4563638623539283,
           0.4412791883163113
          ],
          [
           0.6031755857754052,
           1,
           0.41367970729178216,
           0.5275346072924213,
           0.7062316670792028
          ],
          [
           0.43645580259222877,
           0.41367970729178216,
           1,
           0.96122470288212,
           0.6697925728896403
          ],
          [
           0.4563638623539283,
           0.5275346072924213,
           0.96122470288212,
           1,
           0.7860644616404763
          ],
          [
           0.4412791883163113,
           0.7062316670792028,
           0.6697925728896403,
           0.7860644616404763,
           1
          ]
         ]
        }
       ],
       "layout": {
        "coloraxis": {
         "colorbar": {
          "title": {
           "text": "Correlation"
          }
         },
         "colorscale": [
          [
           0,
           "rgb(247,251,255)"
          ],
          [
           0.125,
           "rgb(222,235,247)"
          ],
          [
           0.25,
           "rgb(198,219,239)"
          ],
          [
           0.375,
           "rgb(158,202,225)"
          ],
          [
           0.5,
           "rgb(107,174,214)"
          ],
          [
           0.625,
           "rgb(66,146,198)"
          ],
          [
           0.75,
           "rgb(33,113,181)"
          ],
          [
           0.875,
           "rgb(8,81,156)"
          ],
          [
           1,
           "rgb(8,48,107)"
          ]
         ]
        },
        "template": {
         "data": {
          "bar": [
           {
            "error_x": {
             "color": "#2a3f5f"
            },
            "error_y": {
             "color": "#2a3f5f"
            },
            "marker": {
             "line": {
              "color": "#E5ECF6",
              "width": 0.5
             },
             "pattern": {
              "fillmode": "overlay",
              "size": 10,
              "solidity": 0.2
             }
            },
            "type": "bar"
           }
          ],
          "barpolar": [
           {
            "marker": {
             "line": {
              "color": "#E5ECF6",
              "width": 0.5
             },
             "pattern": {
              "fillmode": "overlay",
              "size": 10,
              "solidity": 0.2
             }
            },
            "type": "barpolar"
           }
          ],
          "carpet": [
           {
            "aaxis": {
             "endlinecolor": "#2a3f5f",
             "gridcolor": "white",
             "linecolor": "white",
             "minorgridcolor": "white",
             "startlinecolor": "#2a3f5f"
            },
            "baxis": {
             "endlinecolor": "#2a3f5f",
             "gridcolor": "white",
             "linecolor": "white",
             "minorgridcolor": "white",
             "startlinecolor": "#2a3f5f"
            },
            "type": "carpet"
           }
          ],
          "choropleth": [
           {
            "colorbar": {
             "outlinewidth": 0,
             "ticks": ""
            },
            "type": "choropleth"
           }
          ],
          "contour": [
           {
            "colorbar": {
             "outlinewidth": 0,
             "ticks": ""
            },
            "colorscale": [
             [
              0,
              "#0d0887"
             ],
             [
              0.1111111111111111,
              "#46039f"
             ],
             [
              0.2222222222222222,
              "#7201a8"
             ],
             [
              0.3333333333333333,
              "#9c179e"
             ],
             [
              0.4444444444444444,
              "#bd3786"
             ],
             [
              0.5555555555555556,
              "#d8576b"
             ],
             [
              0.6666666666666666,
              "#ed7953"
             ],
             [
              0.7777777777777778,
              "#fb9f3a"
             ],
             [
              0.8888888888888888,
              "#fdca26"
             ],
             [
              1,
              "#f0f921"
             ]
            ],
            "type": "contour"
           }
          ],
          "contourcarpet": [
           {
            "colorbar": {
             "outlinewidth": 0,
             "ticks": ""
            },
            "type": "contourcarpet"
           }
          ],
          "heatmap": [
           {
            "colorbar": {
             "outlinewidth": 0,
             "ticks": ""
            },
            "colorscale": [
             [
              0,
              "#0d0887"
             ],
             [
              0.1111111111111111,
              "#46039f"
             ],
             [
              0.2222222222222222,
              "#7201a8"
             ],
             [
              0.3333333333333333,
              "#9c179e"
             ],
             [
              0.4444444444444444,
              "#bd3786"
             ],
             [
              0.5555555555555556,
              "#d8576b"
             ],
             [
              0.6666666666666666,
              "#ed7953"
             ],
             [
              0.7777777777777778,
              "#fb9f3a"
             ],
             [
              0.8888888888888888,
              "#fdca26"
             ],
             [
              1,
              "#f0f921"
             ]
            ],
            "type": "heatmap"
           }
          ],
          "heatmapgl": [
           {
            "colorbar": {
             "outlinewidth": 0,
             "ticks": ""
            },
            "colorscale": [
             [
              0,
              "#0d0887"
             ],
             [
              0.1111111111111111,
              "#46039f"
             ],
             [
              0.2222222222222222,
              "#7201a8"
             ],
             [
              0.3333333333333333,
              "#9c179e"
             ],
             [
              0.4444444444444444,
              "#bd3786"
             ],
             [
              0.5555555555555556,
              "#d8576b"
             ],
             [
              0.6666666666666666,
              "#ed7953"
             ],
             [
              0.7777777777777778,
              "#fb9f3a"
             ],
             [
              0.8888888888888888,
              "#fdca26"
             ],
             [
              1,
              "#f0f921"
             ]
            ],
            "type": "heatmapgl"
           }
          ],
          "histogram": [
           {
            "marker": {
             "pattern": {
              "fillmode": "overlay",
              "size": 10,
              "solidity": 0.2
             }
            },
            "type": "histogram"
           }
          ],
          "histogram2d": [
           {
            "colorbar": {
             "outlinewidth": 0,
             "ticks": ""
            },
            "colorscale": [
             [
              0,
              "#0d0887"
             ],
             [
              0.1111111111111111,
              "#46039f"
             ],
             [
              0.2222222222222222,
              "#7201a8"
             ],
             [
              0.3333333333333333,
              "#9c179e"
             ],
             [
              0.4444444444444444,
              "#bd3786"
             ],
             [
              0.5555555555555556,
              "#d8576b"
             ],
             [
              0.6666666666666666,
              "#ed7953"
             ],
             [
              0.7777777777777778,
              "#fb9f3a"
             ],
             [
              0.8888888888888888,
              "#fdca26"
             ],
             [
              1,
              "#f0f921"
             ]
            ],
            "type": "histogram2d"
           }
          ],
          "histogram2dcontour": [
           {
            "colorbar": {
             "outlinewidth": 0,
             "ticks": ""
            },
            "colorscale": [
             [
              0,
              "#0d0887"
             ],
             [
              0.1111111111111111,
              "#46039f"
             ],
             [
              0.2222222222222222,
              "#7201a8"
             ],
             [
              0.3333333333333333,
              "#9c179e"
             ],
             [
              0.4444444444444444,
              "#bd3786"
             ],
             [
              0.5555555555555556,
              "#d8576b"
             ],
             [
              0.6666666666666666,
              "#ed7953"
             ],
             [
              0.7777777777777778,
              "#fb9f3a"
             ],
             [
              0.8888888888888888,
              "#fdca26"
             ],
             [
              1,
              "#f0f921"
             ]
            ],
            "type": "histogram2dcontour"
           }
          ],
          "mesh3d": [
           {
            "colorbar": {
             "outlinewidth": 0,
             "ticks": ""
            },
            "type": "mesh3d"
           }
          ],
          "parcoords": [
           {
            "line": {
             "colorbar": {
              "outlinewidth": 0,
              "ticks": ""
             }
            },
            "type": "parcoords"
           }
          ],
          "pie": [
           {
            "automargin": true,
            "type": "pie"
           }
          ],
          "scatter": [
           {
            "fillpattern": {
             "fillmode": "overlay",
             "size": 10,
             "solidity": 0.2
            },
            "type": "scatter"
           }
          ],
          "scatter3d": [
           {
            "line": {
             "colorbar": {
              "outlinewidth": 0,
              "ticks": ""
             }
            },
            "marker": {
             "colorbar": {
              "outlinewidth": 0,
              "ticks": ""
             }
            },
            "type": "scatter3d"
           }
          ],
          "scattercarpet": [
           {
            "marker": {
             "colorbar": {
              "outlinewidth": 0,
              "ticks": ""
             }
            },
            "type": "scattercarpet"
           }
          ],
          "scattergeo": [
           {
            "marker": {
             "colorbar": {
              "outlinewidth": 0,
              "ticks": ""
             }
            },
            "type": "scattergeo"
           }
          ],
          "scattergl": [
           {
            "marker": {
             "colorbar": {
              "outlinewidth": 0,
              "ticks": ""
             }
            },
            "type": "scattergl"
           }
          ],
          "scattermapbox": [
           {
            "marker": {
             "colorbar": {
              "outlinewidth": 0,
              "ticks": ""
             }
            },
            "type": "scattermapbox"
           }
          ],
          "scatterpolar": [
           {
            "marker": {
             "colorbar": {
              "outlinewidth": 0,
              "ticks": ""
             }
            },
            "type": "scatterpolar"
           }
          ],
          "scatterpolargl": [
           {
            "marker": {
             "colorbar": {
              "outlinewidth": 0,
              "ticks": ""
             }
            },
            "type": "scatterpolargl"
           }
          ],
          "scatterternary": [
           {
            "marker": {
             "colorbar": {
              "outlinewidth": 0,
              "ticks": ""
             }
            },
            "type": "scatterternary"
           }
          ],
          "surface": [
           {
            "colorbar": {
             "outlinewidth": 0,
             "ticks": ""
            },
            "colorscale": [
             [
              0,
              "#0d0887"
             ],
             [
              0.1111111111111111,
              "#46039f"
             ],
             [
              0.2222222222222222,
              "#7201a8"
             ],
             [
              0.3333333333333333,
              "#9c179e"
             ],
             [
              0.4444444444444444,
              "#bd3786"
             ],
             [
              0.5555555555555556,
              "#d8576b"
             ],
             [
              0.6666666666666666,
              "#ed7953"
             ],
             [
              0.7777777777777778,
              "#fb9f3a"
             ],
             [
              0.8888888888888888,
              "#fdca26"
             ],
             [
              1,
              "#f0f921"
             ]
            ],
            "type": "surface"
           }
          ],
          "table": [
           {
            "cells": {
             "fill": {
              "color": "#EBF0F8"
             },
             "line": {
              "color": "white"
             }
            },
            "header": {
             "fill": {
              "color": "#C8D4E3"
             },
             "line": {
              "color": "white"
             }
            },
            "type": "table"
           }
          ]
         },
         "layout": {
          "annotationdefaults": {
           "arrowcolor": "#2a3f5f",
           "arrowhead": 0,
           "arrowwidth": 1
          },
          "autotypenumbers": "strict",
          "coloraxis": {
           "colorbar": {
            "outlinewidth": 0,
            "ticks": ""
           }
          },
          "colorscale": {
           "diverging": [
            [
             0,
             "#8e0152"
            ],
            [
             0.1,
             "#c51b7d"
            ],
            [
             0.2,
             "#de77ae"
            ],
            [
             0.3,
             "#f1b6da"
            ],
            [
             0.4,
             "#fde0ef"
            ],
            [
             0.5,
             "#f7f7f7"
            ],
            [
             0.6,
             "#e6f5d0"
            ],
            [
             0.7,
             "#b8e186"
            ],
            [
             0.8,
             "#7fbc41"
            ],
            [
             0.9,
             "#4d9221"
            ],
            [
             1,
             "#276419"
            ]
           ],
           "sequential": [
            [
             0,
             "#0d0887"
            ],
            [
             0.1111111111111111,
             "#46039f"
            ],
            [
             0.2222222222222222,
             "#7201a8"
            ],
            [
             0.3333333333333333,
             "#9c179e"
            ],
            [
             0.4444444444444444,
             "#bd3786"
            ],
            [
             0.5555555555555556,
             "#d8576b"
            ],
            [
             0.6666666666666666,
             "#ed7953"
            ],
            [
             0.7777777777777778,
             "#fb9f3a"
            ],
            [
             0.8888888888888888,
             "#fdca26"
            ],
            [
             1,
             "#f0f921"
            ]
           ],
           "sequentialminus": [
            [
             0,
             "#0d0887"
            ],
            [
             0.1111111111111111,
             "#46039f"
            ],
            [
             0.2222222222222222,
             "#7201a8"
            ],
            [
             0.3333333333333333,
             "#9c179e"
            ],
            [
             0.4444444444444444,
             "#bd3786"
            ],
            [
             0.5555555555555556,
             "#d8576b"
            ],
            [
             0.6666666666666666,
             "#ed7953"
            ],
            [
             0.7777777777777778,
             "#fb9f3a"
            ],
            [
             0.8888888888888888,
             "#fdca26"
            ],
            [
             1,
             "#f0f921"
            ]
           ]
          },
          "colorway": [
           "#636efa",
           "#EF553B",
           "#00cc96",
           "#ab63fa",
           "#FFA15A",
           "#19d3f3",
           "#FF6692",
           "#B6E880",
           "#FF97FF",
           "#FECB52"
          ],
          "font": {
           "color": "#2a3f5f"
          },
          "geo": {
           "bgcolor": "white",
           "lakecolor": "white",
           "landcolor": "#E5ECF6",
           "showlakes": true,
           "showland": true,
           "subunitcolor": "white"
          },
          "hoverlabel": {
           "align": "left"
          },
          "hovermode": "closest",
          "mapbox": {
           "style": "light"
          },
          "paper_bgcolor": "white",
          "plot_bgcolor": "#E5ECF6",
          "polar": {
           "angularaxis": {
            "gridcolor": "white",
            "linecolor": "white",
            "ticks": ""
           },
           "bgcolor": "#E5ECF6",
           "radialaxis": {
            "gridcolor": "white",
            "linecolor": "white",
            "ticks": ""
           }
          },
          "scene": {
           "xaxis": {
            "backgroundcolor": "#E5ECF6",
            "gridcolor": "white",
            "gridwidth": 2,
            "linecolor": "white",
            "showbackground": true,
            "ticks": "",
            "zerolinecolor": "white"
           },
           "yaxis": {
            "backgroundcolor": "#E5ECF6",
            "gridcolor": "white",
            "gridwidth": 2,
            "linecolor": "white",
            "showbackground": true,
            "ticks": "",
            "zerolinecolor": "white"
           },
           "zaxis": {
            "backgroundcolor": "#E5ECF6",
            "gridcolor": "white",
            "gridwidth": 2,
            "linecolor": "white",
            "showbackground": true,
            "ticks": "",
            "zerolinecolor": "white"
           }
          },
          "shapedefaults": {
           "line": {
            "color": "#2a3f5f"
           }
          },
          "ternary": {
           "aaxis": {
            "gridcolor": "white",
            "linecolor": "white",
            "ticks": ""
           },
           "baxis": {
            "gridcolor": "white",
            "linecolor": "white",
            "ticks": ""
           },
           "bgcolor": "#E5ECF6",
           "caxis": {
            "gridcolor": "white",
            "linecolor": "white",
            "ticks": ""
           }
          },
          "title": {
           "x": 0.05
          },
          "xaxis": {
           "automargin": true,
           "gridcolor": "white",
           "linecolor": "white",
           "ticks": "",
           "title": {
            "standoff": 15
           },
           "zerolinecolor": "white",
           "zerolinewidth": 2
          },
          "yaxis": {
           "automargin": true,
           "gridcolor": "white",
           "linecolor": "white",
           "ticks": "",
           "title": {
            "standoff": 15
           },
           "zerolinecolor": "white",
           "zerolinewidth": 2
          }
         }
        },
        "title": {
         "text": "Correlation Heatmap of Key Variables"
        },
        "xaxis": {
         "anchor": "y",
         "constrain": "domain",
         "domain": [
          0,
          1
         ],
         "scaleanchor": "y",
         "title": {
          "text": "Variables"
         }
        },
        "yaxis": {
         "anchor": "x",
         "autorange": "reversed",
         "constrain": "domain",
         "domain": [
          0,
          1
         ],
         "title": {
          "text": "Variables"
         }
        }
       }
      }
     },
     "metadata": {},
     "output_type": "display_data"
    }
   ],
   "source": [
    "# Compute correlation matrix for numerical columns\n",
    "correlation_matrix = df[['new_confirmed', 'new_deceased', 'cumulative_confirmed', \n",
    "                         'cumulative_deceased', 'population']].corr()\n",
    "\n",
    "# Plot the heatmap using Plotly\n",
    "fig_correlation = px.imshow(\n",
    "    correlation_matrix,\n",
    "    title=\"Correlation Heatmap of Key Variables\",\n",
    "    color_continuous_scale='Blues',\n",
    "    labels=dict(color=\"Correlation\")\n",
    ")\n",
    "fig_correlation.update_layout(\n",
    "    xaxis_title=\"Variables\",\n",
    "    yaxis_title=\"Variables\",\n",
    "    coloraxis_colorbar=dict(title=\"Correlation\")\n",
    ")\n",
    "fig_correlation.show()"
   ]
  },
  {
   "cell_type": "markdown",
   "metadata": {},
   "source": [
    "#### Correlation Heatmap of Key Variables\n",
    "\n",
    "- **Insights:**\n",
    "  - A strong positive correlation is observed between `cumulative_confirmed` and `cumulative_deceased`, confirming that more confirmed cases are generally associated with higher death counts. This correlation underpins their use as predictors in the regression model.\n",
    "  - `New_confirmed` and `new_deceased` show a moderate correlation, which may indicate temporal delays between new cases and deaths, reflecting the disease's progression timeline.\n",
    "  - Weak correlations between population size and COVID-19 variables suggest that absolute population figures do not directly explain outcomes. This highlights the necessity of relative metrics like per capita rates.\n",
    "  - These correlations guided the selection of features for the regression model, emphasizing variables that reflect the disease's immediate and cumulative impact."
   ]
  },
  {
   "cell_type": "code",
   "execution_count": 29,
   "metadata": {},
   "outputs": [
    {
     "data": {
      "application/vnd.plotly.v1+json": {
       "config": {
        "plotlyServerURL": "https://plot.ly"
       },
       "data": [
        {
         "hovertemplate": "Actual Deaths=%{x}<br>Predicted Deaths=%{y}<extra></extra>",
         "legendgroup": "",
         "line": {
          "color": "red"
         },
         "marker": {
          "color": "blue",
          "size": 6,
          "symbol": "circle"
         },
         "mode": "markers",
         "name": "",
         "orientation": "v",
         "showlegend": false,
         "type": "scatter",
         "x": [
          0,
          0,
          0,
          0,
          0,
          0,
          0,
          1,
          2,
          31,
          205,
          851,
          1971,
          2217,
          1515,
          1023,
          527,
          297,
          216,
          152,
          79,
          48,
          35,
          41,
          29,
          24,
          32,
          22,
          34,
          33,
          38,
          29,
          36,
          21,
          19,
          60,
          70,
          90,
          116,
          168,
          328,
          645,
          1382,
          1814,
          2062,
          2935,
          3297,
          3940,
          4940,
          6245,
          6898,
          5753,
          5005,
          5431,
          4705,
          3626,
          2601,
          1942,
          1580,
          1342,
          1112,
          1040,
          1163,
          1381,
          1645,
          1475,
          1654,
          1622,
          1474,
          1155,
          841,
          529,
          333,
          205,
          92,
          65,
          30,
          24,
          23,
          30,
          32,
          52,
          71,
          115,
          181,
          280,
          384,
          441,
          440,
          335,
          386,
          444,
          507,
          765,
          1130,
          1431,
          1915,
          2399,
          2869,
          2831,
          2587,
          2135,
          1576,
          1005,
          792,
          573,
          546,
          580,
          563,
          377,
          80,
          0,
          0,
          0,
          0,
          0,
          0,
          0,
          0,
          0,
          0,
          0,
          0,
          0,
          0,
          0,
          0,
          0,
          0,
          0,
          0,
          0,
          0,
          0,
          0,
          0,
          0,
          0,
          0,
          0,
          0,
          0,
          0,
          0,
          0,
          0,
          0,
          0,
          0,
          0,
          0,
          0,
          0,
          0,
          0,
          0,
          0,
          0,
          0,
          0,
          0,
          0,
          0,
          0,
          0,
          0,
          0,
          0,
          0,
          0,
          0,
          0,
          0,
          0,
          0,
          0,
          0,
          0,
          0,
          0,
          0,
          0,
          0,
          0,
          0,
          0,
          0,
          0,
          0,
          0,
          0,
          0,
          0,
          0,
          0,
          0,
          0,
          0,
          0,
          0,
          0,
          0,
          0,
          0,
          0,
          0,
          0,
          0,
          0,
          0,
          0,
          0,
          0,
          0,
          0,
          0,
          0,
          0,
          0,
          0,
          0,
          0,
          0,
          0,
          0,
          0,
          0,
          0,
          0,
          0,
          0,
          0,
          0,
          0,
          0,
          0,
          0,
          0,
          0,
          0,
          0,
          0,
          0,
          0,
          0,
          0,
          8,
          50,
          94,
          48,
          28,
          30,
          22,
          20,
          4,
          10,
          6,
          2,
          2,
          0,
          0,
          0,
          0,
          0,
          0,
          0,
          0,
          4,
          4,
          12,
          16,
          32,
          36,
          26,
          30,
          16,
          16,
          32,
          20,
          20,
          28,
          24,
          34,
          20,
          18,
          44,
          56,
          44,
          42,
          32,
          64,
          52,
          42,
          32,
          36,
          42,
          28,
          38,
          38,
          34,
          34,
          26,
          30,
          30,
          20,
          12,
          28,
          14,
          6,
          4,
          18,
          6,
          10,
          6,
          6,
          16,
          18,
          26,
          42,
          56,
          56,
          52,
          30,
          36,
          20,
          26,
          12,
          18,
          6,
          6,
          10,
          2,
          26,
          22,
          12,
          20,
          30,
          26,
          60,
          50,
          98,
          106,
          0,
          0,
          0,
          0,
          0,
          0,
          0,
          0,
          0,
          0,
          0,
          0,
          0,
          0,
          0,
          0,
          0,
          0,
          0,
          0,
          0,
          0,
          0,
          0,
          0,
          0,
          0,
          0,
          0,
          0,
          0,
          0,
          0,
          0,
          12,
          25,
          181,
          1484,
          6812,
          14838,
          17610,
          16747,
          15336,
          14192,
          11253,
          9850,
          7507,
          7122,
          6148,
          4762,
          4308,
          5859,
          4169,
          5278,
          6052,
          8314,
          7513,
          7896,
          7204,
          6683,
          6237,
          5242,
          6026,
          5308,
          5193,
          5009,
          5145,
          5662,
          5654,
          6781,
          7819,
          9093,
          11836,
          11557,
          16646,
          18129,
          18981,
          16658,
          19079,
          23683,
          21896,
          23542,
          22117,
          21549,
          19878,
          15944,
          14360,
          11466,
          8693,
          8412,
          7137,
          7401,
          5823,
          6455,
          5384,
          5152,
          4787,
          4503,
          4357,
          4066,
          3309,
          2455,
          2175,
          1919,
          1504,
          1738,
          1711,
          1973,
          2748,
          3496,
          4792,
          6594,
          8164,
          8371,
          23155,
          14473,
          14183,
          13044,
          10362,
          13740,
          10098,
          9038,
          8632,
          7750,
          10012,
          6396,
          9605,
          9359,
          9750,
          11002,
          9695,
          13535,
          14062,
          17594,
          18639,
          18193,
          16281,
          13843,
          12359,
          9584,
          8609,
          5903,
          5871,
          3946,
          4040,
          2971,
          2535,
          4027,
          2572,
          857,
          410,
          351,
          326,
          344,
          324,
          352,
          410,
          393,
          397,
          533,
          506,
          517,
          472,
          213
         ],
         "xaxis": "x",
         "y": [
          724.2738657901632,
          724.2738657901632,
          724.2738657901632,
          724.2865294137068,
          724.3118566608014,
          724.2896953195946,
          724.2770316960509,
          724.3118566608014,
          725.5718872037965,
          731.5902742948224,
          766.678009239497,
          812.9635533061942,
          838.597893272547,
          831.0725349793488,
          788.8266868243577,
          775.9477816763888,
          755.8632747297947,
          744.722451913744,
          742.1295749923579,
          738.2355107514582,
          734.3287828870002,
          732.0746578955209,
          732.6698482022607,
          732.9547797320834,
          737.0641255732976,
          733.8349015686458,
          732.1854646015622,
          732.4640643196094,
          734.9587981584978,
          738.3558151751554,
          741.6768504505294,
          746.5681750458157,
          752.6150552898239,
          753.6882973854867,
          750.2881144629414,
          753.4920112204986,
          758.8107331105189,
          763.1670196109103,
          768.947963760415,
          786.5947231740779,
          826.9726868557905,
          893.9505917993652,
          1021.0363859119011,
          1102.8687212768768,
          1130.23797766926,
          1130.26963672813,
          1123.763700130518,
          1111.5528011246847,
          1166.05387096793,
          1252.242492833297,
          1295.988980378685,
          1135.9935945716702,
          1099.174109106853,
          1154.6566097750315,
          1059.3850039201047,
          998.1595499730524,
          951.180672517125,
          903.3216732246351,
          885.3583232222795,
          897.2716270747392,
          906.0316886638307,
          919.8002133660252,
          983.8528212700899,
          1049.0704825405323,
          1106.3005632582922,
          1031.4047276915503,
          1178.1951200442477,
          1181.02227400126,
          1159.9341748885186,
          1082.8823574127878,
          1011.2220776624658,
          911.2522674713532,
          839.6046513445822,
          817.057069617977,
          777.3312825489688,
          755.9740814358433,
          742.5284791341096,
          738.672405763848,
          739.036484940842,
          747.0398950229633,
          759.0006874637315,
          769.156913548954,
          779.1231852809638,
          803.8172511988946,
          851.3090054085101,
          913.0410042974604,
          947.6221943002297,
          960.4852699187672,
          939.1312347115295,
          901.8463610813328,
          902.4763763528304,
          900.5451737618118,
          914.149071357881,
          976.552242294862,
          1097.8254331990233,
          1178.587692374224,
          1446.9425389726734,
          1705.2361366625178,
          1952.0786527593868,
          1986.1469660084754,
          1912.9227287500166,
          1684.6134257151484,
          1501.5987382043736,
          1316.9852682207043,
          1560.0381949709395,
          1994.7677277385433,
          2645.459530582046,
          3785.3566087893037,
          4497.907046757246,
          4900.12905787801,
          2952.2579723653093,
          -482.0292300758192,
          -474.71282157116,
          -455.077873260514,
          -414.7442322612187,
          -371.2541830926675,
          -379.77363583435726,
          -393.6846263014595,
          -406.91811290876285,
          -417.09650033519574,
          -434.4804895602465,
          -450.61394595996535,
          -459.65577317299176,
          -467.06082704248547,
          -471.5152566253746,
          -474.90277592437633,
          -477.2993666807706,
          -476.1153178790628,
          -476.951117033208,
          -477.98636825822905,
          -478.9203104948683,
          -479.1324261892951,
          -478.73035614165565,
          -478.1319999290281,
          -477.23604856303064,
          -474.91227364203587,
          -473.06655050996415,
          -463.21741729577116,
          -459.684266325974,
          -456.31890836818275,
          -456.3442356152809,
          -453.56457024656993,
          -450.6266095835126,
          -432.99251379339694,
          -379.09296606867065,
          -275.9255909317726,
          -86.81653458868459,
          74.75547235001386,
          182.6685404113955,
          202.00589356867158,
          107.91200470367357,
          -25.138356099811062,
          -112.40655187262018,
          -137.79078527390448,
          -177.23164081309005,
          -209.88479413072855,
          -133.46932373826348,
          -141.60886777352061,
          -213.16467262957303,
          -242.5062883895007,
          -258.93417403670173,
          -258.69356518929635,
          -259.84278902624646,
          -217.61593630657444,
          -126.94439170533224,
          -75.42243930168115,
          -29.43449038835388,
          -54.492635483285994,
          -67.01062736014501,
          -146.18676768600199,
          -172.52077285336054,
          -215.0895434088161,
          -230.9380682787123,
          -272.465255797375,
          -314.64778583462976,
          -368.30355880606294,
          -351.9991434884505,
          -422.700153755035,
          -442.1103227477106,
          -453.09601617530643,
          -463.5561692256706,
          -469.24530210445664,
          -467.3299290428731,
          -455.30898439025987,
          -422.5291948371414,
          -388.0018252344489,
          -370.80462445672674,
          -360.4774394536107,
          -354.88644965731874,
          -353.5757646201346,
          -357.7990830732815,
          -372.2546093529345,
          -390.7624951678372,
          -403.5115981744457,
          -419.3981139149837,
          -424.0361660393137,
          -433.8029857004476,
          -431.0929702612484,
          -409.6344601597375,
          -399.58587487466866,
          -361.5855065140313,
          -326.75737585207753,
          -282.4536888705916,
          -235.34817517918418,
          -179.34963185143351,
          -113.17903290902541,
          59.02092009204671,
          604.753445066664,
          2078.067901754362,
          2910.4953661303293,
          3028.634310206449,
          2838.9079022154106,
          1951.263873265761,
          1265.601473995393,
          702.9186889022344,
          482.92622063229237,
          280.1309531400725,
          359.84529746670114,
          684.6767391818316,
          985.2700054267402,
          971.6154533364747,
          869.7872563897431,
          763.327339130457,
          638.6349698684276,
          720.5496187864624,
          535.838005720299,
          329.55707584658694,
          182.97246737654086,
          -10.249100713648659,
          -117.66828745667226,
          -124.17738996016851,
          3.009713140749227,
          579.2710685828856,
          717.1842608286711,
          1220.9115464957026,
          2948.2899506083227,
          1232.7013800185737,
          804.1611932598857,
          474.77401297348433,
          174.02561734011715,
          -42.04112763004741,
          -177.82683111982988,
          -110.0662128641552,
          -110.0662128641552,
          -109.84143354618391,
          -103.82621236104569,
          -65.75302816500698,
          -23.602157186622208,
          -25.270589589026713,
          -35.692751768750895,
          -55.91655857436308,
          -55.24855243222373,
          -76.69439891018555,
          -88.25945311508531,
          -94.16386759418128,
          -95.98109757327074,
          -92.28331949735457,
          -92.8436848393385,
          -97.76666849349112,
          -98.44417235329092,
          -99.75802329636008,
          -97.29178261045399,
          -93.41038199309605,
          -81.00952863405018,
          -70.29610311273063,
          -70.52088243070102,
          -69.08672706392917,
          -59.60800483850562,
          -38.32995137255057,
          -16.03564211689627,
          -8.336158999918553,
          -0.9627641892939209,
          7.7593065291566745,
          27.54938422826126,
          19.802412522980376,
          10.713096721648071,
          16.20277752955826,
          57.09678387083886,
          78.48247813694843,
          51.505794074546884,
          14.420372515225608,
          -14.886418279946156,
          -38.62438062003366,
          -41.56867309486461,
          -44.90553789967271,
          -17.007575224179163,
          4.574405206920346,
          1.4654856259694498,
          25.35541144862964,
          101.50494574659433,
          98.24406268307166,
          104.45557003319891,
          70.57404523143532,
          25.62134754313047,
          -7.962582105263209,
          -24.678565188173707,
          -39.308216291607096,
          -43.914609357068,
          -41.95491361306813,
          -38.333117278437385,
          -26.61609959096586,
          -34.30925089616903,
          -8.342490811693096,
          -12.549979735402303,
          -16.773298188547415,
          -29.64270561885587,
          -49.78736477729581,
          -61.11814194656381,
          -65.38261717623845,
          -71.56879727927026,
          -75.81427707362309,
          -77.35290733466354,
          -70.81531167818412,
          -8.690740459252993,
          90.14250951845634,
          176.93898531411514,
          170.78763017583924,
          132.7619345681046,
          79.74250867994078,
          23.47802925768883,
          -14.234241667240894,
          -39.263893609190745,
          -57.518506953141696,
          -70.75199356044595,
          -80.81007656317433,
          -87.39199490207102,
          -89.50365412864267,
          -93.25525260463746,
          -95.92411126730622,
          -94.06889041757404,
          -91.21640921346352,
          -90.2571397297288,
          -88.02834198534038,
          -56.79984631681236,
          -45.32660338263213,
          -22.142674572754913,
          -6.53159264437727,
          103.42665061995149,
          355.08450957081686,
          841.1112154241041,
          946.6181950114301,
          1107.5570207727492,
          1140.1658514079722,
          904.6161216097303,
          482.4425715896291,
          263.89375640411936,
          86.62835398398101,
          50.84411974418208,
          22.07236704389834,
          14.27474084442747,
          1.3515130140403926,
          -11.57804662811941,
          -44.7124176405714,
          -76.58992401591695,
          -70.7773208075414,
          -73.66462697640782,
          -64.42334769250283,
          -52.18078962780328,
          -46.97920625560164,
          -49.85384880092079,
          -61.24794408792786,
          -62.96703098452235,
          -60.814214981420264,
          -49.51509687102134,
          -23.782613822176245,
          -15.240999739280596,
          -26.22985907276143,
          -54.70085071378708,
          -77.3275800875681,
          -97.3804279752876,
          5723.11543762379,
          5723.11543762379,
          5723.13759896499,
          5723.1217694355655,
          5723.140764870877,
          5723.216746612168,
          5723.400369153613,
          5728.032089466164,
          5805.296022636328,
          6015.512173527466,
          6316.78927544396,
          6537.544727032648,
          6448.452969468977,
          6417.867152695493,
          6411.095280003377,
          6349.879323773996,
          6276.499957127082,
          6251.843882079782,
          6220.282966293125,
          6220.963636058812,
          6209.740499689702,
          6249.415632264521,
          6448.101553915527,
          6716.966111361769,
          6922.294103563523,
          7160.471535247903,
          7234.715194201948,
          7176.171262541124,
          7014.0103971074495,
          6947.81447091794,
          6793.330927260053,
          6674.780415418638,
          6658.637461301252,
          6565.293892131456,
          6604.665097741126,
          6714.379566252166,
          6705.3250754155815,
          6835.010078261279,
          6930.633099669656,
          7085.987267446464,
          7424.631556546192,
          7793.38677653639,
          8644.458260680396,
          9367.769612757947,
          9692.531404543573,
          9420.592752481134,
          10449.493170293143,
          10737.77422854385,
          10484.01104217818,
          9809.964351606912,
          10995.450474585734,
          11261.427725863112,
          10166.796770026973,
          9417.17674002915,
          8794.661499579182,
          8116.556117660883,
          7510.64921949368,
          7276.919885580406,
          7209.052361082613,
          7148.472751936504,
          6995.265068351022,
          7047.493017767461,
          7202.429285967191,
          7215.916045045444,
          7331.921168553781,
          7166.632388103848,
          6935.727042241699,
          6771.729951393623,
          6549.71446926194,
          6398.650103961911,
          6249.877854524013,
          6093.228831239459,
          6046.633028395845,
          6026.811291637867,
          5990.140603749744,
          6031.173909950048,
          6068.034552191391,
          6294.551952494272,
          6627.991492315916,
          7166.331627044587,
          7844.693447339734,
          8480.739769550368,
          8841.361777317063,
          9090.939636100222,
          9468.420092714754,
          9110.679059305148,
          9167.554558563563,
          8717.017657702592,
          8288.851047838565,
          7999.870324386859,
          7721.30543130311,
          7431.118497708485,
          7332.332736319084,
          7329.974136433324,
          7445.152958505183,
          7730.77465581087,
          7851.316522455156,
          7666.813859177528,
          8397.153522324043,
          8536.95676038431,
          9924.570144713223,
          13309.05017406072,
          19249.11591934956,
          23015.85375729493,
          22914.90251627888,
          19291.045176915857,
          14307.855490511725,
          10553.490012772418,
          8807.743022703922,
          7527.767272624224,
          7075.292837360459,
          6567.424546793343,
          6511.19489233585,
          6384.941731471576,
          6453.163837428707,
          6377.470193578447,
          6582.231488626443,
          6606.051764519601,
          6989.14220636573,
          7163.688095629019,
          7730.030667927444,
          6637.6981597651975,
          6221.770942059979,
          6211.991458775294,
          6207.046313779931,
          6216.31925212271,
          6177.346950654792,
          6261.63286308213,
          6295.786655790165,
          6316.50117800825,
          6357.189400466879,
          6296.69527077971,
          6256.738372580956,
          6168.346280218284,
          6092.358207120553,
          5872.444886497782
         ],
         "yaxis": "y"
        },
        {
         "hovertemplate": "<b>OLS trendline</b><br>Predicted Deaths = 0.61091 * Actual Deaths + 903.299<br>R<sup>2</sup>=0.610910<br><br>Actual Deaths=%{x}<br>Predicted Deaths=%{y} <b>(trend)</b><extra></extra>",
         "legendgroup": "",
         "line": {
          "color": "red"
         },
         "marker": {
          "color": "blue",
          "size": 6,
          "symbol": "circle"
         },
         "mode": "lines",
         "name": "",
         "showlegend": false,
         "type": "scatter",
         "x": [
          0,
          0,
          0,
          0,
          0,
          0,
          0,
          0,
          0,
          0,
          0,
          0,
          0,
          0,
          0,
          0,
          0,
          0,
          0,
          0,
          0,
          0,
          0,
          0,
          0,
          0,
          0,
          0,
          0,
          0,
          0,
          0,
          0,
          0,
          0,
          0,
          0,
          0,
          0,
          0,
          0,
          0,
          0,
          0,
          0,
          0,
          0,
          0,
          0,
          0,
          0,
          0,
          0,
          0,
          0,
          0,
          0,
          0,
          0,
          0,
          0,
          0,
          0,
          0,
          0,
          0,
          0,
          0,
          0,
          0,
          0,
          0,
          0,
          0,
          0,
          0,
          0,
          0,
          0,
          0,
          0,
          0,
          0,
          0,
          0,
          0,
          0,
          0,
          0,
          0,
          0,
          0,
          0,
          0,
          0,
          0,
          0,
          0,
          0,
          0,
          0,
          0,
          0,
          0,
          0,
          0,
          0,
          0,
          0,
          0,
          0,
          0,
          0,
          0,
          0,
          0,
          0,
          0,
          0,
          0,
          0,
          0,
          0,
          0,
          0,
          0,
          0,
          0,
          0,
          0,
          0,
          0,
          0,
          0,
          0,
          0,
          0,
          0,
          0,
          0,
          0,
          0,
          0,
          0,
          0,
          0,
          0,
          0,
          0,
          0,
          0,
          0,
          0,
          0,
          0,
          0,
          0,
          0,
          0,
          0,
          0,
          0,
          0,
          0,
          0,
          0,
          0,
          0,
          0,
          0,
          0,
          0,
          0,
          0,
          0,
          0,
          0,
          0,
          0,
          0,
          0,
          0,
          0,
          0,
          1,
          2,
          2,
          2,
          2,
          4,
          4,
          4,
          4,
          6,
          6,
          6,
          6,
          6,
          6,
          6,
          8,
          10,
          10,
          10,
          12,
          12,
          12,
          12,
          12,
          14,
          16,
          16,
          16,
          16,
          18,
          18,
          18,
          18,
          19,
          20,
          20,
          20,
          20,
          20,
          20,
          20,
          21,
          22,
          22,
          22,
          23,
          24,
          24,
          24,
          25,
          26,
          26,
          26,
          26,
          26,
          26,
          28,
          28,
          28,
          28,
          29,
          29,
          30,
          30,
          30,
          30,
          30,
          30,
          30,
          30,
          31,
          32,
          32,
          32,
          32,
          32,
          32,
          33,
          34,
          34,
          34,
          34,
          35,
          36,
          36,
          36,
          36,
          38,
          38,
          38,
          41,
          42,
          42,
          42,
          42,
          44,
          44,
          48,
          48,
          50,
          50,
          52,
          52,
          52,
          56,
          56,
          56,
          60,
          60,
          64,
          65,
          70,
          71,
          79,
          80,
          90,
          92,
          94,
          98,
          106,
          115,
          116,
          152,
          168,
          181,
          181,
          205,
          205,
          213,
          216,
          280,
          297,
          324,
          326,
          328,
          333,
          335,
          344,
          351,
          352,
          377,
          384,
          386,
          393,
          397,
          410,
          410,
          440,
          441,
          444,
          472,
          506,
          507,
          517,
          527,
          529,
          533,
          546,
          563,
          573,
          580,
          645,
          765,
          792,
          841,
          851,
          857,
          1005,
          1023,
          1040,
          1112,
          1130,
          1155,
          1163,
          1342,
          1381,
          1382,
          1431,
          1474,
          1475,
          1484,
          1504,
          1515,
          1576,
          1580,
          1622,
          1645,
          1654,
          1711,
          1738,
          1814,
          1915,
          1919,
          1942,
          1971,
          1973,
          2062,
          2135,
          2175,
          2217,
          2399,
          2455,
          2535,
          2572,
          2587,
          2601,
          2748,
          2831,
          2869,
          2935,
          2971,
          3297,
          3309,
          3496,
          3626,
          3940,
          3946,
          4027,
          4040,
          4066,
          4169,
          4308,
          4357,
          4503,
          4705,
          4762,
          4787,
          4792,
          4940,
          5005,
          5009,
          5145,
          5152,
          5193,
          5242,
          5278,
          5308,
          5384,
          5431,
          5654,
          5662,
          5753,
          5823,
          5859,
          5871,
          5903,
          6026,
          6052,
          6148,
          6237,
          6245,
          6396,
          6455,
          6594,
          6683,
          6781,
          6812,
          6898,
          7122,
          7137,
          7204,
          7401,
          7507,
          7513,
          7750,
          7819,
          7896,
          8164,
          8314,
          8371,
          8412,
          8609,
          8632,
          8693,
          9038,
          9093,
          9359,
          9584,
          9605,
          9695,
          9750,
          9850,
          10012,
          10098,
          10362,
          11002,
          11253,
          11466,
          11557,
          11836,
          12359,
          13044,
          13535,
          13740,
          13843,
          14062,
          14183,
          14192,
          14360,
          14473,
          14838,
          15336,
          15944,
          16281,
          16646,
          16658,
          16747,
          17594,
          17610,
          18129,
          18193,
          18639,
          18981,
          19079,
          19878,
          21549,
          21896,
          22117,
          23155,
          23542,
          23683
         ],
         "xaxis": "x",
         "y": [
          903.2994477196189,
          903.2994477196189,
          903.2994477196189,
          903.2994477196189,
          903.2994477196189,
          903.2994477196189,
          903.2994477196189,
          903.2994477196189,
          903.2994477196189,
          903.2994477196189,
          903.2994477196189,
          903.2994477196189,
          903.2994477196189,
          903.2994477196189,
          903.2994477196189,
          903.2994477196189,
          903.2994477196189,
          903.2994477196189,
          903.2994477196189,
          903.2994477196189,
          903.2994477196189,
          903.2994477196189,
          903.2994477196189,
          903.2994477196189,
          903.2994477196189,
          903.2994477196189,
          903.2994477196189,
          903.2994477196189,
          903.2994477196189,
          903.2994477196189,
          903.2994477196189,
          903.2994477196189,
          903.2994477196189,
          903.2994477196189,
          903.2994477196189,
          903.2994477196189,
          903.2994477196189,
          903.2994477196189,
          903.2994477196189,
          903.2994477196189,
          903.2994477196189,
          903.2994477196189,
          903.2994477196189,
          903.2994477196189,
          903.2994477196189,
          903.2994477196189,
          903.2994477196189,
          903.2994477196189,
          903.2994477196189,
          903.2994477196189,
          903.2994477196189,
          903.2994477196189,
          903.2994477196189,
          903.2994477196189,
          903.2994477196189,
          903.2994477196189,
          903.2994477196189,
          903.2994477196189,
          903.2994477196189,
          903.2994477196189,
          903.2994477196189,
          903.2994477196189,
          903.2994477196189,
          903.2994477196189,
          903.2994477196189,
          903.2994477196189,
          903.2994477196189,
          903.2994477196189,
          903.2994477196189,
          903.2994477196189,
          903.2994477196189,
          903.2994477196189,
          903.2994477196189,
          903.2994477196189,
          903.2994477196189,
          903.2994477196189,
          903.2994477196189,
          903.2994477196189,
          903.2994477196189,
          903.2994477196189,
          903.2994477196189,
          903.2994477196189,
          903.2994477196189,
          903.2994477196189,
          903.2994477196189,
          903.2994477196189,
          903.2994477196189,
          903.2994477196189,
          903.2994477196189,
          903.2994477196189,
          903.2994477196189,
          903.2994477196189,
          903.2994477196189,
          903.2994477196189,
          903.2994477196189,
          903.2994477196189,
          903.2994477196189,
          903.2994477196189,
          903.2994477196189,
          903.2994477196189,
          903.2994477196189,
          903.2994477196189,
          903.2994477196189,
          903.2994477196189,
          903.2994477196189,
          903.2994477196189,
          903.2994477196189,
          903.2994477196189,
          903.2994477196189,
          903.2994477196189,
          903.2994477196189,
          903.2994477196189,
          903.2994477196189,
          903.2994477196189,
          903.2994477196189,
          903.2994477196189,
          903.2994477196189,
          903.2994477196189,
          903.2994477196189,
          903.2994477196189,
          903.2994477196189,
          903.2994477196189,
          903.2994477196189,
          903.2994477196189,
          903.2994477196189,
          903.2994477196189,
          903.2994477196189,
          903.2994477196189,
          903.2994477196189,
          903.2994477196189,
          903.2994477196189,
          903.2994477196189,
          903.2994477196189,
          903.2994477196189,
          903.2994477196189,
          903.2994477196189,
          903.2994477196189,
          903.2994477196189,
          903.2994477196189,
          903.2994477196189,
          903.2994477196189,
          903.2994477196189,
          903.2994477196189,
          903.2994477196189,
          903.2994477196189,
          903.2994477196189,
          903.2994477196189,
          903.2994477196189,
          903.2994477196189,
          903.2994477196189,
          903.2994477196189,
          903.2994477196189,
          903.2994477196189,
          903.2994477196189,
          903.2994477196189,
          903.2994477196189,
          903.2994477196189,
          903.2994477196189,
          903.2994477196189,
          903.2994477196189,
          903.2994477196189,
          903.2994477196189,
          903.2994477196189,
          903.2994477196189,
          903.2994477196189,
          903.2994477196189,
          903.2994477196189,
          903.2994477196189,
          903.2994477196189,
          903.2994477196189,
          903.2994477196189,
          903.2994477196189,
          903.2994477196189,
          903.2994477196189,
          903.2994477196189,
          903.2994477196189,
          903.2994477196189,
          903.2994477196189,
          903.2994477196189,
          903.2994477196189,
          903.2994477196189,
          903.2994477196189,
          903.2994477196189,
          903.2994477196189,
          903.9103573455905,
          904.5212669715619,
          904.5212669715619,
          904.5212669715619,
          904.5212669715619,
          905.743086223505,
          905.743086223505,
          905.743086223505,
          905.743086223505,
          906.964905475448,
          906.964905475448,
          906.964905475448,
          906.964905475448,
          906.964905475448,
          906.964905475448,
          906.964905475448,
          908.186724727391,
          909.408543979334,
          909.408543979334,
          909.408543979334,
          910.630363231277,
          910.630363231277,
          910.630363231277,
          910.630363231277,
          910.630363231277,
          911.8521824832201,
          913.074001735163,
          913.074001735163,
          913.074001735163,
          913.074001735163,
          914.2958209871061,
          914.2958209871061,
          914.2958209871061,
          914.2958209871061,
          914.9067306130776,
          915.5176402390491,
          915.5176402390491,
          915.5176402390491,
          915.5176402390491,
          915.5176402390491,
          915.5176402390491,
          915.5176402390491,
          916.1285498650207,
          916.7394594909922,
          916.7394594909922,
          916.7394594909922,
          917.3503691169636,
          917.9612787429352,
          917.9612787429352,
          917.9612787429352,
          918.5721883689067,
          919.1830979948782,
          919.1830979948782,
          919.1830979948782,
          919.1830979948782,
          919.1830979948782,
          919.1830979948782,
          920.4049172468212,
          920.4049172468212,
          920.4049172468212,
          920.4049172468212,
          921.0158268727927,
          921.0158268727927,
          921.6267364987642,
          921.6267364987642,
          921.6267364987642,
          921.6267364987642,
          921.6267364987642,
          921.6267364987642,
          921.6267364987642,
          921.6267364987642,
          922.2376461247358,
          922.8485557507073,
          922.8485557507073,
          922.8485557507073,
          922.8485557507073,
          922.8485557507073,
          922.8485557507073,
          923.4594653766787,
          924.0703750026503,
          924.0703750026503,
          924.0703750026503,
          924.0703750026503,
          924.6812846286218,
          925.2921942545933,
          925.2921942545933,
          925.2921942545933,
          925.2921942545933,
          926.5140135065363,
          926.5140135065363,
          926.5140135065363,
          928.3467423844509,
          928.9576520104224,
          928.9576520104224,
          928.9576520104224,
          928.9576520104224,
          930.1794712623654,
          930.1794712623654,
          932.6231097662514,
          932.6231097662514,
          933.8449290181944,
          933.8449290181944,
          935.0667482701375,
          935.0667482701375,
          935.0667482701375,
          937.5103867740236,
          937.5103867740236,
          937.5103867740236,
          939.9540252779095,
          939.9540252779095,
          942.3976637817956,
          943.0085734077671,
          946.0631215376246,
          946.6740311635962,
          951.5613081713683,
          952.1722177973397,
          958.2813140570549,
          959.5031333089979,
          960.7249525609409,
          963.168591064827,
          968.0558680725991,
          973.5540547063426,
          974.1649643323142,
          996.1577108672885,
          1005.9322648828328,
          1013.8740900204624,
          1013.8740900204624,
          1028.5359210437787,
          1028.5359210437787,
          1033.4231980515508,
          1035.2559269294652,
          1074.354142991642,
          1084.7396066331576,
          1101.2341665343884,
          1102.4559857863314,
          1103.6778050382745,
          1106.732353168132,
          1107.954172420075,
          1113.4523590538188,
          1117.7287264356191,
          1118.3396360615907,
          1133.6123767108786,
          1137.8887440926792,
          1139.110563344622,
          1143.3869307264226,
          1145.8305692303088,
          1153.7723943679384,
          1153.7723943679384,
          1172.0996831470836,
          1172.7105927730552,
          1174.5433216509698,
          1191.6487911781721,
          1212.4197184612035,
          1213.030628087175,
          1219.13972434689,
          1225.248820606605,
          1226.470639858548,
          1228.9142783624343,
          1236.856103500064,
          1247.2415671415795,
          1253.3506634012947,
          1257.6270307830953,
          1297.3361564712434,
          1370.6453115878248,
          1387.1398714890556,
          1417.0744431616595,
          1423.1835394213747,
          1426.8489971772037,
          1517.2636218209873,
          1528.2599950884746,
          1538.6454587299902,
          1582.6309517999389,
          1593.6273250674262,
          1608.900065716714,
          1613.787342724486,
          1723.1401657733866,
          1746.9656411862754,
          1747.576550812247,
          1777.511122484851,
          1803.780236401626,
          1804.3911460275974,
          1809.889332661341,
          1822.1075251807713,
          1828.827531066458,
          1866.09301825072,
          1868.5366567546062,
          1894.1948610454097,
          1908.2457824427543,
          1913.743969076498,
          1948.5658177568741,
          1965.060377658105,
          2011.4895092319396,
          2073.1913814550626,
          2075.6350199589483,
          2089.6859413562934,
          2107.402320509467,
          2108.62413976141,
          2162.995096472874,
          2207.5914991687946,
          2232.027884207655,
          2257.6860884984585,
          2368.8716404252737,
          2403.0825794796783,
          2451.955349557399,
          2474.559005718345,
          2483.7226501079176,
          2492.275384871519,
          2582.079099889331,
          2632.7845988449662,
          2655.9991646318836,
          2696.319199946003,
          2718.311946480978,
          2917.4684845476904,
          2924.7994000593485,
          3039.039500116021,
          3118.4577514923176,
          3310.2833740473716,
          3313.948831803201,
          3363.432511506893,
          3371.374336644523,
          3387.257986919782,
          3450.181678394848,
          3535.0981164048876,
          3565.032688077492,
          3654.2254934693324,
          3777.6292379155775,
          3812.4510865959537,
          3827.7238272452414,
          3830.778375375099,
          3921.1930000188827,
          3960.902125707031,
          3963.345764210917,
          4046.4294733430424,
          4050.705840724843,
          4075.7531353896748,
          4105.6877070622795,
          4127.680453597253,
          4146.007742376399,
          4192.436873950233,
          4221.149626370894,
          4357.382472962541,
          4362.269749970314,
          4417.8625259337205,
          4460.626199751727,
          4482.6189462867005,
          4489.949861798359,
          4509.498969829448,
          4584.640853823943,
          4600.524504099203,
          4659.171828192468,
          4713.542784903932,
          4718.430061911704,
          4810.6774154334025,
          4846.721083365722,
          4931.637521375762,
          4986.008478087226,
          5045.877621432434,
          5064.815819837551,
          5117.354047671101,
          5254.197803888719,
          5263.361448278292,
          5304.292393218383,
          5424.641589534771,
          5489.398009887751,
          5493.06346764358,
          5637.849048998828,
          5680.001813190863,
          5727.041854390669,
          5890.765634151034,
          5982.402078046761,
          6017.223926727136,
          6042.2712213919685,
          6162.620417708356,
          6176.671339105701,
          6213.936826289963,
          6424.700647250134,
          6458.3006766785675,
          6620.802637186989,
          6758.257303030579,
          6771.086405175981,
          6826.068271513417,
          6859.66830094185,
          6920.759263539001,
          7019.726622946386,
          7072.264850779936,
          7233.544992036414,
          7624.527152658182,
          7777.865468777031,
          7907.989219108963,
          7963.58199507237,
          8134.025780718422,
          8453.531515101522,
          8872.004608892006,
          9171.961235244018,
          9297.19770856818,
          9360.121400043245,
          9493.910608131006,
          9567.830672873557,
          9573.3288595073,
          9675.961676670515,
          9744.994464405296,
          9967.976477884897,
          10272.20947161871,
          10643.642524209388,
          10849.519068161788,
          11072.501081641389,
          11079.831997153047,
          11134.202953864511,
          11651.643407062382,
          11661.417961077925,
          11978.48005695714,
          12017.578273019317,
          12290.043966202611,
          12498.975058284866,
          12558.844201630074,
          13046.960992781313,
          14067.790977779707,
          14279.776617991822,
          14414.787645331526,
          15048.911837089954,
          15285.333862340927,
          15371.472119602911
         ],
         "yaxis": "y"
        }
       ],
       "layout": {
        "legend": {
         "tracegroupgap": 0
        },
        "template": {
         "data": {
          "bar": [
           {
            "error_x": {
             "color": "#2a3f5f"
            },
            "error_y": {
             "color": "#2a3f5f"
            },
            "marker": {
             "line": {
              "color": "#E5ECF6",
              "width": 0.5
             },
             "pattern": {
              "fillmode": "overlay",
              "size": 10,
              "solidity": 0.2
             }
            },
            "type": "bar"
           }
          ],
          "barpolar": [
           {
            "marker": {
             "line": {
              "color": "#E5ECF6",
              "width": 0.5
             },
             "pattern": {
              "fillmode": "overlay",
              "size": 10,
              "solidity": 0.2
             }
            },
            "type": "barpolar"
           }
          ],
          "carpet": [
           {
            "aaxis": {
             "endlinecolor": "#2a3f5f",
             "gridcolor": "white",
             "linecolor": "white",
             "minorgridcolor": "white",
             "startlinecolor": "#2a3f5f"
            },
            "baxis": {
             "endlinecolor": "#2a3f5f",
             "gridcolor": "white",
             "linecolor": "white",
             "minorgridcolor": "white",
             "startlinecolor": "#2a3f5f"
            },
            "type": "carpet"
           }
          ],
          "choropleth": [
           {
            "colorbar": {
             "outlinewidth": 0,
             "ticks": ""
            },
            "type": "choropleth"
           }
          ],
          "contour": [
           {
            "colorbar": {
             "outlinewidth": 0,
             "ticks": ""
            },
            "colorscale": [
             [
              0,
              "#0d0887"
             ],
             [
              0.1111111111111111,
              "#46039f"
             ],
             [
              0.2222222222222222,
              "#7201a8"
             ],
             [
              0.3333333333333333,
              "#9c179e"
             ],
             [
              0.4444444444444444,
              "#bd3786"
             ],
             [
              0.5555555555555556,
              "#d8576b"
             ],
             [
              0.6666666666666666,
              "#ed7953"
             ],
             [
              0.7777777777777778,
              "#fb9f3a"
             ],
             [
              0.8888888888888888,
              "#fdca26"
             ],
             [
              1,
              "#f0f921"
             ]
            ],
            "type": "contour"
           }
          ],
          "contourcarpet": [
           {
            "colorbar": {
             "outlinewidth": 0,
             "ticks": ""
            },
            "type": "contourcarpet"
           }
          ],
          "heatmap": [
           {
            "colorbar": {
             "outlinewidth": 0,
             "ticks": ""
            },
            "colorscale": [
             [
              0,
              "#0d0887"
             ],
             [
              0.1111111111111111,
              "#46039f"
             ],
             [
              0.2222222222222222,
              "#7201a8"
             ],
             [
              0.3333333333333333,
              "#9c179e"
             ],
             [
              0.4444444444444444,
              "#bd3786"
             ],
             [
              0.5555555555555556,
              "#d8576b"
             ],
             [
              0.6666666666666666,
              "#ed7953"
             ],
             [
              0.7777777777777778,
              "#fb9f3a"
             ],
             [
              0.8888888888888888,
              "#fdca26"
             ],
             [
              1,
              "#f0f921"
             ]
            ],
            "type": "heatmap"
           }
          ],
          "heatmapgl": [
           {
            "colorbar": {
             "outlinewidth": 0,
             "ticks": ""
            },
            "colorscale": [
             [
              0,
              "#0d0887"
             ],
             [
              0.1111111111111111,
              "#46039f"
             ],
             [
              0.2222222222222222,
              "#7201a8"
             ],
             [
              0.3333333333333333,
              "#9c179e"
             ],
             [
              0.4444444444444444,
              "#bd3786"
             ],
             [
              0.5555555555555556,
              "#d8576b"
             ],
             [
              0.6666666666666666,
              "#ed7953"
             ],
             [
              0.7777777777777778,
              "#fb9f3a"
             ],
             [
              0.8888888888888888,
              "#fdca26"
             ],
             [
              1,
              "#f0f921"
             ]
            ],
            "type": "heatmapgl"
           }
          ],
          "histogram": [
           {
            "marker": {
             "pattern": {
              "fillmode": "overlay",
              "size": 10,
              "solidity": 0.2
             }
            },
            "type": "histogram"
           }
          ],
          "histogram2d": [
           {
            "colorbar": {
             "outlinewidth": 0,
             "ticks": ""
            },
            "colorscale": [
             [
              0,
              "#0d0887"
             ],
             [
              0.1111111111111111,
              "#46039f"
             ],
             [
              0.2222222222222222,
              "#7201a8"
             ],
             [
              0.3333333333333333,
              "#9c179e"
             ],
             [
              0.4444444444444444,
              "#bd3786"
             ],
             [
              0.5555555555555556,
              "#d8576b"
             ],
             [
              0.6666666666666666,
              "#ed7953"
             ],
             [
              0.7777777777777778,
              "#fb9f3a"
             ],
             [
              0.8888888888888888,
              "#fdca26"
             ],
             [
              1,
              "#f0f921"
             ]
            ],
            "type": "histogram2d"
           }
          ],
          "histogram2dcontour": [
           {
            "colorbar": {
             "outlinewidth": 0,
             "ticks": ""
            },
            "colorscale": [
             [
              0,
              "#0d0887"
             ],
             [
              0.1111111111111111,
              "#46039f"
             ],
             [
              0.2222222222222222,
              "#7201a8"
             ],
             [
              0.3333333333333333,
              "#9c179e"
             ],
             [
              0.4444444444444444,
              "#bd3786"
             ],
             [
              0.5555555555555556,
              "#d8576b"
             ],
             [
              0.6666666666666666,
              "#ed7953"
             ],
             [
              0.7777777777777778,
              "#fb9f3a"
             ],
             [
              0.8888888888888888,
              "#fdca26"
             ],
             [
              1,
              "#f0f921"
             ]
            ],
            "type": "histogram2dcontour"
           }
          ],
          "mesh3d": [
           {
            "colorbar": {
             "outlinewidth": 0,
             "ticks": ""
            },
            "type": "mesh3d"
           }
          ],
          "parcoords": [
           {
            "line": {
             "colorbar": {
              "outlinewidth": 0,
              "ticks": ""
             }
            },
            "type": "parcoords"
           }
          ],
          "pie": [
           {
            "automargin": true,
            "type": "pie"
           }
          ],
          "scatter": [
           {
            "fillpattern": {
             "fillmode": "overlay",
             "size": 10,
             "solidity": 0.2
            },
            "type": "scatter"
           }
          ],
          "scatter3d": [
           {
            "line": {
             "colorbar": {
              "outlinewidth": 0,
              "ticks": ""
             }
            },
            "marker": {
             "colorbar": {
              "outlinewidth": 0,
              "ticks": ""
             }
            },
            "type": "scatter3d"
           }
          ],
          "scattercarpet": [
           {
            "marker": {
             "colorbar": {
              "outlinewidth": 0,
              "ticks": ""
             }
            },
            "type": "scattercarpet"
           }
          ],
          "scattergeo": [
           {
            "marker": {
             "colorbar": {
              "outlinewidth": 0,
              "ticks": ""
             }
            },
            "type": "scattergeo"
           }
          ],
          "scattergl": [
           {
            "marker": {
             "colorbar": {
              "outlinewidth": 0,
              "ticks": ""
             }
            },
            "type": "scattergl"
           }
          ],
          "scattermapbox": [
           {
            "marker": {
             "colorbar": {
              "outlinewidth": 0,
              "ticks": ""
             }
            },
            "type": "scattermapbox"
           }
          ],
          "scatterpolar": [
           {
            "marker": {
             "colorbar": {
              "outlinewidth": 0,
              "ticks": ""
             }
            },
            "type": "scatterpolar"
           }
          ],
          "scatterpolargl": [
           {
            "marker": {
             "colorbar": {
              "outlinewidth": 0,
              "ticks": ""
             }
            },
            "type": "scatterpolargl"
           }
          ],
          "scatterternary": [
           {
            "marker": {
             "colorbar": {
              "outlinewidth": 0,
              "ticks": ""
             }
            },
            "type": "scatterternary"
           }
          ],
          "surface": [
           {
            "colorbar": {
             "outlinewidth": 0,
             "ticks": ""
            },
            "colorscale": [
             [
              0,
              "#0d0887"
             ],
             [
              0.1111111111111111,
              "#46039f"
             ],
             [
              0.2222222222222222,
              "#7201a8"
             ],
             [
              0.3333333333333333,
              "#9c179e"
             ],
             [
              0.4444444444444444,
              "#bd3786"
             ],
             [
              0.5555555555555556,
              "#d8576b"
             ],
             [
              0.6666666666666666,
              "#ed7953"
             ],
             [
              0.7777777777777778,
              "#fb9f3a"
             ],
             [
              0.8888888888888888,
              "#fdca26"
             ],
             [
              1,
              "#f0f921"
             ]
            ],
            "type": "surface"
           }
          ],
          "table": [
           {
            "cells": {
             "fill": {
              "color": "#EBF0F8"
             },
             "line": {
              "color": "white"
             }
            },
            "header": {
             "fill": {
              "color": "#C8D4E3"
             },
             "line": {
              "color": "white"
             }
            },
            "type": "table"
           }
          ]
         },
         "layout": {
          "annotationdefaults": {
           "arrowcolor": "#2a3f5f",
           "arrowhead": 0,
           "arrowwidth": 1
          },
          "autotypenumbers": "strict",
          "coloraxis": {
           "colorbar": {
            "outlinewidth": 0,
            "ticks": ""
           }
          },
          "colorscale": {
           "diverging": [
            [
             0,
             "#8e0152"
            ],
            [
             0.1,
             "#c51b7d"
            ],
            [
             0.2,
             "#de77ae"
            ],
            [
             0.3,
             "#f1b6da"
            ],
            [
             0.4,
             "#fde0ef"
            ],
            [
             0.5,
             "#f7f7f7"
            ],
            [
             0.6,
             "#e6f5d0"
            ],
            [
             0.7,
             "#b8e186"
            ],
            [
             0.8,
             "#7fbc41"
            ],
            [
             0.9,
             "#4d9221"
            ],
            [
             1,
             "#276419"
            ]
           ],
           "sequential": [
            [
             0,
             "#0d0887"
            ],
            [
             0.1111111111111111,
             "#46039f"
            ],
            [
             0.2222222222222222,
             "#7201a8"
            ],
            [
             0.3333333333333333,
             "#9c179e"
            ],
            [
             0.4444444444444444,
             "#bd3786"
            ],
            [
             0.5555555555555556,
             "#d8576b"
            ],
            [
             0.6666666666666666,
             "#ed7953"
            ],
            [
             0.7777777777777778,
             "#fb9f3a"
            ],
            [
             0.8888888888888888,
             "#fdca26"
            ],
            [
             1,
             "#f0f921"
            ]
           ],
           "sequentialminus": [
            [
             0,
             "#0d0887"
            ],
            [
             0.1111111111111111,
             "#46039f"
            ],
            [
             0.2222222222222222,
             "#7201a8"
            ],
            [
             0.3333333333333333,
             "#9c179e"
            ],
            [
             0.4444444444444444,
             "#bd3786"
            ],
            [
             0.5555555555555556,
             "#d8576b"
            ],
            [
             0.6666666666666666,
             "#ed7953"
            ],
            [
             0.7777777777777778,
             "#fb9f3a"
            ],
            [
             0.8888888888888888,
             "#fdca26"
            ],
            [
             1,
             "#f0f921"
            ]
           ]
          },
          "colorway": [
           "#636efa",
           "#EF553B",
           "#00cc96",
           "#ab63fa",
           "#FFA15A",
           "#19d3f3",
           "#FF6692",
           "#B6E880",
           "#FF97FF",
           "#FECB52"
          ],
          "font": {
           "color": "#2a3f5f"
          },
          "geo": {
           "bgcolor": "white",
           "lakecolor": "white",
           "landcolor": "#E5ECF6",
           "showlakes": true,
           "showland": true,
           "subunitcolor": "white"
          },
          "hoverlabel": {
           "align": "left"
          },
          "hovermode": "closest",
          "mapbox": {
           "style": "light"
          },
          "paper_bgcolor": "white",
          "plot_bgcolor": "#E5ECF6",
          "polar": {
           "angularaxis": {
            "gridcolor": "white",
            "linecolor": "white",
            "ticks": ""
           },
           "bgcolor": "#E5ECF6",
           "radialaxis": {
            "gridcolor": "white",
            "linecolor": "white",
            "ticks": ""
           }
          },
          "scene": {
           "xaxis": {
            "backgroundcolor": "#E5ECF6",
            "gridcolor": "white",
            "gridwidth": 2,
            "linecolor": "white",
            "showbackground": true,
            "ticks": "",
            "zerolinecolor": "white"
           },
           "yaxis": {
            "backgroundcolor": "#E5ECF6",
            "gridcolor": "white",
            "gridwidth": 2,
            "linecolor": "white",
            "showbackground": true,
            "ticks": "",
            "zerolinecolor": "white"
           },
           "zaxis": {
            "backgroundcolor": "#E5ECF6",
            "gridcolor": "white",
            "gridwidth": 2,
            "linecolor": "white",
            "showbackground": true,
            "ticks": "",
            "zerolinecolor": "white"
           }
          },
          "shapedefaults": {
           "line": {
            "color": "#2a3f5f"
           }
          },
          "ternary": {
           "aaxis": {
            "gridcolor": "white",
            "linecolor": "white",
            "ticks": ""
           },
           "baxis": {
            "gridcolor": "white",
            "linecolor": "white",
            "ticks": ""
           },
           "bgcolor": "#E5ECF6",
           "caxis": {
            "gridcolor": "white",
            "linecolor": "white",
            "ticks": ""
           }
          },
          "title": {
           "x": 0.05
          },
          "xaxis": {
           "automargin": true,
           "gridcolor": "white",
           "linecolor": "white",
           "ticks": "",
           "title": {
            "standoff": 15
           },
           "zerolinecolor": "white",
           "zerolinewidth": 2
          },
          "yaxis": {
           "automargin": true,
           "gridcolor": "white",
           "linecolor": "white",
           "ticks": "",
           "title": {
            "standoff": 15
           },
           "zerolinecolor": "white",
           "zerolinewidth": 2
          }
         }
        },
        "title": {
         "text": "Regression Analysis: Actual vs. Predicted Deaths"
        },
        "xaxis": {
         "anchor": "y",
         "domain": [
          0,
          1
         ],
         "title": {
          "text": "Actual Deaths"
         }
        },
        "yaxis": {
         "anchor": "x",
         "domain": [
          0,
          1
         ],
         "title": {
          "text": "Predicted Deaths"
         }
        }
       }
      }
     },
     "metadata": {},
     "output_type": "display_data"
    }
   ],
   "source": [
    "import plotly.graph_objects as go\n",
    "from sklearn.linear_model import LinearRegression\n",
    "from sklearn.metrics import r2_score\n",
    "\n",
    "# Prepare features and target variables\n",
    "features = ['new_confirmed', 'population', 'population_age_70_79', 'population_age_80_and_older']\n",
    "target = 'new_deceased'\n",
    "\n",
    "# Remove rows with missing values\n",
    "df = df.dropna(subset=features + [target])\n",
    "\n",
    "# Extract features and target\n",
    "X = df[features].values\n",
    "y = df[target].values\n",
    "\n",
    "# Fit the linear regression model\n",
    "model = LinearRegression()\n",
    "model.fit(X, y)\n",
    "\n",
    "# Predictions\n",
    "df['predicted_deaths'] = model.predict(X)\n",
    "\n",
    "# Scatter plot: Actual vs Predicted Deaths\n",
    "scatter_data = pd.DataFrame({'Actual Deaths': y, 'Predicted Deaths': model.predict(X)})\n",
    "fig = px.scatter(\n",
    "    scatter_data,\n",
    "    x='Actual Deaths',\n",
    "    y='Predicted Deaths',\n",
    "    trendline=\"ols\",\n",
    "    title=\"Regression Analysis: Actual vs. Predicted Deaths\",\n",
    "    labels={'Actual Deaths': 'Actual Deaths', 'Predicted Deaths': 'Predicted Deaths'}\n",
    ")\n",
    "fig.update_traces(marker=dict(size=6, color='blue'), line=dict(color='red'))\n",
    "fig.show()\n"
   ]
  },
  {
   "cell_type": "markdown",
   "metadata": {},
   "source": [
    "#### Regression Analysis: Actual vs. Predicted Deaths\n",
    "\n",
    "- **Insights:**\n",
    "  - The scatterplot shows a clear positive trend between predicted and actual deaths, indicating the model captures the general relationship between predictors and mortality.\n",
    "  - Most points cluster around the regression line, showing strong predictive alignment for moderate values. However, deviations occur at higher actual death values, revealing limitations in handling extreme cases or outliers.\n",
    "  - The model's simplicity, using features like `new_confirmed`, `cumulative_confirmed`, and `population`, may not fully capture the complexities of pandemic dynamics, especially during peaks or highly localized outbreaks.\n",
    "\n",
    "- **Features Selected:**\n",
    "  - **`New_confirmed`:** Reflects the most recent infection rates, capturing short-term changes in pandemic severity.\n",
    "  - **`Cumulative_confirmed`:** Accounts for the overall pandemic burden on healthcare systems and its contribution to mortality.\n",
    "  - **`New_deceased`:** A key outcome variable providing insights into short-term mortality patterns.\n",
    "  - **Population metrics (e.g., total, age-specific):** Provide context for normalizing the impact of confirmed cases and deaths, especially in countries with varying population structures. Age group data specifically helps identify demographic vulnerabilities and tailor public health responses.\n",
    "\n",
    "##### Why These Specific Age Groups and these metrics?\n",
    "The features included in this regression model are carefully chosen based on their relevance to COVID-19 mortality trends:\n",
    "\n",
    "1. **Age Groups (70-79 and 80+):**\n",
    "   - These groups are the most vulnerable to severe outcomes and deaths due to COVID-19. Studies and healthcare data consistently show that older populations, particularly those above 70, have significantly higher mortality rates compared to younger groups.\n",
    "   - Including these age groups captures the disproportionate impact of the pandemic on the elderly population, which is essential for accurate death prediction.\n",
    "\n",
    "2. **New Confirmed Cases:**\n",
    "   - This feature reflects the current severity of the pandemic in a region. Higher confirmed cases often correlate with higher deaths, providing a dynamic component to the regression model.\n",
    "\n",
    "3. **Total Population:**\n",
    "   - Population size provides a contextual denominator, enabling the model to scale predictions appropriately. Countries with larger populations are expected to have higher absolute numbers of cases and deaths.\n",
    "\n",
    "By combining the above features, the regression model accounts for both demographic vulnerabilities and the pandemic's real-time progression. This selection ensures the model highlights the interaction between population-level factors and the virus's spread, focusing particularly on the most at-risk groups.\n",
    "\n",
    "##### Approach and Results\n",
    "The regression model uses `new_confirmed`, `population`, `population_age_70_79`, and `population_age_80_and_older` as input features, with `new_deceased` as the target variable. After fitting the model:\n",
    "\n",
    "- A scatter plot visualizes the relationship between actual and predicted deaths.\n",
    "- A linear regression trendline shows the predictive accuracy and identifies areas of model performance, like overestimation or underestimation in certain ranges (see below).\n",
    "\n",
    "This analysis provides critical insights into the demographic and epidemiological factors driving COVID-19 mortality."
   ]
  },
  {
   "cell_type": "code",
   "execution_count": 30,
   "metadata": {},
   "outputs": [
    {
     "data": {
      "application/vnd.plotly.v1+json": {
       "config": {
        "plotlyServerURL": "https://plot.ly"
       },
       "data": [
        {
         "line": {
          "color": "rgb(102,194,165)"
         },
         "mode": "lines",
         "name": "Germany Actual Deaths",
         "type": "scatter",
         "x": [
          "2020-01-02/2020-01-08",
          "2020-01-09/2020-01-15",
          "2020-01-16/2020-01-22",
          "2020-01-23/2020-01-29",
          "2020-01-30/2020-02-05",
          "2020-02-06/2020-02-12",
          "2020-02-13/2020-02-19",
          "2020-02-20/2020-02-26",
          "2020-02-27/2020-03-04",
          "2020-03-05/2020-03-11",
          "2020-03-12/2020-03-18",
          "2020-03-19/2020-03-25",
          "2020-03-26/2020-04-01",
          "2020-04-02/2020-04-08",
          "2020-04-09/2020-04-15",
          "2020-04-16/2020-04-22",
          "2020-04-23/2020-04-29",
          "2020-04-30/2020-05-06",
          "2020-05-07/2020-05-13",
          "2020-05-14/2020-05-20",
          "2020-05-21/2020-05-27",
          "2020-05-28/2020-06-03",
          "2020-06-04/2020-06-10",
          "2020-06-11/2020-06-17",
          "2020-06-18/2020-06-24",
          "2020-06-25/2020-07-01",
          "2020-07-02/2020-07-08",
          "2020-07-09/2020-07-15",
          "2020-07-16/2020-07-22",
          "2020-07-23/2020-07-29",
          "2020-07-30/2020-08-05",
          "2020-08-06/2020-08-12",
          "2020-08-13/2020-08-19",
          "2020-08-20/2020-08-26",
          "2020-08-27/2020-09-02",
          "2020-09-03/2020-09-09",
          "2020-09-10/2020-09-16",
          "2020-09-17/2020-09-23",
          "2020-09-24/2020-09-30",
          "2020-10-01/2020-10-07",
          "2020-10-08/2020-10-14",
          "2020-10-15/2020-10-21",
          "2020-10-22/2020-10-28",
          "2020-10-29/2020-11-04",
          "2020-11-05/2020-11-11",
          "2020-11-12/2020-11-18",
          "2020-11-19/2020-11-25",
          "2020-11-26/2020-12-02",
          "2020-12-03/2020-12-09",
          "2020-12-10/2020-12-16",
          "2020-12-17/2020-12-23",
          "2020-12-24/2020-12-30",
          "2020-12-31/2021-01-06",
          "2021-01-07/2021-01-13",
          "2021-01-14/2021-01-20",
          "2021-01-21/2021-01-27",
          "2021-01-28/2021-02-03",
          "2021-02-04/2021-02-10",
          "2021-02-11/2021-02-17",
          "2021-02-18/2021-02-24",
          "2021-02-25/2021-03-03",
          "2021-03-04/2021-03-10",
          "2021-03-11/2021-03-17",
          "2021-03-18/2021-03-24",
          "2021-03-25/2021-03-31",
          "2021-04-01/2021-04-07",
          "2021-04-08/2021-04-14",
          "2021-04-15/2021-04-21",
          "2021-04-22/2021-04-28",
          "2021-04-29/2021-05-05",
          "2021-05-06/2021-05-12",
          "2021-05-13/2021-05-19",
          "2021-05-20/2021-05-26",
          "2021-05-27/2021-06-02",
          "2021-06-03/2021-06-09",
          "2021-06-10/2021-06-16",
          "2021-06-17/2021-06-23",
          "2021-06-24/2021-06-30",
          "2021-07-01/2021-07-07",
          "2021-07-08/2021-07-14",
          "2021-07-15/2021-07-21",
          "2021-07-22/2021-07-28",
          "2021-07-29/2021-08-04",
          "2021-08-05/2021-08-11",
          "2021-08-12/2021-08-18",
          "2021-08-19/2021-08-25",
          "2021-08-26/2021-09-01",
          "2021-09-02/2021-09-08",
          "2021-09-09/2021-09-15",
          "2021-09-16/2021-09-22",
          "2021-09-23/2021-09-29",
          "2021-09-30/2021-10-06",
          "2021-10-07/2021-10-13",
          "2021-10-14/2021-10-20",
          "2021-10-21/2021-10-27",
          "2021-10-28/2021-11-03",
          "2021-11-04/2021-11-10",
          "2021-11-11/2021-11-17",
          "2021-11-18/2021-11-24",
          "2021-11-25/2021-12-01",
          "2021-12-02/2021-12-08",
          "2021-12-09/2021-12-15",
          "2021-12-16/2021-12-22",
          "2021-12-23/2021-12-29",
          "2021-12-30/2022-01-05",
          "2022-01-06/2022-01-12",
          "2022-01-13/2022-01-19",
          "2022-01-20/2022-01-26",
          "2022-01-27/2022-02-02",
          "2022-02-03/2022-02-09",
          "2022-02-10/2022-02-16"
         ],
         "y": [
          0,
          0,
          0,
          0,
          0,
          0,
          0,
          1,
          2,
          31,
          205,
          851,
          1971,
          2217,
          1515,
          1023,
          527,
          297,
          216,
          152,
          79,
          48,
          35,
          41,
          29,
          24,
          32,
          22,
          34,
          33,
          38,
          29,
          36,
          21,
          19,
          60,
          70,
          90,
          116,
          168,
          328,
          645,
          1382,
          1814,
          2062,
          2935,
          3297,
          3940,
          4940,
          6245,
          6898,
          5753,
          5005,
          5431,
          4705,
          3626,
          2601,
          1942,
          1580,
          1342,
          1112,
          1040,
          1163,
          1381,
          1645,
          1475,
          1654,
          1622,
          1474,
          1155,
          841,
          529,
          333,
          205,
          92,
          65,
          30,
          24,
          23,
          30,
          32,
          52,
          71,
          115,
          181,
          280,
          384,
          441,
          440,
          335,
          386,
          444,
          507,
          765,
          1130,
          1431,
          1915,
          2399,
          2869,
          2831,
          2587,
          2135,
          1576,
          1005,
          792,
          573,
          546,
          580,
          563,
          377,
          80
         ]
        },
        {
         "line": {
          "color": "rgb(102,194,165)",
          "dash": "dash"
         },
         "mode": "lines",
         "name": "Germany Predicted Deaths",
         "type": "scatter",
         "x": [
          "2020-01-02/2020-01-08",
          "2020-01-09/2020-01-15",
          "2020-01-16/2020-01-22",
          "2020-01-23/2020-01-29",
          "2020-01-30/2020-02-05",
          "2020-02-06/2020-02-12",
          "2020-02-13/2020-02-19",
          "2020-02-20/2020-02-26",
          "2020-02-27/2020-03-04",
          "2020-03-05/2020-03-11",
          "2020-03-12/2020-03-18",
          "2020-03-19/2020-03-25",
          "2020-03-26/2020-04-01",
          "2020-04-02/2020-04-08",
          "2020-04-09/2020-04-15",
          "2020-04-16/2020-04-22",
          "2020-04-23/2020-04-29",
          "2020-04-30/2020-05-06",
          "2020-05-07/2020-05-13",
          "2020-05-14/2020-05-20",
          "2020-05-21/2020-05-27",
          "2020-05-28/2020-06-03",
          "2020-06-04/2020-06-10",
          "2020-06-11/2020-06-17",
          "2020-06-18/2020-06-24",
          "2020-06-25/2020-07-01",
          "2020-07-02/2020-07-08",
          "2020-07-09/2020-07-15",
          "2020-07-16/2020-07-22",
          "2020-07-23/2020-07-29",
          "2020-07-30/2020-08-05",
          "2020-08-06/2020-08-12",
          "2020-08-13/2020-08-19",
          "2020-08-20/2020-08-26",
          "2020-08-27/2020-09-02",
          "2020-09-03/2020-09-09",
          "2020-09-10/2020-09-16",
          "2020-09-17/2020-09-23",
          "2020-09-24/2020-09-30",
          "2020-10-01/2020-10-07",
          "2020-10-08/2020-10-14",
          "2020-10-15/2020-10-21",
          "2020-10-22/2020-10-28",
          "2020-10-29/2020-11-04",
          "2020-11-05/2020-11-11",
          "2020-11-12/2020-11-18",
          "2020-11-19/2020-11-25",
          "2020-11-26/2020-12-02",
          "2020-12-03/2020-12-09",
          "2020-12-10/2020-12-16",
          "2020-12-17/2020-12-23",
          "2020-12-24/2020-12-30",
          "2020-12-31/2021-01-06",
          "2021-01-07/2021-01-13",
          "2021-01-14/2021-01-20",
          "2021-01-21/2021-01-27",
          "2021-01-28/2021-02-03",
          "2021-02-04/2021-02-10",
          "2021-02-11/2021-02-17",
          "2021-02-18/2021-02-24",
          "2021-02-25/2021-03-03",
          "2021-03-04/2021-03-10",
          "2021-03-11/2021-03-17",
          "2021-03-18/2021-03-24",
          "2021-03-25/2021-03-31",
          "2021-04-01/2021-04-07",
          "2021-04-08/2021-04-14",
          "2021-04-15/2021-04-21",
          "2021-04-22/2021-04-28",
          "2021-04-29/2021-05-05",
          "2021-05-06/2021-05-12",
          "2021-05-13/2021-05-19",
          "2021-05-20/2021-05-26",
          "2021-05-27/2021-06-02",
          "2021-06-03/2021-06-09",
          "2021-06-10/2021-06-16",
          "2021-06-17/2021-06-23",
          "2021-06-24/2021-06-30",
          "2021-07-01/2021-07-07",
          "2021-07-08/2021-07-14",
          "2021-07-15/2021-07-21",
          "2021-07-22/2021-07-28",
          "2021-07-29/2021-08-04",
          "2021-08-05/2021-08-11",
          "2021-08-12/2021-08-18",
          "2021-08-19/2021-08-25",
          "2021-08-26/2021-09-01",
          "2021-09-02/2021-09-08",
          "2021-09-09/2021-09-15",
          "2021-09-16/2021-09-22",
          "2021-09-23/2021-09-29",
          "2021-09-30/2021-10-06",
          "2021-10-07/2021-10-13",
          "2021-10-14/2021-10-20",
          "2021-10-21/2021-10-27",
          "2021-10-28/2021-11-03",
          "2021-11-04/2021-11-10",
          "2021-11-11/2021-11-17",
          "2021-11-18/2021-11-24",
          "2021-11-25/2021-12-01",
          "2021-12-02/2021-12-08",
          "2021-12-09/2021-12-15",
          "2021-12-16/2021-12-22",
          "2021-12-23/2021-12-29",
          "2021-12-30/2022-01-05",
          "2022-01-06/2022-01-12",
          "2022-01-13/2022-01-19",
          "2022-01-20/2022-01-26",
          "2022-01-27/2022-02-02",
          "2022-02-03/2022-02-09",
          "2022-02-10/2022-02-16"
         ],
         "y": [
          724.2738657901632,
          724.2738657901632,
          724.2738657901632,
          724.2865294137068,
          724.3118566608014,
          724.2896953195946,
          724.2770316960509,
          724.3118566608014,
          725.5718872037965,
          731.5902742948224,
          766.678009239497,
          812.9635533061942,
          838.597893272547,
          831.0725349793488,
          788.8266868243577,
          775.9477816763888,
          755.8632747297947,
          744.722451913744,
          742.1295749923579,
          738.2355107514582,
          734.3287828870002,
          732.0746578955209,
          732.6698482022607,
          732.9547797320834,
          737.0641255732976,
          733.8349015686458,
          732.1854646015622,
          732.4640643196094,
          734.9587981584978,
          738.3558151751554,
          741.6768504505294,
          746.5681750458157,
          752.6150552898239,
          753.6882973854867,
          750.2881144629414,
          753.4920112204986,
          758.8107331105189,
          763.1670196109103,
          768.947963760415,
          786.5947231740779,
          826.9726868557905,
          893.9505917993652,
          1021.0363859119011,
          1102.8687212768768,
          1130.23797766926,
          1130.26963672813,
          1123.763700130518,
          1111.5528011246847,
          1166.05387096793,
          1252.242492833297,
          1295.988980378685,
          1135.9935945716702,
          1099.174109106853,
          1154.6566097750315,
          1059.3850039201047,
          998.1595499730524,
          951.180672517125,
          903.3216732246351,
          885.3583232222795,
          897.2716270747392,
          906.0316886638307,
          919.8002133660252,
          983.8528212700899,
          1049.0704825405323,
          1106.3005632582922,
          1031.4047276915503,
          1178.1951200442477,
          1181.02227400126,
          1159.9341748885186,
          1082.8823574127878,
          1011.2220776624658,
          911.2522674713532,
          839.6046513445822,
          817.057069617977,
          777.3312825489688,
          755.9740814358433,
          742.5284791341096,
          738.672405763848,
          739.036484940842,
          747.0398950229633,
          759.0006874637315,
          769.156913548954,
          779.1231852809638,
          803.8172511988946,
          851.3090054085101,
          913.0410042974604,
          947.6221943002297,
          960.4852699187672,
          939.1312347115295,
          901.8463610813328,
          902.4763763528304,
          900.5451737618118,
          914.149071357881,
          976.552242294862,
          1097.8254331990233,
          1178.587692374224,
          1446.9425389726734,
          1705.2361366625178,
          1952.0786527593868,
          1986.1469660084754,
          1912.9227287500166,
          1684.6134257151484,
          1501.5987382043736,
          1316.9852682207043,
          1560.0381949709395,
          1994.7677277385433,
          2645.459530582046,
          3785.3566087893037,
          4497.907046757246,
          4900.12905787801,
          2952.2579723653093
         ]
        },
        {
         "line": {
          "color": "rgb(252,141,98)"
         },
         "mode": "lines",
         "name": "United States of America Actual Deaths",
         "type": "scatter",
         "x": [
          "2020-01-16/2020-01-22",
          "2020-01-23/2020-01-29",
          "2020-01-30/2020-02-05",
          "2020-02-06/2020-02-12",
          "2020-02-13/2020-02-19",
          "2020-02-20/2020-02-26",
          "2020-02-27/2020-03-04",
          "2020-03-05/2020-03-11",
          "2020-03-12/2020-03-18",
          "2020-03-19/2020-03-25",
          "2020-03-26/2020-04-01",
          "2020-04-02/2020-04-08",
          "2020-04-09/2020-04-15",
          "2020-04-16/2020-04-22",
          "2020-04-23/2020-04-29",
          "2020-04-30/2020-05-06",
          "2020-05-07/2020-05-13",
          "2020-05-14/2020-05-20",
          "2020-05-21/2020-05-27",
          "2020-05-28/2020-06-03",
          "2020-06-04/2020-06-10",
          "2020-06-11/2020-06-17",
          "2020-06-18/2020-06-24",
          "2020-06-25/2020-07-01",
          "2020-07-02/2020-07-08",
          "2020-07-09/2020-07-15",
          "2020-07-16/2020-07-22",
          "2020-07-23/2020-07-29",
          "2020-07-30/2020-08-05",
          "2020-08-06/2020-08-12",
          "2020-08-13/2020-08-19",
          "2020-08-20/2020-08-26",
          "2020-08-27/2020-09-02",
          "2020-09-03/2020-09-09",
          "2020-09-10/2020-09-16",
          "2020-09-17/2020-09-23",
          "2020-09-24/2020-09-30",
          "2020-10-01/2020-10-07",
          "2020-10-08/2020-10-14",
          "2020-10-15/2020-10-21",
          "2020-10-22/2020-10-28",
          "2020-10-29/2020-11-04",
          "2020-11-05/2020-11-11",
          "2020-11-12/2020-11-18",
          "2020-11-19/2020-11-25",
          "2020-11-26/2020-12-02",
          "2020-12-03/2020-12-09",
          "2020-12-10/2020-12-16",
          "2020-12-17/2020-12-23",
          "2020-12-24/2020-12-30",
          "2020-12-31/2021-01-06",
          "2021-01-07/2021-01-13",
          "2021-01-14/2021-01-20",
          "2021-01-21/2021-01-27",
          "2021-01-28/2021-02-03",
          "2021-02-04/2021-02-10",
          "2021-02-11/2021-02-17",
          "2021-02-18/2021-02-24",
          "2021-02-25/2021-03-03",
          "2021-03-04/2021-03-10",
          "2021-03-11/2021-03-17",
          "2021-03-18/2021-03-24",
          "2021-03-25/2021-03-31",
          "2021-04-01/2021-04-07",
          "2021-04-08/2021-04-14",
          "2021-04-15/2021-04-21",
          "2021-04-22/2021-04-28",
          "2021-04-29/2021-05-05",
          "2021-05-06/2021-05-12",
          "2021-05-13/2021-05-19",
          "2021-05-20/2021-05-26",
          "2021-05-27/2021-06-02",
          "2021-06-03/2021-06-09",
          "2021-06-10/2021-06-16",
          "2021-06-17/2021-06-23",
          "2021-06-24/2021-06-30",
          "2021-07-01/2021-07-07",
          "2021-07-08/2021-07-14",
          "2021-07-15/2021-07-21",
          "2021-07-22/2021-07-28",
          "2021-07-29/2021-08-04",
          "2021-08-05/2021-08-11",
          "2021-08-12/2021-08-18",
          "2021-08-19/2021-08-25",
          "2021-08-26/2021-09-01",
          "2021-09-02/2021-09-08",
          "2021-09-09/2021-09-15",
          "2021-09-16/2021-09-22",
          "2021-09-23/2021-09-29",
          "2021-09-30/2021-10-06",
          "2021-10-07/2021-10-13",
          "2021-10-14/2021-10-20",
          "2021-10-21/2021-10-27",
          "2021-10-28/2021-11-03",
          "2021-11-04/2021-11-10",
          "2021-11-11/2021-11-17",
          "2021-11-18/2021-11-24",
          "2021-11-25/2021-12-01",
          "2021-12-02/2021-12-08",
          "2021-12-09/2021-12-15",
          "2021-12-16/2021-12-22",
          "2021-12-23/2021-12-29",
          "2021-12-30/2022-01-05",
          "2022-01-06/2022-01-12",
          "2022-01-13/2022-01-19",
          "2022-01-20/2022-01-26",
          "2022-01-27/2022-02-02",
          "2022-02-03/2022-02-09",
          "2022-02-10/2022-02-16",
          "2022-02-17/2022-02-23",
          "2022-02-24/2022-03-02",
          "2022-03-03/2022-03-09",
          "2022-03-10/2022-03-16",
          "2022-03-17/2022-03-23",
          "2022-03-24/2022-03-30",
          "2022-03-31/2022-04-06",
          "2022-04-07/2022-04-13",
          "2022-04-14/2022-04-20",
          "2022-04-21/2022-04-27",
          "2022-04-28/2022-05-04",
          "2022-05-05/2022-05-11",
          "2022-05-12/2022-05-18",
          "2022-05-19/2022-05-25",
          "2022-05-26/2022-06-01",
          "2022-06-02/2022-06-08",
          "2022-06-09/2022-06-15",
          "2022-06-16/2022-06-22",
          "2022-06-23/2022-06-29",
          "2022-06-30/2022-07-06",
          "2022-07-07/2022-07-13",
          "2022-07-14/2022-07-20",
          "2022-07-21/2022-07-27",
          "2022-07-28/2022-08-03",
          "2022-08-04/2022-08-10",
          "2022-08-11/2022-08-17",
          "2022-08-18/2022-08-22"
         ],
         "y": [
          0,
          0,
          0,
          0,
          0,
          0,
          12,
          25,
          181,
          1484,
          6812,
          14838,
          17610,
          16747,
          15336,
          14192,
          11253,
          9850,
          7507,
          7122,
          6148,
          4762,
          4308,
          5859,
          4169,
          5278,
          6052,
          8314,
          7513,
          7896,
          7204,
          6683,
          6237,
          5242,
          6026,
          5308,
          5193,
          5009,
          5145,
          5662,
          5654,
          6781,
          7819,
          9093,
          11836,
          11557,
          16646,
          18129,
          18981,
          16658,
          19079,
          23683,
          21896,
          23542,
          22117,
          21549,
          19878,
          15944,
          14360,
          11466,
          8693,
          8412,
          7137,
          7401,
          5823,
          6455,
          5384,
          5152,
          4787,
          4503,
          4357,
          4066,
          3309,
          2455,
          2175,
          1919,
          1504,
          1738,
          1711,
          1973,
          2748,
          3496,
          4792,
          6594,
          8164,
          8371,
          23155,
          14473,
          14183,
          13044,
          10362,
          13740,
          10098,
          9038,
          8632,
          7750,
          10012,
          6396,
          9605,
          9359,
          9750,
          11002,
          9695,
          13535,
          14062,
          17594,
          18639,
          18193,
          16281,
          13843,
          12359,
          9584,
          8609,
          5903,
          5871,
          3946,
          4040,
          2971,
          2535,
          4027,
          2572,
          857,
          410,
          351,
          326,
          344,
          324,
          352,
          410,
          393,
          397,
          533,
          506,
          517,
          472,
          213
         ]
        },
        {
         "line": {
          "color": "rgb(252,141,98)",
          "dash": "dash"
         },
         "mode": "lines",
         "name": "United States of America Predicted Deaths",
         "type": "scatter",
         "x": [
          "2020-01-16/2020-01-22",
          "2020-01-23/2020-01-29",
          "2020-01-30/2020-02-05",
          "2020-02-06/2020-02-12",
          "2020-02-13/2020-02-19",
          "2020-02-20/2020-02-26",
          "2020-02-27/2020-03-04",
          "2020-03-05/2020-03-11",
          "2020-03-12/2020-03-18",
          "2020-03-19/2020-03-25",
          "2020-03-26/2020-04-01",
          "2020-04-02/2020-04-08",
          "2020-04-09/2020-04-15",
          "2020-04-16/2020-04-22",
          "2020-04-23/2020-04-29",
          "2020-04-30/2020-05-06",
          "2020-05-07/2020-05-13",
          "2020-05-14/2020-05-20",
          "2020-05-21/2020-05-27",
          "2020-05-28/2020-06-03",
          "2020-06-04/2020-06-10",
          "2020-06-11/2020-06-17",
          "2020-06-18/2020-06-24",
          "2020-06-25/2020-07-01",
          "2020-07-02/2020-07-08",
          "2020-07-09/2020-07-15",
          "2020-07-16/2020-07-22",
          "2020-07-23/2020-07-29",
          "2020-07-30/2020-08-05",
          "2020-08-06/2020-08-12",
          "2020-08-13/2020-08-19",
          "2020-08-20/2020-08-26",
          "2020-08-27/2020-09-02",
          "2020-09-03/2020-09-09",
          "2020-09-10/2020-09-16",
          "2020-09-17/2020-09-23",
          "2020-09-24/2020-09-30",
          "2020-10-01/2020-10-07",
          "2020-10-08/2020-10-14",
          "2020-10-15/2020-10-21",
          "2020-10-22/2020-10-28",
          "2020-10-29/2020-11-04",
          "2020-11-05/2020-11-11",
          "2020-11-12/2020-11-18",
          "2020-11-19/2020-11-25",
          "2020-11-26/2020-12-02",
          "2020-12-03/2020-12-09",
          "2020-12-10/2020-12-16",
          "2020-12-17/2020-12-23",
          "2020-12-24/2020-12-30",
          "2020-12-31/2021-01-06",
          "2021-01-07/2021-01-13",
          "2021-01-14/2021-01-20",
          "2021-01-21/2021-01-27",
          "2021-01-28/2021-02-03",
          "2021-02-04/2021-02-10",
          "2021-02-11/2021-02-17",
          "2021-02-18/2021-02-24",
          "2021-02-25/2021-03-03",
          "2021-03-04/2021-03-10",
          "2021-03-11/2021-03-17",
          "2021-03-18/2021-03-24",
          "2021-03-25/2021-03-31",
          "2021-04-01/2021-04-07",
          "2021-04-08/2021-04-14",
          "2021-04-15/2021-04-21",
          "2021-04-22/2021-04-28",
          "2021-04-29/2021-05-05",
          "2021-05-06/2021-05-12",
          "2021-05-13/2021-05-19",
          "2021-05-20/2021-05-26",
          "2021-05-27/2021-06-02",
          "2021-06-03/2021-06-09",
          "2021-06-10/2021-06-16",
          "2021-06-17/2021-06-23",
          "2021-06-24/2021-06-30",
          "2021-07-01/2021-07-07",
          "2021-07-08/2021-07-14",
          "2021-07-15/2021-07-21",
          "2021-07-22/2021-07-28",
          "2021-07-29/2021-08-04",
          "2021-08-05/2021-08-11",
          "2021-08-12/2021-08-18",
          "2021-08-19/2021-08-25",
          "2021-08-26/2021-09-01",
          "2021-09-02/2021-09-08",
          "2021-09-09/2021-09-15",
          "2021-09-16/2021-09-22",
          "2021-09-23/2021-09-29",
          "2021-09-30/2021-10-06",
          "2021-10-07/2021-10-13",
          "2021-10-14/2021-10-20",
          "2021-10-21/2021-10-27",
          "2021-10-28/2021-11-03",
          "2021-11-04/2021-11-10",
          "2021-11-11/2021-11-17",
          "2021-11-18/2021-11-24",
          "2021-11-25/2021-12-01",
          "2021-12-02/2021-12-08",
          "2021-12-09/2021-12-15",
          "2021-12-16/2021-12-22",
          "2021-12-23/2021-12-29",
          "2021-12-30/2022-01-05",
          "2022-01-06/2022-01-12",
          "2022-01-13/2022-01-19",
          "2022-01-20/2022-01-26",
          "2022-01-27/2022-02-02",
          "2022-02-03/2022-02-09",
          "2022-02-10/2022-02-16",
          "2022-02-17/2022-02-23",
          "2022-02-24/2022-03-02",
          "2022-03-03/2022-03-09",
          "2022-03-10/2022-03-16",
          "2022-03-17/2022-03-23",
          "2022-03-24/2022-03-30",
          "2022-03-31/2022-04-06",
          "2022-04-07/2022-04-13",
          "2022-04-14/2022-04-20",
          "2022-04-21/2022-04-27",
          "2022-04-28/2022-05-04",
          "2022-05-05/2022-05-11",
          "2022-05-12/2022-05-18",
          "2022-05-19/2022-05-25",
          "2022-05-26/2022-06-01",
          "2022-06-02/2022-06-08",
          "2022-06-09/2022-06-15",
          "2022-06-16/2022-06-22",
          "2022-06-23/2022-06-29",
          "2022-06-30/2022-07-06",
          "2022-07-07/2022-07-13",
          "2022-07-14/2022-07-20",
          "2022-07-21/2022-07-27",
          "2022-07-28/2022-08-03",
          "2022-08-04/2022-08-10",
          "2022-08-11/2022-08-17",
          "2022-08-18/2022-08-22"
         ],
         "y": [
          5723.11543762379,
          5723.11543762379,
          5723.13759896499,
          5723.1217694355655,
          5723.140764870877,
          5723.216746612168,
          5723.400369153613,
          5728.032089466164,
          5805.296022636328,
          6015.512173527466,
          6316.78927544396,
          6537.544727032648,
          6448.452969468977,
          6417.867152695493,
          6411.095280003377,
          6349.879323773996,
          6276.499957127082,
          6251.843882079782,
          6220.282966293125,
          6220.963636058812,
          6209.740499689702,
          6249.415632264521,
          6448.101553915527,
          6716.966111361769,
          6922.294103563523,
          7160.471535247903,
          7234.715194201948,
          7176.171262541124,
          7014.0103971074495,
          6947.81447091794,
          6793.330927260053,
          6674.780415418638,
          6658.637461301252,
          6565.293892131456,
          6604.665097741126,
          6714.379566252166,
          6705.3250754155815,
          6835.010078261279,
          6930.633099669656,
          7085.987267446464,
          7424.631556546192,
          7793.38677653639,
          8644.458260680396,
          9367.769612757947,
          9692.531404543573,
          9420.592752481134,
          10449.493170293143,
          10737.77422854385,
          10484.01104217818,
          9809.964351606912,
          10995.450474585734,
          11261.427725863112,
          10166.796770026973,
          9417.17674002915,
          8794.661499579182,
          8116.556117660883,
          7510.64921949368,
          7276.919885580406,
          7209.052361082613,
          7148.472751936504,
          6995.265068351022,
          7047.493017767461,
          7202.429285967191,
          7215.916045045444,
          7331.921168553781,
          7166.632388103848,
          6935.727042241699,
          6771.729951393623,
          6549.71446926194,
          6398.650103961911,
          6249.877854524013,
          6093.228831239459,
          6046.633028395845,
          6026.811291637867,
          5990.140603749744,
          6031.173909950048,
          6068.034552191391,
          6294.551952494272,
          6627.991492315916,
          7166.331627044587,
          7844.693447339734,
          8480.739769550368,
          8841.361777317063,
          9090.939636100222,
          9468.420092714754,
          9110.679059305148,
          9167.554558563563,
          8717.017657702592,
          8288.851047838565,
          7999.870324386859,
          7721.30543130311,
          7431.118497708485,
          7332.332736319084,
          7329.974136433324,
          7445.152958505183,
          7730.77465581087,
          7851.316522455156,
          7666.813859177528,
          8397.153522324043,
          8536.95676038431,
          9924.570144713223,
          13309.05017406072,
          19249.11591934956,
          23015.85375729493,
          22914.90251627888,
          19291.045176915857,
          14307.855490511725,
          10553.490012772418,
          8807.743022703922,
          7527.767272624224,
          7075.292837360459,
          6567.424546793343,
          6511.19489233585,
          6384.941731471576,
          6453.163837428707,
          6377.470193578447,
          6582.231488626443,
          6606.051764519601,
          6989.14220636573,
          7163.688095629019,
          7730.030667927444,
          6637.6981597651975,
          6221.770942059979,
          6211.991458775294,
          6207.046313779931,
          6216.31925212271,
          6177.346950654792,
          6261.63286308213,
          6295.786655790165,
          6316.50117800825,
          6357.189400466879,
          6296.69527077971,
          6256.738372580956,
          6168.346280218284,
          6092.358207120553,
          5872.444886497782
         ]
        },
        {
         "line": {
          "color": "rgb(141,160,203)"
         },
         "mode": "lines",
         "name": "Spain Actual Deaths",
         "type": "scatter",
         "x": [
          "2020-01-30/2020-02-05",
          "2020-02-20/2020-02-26",
          "2020-02-27/2020-03-04",
          "2020-03-05/2020-03-11",
          "2020-03-12/2020-03-18",
          "2020-03-19/2020-03-25",
          "2020-03-26/2020-04-01",
          "2020-04-02/2020-04-08",
          "2020-04-09/2020-04-15",
          "2020-04-16/2020-04-22",
          "2020-04-23/2020-04-29",
          "2020-04-30/2020-05-06",
          "2020-05-07/2020-05-13",
          "2020-05-14/2020-05-20",
          "2020-05-21/2020-05-27",
          "2020-05-28/2020-06-03",
          "2020-06-04/2020-06-10",
          "2020-06-11/2020-06-17",
          "2020-06-18/2020-06-24",
          "2020-06-25/2020-07-01",
          "2020-07-02/2020-07-08",
          "2020-07-09/2020-07-15",
          "2020-07-16/2020-07-22",
          "2020-07-23/2020-07-29",
          "2020-07-30/2020-08-05",
          "2020-08-06/2020-08-12",
          "2020-08-13/2020-08-19",
          "2020-08-20/2020-08-26",
          "2020-08-27/2020-09-02",
          "2020-09-03/2020-09-09",
          "2020-09-10/2020-09-16",
          "2020-09-17/2020-09-23",
          "2020-09-24/2020-09-30",
          "2020-10-01/2020-10-07",
          "2020-10-08/2020-10-14",
          "2020-10-15/2020-10-21",
          "2020-10-22/2020-10-28",
          "2020-10-29/2020-11-04",
          "2020-11-05/2020-11-11",
          "2020-11-12/2020-11-18",
          "2020-11-19/2020-11-25",
          "2020-11-26/2020-12-02",
          "2020-12-03/2020-12-09",
          "2020-12-10/2020-12-16",
          "2020-12-17/2020-12-23",
          "2020-12-24/2020-12-30",
          "2020-12-31/2021-01-06",
          "2021-01-07/2021-01-13",
          "2021-01-14/2021-01-20",
          "2021-01-21/2021-01-27",
          "2021-01-28/2021-02-03",
          "2021-02-04/2021-02-10",
          "2021-02-11/2021-02-17",
          "2021-02-18/2021-02-24",
          "2021-02-25/2021-03-03",
          "2021-03-04/2021-03-10",
          "2021-03-11/2021-03-17",
          "2021-03-18/2021-03-24",
          "2021-03-25/2021-03-31",
          "2021-04-01/2021-04-07",
          "2021-04-08/2021-04-14",
          "2021-04-15/2021-04-21",
          "2021-04-22/2021-04-28",
          "2021-04-29/2021-05-05",
          "2021-05-06/2021-05-12",
          "2021-05-13/2021-05-19",
          "2021-05-20/2021-05-26",
          "2021-05-27/2021-06-02",
          "2021-06-03/2021-06-09",
          "2021-06-10/2021-06-16",
          "2021-06-17/2021-06-23",
          "2021-06-24/2021-06-30",
          "2021-07-01/2021-07-07",
          "2021-07-08/2021-07-14",
          "2021-07-15/2021-07-21",
          "2021-07-22/2021-07-28",
          "2021-07-29/2021-08-04",
          "2021-08-05/2021-08-11",
          "2021-08-12/2021-08-18",
          "2021-08-19/2021-08-25",
          "2021-08-26/2021-09-01",
          "2021-09-02/2021-09-08",
          "2021-09-09/2021-09-15",
          "2021-09-16/2021-09-22",
          "2021-09-23/2021-09-29",
          "2021-09-30/2021-10-06",
          "2021-10-07/2021-10-13",
          "2021-10-14/2021-10-20",
          "2021-10-21/2021-10-27",
          "2021-10-28/2021-11-03",
          "2021-11-04/2021-11-10",
          "2021-11-11/2021-11-17",
          "2021-11-18/2021-11-24",
          "2021-11-25/2021-12-01",
          "2021-12-02/2021-12-08",
          "2021-12-09/2021-12-15",
          "2021-12-16/2021-12-22",
          "2021-12-23/2021-12-29",
          "2021-12-30/2022-01-05",
          "2022-01-06/2022-01-12",
          "2022-01-13/2022-01-19",
          "2022-01-20/2022-01-26",
          "2022-01-27/2022-02-02",
          "2022-02-03/2022-02-09",
          "2022-02-10/2022-02-16",
          "2022-02-17/2022-02-23",
          "2022-02-24/2022-03-02",
          "2022-03-03/2022-03-09",
          "2022-03-10/2022-03-16",
          "2022-03-17/2022-03-23",
          "2022-03-24/2022-03-30",
          "2022-03-31/2022-04-06",
          "2022-04-07/2022-04-13",
          "2022-04-14/2022-04-20",
          "2022-04-21/2022-04-27",
          "2022-04-28/2022-05-04",
          "2022-05-05/2022-05-11",
          "2022-05-12/2022-05-18",
          "2022-05-19/2022-05-25",
          "2022-05-26/2022-06-01",
          "2022-06-02/2022-06-08",
          "2022-06-09/2022-06-15",
          "2022-06-16/2022-06-22",
          "2022-06-23/2022-06-29",
          "2022-06-30/2022-07-06",
          "2022-07-07/2022-07-13",
          "2022-07-14/2022-07-20",
          "2022-07-21/2022-07-27"
         ],
         "y": [
          0,
          0,
          0,
          0,
          8,
          50,
          94,
          48,
          28,
          30,
          22,
          20,
          4,
          10,
          6,
          2,
          2,
          0,
          0,
          0,
          0,
          0,
          0,
          0,
          0,
          4,
          4,
          12,
          16,
          32,
          36,
          26,
          30,
          16,
          16,
          32,
          20,
          20,
          28,
          24,
          34,
          20,
          18,
          44,
          56,
          44,
          42,
          32,
          64,
          52,
          42,
          32,
          36,
          42,
          28,
          38,
          38,
          34,
          34,
          26,
          30,
          30,
          20,
          12,
          28,
          14,
          6,
          4,
          18,
          6,
          10,
          6,
          6,
          16,
          18,
          26,
          42,
          56,
          56,
          52,
          30,
          36,
          20,
          26,
          12,
          18,
          6,
          6,
          10,
          2,
          26,
          22,
          12,
          20,
          30,
          26,
          60,
          50,
          98,
          106,
          0,
          0,
          0,
          0,
          0,
          0,
          0,
          0,
          0,
          0,
          0,
          0,
          0,
          0,
          0,
          0,
          0,
          0,
          0,
          0,
          0,
          0,
          0,
          0,
          0,
          0,
          0,
          0
         ]
        },
        {
         "line": {
          "color": "rgb(141,160,203)",
          "dash": "dash"
         },
         "mode": "lines",
         "name": "Spain Predicted Deaths",
         "type": "scatter",
         "x": [
          "2020-01-30/2020-02-05",
          "2020-02-20/2020-02-26",
          "2020-02-27/2020-03-04",
          "2020-03-05/2020-03-11",
          "2020-03-12/2020-03-18",
          "2020-03-19/2020-03-25",
          "2020-03-26/2020-04-01",
          "2020-04-02/2020-04-08",
          "2020-04-09/2020-04-15",
          "2020-04-16/2020-04-22",
          "2020-04-23/2020-04-29",
          "2020-04-30/2020-05-06",
          "2020-05-07/2020-05-13",
          "2020-05-14/2020-05-20",
          "2020-05-21/2020-05-27",
          "2020-05-28/2020-06-03",
          "2020-06-04/2020-06-10",
          "2020-06-11/2020-06-17",
          "2020-06-18/2020-06-24",
          "2020-06-25/2020-07-01",
          "2020-07-02/2020-07-08",
          "2020-07-09/2020-07-15",
          "2020-07-16/2020-07-22",
          "2020-07-23/2020-07-29",
          "2020-07-30/2020-08-05",
          "2020-08-06/2020-08-12",
          "2020-08-13/2020-08-19",
          "2020-08-20/2020-08-26",
          "2020-08-27/2020-09-02",
          "2020-09-03/2020-09-09",
          "2020-09-10/2020-09-16",
          "2020-09-17/2020-09-23",
          "2020-09-24/2020-09-30",
          "2020-10-01/2020-10-07",
          "2020-10-08/2020-10-14",
          "2020-10-15/2020-10-21",
          "2020-10-22/2020-10-28",
          "2020-10-29/2020-11-04",
          "2020-11-05/2020-11-11",
          "2020-11-12/2020-11-18",
          "2020-11-19/2020-11-25",
          "2020-11-26/2020-12-02",
          "2020-12-03/2020-12-09",
          "2020-12-10/2020-12-16",
          "2020-12-17/2020-12-23",
          "2020-12-24/2020-12-30",
          "2020-12-31/2021-01-06",
          "2021-01-07/2021-01-13",
          "2021-01-14/2021-01-20",
          "2021-01-21/2021-01-27",
          "2021-01-28/2021-02-03",
          "2021-02-04/2021-02-10",
          "2021-02-11/2021-02-17",
          "2021-02-18/2021-02-24",
          "2021-02-25/2021-03-03",
          "2021-03-04/2021-03-10",
          "2021-03-11/2021-03-17",
          "2021-03-18/2021-03-24",
          "2021-03-25/2021-03-31",
          "2021-04-01/2021-04-07",
          "2021-04-08/2021-04-14",
          "2021-04-15/2021-04-21",
          "2021-04-22/2021-04-28",
          "2021-04-29/2021-05-05",
          "2021-05-06/2021-05-12",
          "2021-05-13/2021-05-19",
          "2021-05-20/2021-05-26",
          "2021-05-27/2021-06-02",
          "2021-06-03/2021-06-09",
          "2021-06-10/2021-06-16",
          "2021-06-17/2021-06-23",
          "2021-06-24/2021-06-30",
          "2021-07-01/2021-07-07",
          "2021-07-08/2021-07-14",
          "2021-07-15/2021-07-21",
          "2021-07-22/2021-07-28",
          "2021-07-29/2021-08-04",
          "2021-08-05/2021-08-11",
          "2021-08-12/2021-08-18",
          "2021-08-19/2021-08-25",
          "2021-08-26/2021-09-01",
          "2021-09-02/2021-09-08",
          "2021-09-09/2021-09-15",
          "2021-09-16/2021-09-22",
          "2021-09-23/2021-09-29",
          "2021-09-30/2021-10-06",
          "2021-10-07/2021-10-13",
          "2021-10-14/2021-10-20",
          "2021-10-21/2021-10-27",
          "2021-10-28/2021-11-03",
          "2021-11-04/2021-11-10",
          "2021-11-11/2021-11-17",
          "2021-11-18/2021-11-24",
          "2021-11-25/2021-12-01",
          "2021-12-02/2021-12-08",
          "2021-12-09/2021-12-15",
          "2021-12-16/2021-12-22",
          "2021-12-23/2021-12-29",
          "2021-12-30/2022-01-05",
          "2022-01-06/2022-01-12",
          "2022-01-13/2022-01-19",
          "2022-01-20/2022-01-26",
          "2022-01-27/2022-02-02",
          "2022-02-03/2022-02-09",
          "2022-02-10/2022-02-16",
          "2022-02-17/2022-02-23",
          "2022-02-24/2022-03-02",
          "2022-03-03/2022-03-09",
          "2022-03-10/2022-03-16",
          "2022-03-17/2022-03-23",
          "2022-03-24/2022-03-30",
          "2022-03-31/2022-04-06",
          "2022-04-07/2022-04-13",
          "2022-04-14/2022-04-20",
          "2022-04-21/2022-04-27",
          "2022-04-28/2022-05-04",
          "2022-05-05/2022-05-11",
          "2022-05-12/2022-05-18",
          "2022-05-19/2022-05-25",
          "2022-05-26/2022-06-01",
          "2022-06-02/2022-06-08",
          "2022-06-09/2022-06-15",
          "2022-06-16/2022-06-22",
          "2022-06-23/2022-06-29",
          "2022-06-30/2022-07-06",
          "2022-07-07/2022-07-13",
          "2022-07-14/2022-07-20",
          "2022-07-21/2022-07-27"
         ],
         "y": [
          -110.0662128641552,
          -110.0662128641552,
          -109.84143354618391,
          -103.82621236104569,
          -65.75302816500698,
          -23.602157186622208,
          -25.270589589026713,
          -35.692751768750895,
          -55.91655857436308,
          -55.24855243222373,
          -76.69439891018555,
          -88.25945311508531,
          -94.16386759418128,
          -95.98109757327074,
          -92.28331949735457,
          -92.8436848393385,
          -97.76666849349112,
          -98.44417235329092,
          -99.75802329636008,
          -97.29178261045399,
          -93.41038199309605,
          -81.00952863405018,
          -70.29610311273063,
          -70.52088243070102,
          -69.08672706392917,
          -59.60800483850562,
          -38.32995137255057,
          -16.03564211689627,
          -8.336158999918553,
          -0.9627641892939209,
          7.7593065291566745,
          27.54938422826126,
          19.802412522980376,
          10.713096721648071,
          16.20277752955826,
          57.09678387083886,
          78.48247813694843,
          51.505794074546884,
          14.420372515225608,
          -14.886418279946156,
          -38.62438062003366,
          -41.56867309486461,
          -44.90553789967271,
          -17.007575224179163,
          4.574405206920346,
          1.4654856259694498,
          25.35541144862964,
          101.50494574659433,
          98.24406268307166,
          104.45557003319891,
          70.57404523143532,
          25.62134754313047,
          -7.962582105263209,
          -24.678565188173707,
          -39.308216291607096,
          -43.914609357068,
          -41.95491361306813,
          -38.333117278437385,
          -26.61609959096586,
          -34.30925089616903,
          -8.342490811693096,
          -12.549979735402303,
          -16.773298188547415,
          -29.64270561885587,
          -49.78736477729581,
          -61.11814194656381,
          -65.38261717623845,
          -71.56879727927026,
          -75.81427707362309,
          -77.35290733466354,
          -70.81531167818412,
          -8.690740459252993,
          90.14250951845634,
          176.93898531411514,
          170.78763017583924,
          132.7619345681046,
          79.74250867994078,
          23.47802925768883,
          -14.234241667240894,
          -39.263893609190745,
          -57.518506953141696,
          -70.75199356044595,
          -80.81007656317433,
          -87.39199490207102,
          -89.50365412864267,
          -93.25525260463746,
          -95.92411126730622,
          -94.06889041757404,
          -91.21640921346352,
          -90.2571397297288,
          -88.02834198534038,
          -56.79984631681236,
          -45.32660338263213,
          -22.142674572754913,
          -6.53159264437727,
          103.42665061995149,
          355.08450957081686,
          841.1112154241041,
          946.6181950114301,
          1107.5570207727492,
          1140.1658514079722,
          904.6161216097303,
          482.4425715896291,
          263.89375640411936,
          86.62835398398101,
          50.84411974418208,
          22.07236704389834,
          14.27474084442747,
          1.3515130140403926,
          -11.57804662811941,
          -44.7124176405714,
          -76.58992401591695,
          -70.7773208075414,
          -73.66462697640782,
          -64.42334769250283,
          -52.18078962780328,
          -46.97920625560164,
          -49.85384880092079,
          -61.24794408792786,
          -62.96703098452235,
          -60.814214981420264,
          -49.51509687102134,
          -23.782613822176245,
          -15.240999739280596,
          -26.22985907276143,
          -54.70085071378708,
          -77.3275800875681,
          -97.3804279752876
         ]
        },
        {
         "line": {
          "color": "rgb(231,138,195)"
         },
         "mode": "lines",
         "name": "Italy Actual Deaths",
         "type": "scatter",
         "x": [
          "2020-02-20/2020-02-26",
          "2020-02-27/2020-03-04",
          "2020-03-05/2020-03-11",
          "2020-03-12/2020-03-18",
          "2020-03-19/2020-03-25",
          "2020-03-26/2020-04-01",
          "2020-04-02/2020-04-08",
          "2020-04-09/2020-04-15",
          "2020-04-16/2020-04-22",
          "2020-04-23/2020-04-29",
          "2020-04-30/2020-05-06",
          "2020-05-07/2020-05-13",
          "2020-05-14/2020-05-20",
          "2020-05-21/2020-05-27",
          "2020-05-28/2020-06-03",
          "2020-06-04/2020-06-10",
          "2020-06-11/2020-06-17",
          "2020-06-18/2020-06-24",
          "2020-06-25/2020-07-01",
          "2020-07-02/2020-07-08",
          "2020-07-09/2020-07-15",
          "2020-07-16/2020-07-22",
          "2020-07-23/2020-07-29",
          "2020-07-30/2020-08-05",
          "2020-08-06/2020-08-12",
          "2020-08-13/2020-08-19",
          "2020-08-20/2020-08-26",
          "2020-08-27/2020-09-02",
          "2020-09-03/2020-09-09",
          "2020-09-10/2020-09-16",
          "2020-09-17/2020-09-23",
          "2020-09-24/2020-09-30",
          "2020-10-01/2020-10-07",
          "2020-10-08/2020-10-14",
          "2020-10-15/2020-10-21",
          "2020-10-22/2020-10-28",
          "2020-10-29/2020-11-04",
          "2020-11-05/2020-11-11",
          "2020-11-12/2020-11-18",
          "2020-11-19/2020-11-25",
          "2020-11-26/2020-12-02",
          "2020-12-03/2020-12-09",
          "2020-12-10/2020-12-16",
          "2020-12-17/2020-12-23",
          "2020-12-24/2020-12-30",
          "2020-12-31/2021-01-06",
          "2021-01-07/2021-01-13",
          "2021-01-14/2021-01-20",
          "2021-01-21/2021-01-27",
          "2021-01-28/2021-02-03",
          "2021-02-04/2021-02-10",
          "2021-02-11/2021-02-17",
          "2021-02-18/2021-02-24",
          "2021-02-25/2021-03-03",
          "2021-03-04/2021-03-10",
          "2021-03-11/2021-03-17",
          "2021-03-18/2021-03-24",
          "2021-03-25/2021-03-31",
          "2021-04-01/2021-04-07",
          "2021-04-08/2021-04-14",
          "2021-04-15/2021-04-21",
          "2021-04-22/2021-04-28",
          "2021-04-29/2021-05-05",
          "2021-05-06/2021-05-12",
          "2021-05-13/2021-05-19",
          "2021-05-20/2021-05-26",
          "2021-05-27/2021-06-02",
          "2021-06-03/2021-06-09",
          "2021-06-10/2021-06-16",
          "2021-06-17/2021-06-23",
          "2021-06-24/2021-06-30",
          "2021-07-01/2021-07-07",
          "2021-07-08/2021-07-14",
          "2021-07-15/2021-07-21",
          "2021-07-22/2021-07-28",
          "2021-07-29/2021-08-04",
          "2021-08-05/2021-08-11",
          "2021-08-12/2021-08-18",
          "2021-08-19/2021-08-25",
          "2021-08-26/2021-09-01",
          "2021-09-02/2021-09-08",
          "2021-09-09/2021-09-15",
          "2021-09-16/2021-09-22",
          "2021-09-23/2021-09-29",
          "2021-09-30/2021-10-06",
          "2021-10-07/2021-10-13",
          "2021-10-14/2021-10-20",
          "2021-10-21/2021-10-27",
          "2021-10-28/2021-11-03",
          "2021-11-04/2021-11-10",
          "2021-11-11/2021-11-17",
          "2021-11-18/2021-11-24",
          "2021-11-25/2021-12-01",
          "2021-12-02/2021-12-08",
          "2021-12-09/2021-12-15",
          "2021-12-16/2021-12-22",
          "2021-12-23/2021-12-29",
          "2021-12-30/2022-01-05",
          "2022-01-06/2022-01-12",
          "2022-01-13/2022-01-19",
          "2022-01-20/2022-01-26",
          "2022-01-27/2022-02-02",
          "2022-02-03/2022-02-09",
          "2022-02-10/2022-02-16",
          "2022-02-17/2022-02-23",
          "2022-02-24/2022-03-02",
          "2022-03-03/2022-03-09",
          "2022-03-10/2022-03-16",
          "2022-03-17/2022-03-23",
          "2022-03-24/2022-03-30",
          "2022-03-31/2022-04-06",
          "2022-04-07/2022-04-13",
          "2022-04-14/2022-04-20",
          "2022-04-21/2022-04-27",
          "2022-04-28/2022-05-04",
          "2022-05-05/2022-05-11",
          "2022-05-12/2022-05-18",
          "2022-05-19/2022-05-25",
          "2022-05-26/2022-06-01",
          "2022-06-02/2022-06-08",
          "2022-06-09/2022-06-15",
          "2022-06-16/2022-06-22",
          "2022-06-23/2022-06-29",
          "2022-06-30/2022-07-06",
          "2022-07-07/2022-07-13",
          "2022-07-14/2022-07-20",
          "2022-07-21/2022-07-27",
          "2022-07-28/2022-08-03",
          "2022-08-04/2022-08-10",
          "2022-08-11/2022-08-17",
          "2022-08-18/2022-08-22"
         ],
         "y": [
          0,
          0,
          0,
          0,
          0,
          0,
          0,
          0,
          0,
          0,
          0,
          0,
          0,
          0,
          0,
          0,
          0,
          0,
          0,
          0,
          0,
          0,
          0,
          0,
          0,
          0,
          0,
          0,
          0,
          0,
          0,
          0,
          0,
          0,
          0,
          0,
          0,
          0,
          0,
          0,
          0,
          0,
          0,
          0,
          0,
          0,
          0,
          0,
          0,
          0,
          0,
          0,
          0,
          0,
          0,
          0,
          0,
          0,
          0,
          0,
          0,
          0,
          0,
          0,
          0,
          0,
          0,
          0,
          0,
          0,
          0,
          0,
          0,
          0,
          0,
          0,
          0,
          0,
          0,
          0,
          0,
          0,
          0,
          0,
          0,
          0,
          0,
          0,
          0,
          0,
          0,
          0,
          0,
          0,
          0,
          0,
          0,
          0,
          0,
          0,
          0,
          0,
          0,
          0,
          0,
          0,
          0,
          0,
          0,
          0,
          0,
          0,
          0,
          0,
          0,
          0,
          0,
          0,
          0,
          0,
          0,
          0,
          0,
          0,
          0,
          0,
          0,
          0,
          0,
          0,
          0
         ]
        },
        {
         "line": {
          "color": "rgb(231,138,195)",
          "dash": "dash"
         },
         "mode": "lines",
         "name": "Italy Predicted Deaths",
         "type": "scatter",
         "x": [
          "2020-02-20/2020-02-26",
          "2020-02-27/2020-03-04",
          "2020-03-05/2020-03-11",
          "2020-03-12/2020-03-18",
          "2020-03-19/2020-03-25",
          "2020-03-26/2020-04-01",
          "2020-04-02/2020-04-08",
          "2020-04-09/2020-04-15",
          "2020-04-16/2020-04-22",
          "2020-04-23/2020-04-29",
          "2020-04-30/2020-05-06",
          "2020-05-07/2020-05-13",
          "2020-05-14/2020-05-20",
          "2020-05-21/2020-05-27",
          "2020-05-28/2020-06-03",
          "2020-06-04/2020-06-10",
          "2020-06-11/2020-06-17",
          "2020-06-18/2020-06-24",
          "2020-06-25/2020-07-01",
          "2020-07-02/2020-07-08",
          "2020-07-09/2020-07-15",
          "2020-07-16/2020-07-22",
          "2020-07-23/2020-07-29",
          "2020-07-30/2020-08-05",
          "2020-08-06/2020-08-12",
          "2020-08-13/2020-08-19",
          "2020-08-20/2020-08-26",
          "2020-08-27/2020-09-02",
          "2020-09-03/2020-09-09",
          "2020-09-10/2020-09-16",
          "2020-09-17/2020-09-23",
          "2020-09-24/2020-09-30",
          "2020-10-01/2020-10-07",
          "2020-10-08/2020-10-14",
          "2020-10-15/2020-10-21",
          "2020-10-22/2020-10-28",
          "2020-10-29/2020-11-04",
          "2020-11-05/2020-11-11",
          "2020-11-12/2020-11-18",
          "2020-11-19/2020-11-25",
          "2020-11-26/2020-12-02",
          "2020-12-03/2020-12-09",
          "2020-12-10/2020-12-16",
          "2020-12-17/2020-12-23",
          "2020-12-24/2020-12-30",
          "2020-12-31/2021-01-06",
          "2021-01-07/2021-01-13",
          "2021-01-14/2021-01-20",
          "2021-01-21/2021-01-27",
          "2021-01-28/2021-02-03",
          "2021-02-04/2021-02-10",
          "2021-02-11/2021-02-17",
          "2021-02-18/2021-02-24",
          "2021-02-25/2021-03-03",
          "2021-03-04/2021-03-10",
          "2021-03-11/2021-03-17",
          "2021-03-18/2021-03-24",
          "2021-03-25/2021-03-31",
          "2021-04-01/2021-04-07",
          "2021-04-08/2021-04-14",
          "2021-04-15/2021-04-21",
          "2021-04-22/2021-04-28",
          "2021-04-29/2021-05-05",
          "2021-05-06/2021-05-12",
          "2021-05-13/2021-05-19",
          "2021-05-20/2021-05-26",
          "2021-05-27/2021-06-02",
          "2021-06-03/2021-06-09",
          "2021-06-10/2021-06-16",
          "2021-06-17/2021-06-23",
          "2021-06-24/2021-06-30",
          "2021-07-01/2021-07-07",
          "2021-07-08/2021-07-14",
          "2021-07-15/2021-07-21",
          "2021-07-22/2021-07-28",
          "2021-07-29/2021-08-04",
          "2021-08-05/2021-08-11",
          "2021-08-12/2021-08-18",
          "2021-08-19/2021-08-25",
          "2021-08-26/2021-09-01",
          "2021-09-02/2021-09-08",
          "2021-09-09/2021-09-15",
          "2021-09-16/2021-09-22",
          "2021-09-23/2021-09-29",
          "2021-09-30/2021-10-06",
          "2021-10-07/2021-10-13",
          "2021-10-14/2021-10-20",
          "2021-10-21/2021-10-27",
          "2021-10-28/2021-11-03",
          "2021-11-04/2021-11-10",
          "2021-11-11/2021-11-17",
          "2021-11-18/2021-11-24",
          "2021-11-25/2021-12-01",
          "2021-12-02/2021-12-08",
          "2021-12-09/2021-12-15",
          "2021-12-16/2021-12-22",
          "2021-12-23/2021-12-29",
          "2021-12-30/2022-01-05",
          "2022-01-06/2022-01-12",
          "2022-01-13/2022-01-19",
          "2022-01-20/2022-01-26",
          "2022-01-27/2022-02-02",
          "2022-02-03/2022-02-09",
          "2022-02-10/2022-02-16",
          "2022-02-17/2022-02-23",
          "2022-02-24/2022-03-02",
          "2022-03-03/2022-03-09",
          "2022-03-10/2022-03-16",
          "2022-03-17/2022-03-23",
          "2022-03-24/2022-03-30",
          "2022-03-31/2022-04-06",
          "2022-04-07/2022-04-13",
          "2022-04-14/2022-04-20",
          "2022-04-21/2022-04-27",
          "2022-04-28/2022-05-04",
          "2022-05-05/2022-05-11",
          "2022-05-12/2022-05-18",
          "2022-05-19/2022-05-25",
          "2022-05-26/2022-06-01",
          "2022-06-02/2022-06-08",
          "2022-06-09/2022-06-15",
          "2022-06-16/2022-06-22",
          "2022-06-23/2022-06-29",
          "2022-06-30/2022-07-06",
          "2022-07-07/2022-07-13",
          "2022-07-14/2022-07-20",
          "2022-07-21/2022-07-27",
          "2022-07-28/2022-08-03",
          "2022-08-04/2022-08-10",
          "2022-08-11/2022-08-17",
          "2022-08-18/2022-08-22"
         ],
         "y": [
          -482.0292300758192,
          -474.71282157116,
          -455.077873260514,
          -414.7442322612187,
          -371.2541830926675,
          -379.77363583435726,
          -393.6846263014595,
          -406.91811290876285,
          -417.09650033519574,
          -434.4804895602465,
          -450.61394595996535,
          -459.65577317299176,
          -467.06082704248547,
          -471.5152566253746,
          -474.90277592437633,
          -477.2993666807706,
          -476.1153178790628,
          -476.951117033208,
          -477.98636825822905,
          -478.9203104948683,
          -479.1324261892951,
          -478.73035614165565,
          -478.1319999290281,
          -477.23604856303064,
          -474.91227364203587,
          -473.06655050996415,
          -463.21741729577116,
          -459.684266325974,
          -456.31890836818275,
          -456.3442356152809,
          -453.56457024656993,
          -450.6266095835126,
          -432.99251379339694,
          -379.09296606867065,
          -275.9255909317726,
          -86.81653458868459,
          74.75547235001386,
          182.6685404113955,
          202.00589356867158,
          107.91200470367357,
          -25.138356099811062,
          -112.40655187262018,
          -137.79078527390448,
          -177.23164081309005,
          -209.88479413072855,
          -133.46932373826348,
          -141.60886777352061,
          -213.16467262957303,
          -242.5062883895007,
          -258.93417403670173,
          -258.69356518929635,
          -259.84278902624646,
          -217.61593630657444,
          -126.94439170533224,
          -75.42243930168115,
          -29.43449038835388,
          -54.492635483285994,
          -67.01062736014501,
          -146.18676768600199,
          -172.52077285336054,
          -215.0895434088161,
          -230.9380682787123,
          -272.465255797375,
          -314.64778583462976,
          -368.30355880606294,
          -351.9991434884505,
          -422.700153755035,
          -442.1103227477106,
          -453.09601617530643,
          -463.5561692256706,
          -469.24530210445664,
          -467.3299290428731,
          -455.30898439025987,
          -422.5291948371414,
          -388.0018252344489,
          -370.80462445672674,
          -360.4774394536107,
          -354.88644965731874,
          -353.5757646201346,
          -357.7990830732815,
          -372.2546093529345,
          -390.7624951678372,
          -403.5115981744457,
          -419.3981139149837,
          -424.0361660393137,
          -433.8029857004476,
          -431.0929702612484,
          -409.6344601597375,
          -399.58587487466866,
          -361.5855065140313,
          -326.75737585207753,
          -282.4536888705916,
          -235.34817517918418,
          -179.34963185143351,
          -113.17903290902541,
          59.02092009204671,
          604.753445066664,
          2078.067901754362,
          2910.4953661303293,
          3028.634310206449,
          2838.9079022154106,
          1951.263873265761,
          1265.601473995393,
          702.9186889022344,
          482.92622063229237,
          280.1309531400725,
          359.84529746670114,
          684.6767391818316,
          985.2700054267402,
          971.6154533364747,
          869.7872563897431,
          763.327339130457,
          638.6349698684276,
          720.5496187864624,
          535.838005720299,
          329.55707584658694,
          182.97246737654086,
          -10.249100713648659,
          -117.66828745667226,
          -124.17738996016851,
          3.009713140749227,
          579.2710685828856,
          717.1842608286711,
          1220.9115464957026,
          2948.2899506083227,
          1232.7013800185737,
          804.1611932598857,
          474.77401297348433,
          174.02561734011715,
          -42.04112763004741,
          -177.82683111982988
         ]
        }
       ],
       "layout": {
        "hovermode": "x unified",
        "legend": {
         "title": {
          "text": "Legend"
         }
        },
        "template": {
         "data": {
          "bar": [
           {
            "error_x": {
             "color": "#2a3f5f"
            },
            "error_y": {
             "color": "#2a3f5f"
            },
            "marker": {
             "line": {
              "color": "#E5ECF6",
              "width": 0.5
             },
             "pattern": {
              "fillmode": "overlay",
              "size": 10,
              "solidity": 0.2
             }
            },
            "type": "bar"
           }
          ],
          "barpolar": [
           {
            "marker": {
             "line": {
              "color": "#E5ECF6",
              "width": 0.5
             },
             "pattern": {
              "fillmode": "overlay",
              "size": 10,
              "solidity": 0.2
             }
            },
            "type": "barpolar"
           }
          ],
          "carpet": [
           {
            "aaxis": {
             "endlinecolor": "#2a3f5f",
             "gridcolor": "white",
             "linecolor": "white",
             "minorgridcolor": "white",
             "startlinecolor": "#2a3f5f"
            },
            "baxis": {
             "endlinecolor": "#2a3f5f",
             "gridcolor": "white",
             "linecolor": "white",
             "minorgridcolor": "white",
             "startlinecolor": "#2a3f5f"
            },
            "type": "carpet"
           }
          ],
          "choropleth": [
           {
            "colorbar": {
             "outlinewidth": 0,
             "ticks": ""
            },
            "type": "choropleth"
           }
          ],
          "contour": [
           {
            "colorbar": {
             "outlinewidth": 0,
             "ticks": ""
            },
            "colorscale": [
             [
              0,
              "#0d0887"
             ],
             [
              0.1111111111111111,
              "#46039f"
             ],
             [
              0.2222222222222222,
              "#7201a8"
             ],
             [
              0.3333333333333333,
              "#9c179e"
             ],
             [
              0.4444444444444444,
              "#bd3786"
             ],
             [
              0.5555555555555556,
              "#d8576b"
             ],
             [
              0.6666666666666666,
              "#ed7953"
             ],
             [
              0.7777777777777778,
              "#fb9f3a"
             ],
             [
              0.8888888888888888,
              "#fdca26"
             ],
             [
              1,
              "#f0f921"
             ]
            ],
            "type": "contour"
           }
          ],
          "contourcarpet": [
           {
            "colorbar": {
             "outlinewidth": 0,
             "ticks": ""
            },
            "type": "contourcarpet"
           }
          ],
          "heatmap": [
           {
            "colorbar": {
             "outlinewidth": 0,
             "ticks": ""
            },
            "colorscale": [
             [
              0,
              "#0d0887"
             ],
             [
              0.1111111111111111,
              "#46039f"
             ],
             [
              0.2222222222222222,
              "#7201a8"
             ],
             [
              0.3333333333333333,
              "#9c179e"
             ],
             [
              0.4444444444444444,
              "#bd3786"
             ],
             [
              0.5555555555555556,
              "#d8576b"
             ],
             [
              0.6666666666666666,
              "#ed7953"
             ],
             [
              0.7777777777777778,
              "#fb9f3a"
             ],
             [
              0.8888888888888888,
              "#fdca26"
             ],
             [
              1,
              "#f0f921"
             ]
            ],
            "type": "heatmap"
           }
          ],
          "heatmapgl": [
           {
            "colorbar": {
             "outlinewidth": 0,
             "ticks": ""
            },
            "colorscale": [
             [
              0,
              "#0d0887"
             ],
             [
              0.1111111111111111,
              "#46039f"
             ],
             [
              0.2222222222222222,
              "#7201a8"
             ],
             [
              0.3333333333333333,
              "#9c179e"
             ],
             [
              0.4444444444444444,
              "#bd3786"
             ],
             [
              0.5555555555555556,
              "#d8576b"
             ],
             [
              0.6666666666666666,
              "#ed7953"
             ],
             [
              0.7777777777777778,
              "#fb9f3a"
             ],
             [
              0.8888888888888888,
              "#fdca26"
             ],
             [
              1,
              "#f0f921"
             ]
            ],
            "type": "heatmapgl"
           }
          ],
          "histogram": [
           {
            "marker": {
             "pattern": {
              "fillmode": "overlay",
              "size": 10,
              "solidity": 0.2
             }
            },
            "type": "histogram"
           }
          ],
          "histogram2d": [
           {
            "colorbar": {
             "outlinewidth": 0,
             "ticks": ""
            },
            "colorscale": [
             [
              0,
              "#0d0887"
             ],
             [
              0.1111111111111111,
              "#46039f"
             ],
             [
              0.2222222222222222,
              "#7201a8"
             ],
             [
              0.3333333333333333,
              "#9c179e"
             ],
             [
              0.4444444444444444,
              "#bd3786"
             ],
             [
              0.5555555555555556,
              "#d8576b"
             ],
             [
              0.6666666666666666,
              "#ed7953"
             ],
             [
              0.7777777777777778,
              "#fb9f3a"
             ],
             [
              0.8888888888888888,
              "#fdca26"
             ],
             [
              1,
              "#f0f921"
             ]
            ],
            "type": "histogram2d"
           }
          ],
          "histogram2dcontour": [
           {
            "colorbar": {
             "outlinewidth": 0,
             "ticks": ""
            },
            "colorscale": [
             [
              0,
              "#0d0887"
             ],
             [
              0.1111111111111111,
              "#46039f"
             ],
             [
              0.2222222222222222,
              "#7201a8"
             ],
             [
              0.3333333333333333,
              "#9c179e"
             ],
             [
              0.4444444444444444,
              "#bd3786"
             ],
             [
              0.5555555555555556,
              "#d8576b"
             ],
             [
              0.6666666666666666,
              "#ed7953"
             ],
             [
              0.7777777777777778,
              "#fb9f3a"
             ],
             [
              0.8888888888888888,
              "#fdca26"
             ],
             [
              1,
              "#f0f921"
             ]
            ],
            "type": "histogram2dcontour"
           }
          ],
          "mesh3d": [
           {
            "colorbar": {
             "outlinewidth": 0,
             "ticks": ""
            },
            "type": "mesh3d"
           }
          ],
          "parcoords": [
           {
            "line": {
             "colorbar": {
              "outlinewidth": 0,
              "ticks": ""
             }
            },
            "type": "parcoords"
           }
          ],
          "pie": [
           {
            "automargin": true,
            "type": "pie"
           }
          ],
          "scatter": [
           {
            "fillpattern": {
             "fillmode": "overlay",
             "size": 10,
             "solidity": 0.2
            },
            "type": "scatter"
           }
          ],
          "scatter3d": [
           {
            "line": {
             "colorbar": {
              "outlinewidth": 0,
              "ticks": ""
             }
            },
            "marker": {
             "colorbar": {
              "outlinewidth": 0,
              "ticks": ""
             }
            },
            "type": "scatter3d"
           }
          ],
          "scattercarpet": [
           {
            "marker": {
             "colorbar": {
              "outlinewidth": 0,
              "ticks": ""
             }
            },
            "type": "scattercarpet"
           }
          ],
          "scattergeo": [
           {
            "marker": {
             "colorbar": {
              "outlinewidth": 0,
              "ticks": ""
             }
            },
            "type": "scattergeo"
           }
          ],
          "scattergl": [
           {
            "marker": {
             "colorbar": {
              "outlinewidth": 0,
              "ticks": ""
             }
            },
            "type": "scattergl"
           }
          ],
          "scattermapbox": [
           {
            "marker": {
             "colorbar": {
              "outlinewidth": 0,
              "ticks": ""
             }
            },
            "type": "scattermapbox"
           }
          ],
          "scatterpolar": [
           {
            "marker": {
             "colorbar": {
              "outlinewidth": 0,
              "ticks": ""
             }
            },
            "type": "scatterpolar"
           }
          ],
          "scatterpolargl": [
           {
            "marker": {
             "colorbar": {
              "outlinewidth": 0,
              "ticks": ""
             }
            },
            "type": "scatterpolargl"
           }
          ],
          "scatterternary": [
           {
            "marker": {
             "colorbar": {
              "outlinewidth": 0,
              "ticks": ""
             }
            },
            "type": "scatterternary"
           }
          ],
          "surface": [
           {
            "colorbar": {
             "outlinewidth": 0,
             "ticks": ""
            },
            "colorscale": [
             [
              0,
              "#0d0887"
             ],
             [
              0.1111111111111111,
              "#46039f"
             ],
             [
              0.2222222222222222,
              "#7201a8"
             ],
             [
              0.3333333333333333,
              "#9c179e"
             ],
             [
              0.4444444444444444,
              "#bd3786"
             ],
             [
              0.5555555555555556,
              "#d8576b"
             ],
             [
              0.6666666666666666,
              "#ed7953"
             ],
             [
              0.7777777777777778,
              "#fb9f3a"
             ],
             [
              0.8888888888888888,
              "#fdca26"
             ],
             [
              1,
              "#f0f921"
             ]
            ],
            "type": "surface"
           }
          ],
          "table": [
           {
            "cells": {
             "fill": {
              "color": "#EBF0F8"
             },
             "line": {
              "color": "white"
             }
            },
            "header": {
             "fill": {
              "color": "#C8D4E3"
             },
             "line": {
              "color": "white"
             }
            },
            "type": "table"
           }
          ]
         },
         "layout": {
          "annotationdefaults": {
           "arrowcolor": "#2a3f5f",
           "arrowhead": 0,
           "arrowwidth": 1
          },
          "autotypenumbers": "strict",
          "coloraxis": {
           "colorbar": {
            "outlinewidth": 0,
            "ticks": ""
           }
          },
          "colorscale": {
           "diverging": [
            [
             0,
             "#8e0152"
            ],
            [
             0.1,
             "#c51b7d"
            ],
            [
             0.2,
             "#de77ae"
            ],
            [
             0.3,
             "#f1b6da"
            ],
            [
             0.4,
             "#fde0ef"
            ],
            [
             0.5,
             "#f7f7f7"
            ],
            [
             0.6,
             "#e6f5d0"
            ],
            [
             0.7,
             "#b8e186"
            ],
            [
             0.8,
             "#7fbc41"
            ],
            [
             0.9,
             "#4d9221"
            ],
            [
             1,
             "#276419"
            ]
           ],
           "sequential": [
            [
             0,
             "#0d0887"
            ],
            [
             0.1111111111111111,
             "#46039f"
            ],
            [
             0.2222222222222222,
             "#7201a8"
            ],
            [
             0.3333333333333333,
             "#9c179e"
            ],
            [
             0.4444444444444444,
             "#bd3786"
            ],
            [
             0.5555555555555556,
             "#d8576b"
            ],
            [
             0.6666666666666666,
             "#ed7953"
            ],
            [
             0.7777777777777778,
             "#fb9f3a"
            ],
            [
             0.8888888888888888,
             "#fdca26"
            ],
            [
             1,
             "#f0f921"
            ]
           ],
           "sequentialminus": [
            [
             0,
             "#0d0887"
            ],
            [
             0.1111111111111111,
             "#46039f"
            ],
            [
             0.2222222222222222,
             "#7201a8"
            ],
            [
             0.3333333333333333,
             "#9c179e"
            ],
            [
             0.4444444444444444,
             "#bd3786"
            ],
            [
             0.5555555555555556,
             "#d8576b"
            ],
            [
             0.6666666666666666,
             "#ed7953"
            ],
            [
             0.7777777777777778,
             "#fb9f3a"
            ],
            [
             0.8888888888888888,
             "#fdca26"
            ],
            [
             1,
             "#f0f921"
            ]
           ]
          },
          "colorway": [
           "#636efa",
           "#EF553B",
           "#00cc96",
           "#ab63fa",
           "#FFA15A",
           "#19d3f3",
           "#FF6692",
           "#B6E880",
           "#FF97FF",
           "#FECB52"
          ],
          "font": {
           "color": "#2a3f5f"
          },
          "geo": {
           "bgcolor": "white",
           "lakecolor": "white",
           "landcolor": "#E5ECF6",
           "showlakes": true,
           "showland": true,
           "subunitcolor": "white"
          },
          "hoverlabel": {
           "align": "left"
          },
          "hovermode": "closest",
          "mapbox": {
           "style": "light"
          },
          "paper_bgcolor": "white",
          "plot_bgcolor": "#E5ECF6",
          "polar": {
           "angularaxis": {
            "gridcolor": "white",
            "linecolor": "white",
            "ticks": ""
           },
           "bgcolor": "#E5ECF6",
           "radialaxis": {
            "gridcolor": "white",
            "linecolor": "white",
            "ticks": ""
           }
          },
          "scene": {
           "xaxis": {
            "backgroundcolor": "#E5ECF6",
            "gridcolor": "white",
            "gridwidth": 2,
            "linecolor": "white",
            "showbackground": true,
            "ticks": "",
            "zerolinecolor": "white"
           },
           "yaxis": {
            "backgroundcolor": "#E5ECF6",
            "gridcolor": "white",
            "gridwidth": 2,
            "linecolor": "white",
            "showbackground": true,
            "ticks": "",
            "zerolinecolor": "white"
           },
           "zaxis": {
            "backgroundcolor": "#E5ECF6",
            "gridcolor": "white",
            "gridwidth": 2,
            "linecolor": "white",
            "showbackground": true,
            "ticks": "",
            "zerolinecolor": "white"
           }
          },
          "shapedefaults": {
           "line": {
            "color": "#2a3f5f"
           }
          },
          "ternary": {
           "aaxis": {
            "gridcolor": "white",
            "linecolor": "white",
            "ticks": ""
           },
           "baxis": {
            "gridcolor": "white",
            "linecolor": "white",
            "ticks": ""
           },
           "bgcolor": "#E5ECF6",
           "caxis": {
            "gridcolor": "white",
            "linecolor": "white",
            "ticks": ""
           }
          },
          "title": {
           "x": 0.05
          },
          "xaxis": {
           "automargin": true,
           "gridcolor": "white",
           "linecolor": "white",
           "ticks": "",
           "title": {
            "standoff": 15
           },
           "zerolinecolor": "white",
           "zerolinewidth": 2
          },
          "yaxis": {
           "automargin": true,
           "gridcolor": "white",
           "linecolor": "white",
           "ticks": "",
           "title": {
            "standoff": 15
           },
           "zerolinecolor": "white",
           "zerolinewidth": 2
          }
         }
        },
        "title": {
         "text": "Actual vs Predicted Deaths Over Time by Country"
        },
        "xaxis": {
         "title": {
          "text": "Week"
         }
        },
        "yaxis": {
         "title": {
          "text": "Number of Deaths"
         }
        }
       }
      }
     },
     "metadata": {},
     "output_type": "display_data"
    }
   ],
   "source": [
    "# Aggregate predicted and actual deaths by week and country\n",
    "aggregated_df = df.groupby(['week', 'country_name']).agg({\n",
    "    'new_deceased': 'sum',\n",
    "    'predicted_deaths': 'sum'\n",
    "}).reset_index()\n",
    "\n",
    "# Line chart: Actual vs Predicted Deaths Over Time\n",
    "fig = go.Figure()\n",
    "\n",
    "# Assign unique colors to each country\n",
    "colors = px.colors.qualitative.Set2\n",
    "country_colors = {country: colors[i % len(colors)] for i, country in enumerate(aggregated_df['country_name'].unique())}\n",
    "\n",
    "for country in aggregated_df['country_name'].unique():\n",
    "    country_data = aggregated_df[aggregated_df['country_name'] == country]\n",
    "    # Actual Deaths\n",
    "    fig.add_trace(go.Scatter(\n",
    "        x=country_data['week'],\n",
    "        y=country_data['new_deceased'],\n",
    "        mode='lines',\n",
    "        name=f'{country} Actual Deaths',\n",
    "        line=dict(color=country_colors[country])\n",
    "    ))\n",
    "    # Predicted Deaths\n",
    "    fig.add_trace(go.Scatter(\n",
    "        x=country_data['week'],\n",
    "        y=country_data['predicted_deaths'],\n",
    "        mode='lines',\n",
    "        name=f'{country} Predicted Deaths',\n",
    "        line=dict(color=country_colors[country], dash='dash')\n",
    "    ))\n",
    "\n",
    "fig.update_layout(\n",
    "    title=\"Actual vs Predicted Deaths Over Time by Country\",\n",
    "    xaxis_title=\"Week\",\n",
    "    yaxis_title=\"Number of Deaths\",\n",
    "    legend_title=\"Legend\",\n",
    "    hovermode=\"x unified\"\n",
    ")\n",
    "\n",
    "fig.show()\n",
    "\n"
   ]
  },
  {
   "cell_type": "markdown",
   "metadata": {},
   "source": [
    "#### Actual vs Predicted Deaths Over Time by Country\n",
    "\n",
    "- **Insights:**\n",
    "  - The time series comparison shows that predicted death trends align with actual trends but often lag slightly behind peak values. This lag reflects the model's reliance on cumulative features, which smooth recent changes in pandemic dynamics.\n",
    "  - During periods of high outbreak intensity, discrepancies between actual and predicted deaths become more pronounced. This may result from rapid, nonlinear changes in infection rates that the model cannot fully capture.\n",
    "  - For countries with larger datasets (e.g., the United States), predictions align more closely due to better data availability and variability coverage. However, limited data for countries like Italy abd Spain hinders prediction accuracy.\n",
    "\n",
    "- **Specific Observations:**\n",
    "  - In countries with larger elderly populations (e.g., Italy), higher vulnerability among older age groups could explain larger deviations, particularly during surges.\n",
    "  - Smaller countries like Spain show lower variation, possibly reflecting less consistent data.\n",
    "\n",
    "- **Approach Taken for Regression:**\n",
    "  - **Why These Features?** The selected features balance short-term and long-term pandemic indicators (`new_confirmed`, `cumulative_confirmed`, and `new_deceased`), along with demographic context. Age group breakdowns were included because older populations are generally at higher risk, and their inclusion helps quantify vulnerabilities by demographic.\n",
    "  - **Model Structure:** A linear regression model was chosen for simplicity and interpretability, enabling clear evaluation of relationships between predictors and outcomes.\n",
    "  - **Limitations:** The reliance on cumulative variables introduces smoothing effects that can delay predicted peaks compared to actual outcomes. The data for some countries is limited so insights are mainly based on US and Germany.\n",
    "\n",
    "#### Potential Next Steps\n",
    "- To address observed delays, introduce lagged variables that account for time shifts between case surges and subsequent mortality spikes.\n",
    "- Enhance feature selection by including vaccination rates, hospital capacity, and other contextual indicators with an enhanced macro dataset.\n",
    "- Expand regression to more age groups to see how predictions perform outside the 'high-risk' groups.\n",
    "- Explore advanced regression techniques or machine learning approaches to capture nonlinear patterns in mortality trends.\n",
    "- Conduct further analysis to validate the robustness of age group-based features, particularly in countries with limited data availability."
   ]
  }
 ],
 "metadata": {
  "kernelspec": {
   "display_name": "base",
   "language": "python",
   "name": "python3"
  },
  "language_info": {
   "codemirror_mode": {
    "name": "ipython",
    "version": 3
   },
   "file_extension": ".py",
   "mimetype": "text/x-python",
   "name": "python",
   "nbconvert_exporter": "python",
   "pygments_lexer": "ipython3",
   "version": "3.12.4"
  }
 },
 "nbformat": 4,
 "nbformat_minor": 2
}
